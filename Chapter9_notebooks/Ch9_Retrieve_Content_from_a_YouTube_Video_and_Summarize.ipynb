{
 "cells": [
  {
   "cell_type": "markdown",
   "metadata": {
    "id": "C5zuVyNFaCdo"
   },
   "source": [
    "# 유튜브 영상 요약하기\n",
    "\n",
    "<img src=\"../cover.png\" \n",
    "     alt=\"NLP와 LLM 실전 가이드(한빛미디어)\"\n",
    "     style=\"border: 3px solid gray; box-shadow: 5px 5px 15px rgba(0, 0, 0, 0.3); border-radius: 10px; width: 300px;\" width=\"300\">\n",
    "\n",
    "\n",
    "* 저자:  \n",
    "    - [Lior Gazit](https://www.linkedin.com/in/liorgazit).  \n",
    "    - [Meysam Ghaffari](https://www.linkedin.com/in/meysam-ghaffari-ph-d-a2553088/).\n",
    "* 역자:\n",
    "    - [박조은](https://github.com/corazzon)\n",
    "* 이 노트북은 다음의 책에서 소개하는 내용입니다.\n",
    "    - 역서 : NLP와 LLM 실전 가이드(한빛미디어)\n",
    "    - 원서 : [Mastering NLP from Foundations to LLMs](https://www.amazon.com/dp/1804619183)"
   ]
  },
  {
   "cell_type": "markdown",
   "metadata": {
    "id": "dA3qEn5YlzJc"
   },
   "source": [
    "**이 노트북의 목적:**  \n",
    "보고 싶은 유튜브 영상을 직접 시청할 필요 없이 요약하고, 원하는 방식으로 편집하세요.  \n",
    "이 노트북에서는 인기 있는 TED 강연 중 하나를 선택해 요약하고, 한국어로 번역한 후, 이를 목록 형식으로 편집하여 제공합니다.\n",
    "\n",
    "**요구 사항:**  \n",
    "* Colab에서 실행할 때, 다음 런타임 설정을 사용하세요: `Python3, CPU`  \n",
    "* 이 코드는 OpenAI의 API를 LLM으로 선택하므로, 유료 **API 키**가 필요합니다.  "
   ]
  },
  {
   "cell_type": "markdown",
   "metadata": {
    "id": "S1Rvv2OzBZqB"
   },
   "source": [
    "colab 실습 : \n",
    "https://github.com/corazzon/Mastering-NLP-from-Foundations-to-LLMs\n",
    "\n",
    "[![Open In Colab](https://colab.research.google.com/assets/colab-badge.svg)](https://colab.research.google.com/github/corazzon/Mastering-NLP-from-Foundations-to-LLMs/blob/main/Chapter9_notebooks/Ch9_Retrieve_Content_from_a_YouTube_Video_and_Summarize.ipynb)  \n",
    "\n",
    "\n",
    "원서 Colab 실습:\n",
    "https://github.com/PacktPublishing/Mastering-NLP-from-Foundations-to-LLMs   \n",
    "<a target=\"_blank\" href=\"https://colab.research.google.com/github/PacktPublishing/Mastering-NLP-from-Foundations-to-LLMs/blob/liors_branch/Chapter9_notebooks/Ch9_RAGLlamaIndex_Prompt_Compression.ipynb\">\n",
    "  <img src=\"https://colab.research.google.com/assets/colab-badge.svg\" alt=\"Open In Colab\"/>\n",
    "</a>"
   ]
  },
  {
   "cell_type": "markdown",
   "metadata": {
    "id": "g54Uf66Vz9Fi"
   },
   "source": [
    ">*```면책 사항: 이 노트북에서 제시된 내용과 아이디어는 전적으로 저자의 것이며, 저자의 고용주의 견해나 지적 재산을 대표하지 않습니다.```*"
   ]
  },
  {
   "cell_type": "markdown",
   "metadata": {
    "id": "-VQE9nGwDaiG"
   },
   "source": [
    "Install:\n",
    "\n",
    "* 원서의 embedchain이 mem0(https://mem0.ai/ )로 변경되었습니다. mem0는 코드는 오픈소스로 제공되나 API 비용이 별도로 부과됩니다. OpenAI API도 비용이 발생하나, 번거롭게 여러 API Key를 발급받지 않도록 OpenAI API의 해당 도서의 번역시점에서 가장 저렴한 gpt-4o-mini 모델 사용으로 대체합니다."
   ]
  },
  {
   "cell_type": "markdown",
   "metadata": {
    "id": "GY77hO_qeo-d"
   },
   "source": [
    " * 역자 업데이트 : 원서의 embedchain이 mem0로 이름이 변경되었습니다.\n",
    " * 원서에는 embedchain 를 사용하지만 유료 API 로 변경이 되어 랭체인으로 대체합니다."
   ]
  },
  {
   "cell_type": "code",
   "execution_count": 1,
   "metadata": {
    "colab": {
     "base_uri": "https://localhost:8080/"
    },
    "executionInfo": {
     "elapsed": 23664,
     "status": "ok",
     "timestamp": 1733174887401,
     "user": {
      "displayName": "오늘코드todaycode",
      "userId": "06313463015165663090"
     },
     "user_tz": -540
    },
    "id": "9YUKK_amdCAn",
    "outputId": "f2eafef4-9611-40fb-c752-0ef70a4d4687"
   },
   "outputs": [
    {
     "name": "stdout",
     "output_type": "stream",
     "text": [
      "\u001b[?25l   \u001b[90m━━━━━━━━━━━━━━━━━━━━━━━━━━━━━━━━━━━━━━━━\u001b[0m \u001b[32m0.0/1.0 MB\u001b[0m \u001b[31m?\u001b[0m eta \u001b[36m-:--:--\u001b[0m\r",
      "\u001b[2K   \u001b[91m━━━━━━━━━━━━━━━━━━━━━━━\u001b[0m\u001b[90m╺\u001b[0m\u001b[90m━━━━━━━━━━━━━━━━\u001b[0m \u001b[32m0.6/1.0 MB\u001b[0m \u001b[31m17.1 MB/s\u001b[0m eta \u001b[36m0:00:01\u001b[0m\r",
      "\u001b[2K   \u001b[91m━━━━━━━━━━━━━━━━━━━━━━━━━━━━━━━━━━━━━━━\u001b[0m\u001b[91m╸\u001b[0m \u001b[32m1.0/1.0 MB\u001b[0m \u001b[31m23.2 MB/s\u001b[0m eta \u001b[36m0:00:01\u001b[0m\r",
      "\u001b[2K   \u001b[90m━━━━━━━━━━━━━━━━━━━━━━━━━━━━━━━━━━━━━━━━\u001b[0m \u001b[32m1.0/1.0 MB\u001b[0m \u001b[31m11.4 MB/s\u001b[0m eta \u001b[36m0:00:00\u001b[0m\n",
      "\u001b[?25h\u001b[?25l   \u001b[90m━━━━━━━━━━━━━━━━━━━━━━━━━━━━━━━━━━━━━━━━\u001b[0m \u001b[32m0.0/50.6 kB\u001b[0m \u001b[31m?\u001b[0m eta \u001b[36m-:--:--\u001b[0m\r",
      "\u001b[2K   \u001b[90m━━━━━━━━━━━━━━━━━━━━━━━━━━━━━━━━━━━━━━━━\u001b[0m \u001b[32m50.6/50.6 kB\u001b[0m \u001b[31m2.3 MB/s\u001b[0m eta \u001b[36m0:00:00\u001b[0m\n",
      "\u001b[2K   \u001b[90m━━━━━━━━━━━━━━━━━━━━━━━━━━━━━━━━━━━━━━━━\u001b[0m \u001b[32m2.4/2.4 MB\u001b[0m \u001b[31m32.5 MB/s\u001b[0m eta \u001b[36m0:00:00\u001b[0m\n",
      "\u001b[2K   \u001b[90m━━━━━━━━━━━━━━━━━━━━━━━━━━━━━━━━━━━━━━━━\u001b[0m \u001b[32m622.3/622.3 kB\u001b[0m \u001b[31m28.9 MB/s\u001b[0m eta \u001b[36m0:00:00\u001b[0m\n",
      "\u001b[2K   \u001b[90m━━━━━━━━━━━━━━━━━━━━━━━━━━━━━━━━━━━━━━━━\u001b[0m \u001b[32m409.5/409.5 kB\u001b[0m \u001b[31m18.7 MB/s\u001b[0m eta \u001b[36m0:00:00\u001b[0m\n",
      "\u001b[2K   \u001b[90m━━━━━━━━━━━━━━━━━━━━━━━━━━━━━━━━━━━━━━━━\u001b[0m \u001b[32m1.2/1.2 MB\u001b[0m \u001b[31m36.8 MB/s\u001b[0m eta \u001b[36m0:00:00\u001b[0m\n",
      "\u001b[2K   \u001b[90m━━━━━━━━━━━━━━━━━━━━━━━━━━━━━━━━━━━━━━━━\u001b[0m \u001b[32m49.5/49.5 kB\u001b[0m \u001b[31m1.8 MB/s\u001b[0m eta \u001b[36m0:00:00\u001b[0m\n",
      "\u001b[?25h"
     ]
    }
   ],
   "source": [
    "# 필요한 주요 라이브러리 설치\n",
    "!pip install -Uq langchain langchain_openai langchain_community youtube-transcript-api"
   ]
  },
  {
   "cell_type": "markdown",
   "metadata": {
    "id": "DrrlU4QqDmxl"
   },
   "source": [
    "Imports:"
   ]
  },
  {
   "cell_type": "code",
   "execution_count": 2,
   "metadata": {
    "executionInfo": {
     "elapsed": 4825,
     "status": "ok",
     "timestamp": 1733174892223,
     "user": {
      "displayName": "오늘코드todaycode",
      "userId": "06313463015165663090"
     },
     "user_tz": -540
    },
    "id": "ohPMkz4zDqxz"
   },
   "outputs": [],
   "source": [
    "import os\n",
    "import textwrap\n",
    "from youtube_transcript_api import YouTubeTranscriptApi\n",
    "from langchain.prompts import PromptTemplate\n",
    "from langchain_openai import ChatOpenAI"
   ]
  },
  {
   "cell_type": "markdown",
   "metadata": {
    "id": "P5b97pOrkkzL"
   },
   "source": [
    "### 코드 설정"
   ]
  },
  {
   "cell_type": "markdown",
   "metadata": {
    "id": "lPpqKBtA5jtM"
   },
   "source": [
    "OpenAI API key:  \n",
    "**문자열 형태로 아래 \"...\"에 OpenAI에서 발급받은 key를 입력해 주세요!**  \n",
    "\n",
    "\n",
    "Colab 보안 비밀 설정은 왼쪽 열쇠 모양의 아이콘을 클릭하면 나옵니다.\n",
    "<img src=\"https://i.imgur.com/7P383n4.png\" width=\"500\">"
   ]
  },
  {
   "cell_type": "code",
   "execution_count": 3,
   "metadata": {
    "executionInfo": {
     "elapsed": 4,
     "status": "ok",
     "timestamp": 1733174892223,
     "user": {
      "displayName": "오늘코드todaycode",
      "userId": "06313463015165663090"
     },
     "user_tz": -540
    },
    "id": "liMCXQENatS1"
   },
   "outputs": [],
   "source": [
    "# os.environ[\"OPENAI_API_KEY\"] = \"...\""
   ]
  },
  {
   "cell_type": "code",
   "execution_count": 4,
   "metadata": {
    "executionInfo": {
     "elapsed": 1177,
     "status": "ok",
     "timestamp": 1733174893397,
     "user": {
      "displayName": "오늘코드todaycode",
      "userId": "06313463015165663090"
     },
     "user_tz": -540
    },
    "id": "OOk0RrequDbR"
   },
   "outputs": [],
   "source": [
    "from google.colab import userdata\n",
    "os.environ[\"OPENAI_API_KEY\"] = userdata.get('OPENAI_API_KEY')\n",
    "api_key = os.environ[\"OPENAI_API_KEY\"]"
   ]
  },
  {
   "cell_type": "markdown",
   "metadata": {
    "id": "c-lR8B_Us4FT"
   },
   "source": [
    "#### Youtube Video URL"
   ]
  },
  {
   "cell_type": "code",
   "execution_count": 5,
   "metadata": {
    "executionInfo": {
     "elapsed": 4,
     "status": "ok",
     "timestamp": 1733174893398,
     "user": {
      "displayName": "오늘코드todaycode",
      "userId": "06313463015165663090"
     },
     "user_tz": -540
    },
    "id": "Y1LSH25XnbVA"
   },
   "outputs": [],
   "source": [
    "# 유튜브 비디오 URL\n",
    "video_url = \"https://www.youtube.com/watch?v=8KkKuTCFvzI&ab_channel=TED\""
   ]
  },
  {
   "cell_type": "markdown",
   "metadata": {
    "id": "ceba85uTtghq"
   },
   "source": [
    "### 검색하고 원본 문서 확인  \n",
    "이 예시에서는 RAG에 단일 문서만을 컨텍스트로 제공합니다.\n",
    "첫 1000자를 확인해 봅시다."
   ]
  },
  {
   "cell_type": "code",
   "execution_count": 6,
   "metadata": {
    "colab": {
     "base_uri": "https://localhost:8080/"
    },
    "executionInfo": {
     "elapsed": 869,
     "status": "ok",
     "timestamp": 1733174894264,
     "user": {
      "displayName": "오늘코드todaycode",
      "userId": "06313463015165663090"
     },
     "user_tz": -540
    },
    "id": "0UsG75jmj9Nz",
    "outputId": "1fd859a6-d32a-4ac6-e8e6-72bd8c427de5"
   },
   "outputs": [
    {
     "name": "stdout",
     "output_type": "stream",
     "text": [
      "What keeps us healthy and happy as we go through life? If you were going to invest now in your future best self, where would you put your time\n",
      "and your energy? There was a recent survey of millennials asking them what their\n",
      "most important life goals were, and over 80 percent said that a major life goal for them\n",
      "was to get rich. And another 50 percent\n",
      "of those same young adults said that another major life goal was to become famous. (Laughter) And we're constantly told\n",
      "to lean in to work, to push harder and achieve more. We're given the impression that these\n",
      "are the things that we need to go after in order to have a good life. Pictures of entire lives, of the choices that people make\n",
      "and how those choices work out for them, those pictures\n",
      "are almost impossible to get. Most of what we know about human life we know from asking people\n",
      "to remember the past, and as we know, hindsight\n",
      "is anything but 20/20. We forget vast amounts\n",
      "of what happens to us in life, and sometimes memory\n",
      "is downrigh\n"
     ]
    }
   ],
   "source": [
    "# 유튜브 비디오 ID 추출\n",
    "video_id = video_url.split(\"v=\")[-1]\n",
    "\n",
    "# 자막 추출\n",
    "try:\n",
    "    transcript_list = YouTubeTranscriptApi.get_transcript(video_id,\n",
    "                                                          languages=['en'])\n",
    "    english_text = \" \".join([entry['text'] for entry in transcript_list])\n",
    "    print(english_text[:1000])\n",
    "except Exception as e:\n",
    "    print(f\"자막을 가져오는 중 오류 발생: {e}\")\n",
    "    english_text = \"\""
   ]
  },
  {
   "cell_type": "markdown",
   "metadata": {
    "id": "dp7q88ydmqOo"
   },
   "source": [
    "## 검토, 요약, 다국어 번역"
   ]
  },
  {
   "cell_type": "code",
   "execution_count": 7,
   "metadata": {
    "colab": {
     "base_uri": "https://localhost:8080/"
    },
    "executionInfo": {
     "elapsed": 5677,
     "status": "ok",
     "timestamp": 1733174899939,
     "user": {
      "displayName": "오늘코드todaycode",
      "userId": "06313463015165663090"
     },
     "user_tz": -540
    },
    "id": "GbybH9z-ddbM",
    "outputId": "27e21955-5107-4e70-f46a-97b5c8ae813c"
   },
   "outputs": [
    {
     "name": "stdout",
     "output_type": "stream",
     "text": [
      "Good relationships are essential for a happy and healthy life, as demonstrated by the Harvard Study of Adult Development, which has tracked the lives of 724 men for 75 years. The study revealed that social connections enhance well-being, while loneliness can be detrimental to health. It emphasized that the quality of close relationships matters more than the quantity, and those who are satisfied in their relationships tend to be healthier as they age. Ultimately, investing time and energy in nurturing relationships leads to a more fulfilling life.\n",
      "\n",
      "----\n",
      "좋은 관계는 행복하고 건강한 삶에 필수적이며, 하버드 성인 발달 연구는 75년 동안 724명의 남성의 삶을 추적하여 이를 입증했습니다. 이 연구는 사회적 연결이 웰빙을 향상시키고 외로움이 건강에 해로운 영향을 미칠 수 있음을 밝혔습니다. 또한 가까운 관계의 질이 양보다 더 중요하며, 관계에 만족하는 사람들이 나이가 들어서도 더 건강하다는 점을 강조했습니다. 궁극적으로 관계를 키우는 데 시간과 에너지를 투자하는 것이 더 만족스러운 삶으로 이어집니다.\n",
      "\n",
      "****\n",
      "Хорошие отношения имеют решающее значение для счастья и здоровья, как показывает Исследование взросления Гарварда, которое отслеживало жизни 724 мужчин на протяжении 75 лет. Исследование показало, что социальные связи улучшают благополучие, в то время как одиночество может негативно сказаться на здоровье. Также подчеркивается, что качество близких отношений важнее количества, и те, кто удовлетворен своими отношениями, как правило, более здоровы по мере старения. В конечном счете, инвестиции времени и энергии в поддержание отношений приводят к более полноценной жизни.\n",
      "\n",
      "====\n",
      "Gute Beziehungen sind entscheidend für ein glückliches und gesundes Leben, wie die Harvard-Studie zur Erwachsenenentwicklung zeigt, die 75 Jahre lang das Leben von 724 Männern verfolgt hat. Die Studie ergab, dass soziale Verbindungen das Wohlbefinden verbessern, während Einsamkeit sich negativ auf die Gesundheit auswirken kann. Sie betonte auch, dass die Qualität enger Beziehungen wichtiger ist als die Quantität, und dass diejenigen, die mit ihren Beziehungen zufrieden sind, tendenziell gesünder alt werden. Letztendlich führt die Investition von Zeit und Energie in die Pflege von Beziehungen zu einem erfüllteren Leben.\n",
      "\n",
      "요약 및 번역 결과:\n",
      "\n",
      "Good relationships are essential for a happy and\n",
      "healthy life, as demonstrated by the Harvard Study\n",
      "of Adult Development, which has tracked the lives\n",
      "of 724 men for 75 years. The study revealed that\n",
      "social connections enhance well-being, while\n",
      "loneliness can be detrimental to health. It\n",
      "emphasized that the quality of close relationships\n",
      "matters more than the quantity, and those who are\n",
      "satisfied in their relationships tend to be\n",
      "healthier as they age. Ultimately, investing time\n",
      "and energy in nurturing relationships leads to a\n",
      "more fulfilling life.  \n",
      "한국어:\n",
      " 좋은 관계는 행복하고 건강한 삶에\n",
      "필수적이며, 하버드 성인 발달 연구는 75년 동안 724명의 남성의 삶을 추적하여 이를\n",
      "입증했습니다. 이 연구는 사회적 연결이 웰빙을 향상시키고 외로움이 건강에 해로운 영향을\n",
      "미칠 수 있음을 밝혔습니다. 또한 가까운 관계의 질이 양보다 더 중요하며, 관계에 만족하는\n",
      "사람들이 나이가 들어서도 더 건강하다는 점을 강조했습니다. 궁극적으로 관계를 키우는 데\n",
      "시간과 에너지를 투자하는 것이 더 만족스러운 삶으로 이어집니다.  \n",
      "러시아어:\n",
      " Хорошие\n",
      "отношения имеют решающее значение для счастья и\n",
      "здоровья, как показывает Исследование взросления\n",
      "Гарварда, которое отслеживало жизни 724 мужчин на\n",
      "протяжении 75 лет. Исследование показало, что\n",
      "социальные связи улучшают благополучие, в то время\n",
      "как одиночество может негативно сказаться на\n",
      "здоровье. Также подчеркивается, что качество\n",
      "близких отношений важнее количества, и те, кто\n",
      "удовлетворен своими отношениями, как правило,\n",
      "более здоровы по мере старения. В конечном счете,\n",
      "инвестиции времени и энергии в поддержание\n",
      "отношений приводят к более полноценной жизни.\n",
      "\n",
      "독일어:\n",
      " Gute Beziehungen sind entscheidend für ein\n",
      "glückliches und gesundes Leben, wie die Harvard-\n",
      "Studie zur Erwachsenenentwicklung zeigt, die 75\n",
      "Jahre lang das Leben von 724 Männern verfolgt hat.\n",
      "Die Studie ergab, dass soziale Verbindungen das\n",
      "Wohlbefinden verbessern, während Einsamkeit sich\n",
      "negativ auf die Gesundheit auswirken kann. Sie\n",
      "betonte auch, dass die Qualität enger Beziehungen\n",
      "wichtiger ist als die Quantität, und dass\n",
      "diejenigen, die mit ihren Beziehungen zufrieden\n",
      "sind, tendenziell gesünder alt werden.\n",
      "Letztendlich führt die Investition von Zeit und\n",
      "Energie in die Pflege von Beziehungen zu einem\n",
      "erfüllteren Leben.\n"
     ]
    }
   ],
   "source": [
    "# 모델 설정\n",
    "llm = ChatOpenAI(model=\"gpt-4o-mini\")\n",
    "\n",
    "summary_prompt_template = \"\"\"\n",
    "전체 내용을 검토하고, 4문장 길이의 영어로 요약한 다음 한국어, 러시아어, 독일어로 번역해 주세요.\n",
    "요약이 내용과 일치하는지 확인하세요.\n",
    "답변의 영어와 한국어 부분 사이에 '\\n----\\n' 문자열을 넣어주세요.\n",
    "답변의 한국어와 러시아어 부분 사이에 '\\n****\\n' 문자열을 넣어주세요.\n",
    "답변의 러시아와 독일어 부분 사이에 '\\n====\\n' 문자열을 넣어주세요.\n",
    "영어 텍스트:\n",
    "{content}\n",
    "\"\"\"\n",
    "\n",
    "# 프롬프트 정의\n",
    "summary_prompt = PromptTemplate(template=summary_prompt_template, input_variables=[\"content\"])\n",
    "\n",
    "# 체인 구성\n",
    "summary_chain = summary_prompt | llm\n",
    "\n",
    "# 요약 및 번역 수행\n",
    "prompt_input = summary_prompt.format(content=english_text)  # 프롬프트 텍스트로 변환\n",
    "original_answer = summary_chain.invoke(prompt_input)       # 텍스트 입력\n",
    "print(original_answer.content)\n",
    "\n",
    "# 결과 출력\n",
    "print(\"\\n요약 및 번역 결과:\\n\")\n",
    "print(textwrap.fill(\n",
    "    str(original_answer.content), width=50, replace_whitespace=True\n",
    "    ).replace(\"\\\\n \", \"\\n\\n\").replace(\"----\", \"\\n한국어:\\n\").replace(\"****\", \"\\n러시아어:\\n\").replace(\"====\", \"\\n독일어:\\n\"))\n"
   ]
  },
  {
   "cell_type": "code",
   "execution_count": 8,
   "metadata": {
    "colab": {
     "base_uri": "https://localhost:8080/"
    },
    "executionInfo": {
     "elapsed": 2102,
     "status": "ok",
     "timestamp": 1733174902038,
     "user": {
      "displayName": "오늘코드todaycode",
      "userId": "06313463015165663090"
     },
     "user_tz": -540
    },
    "id": "shu0-vz0Xrj8",
    "outputId": "09341626-7bfa-4efa-ca6f-88481b642394"
   },
   "outputs": [
    {
     "name": "stdout",
     "output_type": "stream",
     "text": [
      "\n",
      "한국어 주요 요점:\n",
      "\n",
      "- 좋은 관계는 행복하고 건강한 삶에 필수적이다.\n",
      "- 하버드 성인 발달 연구는 사회적 연결이 웰빙을 향상시키고 외로움이 건강에 해롭다고 밝혀냈다.\n",
      "- 가까운 관계의 질이 양보다 더 중요하다.\n",
      "- 관계에 만족하는 사람들은 나이가 들어서도 더 건강하다.\n",
      "- 관계를 키우는 데 시간과 에너지를 투자하면 더 만족스러운 삶을 누릴 수 있다.\n"
     ]
    }
   ],
   "source": [
    "# 주요 요점 추출 프롬프트 템플릿 정의\n",
    "key_points_prompt_template = \"\"\"\n",
    "당신은 간결하고 명확한 요점을 제공하는 전문가입니다.\n",
    "이전 질문에 대한 답변은 다음과 같습니다: <{original_answer}>\n",
    "이 한국어 답변을 3-5개의 주요 요점으로 정리해 주세요. 각 요점은 글머리 기호로 시작하는 한국어로만 작성해 주세요.\n",
    "\"\"\"\n",
    "key_points_prompt = PromptTemplate(template=key_points_prompt_template, input_variables=[\"original_answer\"])\n",
    "\n",
    "# 체인 구성 (RunnableSequence 사용)\n",
    "key_points_chain = key_points_prompt | llm\n",
    "\n",
    "# 요점 추출 수행\n",
    "key_points = key_points_chain.invoke({\"original_answer\": original_answer})  # .invoke 사용\n",
    "\n",
    "# 결과 출력\n",
    "print(\"\\n한국어 주요 요점:\\n\")\n",
    "print(key_points.content)"
   ]
  },
  {
   "cell_type": "code",
   "execution_count": 8,
   "metadata": {
    "executionInfo": {
     "elapsed": 3,
     "status": "ok",
     "timestamp": 1733174902038,
     "user": {
      "displayName": "오늘코드todaycode",
      "userId": "06313463015165663090"
     },
     "user_tz": -540
    },
    "id": "uAmHCQVxIFXW"
   },
   "outputs": [],
   "source": []
  }
 ],
 "metadata": {
  "colab": {
   "provenance": []
  },
  "kernelspec": {
   "display_name": "Python 3 (ipykernel)",
   "language": "python",
   "name": "python3"
  },
  "language_info": {
   "codemirror_mode": {
    "name": "ipython",
    "version": 3
   },
   "file_extension": ".py",
   "mimetype": "text/x-python",
   "name": "python",
   "nbconvert_exporter": "python",
   "pygments_lexer": "ipython3",
   "version": "3.11.4"
  }
 },
 "nbformat": 4,
 "nbformat_minor": 4
}
