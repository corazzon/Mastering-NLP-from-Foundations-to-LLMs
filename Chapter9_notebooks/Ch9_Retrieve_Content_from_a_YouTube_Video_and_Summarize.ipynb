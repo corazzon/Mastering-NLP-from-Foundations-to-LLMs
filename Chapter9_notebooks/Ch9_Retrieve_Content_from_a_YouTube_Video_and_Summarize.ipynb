{
  "cells": [
    {
      "cell_type": "markdown",
      "metadata": {
        "id": "C5zuVyNFaCdo"
      },
      "source": [
        "## 9.4 다양한 웹 소스에서 자동으로 정보 검색하기\n",
        "### 유튜브 영상 요약하고 다국어 번역하기\n",
        "\n",
        "* 책 312~317 쪽\n",
        "\n",
        "<img src='https://raw.githubusercontent.com/corazzon/Mastering-NLP-from-Foundations-to-LLMs/refs/heads/main/cover.png'\n",
        "     alt=\"NLP와 LLM 실전 가이드(한빛미디어)\"\n",
        "     style=\"border: 3px solid gray; box-shadow: 5px 5px 15px rgba(0, 0, 0, 0.3); border-radius: 10px; width: 300px;\"   width='300'>\n",
        "\n",
        "\n",
        "* 저자:  \n",
        "    - [Lior Gazit](https://www.linkedin.com/in/liorgazit).  \n",
        "    - [Meysam Ghaffari](https://www.linkedin.com/in/meysam-ghaffari-ph-d-a2553088/).\n",
        "* 역자:\n",
        "    - [박조은](https://github.com/corazzon)\n",
        "* 이 노트북은 다음의 책에서 소개하는 내용입니다.\n",
        "    - 역서 : NLP와 LLM 실전 가이드(한빛미디어)\n",
        "    - 원서 : [Mastering NLP from Foundations to LLMs](https://www.amazon.com/dp/1804619183)"
      ]
    },
    {
      "cell_type": "markdown",
      "metadata": {
        "id": "dA3qEn5YlzJc"
      },
      "source": [
        "**이 노트북의 목적:**  \n",
        "보고 싶은 유튜브 영상을 직접 시청할 필요 없이 요약하고, 원하는 방식으로 편집하세요.  \n",
        "이 노트북에서는 인기 있는 TED 강연 중 하나를 선택해 요약하고, 한국어로 번역한 후, 이를 목록 형식으로 편집하여 제공합니다.\n",
        "\n",
        "**요구 사항:**  \n",
        "* Colab에서 실행할 때, 다음 런타임 설정을 사용하세요: `Python3, CPU`  \n",
        "* 이 코드는 OpenAI의 API를 LLM으로 선택하므로, 유료 **API 키**가 필요합니다.  "
      ]
    },
    {
      "cell_type": "markdown",
      "metadata": {
        "id": "S1Rvv2OzBZqB"
      },
      "source": [
        "colab 실습 :\n",
        "https://github.com/corazzon/Mastering-NLP-from-Foundations-to-LLMs\n",
        "\n",
        "[![Open In Colab](https://colab.research.google.com/assets/colab-badge.svg)](https://colab.research.google.com/github/corazzon/Mastering-NLP-from-Foundations-to-LLMs/blob/main/Chapter9_notebooks/Ch9_Retrieve_Content_from_a_YouTube_Video_and_Summarize.ipynb)  \n",
        "\n",
        "\n",
        "원서 Colab 실습:\n",
        "https://github.com/PacktPublishing/Mastering-NLP-from-Foundations-to-LLMs   \n",
        "<a target=\"_blank\" href=\"https://colab.research.google.com/github/PacktPublishing/Mastering-NLP-from-Foundations-to-LLMs/blob/liors_branch/Chapter9_notebooks/Ch9_Retrieve_Content_from_a_YouTube_Video_and_Summarize.ipynb\">\n",
        "  <img src=\"https://colab.research.google.com/assets/colab-badge.svg\" alt=\"Open In Colab\"/>\n",
        "</a>"
      ]
    },
    {
      "cell_type": "markdown",
      "metadata": {
        "id": "g54Uf66Vz9Fi"
      },
      "source": [
        ">*```면책 사항: 이 노트북에서 제시된 내용과 아이디어는 전적으로 저자의 것이며, 저자의 고용주의 견해나 지적 재산을 대표하지 않습니다.```*"
      ]
    },
    {
      "cell_type": "markdown",
      "metadata": {
        "id": "-VQE9nGwDaiG"
      },
      "source": [
        "Install:\n",
        "\n",
        "* 원서의 embedchain이 mem0(https://mem0.ai/ )로 변경되었습니다. mem0는 코드는 오픈소스로 제공되나 API 비용이 별도로 부과됩니다. OpenAI API도 비용이 발생하나, 번거롭게 여러 API Key를 발급받지 않도록 OpenAI API의 해당 도서의 번역시점에서 가장 저렴한 gpt-4o-mini 모델 사용으로 대체합니다."
      ]
    },
    {
      "cell_type": "markdown",
      "metadata": {
        "id": "GY77hO_qeo-d"
      },
      "source": [
        " * 역자 업데이트 : 원서의 embedchain이 mem0로 이름이 변경되었습니다.\n",
        " * 원서에는 embedchain 를 사용하지만 유료 API 로 변경이 되어 랭체인으로 대체합니다."
      ]
    },
    {
      "cell_type": "code",
      "execution_count": null,
      "metadata": {
        "id": "9YUKK_amdCAn"
      },
      "outputs": [],
      "source": [
        "# 필요한 주요 라이브러리 설치\n",
        "!pip install -Uq langchain langchain_openai langchain_community youtube-transcript-api"
      ]
    },
    {
      "cell_type": "markdown",
      "metadata": {
        "id": "DrrlU4QqDmxl"
      },
      "source": [
        "Imports:"
      ]
    },
    {
      "cell_type": "code",
      "execution_count": null,
      "metadata": {
        "id": "ohPMkz4zDqxz"
      },
      "outputs": [],
      "source": [
        "import os\n",
        "import textwrap\n",
        "from youtube_transcript_api import YouTubeTranscriptApi\n",
        "from langchain.prompts import PromptTemplate\n",
        "from langchain_openai import ChatOpenAI"
      ]
    },
    {
      "cell_type": "markdown",
      "metadata": {
        "id": "P5b97pOrkkzL"
      },
      "source": [
        "### 코드 설정"
      ]
    },
    {
      "cell_type": "markdown",
      "metadata": {
        "id": "lPpqKBtA5jtM"
      },
      "source": [
        "OpenAI API key:  \n",
        "**문자열 형태로 아래 \"...\"에 OpenAI에서 발급받은 key를 입력해 주세요!**  \n",
        "\n",
        "\n",
        "Colab 보안 비밀 설정은 왼쪽 열쇠 모양의 아이콘을 클릭하면 나옵니다.\n",
        "<img src=\"https://i.imgur.com/7P383n4.png\" width=\"500\">"
      ]
    },
    {
      "cell_type": "code",
      "execution_count": null,
      "metadata": {
        "id": "OOk0RrequDbR"
      },
      "outputs": [],
      "source": [
        "os.environ[\"OPENAI_API_KEY\"] = \"...\"\n",
        "\n",
        "# Colab 에서는 보안 비밀키 설정을 통해 API 키를 매번 입력하지 않고 아래와 같이 관리할 수 있습니다.\n",
        "try:\n",
        "    from google.colab import userdata\n",
        "    os.environ[\"OPENAI_API_KEY\"] = userdata.get('OPENAI_API_KEY')\n",
        "    if not os.environ[\"OPENAI_API_KEY\"]:\n",
        "        raise ValueError(\"Colab의 보안 비밀 설정에서 'OPENAI_API_KEY'를 찾을 수 없습니다.\")\n",
        "except ImportError:\n",
        "    print(\"Colab 환경이 아니므로, 'api_key' 변수에 직접 값을 할당해야 합니다.\")"
      ]
    },
    {
      "cell_type": "markdown",
      "metadata": {
        "id": "c-lR8B_Us4FT"
      },
      "source": [
        "#### Youtube Video URL"
      ]
    },
    {
      "cell_type": "code",
      "execution_count": null,
      "metadata": {
        "id": "Y1LSH25XnbVA"
      },
      "outputs": [],
      "source": [
        "# 유튜브 비디오 URL\n",
        "video_url = \"https://www.youtube.com/watch?v=8KkKuTCFvzI&ab_channel=TED\""
      ]
    },
    {
      "cell_type": "markdown",
      "metadata": {
        "id": "ceba85uTtghq"
      },
      "source": [
        "### 검색하고 원본 문서 확인  \n",
        "이 예시에서는 RAG에 단일 문서만을 컨텍스트로 제공합니다.\n",
        "첫 1000자를 확인해 봅시다."
      ]
    },
    {
      "cell_type": "code",
      "execution_count": null,
      "metadata": {
        "colab": {
          "base_uri": "https://localhost:8080/"
        },
        "id": "0UsG75jmj9Nz",
        "outputId": "c419e832-dc6f-4694-8575-fac3b708a769"
      },
      "outputs": [
        {
          "output_type": "stream",
          "name": "stdout",
          "text": [
            "What keeps us healthy and happy as we go through life? If you were going to invest now in your future best self, where would you put your time\n",
            "and your energy? There was a recent survey of millennials asking them what their\n",
            "most important life goals were, and over 80 percent said that a major life goal for them\n",
            "was to get rich. And another 50 percent\n",
            "of those same young adults said that another major life goal was to become famous. (Laughter) And we're constantly told\n",
            "to lean in to work, to push harder and achieve more. We're given the impression that these\n",
            "are the things that we need to go after in order to have a good life. Pictures of entire lives, of the choices that people make\n",
            "and how those choices work out for them, those pictures\n",
            "are almost impossible to get. Most of what we know about human life we know from asking people\n",
            "to remember the past, and as we know, hindsight\n",
            "is anything but 20/20. We forget vast amounts\n",
            "of what happens to us in life, and sometimes memory\n",
            "is downrigh\n"
          ]
        }
      ],
      "source": [
        "# 유튜브 비디오 ID 추출\n",
        "video_id = video_url.split(\"v=\")[-1]\n",
        "\n",
        "# 자막 추출\n",
        "try:\n",
        "    transcript_list = YouTubeTranscriptApi.get_transcript(video_id,\n",
        "                                                          languages=['en'])\n",
        "    english_text = \" \".join([entry['text'] for entry in transcript_list])\n",
        "    print(english_text[:1000])\n",
        "except Exception as e:\n",
        "    print(f\"자막을 가져오는 중 오류 발생: {e}\")\n",
        "    english_text = \"\""
      ]
    },
    {
      "cell_type": "markdown",
      "metadata": {
        "id": "dp7q88ydmqOo"
      },
      "source": [
        "## 검토, 요약, 다국어 번역"
      ]
    },
    {
      "cell_type": "code",
      "execution_count": null,
      "metadata": {
        "colab": {
          "base_uri": "https://localhost:8080/"
        },
        "id": "GbybH9z-ddbM",
        "outputId": "00a73ffe-ffde-436a-98ac-96b20626d7d8"
      },
      "outputs": [
        {
          "output_type": "stream",
          "name": "stdout",
          "text": [
            "Good relationships are essential for a healthy and happy life, as revealed by the Harvard Study of Adult Development, which observed the lives of 724 men over 75 years. The research emphasizes that social connections are vital, and loneliness can be toxic, affecting individuals' happiness and health. Quality of relationships, rather than quantity, is crucial, with satisfying relationships leading to better outcomes as people age. Ultimately, investing time and energy into nurturing relationships is key to a fulfilling life.\n",
            "\n",
            "----\n",
            "좋은 관계는 건강하고 행복한 삶에 필수적이며, 이는 75년 동안 724명의 남성을 관찰한 하버드 성인 발달 연구에 의해 밝혀졌습니다. 연구는 사회적 연결이 중요하고 외로움이 건강과 행복에 부정적인 영향을 미친다고 강조합니다. 관계의 질이 양보다 중요하며, 만족스러운 관계가 나이가 들수록 더 나은 결과로 이어진다고 합니다. 결국, 관계를 키우는 데 시간과 에너지를 투자하는 것이 충만한 삶의 핵심입니다.\n",
            "\n",
            "****\n",
            "Хорошие отношения являются важными для здоровой и счастливой жизни, как показывает Исследование взрослых людей Гарварда, которое наблюдало за жизнью 724 мужчин на протяжении 75 лет. Исследование подчеркивает, что социальные связи имеют важное значение, а одиночество может быть токсичным, негативно влияя на счастье и здоровье людей. Качество отношений более критично, чем количество, причем удовлетворительные отношения ведут к лучшим результатам по мере старения. В конечном счете, инвестирование времени и энергии в поддержку отношений является ключом к полноценной жизни.\n",
            "\n",
            "====\n",
            "Gute Beziehungen sind entscheidend für ein gesundes und glückliches Leben, wie die Harvard-Studie zur Erwachsenentwicklung zeigt, die das Leben von 724 Männern über einen Zeitraum von 75 Jahren beobachtet hat. Die Forschung betont, dass soziale Verbindungen wichtig sind und Einsamkeit schädlich sein kann, was sich negativ auf das Glück und die Gesundheit auswirkt. Die Qualität von Beziehungen ist entscheidend, nicht die Quantität, wobei erfüllende Beziehungen zu besseren Ergebnissen im Alter führen. Letztendlich ist es der Schlüssel zu einem erfüllten Leben, Zeit und Energie in die Pflege von Beziehungen zu investieren.\n",
            "\n",
            "요약 및 번역 결과:\n",
            "\n",
            "Good relationships are essential for a healthy and\n",
            "happy life, as revealed by the Harvard Study of\n",
            "Adult Development, which observed the lives of 724\n",
            "men over 75 years. The research emphasizes that\n",
            "social connections are vital, and loneliness can\n",
            "be toxic, affecting individuals' happiness and\n",
            "health. Quality of relationships, rather than\n",
            "quantity, is crucial, with satisfying\n",
            "relationships leading to better outcomes as people\n",
            "age. Ultimately, investing time and energy into\n",
            "nurturing relationships is key to a fulfilling\n",
            "life.  \n",
            "한국어:\n",
            " 좋은 관계는 건강하고 행복한 삶에 필수적이며, 이는 75년 동안\n",
            "724명의 남성을 관찰한 하버드 성인 발달 연구에 의해 밝혀졌습니다. 연구는 사회적 연결이\n",
            "중요하고 외로움이 건강과 행복에 부정적인 영향을 미친다고 강조합니다. 관계의 질이 양보다\n",
            "중요하며, 만족스러운 관계가 나이가 들수록 더 나은 결과로 이어진다고 합니다. 결국,\n",
            "관계를 키우는 데 시간과 에너지를 투자하는 것이 충만한 삶의 핵심입니다.  \n",
            "러시아어:\n",
            "\n",
            "Хорошие отношения являются важными для здоровой и\n",
            "счастливой жизни, как показывает Исследование\n",
            "взрослых людей Гарварда, которое наблюдало за\n",
            "жизнью 724 мужчин на протяжении 75 лет.\n",
            "Исследование подчеркивает, что социальные связи\n",
            "имеют важное значение, а одиночество может быть\n",
            "токсичным, негативно влияя на счастье и здоровье\n",
            "людей. Качество отношений более критично, чем\n",
            "количество, причем удовлетворительные отношения\n",
            "ведут к лучшим результатам по мере старения. В\n",
            "конечном счете, инвестирование времени и энергии в\n",
            "поддержку отношений является ключом к полноценной\n",
            "жизни.  \n",
            "독일어:\n",
            " Gute Beziehungen sind entscheidend\n",
            "für ein gesundes und glückliches Leben, wie die\n",
            "Harvard-Studie zur Erwachsenentwicklung zeigt, die\n",
            "das Leben von 724 Männern über einen Zeitraum von\n",
            "75 Jahren beobachtet hat. Die Forschung betont,\n",
            "dass soziale Verbindungen wichtig sind und\n",
            "Einsamkeit schädlich sein kann, was sich negativ\n",
            "auf das Glück und die Gesundheit auswirkt. Die\n",
            "Qualität von Beziehungen ist entscheidend, nicht\n",
            "die Quantität, wobei erfüllende Beziehungen zu\n",
            "besseren Ergebnissen im Alter führen. Letztendlich\n",
            "ist es der Schlüssel zu einem erfüllten Leben,\n",
            "Zeit und Energie in die Pflege von Beziehungen zu\n",
            "investieren.\n"
          ]
        }
      ],
      "source": [
        "# 모델 설정\n",
        "llm = ChatOpenAI(model=\"gpt-4o-mini\")\n",
        "\n",
        "summary_prompt_template = \"\"\"\n",
        "전체 내용을 검토하고, 4문장 길이의 영어로 요약한 다음 한국어, 러시아어, 독일어로 번역해 주세요.\n",
        "요약이 내용과 일치하는지 확인하세요.\n",
        "답변의 영어와 한국어 부분 사이에 '\\n----\\n' 문자열을 넣어주세요.\n",
        "답변의 한국어와 러시아어 부분 사이에 '\\n****\\n' 문자열을 넣어주세요.\n",
        "답변의 러시아와 독일어 부분 사이에 '\\n====\\n' 문자열을 넣어주세요.\n",
        "영어 텍스트:\n",
        "{content}\n",
        "\"\"\"\n",
        "\n",
        "# 프롬프트 정의\n",
        "summary_prompt = PromptTemplate(template=summary_prompt_template,\n",
        "                                input_variables=[\"content\"])\n",
        "\n",
        "# 체인 구성\n",
        "summary_chain = summary_prompt | llm\n",
        "\n",
        "# 요약 및 번역 수행\n",
        "prompt_input = summary_prompt.format(content=english_text)  # 프롬프트 텍스트로 변환\n",
        "original_answer = summary_chain.invoke(prompt_input)       # 텍스트 입력\n",
        "print(original_answer.content)\n",
        "\n",
        "# 결과 출력\n",
        "print(\"\\n요약 및 번역 결과:\\n\")\n",
        "print(textwrap.fill(\n",
        "    str(original_answer.content), width=50, replace_whitespace=True\n",
        "    ).replace(\"\\\\n \", \"\\n\\n\"\n",
        "    ).replace(\"----\", \"\\n한국어:\\n\"\n",
        "    ).replace(\"****\", \"\\n러시아어:\\n\").replace(\"====\", \"\\n독일어:\\n\"))\n"
      ]
    },
    {
      "cell_type": "code",
      "execution_count": null,
      "metadata": {
        "colab": {
          "base_uri": "https://localhost:8080/"
        },
        "id": "shu0-vz0Xrj8",
        "outputId": "0045672d-b12a-4a19-e436-77a81f488089"
      },
      "outputs": [
        {
          "output_type": "stream",
          "name": "stdout",
          "text": [
            "\n",
            "한국어 주요 요점:\n",
            "\n",
            "- 좋은 관계는 건강하고 행복한 삶에 필수적이다.\n",
            "- 사회적 연결이 중요하며, 외로움은 건강과 행복에 부정적인 영향을 미친다.\n",
            "- 관계의 질이 양보다 더 중요하며, 만족스러운 관계가 나이가 들수록 더 나은 결과를 가져온다.\n",
            "- 관계를 유지하는 데 시간과 에너지를 투자하는 것이 충만한 삶의 핵심이다.\n"
          ]
        }
      ],
      "source": [
        "# 주요 요점 추출 프롬프트 템플릿 정의\n",
        "key_points_prompt_template = \"\"\"\n",
        "당신은 간결하고 명확한 요점을 제공하는 전문가입니다.\n",
        "이전 질문에 대한 답변은 다음과 같습니다: <{original_answer}>\n",
        "이 한국어 답변을 3-5개의 주요 요점으로 정리해 주세요.\n",
        "각 요점은 글머리 기호로 시작하는 한국어로만 작성해 주세요.\n",
        "\"\"\"\n",
        "key_points_prompt = PromptTemplate(template=key_points_prompt_template,\n",
        "                                   input_variables=[\"original_answer\"])\n",
        "\n",
        "# 체인 구성 (RunnableSequence 사용)\n",
        "key_points_chain = key_points_prompt | llm\n",
        "\n",
        "# 요점 추출 수행\n",
        "key_points = key_points_chain.invoke({\"original_answer\": original_answer})  # .invoke 사용\n",
        "\n",
        "# 결과 출력\n",
        "print(\"\\n한국어 주요 요점:\\n\")\n",
        "print(key_points.content)"
      ]
    },
    {
      "cell_type": "code",
      "execution_count": null,
      "metadata": {
        "id": "uAmHCQVxIFXW"
      },
      "outputs": [],
      "source": []
    }
  ],
  "metadata": {
    "colab": {
      "provenance": []
    },
    "kernelspec": {
      "display_name": "Python 3 (ipykernel)",
      "language": "python",
      "name": "python3"
    },
    "language_info": {
      "codemirror_mode": {
        "name": "ipython",
        "version": 3
      },
      "file_extension": ".py",
      "mimetype": "text/x-python",
      "name": "python",
      "nbconvert_exporter": "python",
      "pygments_lexer": "ipython3",
      "version": "3.11.4"
    }
  },
  "nbformat": 4,
  "nbformat_minor": 0
}