{
  "cells": [
    {
      "cell_type": "markdown",
      "metadata": {
        "id": "L9EkjyV5iFNA"
      },
      "source": [
        "### 9.3 체인을 활용한 고급 방법\n",
        "* 영상 튜토리얼 : https://youtu.be/IXTg32-kcFA\n",
        "* 책 307~312 쪽\n",
        "* 랭체인 최신 API를 반영하여 책의 API 사용법과 차이가 있습니다.\n",
        "* 예: run() 대신 invoke() 를 사용하며 RunnableSequence 를 사용합니다.\n",
        "\n",
        "<img src='https://raw.githubusercontent.com/corazzon/Mastering-NLP-from-Foundations-to-LLMs/refs/heads/main/cover.png'\n",
        "     alt=\"NLP와 LLM 실전 가이드(한빛미디어)\"\n",
        "     style=\"border: 3px solid gray; box-shadow: 5px 5px 15px rgba(0, 0, 0, 0.3); border-radius: 10px; width: 300px;\"   width='300'>\n",
        "\n",
        "\n",
        "* 저자:  \n",
        "    - [Lior Gazit](https://www.linkedin.com/in/liorgazit).  \n",
        "    - [Meysam Ghaffari](https://www.linkedin.com/in/meysam-ghaffari-ph-d-a2553088/).\n",
        "* 역자:\n",
        "    - [박조은](https://github.com/corazzon)\n",
        "* 이 노트북은 다음의 책에서 소개하는 내용입니다.\n",
        "    - 역서 : NLP와 LLM 실전 가이드(한빛미디어)\n",
        "    - 원서 : [Mastering NLP from Foundations to LLMs](https://www.amazon.com/dp/1804619183)"
      ]
    },
    {
      "cell_type": "markdown",
      "metadata": {
        "id": "z69T7-MvivVe"
      },
      "source": [
        "colab 실습 :\n",
        "https://github.com/corazzon/Mastering-NLP-from-Foundations-to-LLMs\n",
        "\n",
        "[![Open In Colab](https://colab.research.google.com/assets/colab-badge.svg)](https://colab.research.google.com/github/corazzon/Mastering-NLP-from-Foundations-to-LLMs/blob/main/Chapter9_notebooks/Ch9_Advanced_LangChain_Configurations_and_Pipeline.ipynb)  \n",
        "\n",
        "\n",
        "원서 Colab 실습 :   \n",
        "https://github.com/PacktPublishing/Mastering-NLP-from-Foundations-to-LLMs   \n",
        "<a target=\"_blank\" href=\"https://colab.research.google.com/github/PacktPublishing/Mastering-NLP-from-Foundations-to-LLMs/blob/liors_branch/Chapter9_notebooks/Ch9_Advanced_Methods_with_Chains.ipynb\">\n",
        "  <img src=\"https://colab.research.google.com/assets/colab-badge.svg\" alt=\"Open In Colab\"/>\n",
        "</a>"
      ]
    },
    {
      "cell_type": "markdown",
      "metadata": {
        "id": "_O6mghyBdyHh"
      },
      "source": [
        "**노트북의 목적:**  \n",
        "**Langchain**을 활용하여 다음과 같은 방법들을 탐구합니다:  \n",
        "* LLM을 통한 일반 지식 질문하기  \n",
        "* LLM 응답으로부터 구조화된 데이터 형식 도출하기  \n",
        "* 대화 내에서 메모리 기능 설정하기  \n",
        "\n",
        "**필요 조건:**  \n",
        "* Colab에서 실행 시 다음 런타임 노트북 설정이 필요: `Python3, CPU`  \n",
        "* 이 코드는 LLM으로 OpenAI의 API를 사용하므로 유료 **API 키**가 필요합니다."
      ]
    },
    {
      "cell_type": "markdown",
      "metadata": {
        "id": "g54Uf66Vz9Fi"
      },
      "source": [
        ">*```면책사항: 이 노트북에서 다루는 내용과 아이디어는 저자들 개인의 것이며, 저자들의 고용주의 견해나 지적 재산을 대변하지 않습니다.```*"
      ]
    },
    {
      "cell_type": "markdown",
      "metadata": {
        "id": "wc4H7Oz-TKQQ"
      },
      "source": [
        "설치:"
      ]
    },
    {
      "cell_type": "code",
      "execution_count": 1,
      "metadata": {
        "id": "g9iHIKT2HUi-"
      },
      "outputs": [],
      "source": [
        "!pip install -qU langchain openai langchain-openai\n",
        "!pip install -qU langchain-community"
      ]
    },
    {
      "cell_type": "markdown",
      "metadata": {
        "id": "yACZPlFPTKQR"
      },
      "source": [
        "Imports:"
      ]
    },
    {
      "cell_type": "code",
      "execution_count": 2,
      "metadata": {
        "id": "ZBduT51rHcb7"
      },
      "outputs": [],
      "source": [
        "import json\n",
        "import os\n",
        "import pandas as pd\n",
        "from langchain.output_parsers import CommaSeparatedListOutputParser\n",
        "from langchain.prompts import ChatPromptTemplate, MessagesPlaceholder, PromptTemplate\n",
        "from langchain.schema.runnable.history import RunnableWithMessageHistory\n",
        "from langchain_core.chat_history import InMemoryChatMessageHistory\n",
        "from langchain_openai import ChatOpenAI"
      ]
    },
    {
      "cell_type": "markdown",
      "metadata": {
        "id": "e-kYVkbxwJ3I"
      },
      "source": [
        "코드 설정:"
      ]
    },
    {
      "cell_type": "markdown",
      "metadata": {
        "id": "fMhWjKHfVRc6"
      },
      "source": [
        "OpenAI API key:  \n",
        "**문자열 형태로 아래 \"...\"에 OpenAI에서 발급받은 key를 입력해 주세요!**  \n",
        "\n",
        "\n",
        "Colab 보안 비밀 설정은 왼쪽 열쇠 모양의 아이콘을 클릭하면 나옵니다.\n",
        "<img src=\"https://i.imgur.com/7P383n4.png\" width=\"500\">\n",
        "\n",
        "유료 LLM이 아닌 무료 LLM을 활용하고자 한다면, 책에서 설명하는 허깅페이스를 활용하는 예제를 따라 대체 방법을 사용해 보세요."
      ]
    },
    {
      "cell_type": "code",
      "execution_count": 3,
      "metadata": {
        "id": "K45_a6uxWclB"
      },
      "outputs": [],
      "source": [
        "os.environ[\"OPENAI_API_KEY\"] = \"...\"\n",
        "\n",
        "# Colab 에서는 보안 비밀키 설정을 통해 API 키를 매번 입력하지 않고 아랴와 같이 관리할 수 있습니다.\n",
        "try:\n",
        "    from google.colab import userdata\n",
        "    os.environ[\"OPENAI_API_KEY\"] = userdata.get('OPENAI_API_KEY')\n",
        "    if not os.environ[\"OPENAI_API_KEY\"]:\n",
        "        raise ValueError(\"Colab의 보안 비밀 설정에서 'OPENAI_API_KEY'를 찾을 수 없습니다.\")\n",
        "except ImportError:\n",
        "    print(\"Colab 환경이 아니므로, 'api_key' 변수에 직접 값을 할당해야 합니다.\")"
      ]
    },
    {
      "cell_type": "markdown",
      "metadata": {
        "id": "2ROPMNWh9Tuz"
      },
      "source": [
        "### LLM에 일반적인 지식 질문하기\n",
        "* [LangChain Expression Language (LCEL) | 🦜️🔗 LangChain](https://python.langchain.com/docs/concepts/lcel/)"
      ]
    },
    {
      "cell_type": "code",
      "execution_count": 4,
      "metadata": {
        "colab": {
          "base_uri": "https://localhost:8080/"
        },
        "id": "uMWu9EvOZx5i",
        "outputId": "bb788df2-6cd0-4108-95d8-425c4a594d4a"
      },
      "outputs": [
        {
          "output_type": "stream",
          "name": "stdout",
          "text": [
            "제임스 헷필드, 라스 울리히, 키스 해멧, 로라 올리엣\n"
          ]
        }
      ],
      "source": [
        "simple_question = \"메탈리카(Metallica) 멤버는 누구인가요? 쉼표로 구분해 나열해 주세요. 멤버 이름 외 다른 텍스트는 생성하지 마세요.\"\n",
        "\n",
        "chat = ChatOpenAI(model_name=\"gpt-4o-mini\")  # 또는 사용 가능한 다른 ChatGPT 모델\n",
        "chat_prompt = PromptTemplate.from_template(simple_question)\n",
        "\n",
        "# RunnableSequence\n",
        "chain = chat_prompt | chat\n",
        "\n",
        "result = chain.invoke({})\n",
        "print(result.content)"
      ]
    },
    {
      "cell_type": "markdown",
      "metadata": {
        "id": "u9SMZ_D798_T"
      },
      "source": [
        "### LLM이 특정 데이터 형식으로 출력을 제공하도록 설정하기"
      ]
    },
    {
      "cell_type": "code",
      "execution_count": 5,
      "metadata": {
        "colab": {
          "base_uri": "https://localhost:8080/"
        },
        "id": "ZbfwnQIK-Pbz",
        "outputId": "50463f66-3e14-43d1-8449-1423692cd8e3"
      },
      "outputs": [
        {
          "output_type": "stream",
          "name": "stdout",
          "text": [
            "['수소', '헬륨', '리튬', '베릴륨', '붕소', '탄소', '질소', '산소', '플루오르', '네온']\n"
          ]
        }
      ],
      "source": [
        "request_list_format = \"\"\"주기율표에서 처음 10개의 원소를 쉼표로 구분하여 작성해 주세요.\n",
        "원소 외에 다른 텍스트는 생성하지 마세요.\"\"\"\n",
        "\n",
        "prompt = PromptTemplate(template=request_list_format, input_variables=[])\n",
        "\n",
        "# 출력값을 쉼표로 구분된 리스트로 변환해주는 파서 준비\n",
        "output_parser = CommaSeparatedListOutputParser()\n",
        "\n",
        "# 모델과 프롬프트 준비\n",
        "chat = ChatOpenAI(\n",
        "    model=\"gpt-4o-mini\",\n",
        "    temperature=0.1\n",
        ")\n",
        "\n",
        "# Runnable Chain 구성 (Prompt → Model → Output Parser)\n",
        "chain = prompt | chat | output_parser\n",
        "\n",
        "# 실행\n",
        "result = chain.invoke({})\n",
        "print(result)"
      ]
    },
    {
      "cell_type": "markdown",
      "metadata": {
        "id": "YdpIOMzv-5nY"
      },
      "source": [
        "### 자연스러운 대화를 위해 발전하기\n",
        "* 이전 상호작용을 참조와 맥락으로 활용할 수 있도록 메모리 요소를 추가해 후속 프롬프트를 이어가는 방식\n",
        "\n",
        "<img src=\"https://python.langchain.com/v0.2/assets/images/message_history-4c13b8b9363beb4621d605bf6b5a34b4.png\">\n",
        "\n",
        "* 이미지 출처 : https://python.langchain.com/v0.2/docs/how_to/message_history/"
      ]
    },
    {
      "cell_type": "code",
      "execution_count": 6,
      "metadata": {
        "colab": {
          "base_uri": "https://localhost:8080/"
        },
        "id": "Xja0W7Obe2yl",
        "outputId": "a8afa232-1d3f-4602-d67b-842cfdcfd52d"
      },
      "outputs": [
        {
          "output_type": "stream",
          "name": "stdout",
          "text": [
            "첫 번째 응답:\n",
            "설날, 삼일절, 어린이날, 부처님오신날, 현충일, 광복절, 추석, 개천절, 한글날, 크리스마스.\n",
            "\n"
          ]
        }
      ],
      "source": [
        "# LLM 설정\n",
        "llm = ChatOpenAI(model=\"gpt-4o\", temperature=0.3)\n",
        "\n",
        "# 프롬프트 설정\n",
        "prompt = ChatPromptTemplate.from_messages([\n",
        "    (\"system\", \"너는 대화형 AI 비서야. 이전 대화를 반드시 참고해서 대답해.\"),\n",
        "    MessagesPlaceholder(variable_name=\"history\"),\n",
        "    (\"human\", \"{input}\")\n",
        "])\n",
        "\n",
        "# 세션별 히스토리를 저장할 딕셔너리\n",
        "session_histories = {}\n",
        "\n",
        "# 세션별 히스토리 관리 함수\n",
        "def get_session_history(session_id):\n",
        "    if session_id not in session_histories:\n",
        "        session_histories[session_id] = InMemoryChatMessageHistory()\n",
        "    return session_histories[session_id]\n",
        "\n",
        "# Runnable 구성 (OutputParser 없음)\n",
        "chain = RunnableWithMessageHistory(\n",
        "    runnable=prompt | llm,\n",
        "    get_session_history=get_session_history,\n",
        "    input_messages_key=\"input\",\n",
        "    history_messages_key=\"history\"\n",
        ")\n",
        "\n",
        "# 첫 번째 입력\n",
        "first_input = \"당신이 알고 있는 대한민국의 공휴일 10가지를 쉼표로 구분하여 나열해 주세요.\"\n",
        "\n",
        "first_result = chain.invoke(\n",
        "    {\"input\": first_input},\n",
        "    config={\"configurable\": {\"session_id\": \"user-1\"}}\n",
        ")\n",
        "\n",
        "print(f\"첫 번째 응답:\\n{first_result.content}\\n\")"
      ]
    },
    {
      "cell_type": "code",
      "execution_count": 7,
      "metadata": {
        "colab": {
          "base_uri": "https://localhost:8080/"
        },
        "id": "V8L3eI7Ze8Vb",
        "outputId": "bc22f25b-018d-4eee-e82d-e525d35376c8"
      },
      "outputs": [
        {
          "output_type": "stream",
          "name": "stdout",
          "text": [
            "두 번째 응답:\n",
            "설날, 삼일절, 어린이날, 현충일, 광복절, 추석, 개천절, 한글날.\n",
            "\n"
          ]
        }
      ],
      "source": [
        "# 두 번째 입력 (첫 번째 응답 기억)\n",
        "second_input = \"방금 나열한 공휴일 목록에서 종교적인 공휴일을 제거해 주세요.\"\n",
        "\n",
        "second_result = chain.invoke(\n",
        "    {\"input\": second_input},\n",
        "    config={\"configurable\": {\"session_id\": \"user-1\"}}\n",
        ")\n",
        "\n",
        "print(f\"두 번째 응답:\\n{second_result.content}\\n\")"
      ]
    },
    {
      "cell_type": "code",
      "execution_count": 8,
      "metadata": {
        "colab": {
          "base_uri": "https://localhost:8080/"
        },
        "id": "tqwA3sQMlJi6",
        "outputId": "dcdc68c6-5c22-4380-b527-bdba228db850"
      },
      "outputs": [
        {
          "output_type": "stream",
          "name": "stdout",
          "text": [
            "<class 'langchain_core.messages.ai.AIMessage'>\n",
            "[{'name': '설날', 'description': '설날은 음력 1월 1일로, 한국의 전통적인 새해입니다. 가족들이 모여 차례를 지내고 세배를 하며 새해를 맞이합니다.'}, {'name': '삼일절', 'description': '삼일절은 1919년 3월 1일에 일어난 독립운동을 기념하는 날입니다. 한국의 독립을 위해 싸운 이들을 기리며 각종 기념 행사가 열립니다.'}, {'name': '어린이날', 'description': '어린이날은 5월 5일로, 어린이들의 건강과 행복을 기원하는 날입니다. 부모들은 아이들과 함께 시간을 보내며 다양한 활동을 즐깁니다.'}, {'name': '현충일', 'description': '현충일은 6월 6일로, 나라를 위해 목숨을 바친 순국선열과 호국영령을 기리는 날입니다. 전국적으로 묵념과 추모 행사가 진행됩니다.'}, {'name': '광복절', 'description': '광복절은 8월 15일로, 1945년 일본의 식민지 지배로부터 해방된 것을 기념하는 날입니다. 이 날을 기념하여 다양한 축하 행사가 열립니다.'}, {'name': '추석', 'description': '추석은 음력 8월 15일로, 한국의 가을 수확을 감사하는 명절입니다. 가족들이 모여 성묘를 하고 송편을 나누어 먹습니다.'}, {'name': '개천절', 'description': '개천절은 10월 3일로, 단군이 고조선을 건국한 것을 기념하는 날입니다. 한국의 건국 신화를 기리는 다양한 행사가 열립니다.'}, {'name': '한글날', 'description': '한글날은 10월 9일로, 세종대왕이 훈민정음을 반포한 것을 기념하는 날입니다. 한글의 우수성을 기리고 보존하기 위한 행사가 진행됩니다.'}]\n"
          ]
        }
      ],
      "source": [
        "advanced_data_structure = \"\"\"각 공휴일에 대해 두 문장으로 설명하세요. 출력은 JSON 형식의 표로 작성해 주세요.\n",
        "표의 이름은 \"holidays\"이고, 필드는 \"name\"과 \"description\"입니다. 각 행에서 \"name\"은 공휴일의 이름이고,\n",
        "\"description\"은 생성된 설명입니다. 출력의 구문은 줄 바꿈 없이 JSON 형식이어야 합니다.\n",
        "\n",
        "예시:\n",
        "{\"holidays\": [\n",
        "        {\"name\": \"holiday_name\",\n",
        "         \"description\": \"holiday_description\"\n",
        "        }\n",
        "        ]}\n",
        "\"\"\"\n",
        "\n",
        "output = chain.invoke(\n",
        "    {\"input\": advanced_data_structure},\n",
        "    config={\"configurable\": {\"session_id\": \"user-1\"}}\n",
        ")\n",
        "\n",
        "print(type(output))\n",
        "\n",
        "# AIMessage 객체의 content 부분만 추출\n",
        "response_text = output.content\n",
        "\n",
        "# JSON 파싱\n",
        "parsed_json = json.loads(response_text)\n",
        "\n",
        "# holidays 필드만 추출\n",
        "holidays = parsed_json.get(\"holidays\", [])\n",
        "\n",
        "# 결과 출력\n",
        "print(holidays)\n"
      ]
    },
    {
      "cell_type": "code",
      "execution_count": 12,
      "metadata": {
        "colab": {
          "base_uri": "https://localhost:8080/",
          "height": 300
        },
        "id": "cut-qr_SEkcq",
        "outputId": "32894096-94cb-4a87-aad9-b3753f9f088a"
      },
      "outputs": [
        {
          "output_type": "execute_result",
          "data": {
            "text/plain": [
              "   name  \\\n",
              "0    설날   \n",
              "1   삼일절   \n",
              "2  어린이날   \n",
              "3   현충일   \n",
              "4   광복절   \n",
              "5    추석   \n",
              "6   개천절   \n",
              "7   한글날   \n",
              "\n",
              "                                                                      description  \n",
              "0                설날은 음력 1월 1일로, 한국의 전통적인 새해입니다. 가족들이 모여 차례를 지내고 세배를 하며 새해를 맞이합니다.  \n",
              "1    삼일절은 1919년 3월 1일에 일어난 독립운동을 기념하는 날입니다. 한국의 독립을 위해 싸운 이들을 기리며 각종 기념 행사가 열립니다.  \n",
              "2       어린이날은 5월 5일로, 어린이들의 건강과 행복을 기원하는 날입니다. 부모들은 아이들과 함께 시간을 보내며 다양한 활동을 즐깁니다.  \n",
              "3        현충일은 6월 6일로, 나라를 위해 목숨을 바친 순국선열과 호국영령을 기리는 날입니다. 전국적으로 묵념과 추모 행사가 진행됩니다.  \n",
              "4  광복절은 8월 15일로, 1945년 일본의 식민지 지배로부터 해방된 것을 기념하는 날입니다. 이 날을 기념하여 다양한 축하 행사가 열립니다.  \n",
              "5             추석은 음력 8월 15일로, 한국의 가을 수확을 감사하는 명절입니다. 가족들이 모여 성묘를 하고 송편을 나누어 먹습니다.  \n",
              "6           개천절은 10월 3일로, 단군이 고조선을 건국한 것을 기념하는 날입니다. 한국의 건국 신화를 기리는 다양한 행사가 열립니다.  \n",
              "7     한글날은 10월 9일로, 세종대왕이 훈민정음을 반포한 것을 기념하는 날입니다. 한글의 우수성을 기리고 보존하기 위한 행사가 진행됩니다.  "
            ],
            "text/html": [
              "\n",
              "  <div id=\"df-30f31e17-d9b0-4417-88f5-e373bf2e7445\" class=\"colab-df-container\">\n",
              "    <div>\n",
              "<style scoped>\n",
              "    .dataframe tbody tr th:only-of-type {\n",
              "        vertical-align: middle;\n",
              "    }\n",
              "\n",
              "    .dataframe tbody tr th {\n",
              "        vertical-align: top;\n",
              "    }\n",
              "\n",
              "    .dataframe thead th {\n",
              "        text-align: right;\n",
              "    }\n",
              "</style>\n",
              "<table border=\"1\" class=\"dataframe\">\n",
              "  <thead>\n",
              "    <tr style=\"text-align: right;\">\n",
              "      <th></th>\n",
              "      <th>name</th>\n",
              "      <th>description</th>\n",
              "    </tr>\n",
              "  </thead>\n",
              "  <tbody>\n",
              "    <tr>\n",
              "      <th>0</th>\n",
              "      <td>설날</td>\n",
              "      <td>설날은 음력 1월 1일로, 한국의 전통적인 새해입니다. 가족들이 모여 차례를 지내고 세배를 하며 새해를 맞이합니다.</td>\n",
              "    </tr>\n",
              "    <tr>\n",
              "      <th>1</th>\n",
              "      <td>삼일절</td>\n",
              "      <td>삼일절은 1919년 3월 1일에 일어난 독립운동을 기념하는 날입니다. 한국의 독립을 위해 싸운 이들을 기리며 각종 기념 행사가 열립니다.</td>\n",
              "    </tr>\n",
              "    <tr>\n",
              "      <th>2</th>\n",
              "      <td>어린이날</td>\n",
              "      <td>어린이날은 5월 5일로, 어린이들의 건강과 행복을 기원하는 날입니다. 부모들은 아이들과 함께 시간을 보내며 다양한 활동을 즐깁니다.</td>\n",
              "    </tr>\n",
              "    <tr>\n",
              "      <th>3</th>\n",
              "      <td>현충일</td>\n",
              "      <td>현충일은 6월 6일로, 나라를 위해 목숨을 바친 순국선열과 호국영령을 기리는 날입니다. 전국적으로 묵념과 추모 행사가 진행됩니다.</td>\n",
              "    </tr>\n",
              "    <tr>\n",
              "      <th>4</th>\n",
              "      <td>광복절</td>\n",
              "      <td>광복절은 8월 15일로, 1945년 일본의 식민지 지배로부터 해방된 것을 기념하는 날입니다. 이 날을 기념하여 다양한 축하 행사가 열립니다.</td>\n",
              "    </tr>\n",
              "    <tr>\n",
              "      <th>5</th>\n",
              "      <td>추석</td>\n",
              "      <td>추석은 음력 8월 15일로, 한국의 가을 수확을 감사하는 명절입니다. 가족들이 모여 성묘를 하고 송편을 나누어 먹습니다.</td>\n",
              "    </tr>\n",
              "    <tr>\n",
              "      <th>6</th>\n",
              "      <td>개천절</td>\n",
              "      <td>개천절은 10월 3일로, 단군이 고조선을 건국한 것을 기념하는 날입니다. 한국의 건국 신화를 기리는 다양한 행사가 열립니다.</td>\n",
              "    </tr>\n",
              "    <tr>\n",
              "      <th>7</th>\n",
              "      <td>한글날</td>\n",
              "      <td>한글날은 10월 9일로, 세종대왕이 훈민정음을 반포한 것을 기념하는 날입니다. 한글의 우수성을 기리고 보존하기 위한 행사가 진행됩니다.</td>\n",
              "    </tr>\n",
              "  </tbody>\n",
              "</table>\n",
              "</div>\n",
              "    <div class=\"colab-df-buttons\">\n",
              "\n",
              "  <div class=\"colab-df-container\">\n",
              "    <button class=\"colab-df-convert\" onclick=\"convertToInteractive('df-30f31e17-d9b0-4417-88f5-e373bf2e7445')\"\n",
              "            title=\"Convert this dataframe to an interactive table.\"\n",
              "            style=\"display:none;\">\n",
              "\n",
              "  <svg xmlns=\"http://www.w3.org/2000/svg\" height=\"24px\" viewBox=\"0 -960 960 960\">\n",
              "    <path d=\"M120-120v-720h720v720H120Zm60-500h600v-160H180v160Zm220 220h160v-160H400v160Zm0 220h160v-160H400v160ZM180-400h160v-160H180v160Zm440 0h160v-160H620v160ZM180-180h160v-160H180v160Zm440 0h160v-160H620v160Z\"/>\n",
              "  </svg>\n",
              "    </button>\n",
              "\n",
              "  <style>\n",
              "    .colab-df-container {\n",
              "      display:flex;\n",
              "      gap: 12px;\n",
              "    }\n",
              "\n",
              "    .colab-df-convert {\n",
              "      background-color: #E8F0FE;\n",
              "      border: none;\n",
              "      border-radius: 50%;\n",
              "      cursor: pointer;\n",
              "      display: none;\n",
              "      fill: #1967D2;\n",
              "      height: 32px;\n",
              "      padding: 0 0 0 0;\n",
              "      width: 32px;\n",
              "    }\n",
              "\n",
              "    .colab-df-convert:hover {\n",
              "      background-color: #E2EBFA;\n",
              "      box-shadow: 0px 1px 2px rgba(60, 64, 67, 0.3), 0px 1px 3px 1px rgba(60, 64, 67, 0.15);\n",
              "      fill: #174EA6;\n",
              "    }\n",
              "\n",
              "    .colab-df-buttons div {\n",
              "      margin-bottom: 4px;\n",
              "    }\n",
              "\n",
              "    [theme=dark] .colab-df-convert {\n",
              "      background-color: #3B4455;\n",
              "      fill: #D2E3FC;\n",
              "    }\n",
              "\n",
              "    [theme=dark] .colab-df-convert:hover {\n",
              "      background-color: #434B5C;\n",
              "      box-shadow: 0px 1px 3px 1px rgba(0, 0, 0, 0.15);\n",
              "      filter: drop-shadow(0px 1px 2px rgba(0, 0, 0, 0.3));\n",
              "      fill: #FFFFFF;\n",
              "    }\n",
              "  </style>\n",
              "\n",
              "    <script>\n",
              "      const buttonEl =\n",
              "        document.querySelector('#df-30f31e17-d9b0-4417-88f5-e373bf2e7445 button.colab-df-convert');\n",
              "      buttonEl.style.display =\n",
              "        google.colab.kernel.accessAllowed ? 'block' : 'none';\n",
              "\n",
              "      async function convertToInteractive(key) {\n",
              "        const element = document.querySelector('#df-30f31e17-d9b0-4417-88f5-e373bf2e7445');\n",
              "        const dataTable =\n",
              "          await google.colab.kernel.invokeFunction('convertToInteractive',\n",
              "                                                    [key], {});\n",
              "        if (!dataTable) return;\n",
              "\n",
              "        const docLinkHtml = 'Like what you see? Visit the ' +\n",
              "          '<a target=\"_blank\" href=https://colab.research.google.com/notebooks/data_table.ipynb>data table notebook</a>'\n",
              "          + ' to learn more about interactive tables.';\n",
              "        element.innerHTML = '';\n",
              "        dataTable['output_type'] = 'display_data';\n",
              "        await google.colab.output.renderOutput(dataTable, element);\n",
              "        const docLink = document.createElement('div');\n",
              "        docLink.innerHTML = docLinkHtml;\n",
              "        element.appendChild(docLink);\n",
              "      }\n",
              "    </script>\n",
              "  </div>\n",
              "\n",
              "\n",
              "<div id=\"df-00bddf24-30b2-4f84-9b5e-f8bc9f005122\">\n",
              "  <button class=\"colab-df-quickchart\" onclick=\"quickchart('df-00bddf24-30b2-4f84-9b5e-f8bc9f005122')\"\n",
              "            title=\"Suggest charts\"\n",
              "            style=\"display:none;\">\n",
              "\n",
              "<svg xmlns=\"http://www.w3.org/2000/svg\" height=\"24px\"viewBox=\"0 0 24 24\"\n",
              "     width=\"24px\">\n",
              "    <g>\n",
              "        <path d=\"M19 3H5c-1.1 0-2 .9-2 2v14c0 1.1.9 2 2 2h14c1.1 0 2-.9 2-2V5c0-1.1-.9-2-2-2zM9 17H7v-7h2v7zm4 0h-2V7h2v10zm4 0h-2v-4h2v4z\"/>\n",
              "    </g>\n",
              "</svg>\n",
              "  </button>\n",
              "\n",
              "<style>\n",
              "  .colab-df-quickchart {\n",
              "      --bg-color: #E8F0FE;\n",
              "      --fill-color: #1967D2;\n",
              "      --hover-bg-color: #E2EBFA;\n",
              "      --hover-fill-color: #174EA6;\n",
              "      --disabled-fill-color: #AAA;\n",
              "      --disabled-bg-color: #DDD;\n",
              "  }\n",
              "\n",
              "  [theme=dark] .colab-df-quickchart {\n",
              "      --bg-color: #3B4455;\n",
              "      --fill-color: #D2E3FC;\n",
              "      --hover-bg-color: #434B5C;\n",
              "      --hover-fill-color: #FFFFFF;\n",
              "      --disabled-bg-color: #3B4455;\n",
              "      --disabled-fill-color: #666;\n",
              "  }\n",
              "\n",
              "  .colab-df-quickchart {\n",
              "    background-color: var(--bg-color);\n",
              "    border: none;\n",
              "    border-radius: 50%;\n",
              "    cursor: pointer;\n",
              "    display: none;\n",
              "    fill: var(--fill-color);\n",
              "    height: 32px;\n",
              "    padding: 0;\n",
              "    width: 32px;\n",
              "  }\n",
              "\n",
              "  .colab-df-quickchart:hover {\n",
              "    background-color: var(--hover-bg-color);\n",
              "    box-shadow: 0 1px 2px rgba(60, 64, 67, 0.3), 0 1px 3px 1px rgba(60, 64, 67, 0.15);\n",
              "    fill: var(--button-hover-fill-color);\n",
              "  }\n",
              "\n",
              "  .colab-df-quickchart-complete:disabled,\n",
              "  .colab-df-quickchart-complete:disabled:hover {\n",
              "    background-color: var(--disabled-bg-color);\n",
              "    fill: var(--disabled-fill-color);\n",
              "    box-shadow: none;\n",
              "  }\n",
              "\n",
              "  .colab-df-spinner {\n",
              "    border: 2px solid var(--fill-color);\n",
              "    border-color: transparent;\n",
              "    border-bottom-color: var(--fill-color);\n",
              "    animation:\n",
              "      spin 1s steps(1) infinite;\n",
              "  }\n",
              "\n",
              "  @keyframes spin {\n",
              "    0% {\n",
              "      border-color: transparent;\n",
              "      border-bottom-color: var(--fill-color);\n",
              "      border-left-color: var(--fill-color);\n",
              "    }\n",
              "    20% {\n",
              "      border-color: transparent;\n",
              "      border-left-color: var(--fill-color);\n",
              "      border-top-color: var(--fill-color);\n",
              "    }\n",
              "    30% {\n",
              "      border-color: transparent;\n",
              "      border-left-color: var(--fill-color);\n",
              "      border-top-color: var(--fill-color);\n",
              "      border-right-color: var(--fill-color);\n",
              "    }\n",
              "    40% {\n",
              "      border-color: transparent;\n",
              "      border-right-color: var(--fill-color);\n",
              "      border-top-color: var(--fill-color);\n",
              "    }\n",
              "    60% {\n",
              "      border-color: transparent;\n",
              "      border-right-color: var(--fill-color);\n",
              "    }\n",
              "    80% {\n",
              "      border-color: transparent;\n",
              "      border-right-color: var(--fill-color);\n",
              "      border-bottom-color: var(--fill-color);\n",
              "    }\n",
              "    90% {\n",
              "      border-color: transparent;\n",
              "      border-bottom-color: var(--fill-color);\n",
              "    }\n",
              "  }\n",
              "</style>\n",
              "\n",
              "  <script>\n",
              "    async function quickchart(key) {\n",
              "      const quickchartButtonEl =\n",
              "        document.querySelector('#' + key + ' button');\n",
              "      quickchartButtonEl.disabled = true;  // To prevent multiple clicks.\n",
              "      quickchartButtonEl.classList.add('colab-df-spinner');\n",
              "      try {\n",
              "        const charts = await google.colab.kernel.invokeFunction(\n",
              "            'suggestCharts', [key], {});\n",
              "      } catch (error) {\n",
              "        console.error('Error during call to suggestCharts:', error);\n",
              "      }\n",
              "      quickchartButtonEl.classList.remove('colab-df-spinner');\n",
              "      quickchartButtonEl.classList.add('colab-df-quickchart-complete');\n",
              "    }\n",
              "    (() => {\n",
              "      let quickchartButtonEl =\n",
              "        document.querySelector('#df-00bddf24-30b2-4f84-9b5e-f8bc9f005122 button');\n",
              "      quickchartButtonEl.style.display =\n",
              "        google.colab.kernel.accessAllowed ? 'block' : 'none';\n",
              "    })();\n",
              "  </script>\n",
              "</div>\n",
              "\n",
              "    </div>\n",
              "  </div>\n"
            ],
            "application/vnd.google.colaboratory.intrinsic+json": {
              "type": "dataframe",
              "summary": "{\n  \"name\": \"pd\",\n  \"rows\": 8,\n  \"fields\": [\n    {\n      \"column\": \"name\",\n      \"properties\": {\n        \"dtype\": \"string\",\n        \"num_unique_values\": 8,\n        \"samples\": [\n          \"\\uc0bc\\uc77c\\uc808\",\n          \"\\ucd94\\uc11d\",\n          \"\\uc124\\ub0a0\"\n        ],\n        \"semantic_type\": \"\",\n        \"description\": \"\"\n      }\n    },\n    {\n      \"column\": \"description\",\n      \"properties\": {\n        \"dtype\": \"string\",\n        \"num_unique_values\": 8,\n        \"samples\": [\n          \"\\uc0bc\\uc77c\\uc808\\uc740 1919\\ub144 3\\uc6d4 1\\uc77c\\uc5d0 \\uc77c\\uc5b4\\ub09c \\ub3c5\\ub9bd\\uc6b4\\ub3d9\\uc744 \\uae30\\ub150\\ud558\\ub294 \\ub0a0\\uc785\\ub2c8\\ub2e4. \\ud55c\\uad6d\\uc758 \\ub3c5\\ub9bd\\uc744 \\uc704\\ud574 \\uc2f8\\uc6b4 \\uc774\\ub4e4\\uc744 \\uae30\\ub9ac\\uba70 \\uac01\\uc885 \\uae30\\ub150 \\ud589\\uc0ac\\uac00 \\uc5f4\\ub9bd\\ub2c8\\ub2e4.\",\n          \"\\ucd94\\uc11d\\uc740 \\uc74c\\ub825 8\\uc6d4 15\\uc77c\\ub85c, \\ud55c\\uad6d\\uc758 \\uac00\\uc744 \\uc218\\ud655\\uc744 \\uac10\\uc0ac\\ud558\\ub294 \\uba85\\uc808\\uc785\\ub2c8\\ub2e4. \\uac00\\uc871\\ub4e4\\uc774 \\ubaa8\\uc5ec \\uc131\\ubb18\\ub97c \\ud558\\uace0 \\uc1a1\\ud3b8\\uc744 \\ub098\\ub204\\uc5b4 \\uba39\\uc2b5\\ub2c8\\ub2e4.\",\n          \"\\uc124\\ub0a0\\uc740 \\uc74c\\ub825 1\\uc6d4 1\\uc77c\\ub85c, \\ud55c\\uad6d\\uc758 \\uc804\\ud1b5\\uc801\\uc778 \\uc0c8\\ud574\\uc785\\ub2c8\\ub2e4. \\uac00\\uc871\\ub4e4\\uc774 \\ubaa8\\uc5ec \\ucc28\\ub840\\ub97c \\uc9c0\\ub0b4\\uace0 \\uc138\\ubc30\\ub97c \\ud558\\uba70 \\uc0c8\\ud574\\ub97c \\ub9de\\uc774\\ud569\\ub2c8\\ub2e4.\"\n        ],\n        \"semantic_type\": \"\",\n        \"description\": \"\"\n      }\n    }\n  ]\n}"
            }
          },
          "metadata": {},
          "execution_count": 12
        }
      ],
      "source": [
        "pd.set_option('display.max_colwidth', None)\n",
        "\n",
        "dict_content = json.loads(output.content)\n",
        "pd.DataFrame(dict_content['holidays'])"
      ]
    },
    {
      "cell_type": "code",
      "execution_count": null,
      "metadata": {
        "id": "dTo7gy8uhrK_"
      },
      "outputs": [],
      "source": []
    }
  ],
  "metadata": {
    "colab": {
      "provenance": []
    },
    "kernelspec": {
      "display_name": "Python 3 (ipykernel)",
      "language": "python",
      "name": "python3"
    },
    "language_info": {
      "codemirror_mode": {
        "name": "ipython",
        "version": 3
      },
      "file_extension": ".py",
      "mimetype": "text/x-python",
      "name": "python",
      "nbconvert_exporter": "python",
      "pygments_lexer": "ipython3",
      "version": "3.11.4"
    }
  },
  "nbformat": 4,
  "nbformat_minor": 0
}