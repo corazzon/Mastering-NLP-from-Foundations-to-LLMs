{
  "cells": [
    {
      "cell_type": "markdown",
      "metadata": {
        "id": "L9EkjyV5iFNA"
      },
      "source": [
        "### 9.3 체인을 활용한 고급 방법\n",
        "* 책 307~312 쪽\n",
        "* 랭체인 최신 API를 반영하여 책의 API 사용법과 차이가 있습니다.\n",
        "* 예: run() 대신 invoke() 를 사용하며 RunnableSequence 를 사용합니다.\n",
        "\n",
        "<img src='https://raw.githubusercontent.com/corazzon/Mastering-NLP-from-Foundations-to-LLMs/refs/heads/main/cover.png'\n",
        "     alt=\"NLP와 LLM 실전 가이드(한빛미디어)\"\n",
        "     style=\"border: 3px solid gray; box-shadow: 5px 5px 15px rgba(0, 0, 0, 0.3); border-radius: 10px; width: 300px;\"   width='300'>\n",
        "\n",
        "\n",
        "* 저자:  \n",
        "    - [Lior Gazit](https://www.linkedin.com/in/liorgazit).  \n",
        "    - [Meysam Ghaffari](https://www.linkedin.com/in/meysam-ghaffari-ph-d-a2553088/).\n",
        "* 역자:\n",
        "    - [박조은](https://github.com/corazzon)\n",
        "* 이 노트북은 다음의 책에서 소개하는 내용입니다.\n",
        "    - 역서 : NLP와 LLM 실전 가이드(한빛미디어)\n",
        "    - 원서 : [Mastering NLP from Foundations to LLMs](https://www.amazon.com/dp/1804619183)"
      ]
    },
    {
      "cell_type": "markdown",
      "metadata": {
        "id": "z69T7-MvivVe"
      },
      "source": [
        "colab 실습 :\n",
        "https://github.com/corazzon/Mastering-NLP-from-Foundations-to-LLMs\n",
        "\n",
        "[![Open In Colab](https://colab.research.google.com/assets/colab-badge.svg)](https://colab.research.google.com/github/corazzon/Mastering-NLP-from-Foundations-to-LLMs/blob/main/Chapter9_notebooks/Ch9_Advanced_LangChain_Configurations_and_Pipeline.ipynb)  \n",
        "\n",
        "\n",
        "원서 Colab 실습 :   \n",
        "https://github.com/PacktPublishing/Mastering-NLP-from-Foundations-to-LLMs   \n",
        "<a target=\"_blank\" href=\"https://colab.research.google.com/github/PacktPublishing/Mastering-NLP-from-Foundations-to-LLMs/blob/liors_branch/Chapter9_notebooks/Ch9_Advanced_Methods_with_Chains.ipynb\">\n",
        "  <img src=\"https://colab.research.google.com/assets/colab-badge.svg\" alt=\"Open In Colab\"/>\n",
        "</a>"
      ]
    },
    {
      "cell_type": "markdown",
      "metadata": {
        "id": "_O6mghyBdyHh"
      },
      "source": [
        "**노트북의 목적:**  \n",
        "**Langchain**을 활용하여 다음과 같은 방법들을 탐구합니다:  \n",
        "* LLM을 통한 일반 지식 질문하기  \n",
        "* LLM 응답으로부터 구조화된 데이터 형식 도출하기  \n",
        "* 대화 내에서 메모리 기능 설정하기  \n",
        "\n",
        "**필요 조건:**  \n",
        "* Colab에서 실행 시 다음 런타임 노트북 설정이 필요: `Python3, CPU`  \n",
        "* 이 코드는 LLM으로 OpenAI의 API를 사용하므로 유료 **API 키**가 필요합니다."
      ]
    },
    {
      "cell_type": "markdown",
      "metadata": {
        "id": "g54Uf66Vz9Fi"
      },
      "source": [
        ">*```면책사항: 이 노트북에서 다루는 내용과 아이디어는 저자들 개인의 것이며, 저자들의 고용주의 견해나 지적 재산을 대변하지 않습니다.```*"
      ]
    },
    {
      "cell_type": "markdown",
      "metadata": {
        "id": "wc4H7Oz-TKQQ"
      },
      "source": [
        "설치:"
      ]
    },
    {
      "cell_type": "code",
      "execution_count": 1,
      "metadata": {
        "colab": {
          "base_uri": "https://localhost:8080/"
        },
        "id": "g9iHIKT2HUi-",
        "outputId": "73796266-4a25-48c7-d185-4fd59b18c2de"
      },
      "outputs": [
        {
          "output_type": "stream",
          "name": "stdout",
          "text": [
            "\u001b[?25l   \u001b[90m━━━━━━━━━━━━━━━━━━━━━━━━━━━━━━━━━━━━━━━━\u001b[0m \u001b[32m0.0/567.4 kB\u001b[0m \u001b[31m?\u001b[0m eta \u001b[36m-:--:--\u001b[0m\r\u001b[2K   \u001b[91m━━━━━━━━━━━━━━━━━━━━━━━━━━━━━━━━━\u001b[0m\u001b[91m╸\u001b[0m\u001b[90m━━━━━━\u001b[0m \u001b[32m481.3/567.4 kB\u001b[0m \u001b[31m14.2 MB/s\u001b[0m eta \u001b[36m0:00:01\u001b[0m\r\u001b[2K   \u001b[90m━━━━━━━━━━━━━━━━━━━━━━━━━━━━━━━━━━━━━━━━\u001b[0m \u001b[32m567.4/567.4 kB\u001b[0m \u001b[31m10.0 MB/s\u001b[0m eta \u001b[36m0:00:00\u001b[0m\n",
            "\u001b[2K   \u001b[90m━━━━━━━━━━━━━━━━━━━━━━━━━━━━━━━━━━━━━━━━\u001b[0m \u001b[32m55.4/55.4 kB\u001b[0m \u001b[31m3.0 MB/s\u001b[0m eta \u001b[36m0:00:00\u001b[0m\n",
            "\u001b[2K   \u001b[90m━━━━━━━━━━━━━━━━━━━━━━━━━━━━━━━━━━━━━━━━\u001b[0m \u001b[32m1.2/1.2 MB\u001b[0m \u001b[31m29.3 MB/s\u001b[0m eta \u001b[36m0:00:00\u001b[0m\n",
            "\u001b[2K   \u001b[90m━━━━━━━━━━━━━━━━━━━━━━━━━━━━━━━━━━━━━━━━\u001b[0m \u001b[32m2.5/2.5 MB\u001b[0m \u001b[31m28.9 MB/s\u001b[0m eta \u001b[36m0:00:00\u001b[0m\n",
            "\u001b[2K   \u001b[90m━━━━━━━━━━━━━━━━━━━━━━━━━━━━━━━━━━━━━━━━\u001b[0m \u001b[32m50.9/50.9 kB\u001b[0m \u001b[31m3.0 MB/s\u001b[0m eta \u001b[36m0:00:00\u001b[0m\n",
            "\u001b[?25h"
          ]
        }
      ],
      "source": [
        "!pip install -qU langchain openai langchain-openai\n",
        "!pip install -qU langchain-community"
      ]
    },
    {
      "cell_type": "markdown",
      "metadata": {
        "id": "yACZPlFPTKQR"
      },
      "source": [
        "Imports:"
      ]
    },
    {
      "cell_type": "code",
      "execution_count": 2,
      "metadata": {
        "id": "ZBduT51rHcb7"
      },
      "outputs": [],
      "source": [
        "import json\n",
        "import os\n",
        "import pandas as pd\n",
        "from langchain.output_parsers import CommaSeparatedListOutputParser\n",
        "from langchain.prompts import ChatPromptTemplate, MessagesPlaceholder, PromptTemplate\n",
        "from langchain.schema.runnable.history import RunnableWithMessageHistory\n",
        "from langchain_core.chat_history import InMemoryChatMessageHistory\n",
        "from langchain_openai import ChatOpenAI"
      ]
    },
    {
      "cell_type": "markdown",
      "metadata": {
        "id": "e-kYVkbxwJ3I"
      },
      "source": [
        "코드 설정:"
      ]
    },
    {
      "cell_type": "markdown",
      "metadata": {
        "id": "fMhWjKHfVRc6"
      },
      "source": [
        "OpenAI API key:  \n",
        "**문자열 형태로 아래 \"...\"에 OpenAI에서 발급받은 key를 입력해 주세요!**  \n",
        "\n",
        "\n",
        "Colab 보안 비밀 설정은 왼쪽 열쇠 모양의 아이콘을 클릭하면 나옵니다.\n",
        "<img src=\"https://i.imgur.com/7P383n4.png\" width=\"500\">\n",
        "\n",
        "유료 LLM이 아닌 무료 LLM을 활용하고자 한다면, 책에서 설명하는 허깅페이스를 활용하는 예제를 따라 대체 방법을 사용해 보세요."
      ]
    },
    {
      "cell_type": "code",
      "execution_count": 3,
      "metadata": {
        "id": "K45_a6uxWclB"
      },
      "outputs": [],
      "source": [
        "os.environ[\"OPENAI_API_KEY\"] = \"...\"\n",
        "\n",
        "# Colab 에서는 보안 비밀키 설정을 통해 API 키를 매번 입력하지 않고 아랴와 같이 관리할 수 있습니다.\n",
        "try:\n",
        "    from google.colab import userdata\n",
        "    os.environ[\"OPENAI_API_KEY\"] = userdata.get('OPENAI_API_KEY')\n",
        "    if not os.environ[\"OPENAI_API_KEY\"]:\n",
        "        raise ValueError(\"Colab의 보안 비밀 설정에서 'OPENAI_API_KEY'를 찾을 수 없습니다.\")\n",
        "except ImportError:\n",
        "    print(\"Colab 환경이 아니므로, 'api_key' 변수에 직접 값을 할당해야 합니다.\")"
      ]
    },
    {
      "cell_type": "markdown",
      "metadata": {
        "id": "2ROPMNWh9Tuz"
      },
      "source": [
        "### LLM에 일반적인 지식 질문하기\n",
        "* [LangChain Expression Language (LCEL) | 🦜️🔗 LangChain](https://python.langchain.com/docs/concepts/lcel/)"
      ]
    },
    {
      "cell_type": "code",
      "execution_count": 4,
      "metadata": {
        "colab": {
          "base_uri": "https://localhost:8080/"
        },
        "id": "uMWu9EvOZx5i",
        "outputId": "5e8f0f49-96ee-4305-add9-fa3af9b0ad4d"
      },
      "outputs": [
        {
          "output_type": "stream",
          "name": "stdout",
          "text": [
            "제임스 해트필드, 라스 울리히, 커크 해밋, 로베르트 트루조.\n"
          ]
        }
      ],
      "source": [
        "simple_question = \"메탈리카(Metallica) 멤버는 누구인가요? 쉼표로 구분해 나열해 주세요. 멤버 이름 외 다른 텍스트는 생성하지 마세요.\"\n",
        "\n",
        "chat = ChatOpenAI(model_name=\"gpt-4o-mini\")  # 또는 사용 가능한 다른 ChatGPT 모델\n",
        "chat_prompt = PromptTemplate.from_template(simple_question)\n",
        "\n",
        "# RunnableSequence\n",
        "chain = chat_prompt | chat\n",
        "\n",
        "result = chain.invoke({})\n",
        "print(result.content)"
      ]
    },
    {
      "cell_type": "markdown",
      "metadata": {
        "id": "u9SMZ_D798_T"
      },
      "source": [
        "### LLM이 특정 데이터 형식으로 출력을 제공하도록 설정하기"
      ]
    },
    {
      "cell_type": "code",
      "execution_count": 5,
      "metadata": {
        "colab": {
          "base_uri": "https://localhost:8080/"
        },
        "id": "ZbfwnQIK-Pbz",
        "outputId": "cda8e9f2-af68-454d-fb82-352d587c7e8e"
      },
      "outputs": [
        {
          "output_type": "stream",
          "name": "stdout",
          "text": [
            "['수소', '헬륨', '리튬', '베릴륨', '붕소', '탄소', '질소', '산소', '플루오르', '네온']\n"
          ]
        }
      ],
      "source": [
        "request_list_format = \"\"\"주기율표에서 처음 10개의 원소를 쉼표로 구분하여 작성해 주세요.\n",
        "원소 외에 다른 텍스트는 생성하지 마세요.\"\"\"\n",
        "\n",
        "prompt = PromptTemplate(template=request_list_format, input_variables=[])\n",
        "\n",
        "# 출력값을 쉼표로 구분된 리스트로 변환해주는 파서 준비\n",
        "output_parser = CommaSeparatedListOutputParser()\n",
        "\n",
        "# 모델과 프롬프트 준비\n",
        "chat = ChatOpenAI(\n",
        "    model=\"gpt-4o-mini\",\n",
        "    temperature=0.1\n",
        ")\n",
        "\n",
        "# Runnable Chain 구성 (Prompt → Model → Output Parser)\n",
        "chain = prompt | chat | output_parser\n",
        "\n",
        "# 실행\n",
        "result = chain.invoke({})\n",
        "print(result)"
      ]
    },
    {
      "cell_type": "markdown",
      "metadata": {
        "id": "YdpIOMzv-5nY"
      },
      "source": [
        "### 자연스러운 대화를 위해 발전하기\n",
        "* 이전 상호작용을 참조와 맥락으로 활용할 수 있도록 메모리 요소를 추가해 후속 프롬프트를 이어가는 방식\n",
        "\n",
        "<img src=\"https://python.langchain.com/v0.2/assets/images/message_history-4c13b8b9363beb4621d605bf6b5a34b4.png\">\n",
        "\n",
        "* 이미지 출처 : https://python.langchain.com/v0.2/docs/how_to/message_history/"
      ]
    },
    {
      "cell_type": "code",
      "source": [
        "# LLM 설정\n",
        "llm = ChatOpenAI(model=\"gpt-4o\", temperature=0.3)\n",
        "\n",
        "# 프롬프트 설정\n",
        "prompt = ChatPromptTemplate.from_messages([\n",
        "    (\"system\", \"너는 대화형 AI 비서야. 이전 대화를 반드시 참고해서 대답해.\"),\n",
        "    MessagesPlaceholder(variable_name=\"history\"),\n",
        "    (\"human\", \"{input}\")\n",
        "])\n",
        "\n",
        "# 세션별 히스토리를 저장할 딕셔너리\n",
        "session_histories = {}\n",
        "\n",
        "# 세션별 히스토리 관리 함수\n",
        "def get_session_history(session_id):\n",
        "    if session_id not in session_histories:\n",
        "        session_histories[session_id] = InMemoryChatMessageHistory()\n",
        "    return session_histories[session_id]\n",
        "\n",
        "# Runnable 구성 (OutputParser 없음)\n",
        "chain = RunnableWithMessageHistory(\n",
        "    runnable=prompt | llm,\n",
        "    get_session_history=get_session_history,\n",
        "    input_messages_key=\"input\",\n",
        "    history_messages_key=\"history\"\n",
        ")\n",
        "\n",
        "# 첫 번째 입력\n",
        "first_input = \"당신이 알고 있는 대한민국의 공휴일 10가지를 쉼표로 구분하여 나열해 주세요.\"\n",
        "\n",
        "first_result = chain.invoke(\n",
        "    {\"input\": first_input},\n",
        "    config={\"configurable\": {\"session_id\": \"user-1\"}}\n",
        ")\n",
        "\n",
        "print(f\"첫 번째 응답:\\n{first_result.content}\\n\")"
      ],
      "metadata": {
        "colab": {
          "base_uri": "https://localhost:8080/"
        },
        "id": "Xja0W7Obe2yl",
        "outputId": "e3d2cdb2-302a-425a-fad2-3d08dd5eb96e"
      },
      "execution_count": 10,
      "outputs": [
        {
          "output_type": "stream",
          "name": "stdout",
          "text": [
            "첫 번째 응답:\n",
            "설날, 삼일절, 어린이날, 부처님오신날, 현충일, 광복절, 추석, 개천절, 한글날, 크리스마스.\n",
            "\n"
          ]
        }
      ]
    },
    {
      "cell_type": "code",
      "source": [
        "# 두 번째 입력 (첫 번째 응답 기억)\n",
        "second_input = \"방금 나열한 공휴일 목록에서 종교적인 공휴일을 제거해 주세요.\"\n",
        "\n",
        "second_result = chain.invoke(\n",
        "    {\"input\": second_input},\n",
        "    config={\"configurable\": {\"session_id\": \"user-1\"}}\n",
        ")\n",
        "\n",
        "print(f\"두 번째 응답:\\n{second_result.content}\\n\")"
      ],
      "metadata": {
        "colab": {
          "base_uri": "https://localhost:8080/"
        },
        "id": "V8L3eI7Ze8Vb",
        "outputId": "5f0c049a-6f88-4801-ffe4-fc166e552617"
      },
      "execution_count": 11,
      "outputs": [
        {
          "output_type": "stream",
          "name": "stdout",
          "text": [
            "두 번째 응답:\n",
            "삼일절, 어린이날, 현충일, 광복절, 개천절, 한글날.\n",
            "\n"
          ]
        }
      ]
    },
    {
      "cell_type": "code",
      "execution_count": 12,
      "metadata": {
        "colab": {
          "base_uri": "https://localhost:8080/"
        },
        "id": "tqwA3sQMlJi6",
        "outputId": "6dc0579a-da79-480c-ed36-108f943b4042"
      },
      "outputs": [
        {
          "output_type": "stream",
          "name": "stdout",
          "text": [
            "<class 'langchain_core.messages.ai.AIMessage'>\n",
            "[{'name': '삼일절', 'description': '삼일절은 1919년 3월 1일에 일어난 독립운동을 기념하는 날입니다. 이 날은 대한민국의 독립을 위해 싸운 선조들의 희생을 기리는 의미가 있습니다.'}, {'name': '어린이날', 'description': '어린이날은 어린이의 인격을 존중하고 행복을 도모하기 위해 제정된 날입니다. 한국에서는 5월 5일에 기념하며, 다양한 행사와 축제가 열립니다.'}, {'name': '현충일', 'description': '현충일은 나라를 위해 목숨을 바친 순국선열과 호국영령을 기리는 날입니다. 매년 6월 6일에 기념하며, 전국적으로 추모 행사가 열립니다.'}, {'name': '광복절', 'description': '광복절은 1945년 8월 15일에 대한민국이 일본의 식민 통치로부터 해방된 것을 기념하는 날입니다. 이 날은 독립의 기쁨을 나누고 애국심을 고취하는 의미가 있습니다.'}, {'name': '개천절', 'description': '개천절은 단군왕검이 고조선을 건국한 것을 기념하는 날입니다. 매년 10월 3일에 기념하며, 한국의 역사와 전통을 되새기는 기회가 됩니다.'}, {'name': '한글날', 'description': '한글날은 세종대왕이 훈민정음을 반포한 것을 기념하는 날입니다. 이 날은 한글의 우수성을 기리고, 한국어의 발전을 도모하는 의미가 있습니다.'}]\n"
          ]
        }
      ],
      "source": [
        "advanced_data_structure = \"\"\"각 공휴일에 대해 두 문장으로 설명하세요. 출력은 JSON 형식의 표로 작성해 주세요.\n",
        "표의 이름은 \"holidays\"이고, 필드는 \"name\"과 \"description\"입니다. 각 행에서 \"name\"은 공휴일의 이름이고,\n",
        "\"description\"은 생성된 설명입니다. 출력의 구문은 줄 바꿈 없이 JSON 형식이어야 합니다.\n",
        "\n",
        "예시:\n",
        "{\"holidays\": [\n",
        "        {\"name\": \"holiday_name\",\n",
        "         \"description\": \"holiday_description\"\n",
        "        }\n",
        "        ]}\n",
        "\"\"\"\n",
        "\n",
        "output = chain.invoke(\n",
        "    {\"input\": advanced_data_structure},\n",
        "    config={\"configurable\": {\"session_id\": \"user-1\"}}\n",
        ")\n",
        "\n",
        "print(type(output))\n",
        "\n",
        "# AIMessage 객체의 content 부분만 추출\n",
        "response_text = output.content\n",
        "\n",
        "# JSON 파싱\n",
        "parsed_json = json.loads(response_text)\n",
        "\n",
        "# holidays 필드만 추출\n",
        "holidays = parsed_json.get(\"holidays\", [])\n",
        "\n",
        "# 결과 출력\n",
        "print(holidays)\n"
      ]
    },
    {
      "cell_type": "code",
      "execution_count": 13,
      "metadata": {
        "colab": {
          "base_uri": "https://localhost:8080/",
          "height": 237
        },
        "id": "cut-qr_SEkcq",
        "outputId": "05b1f338-89d6-4c47-befa-6d756b886f5f"
      },
      "outputs": [
        {
          "output_type": "execute_result",
          "data": {
            "text/plain": [
              "<pandas.io.formats.style.Styler at 0x7a603d8ad750>"
            ],
            "text/html": [
              "<style type=\"text/css\">\n",
              "#T_83049_row0_col0, #T_83049_row0_col1, #T_83049_row1_col0, #T_83049_row1_col1, #T_83049_row2_col0, #T_83049_row2_col1, #T_83049_row3_col0, #T_83049_row3_col1, #T_83049_row4_col0, #T_83049_row4_col1, #T_83049_row5_col0, #T_83049_row5_col1 {\n",
              "  text-align: left;\n",
              "}\n",
              "</style>\n",
              "<table id=\"T_83049\" class=\"dataframe\">\n",
              "  <thead>\n",
              "    <tr>\n",
              "      <th class=\"blank level0\" >&nbsp;</th>\n",
              "      <th id=\"T_83049_level0_col0\" class=\"col_heading level0 col0\" >name</th>\n",
              "      <th id=\"T_83049_level0_col1\" class=\"col_heading level0 col1\" >description</th>\n",
              "    </tr>\n",
              "  </thead>\n",
              "  <tbody>\n",
              "    <tr>\n",
              "      <th id=\"T_83049_level0_row0\" class=\"row_heading level0 row0\" >0</th>\n",
              "      <td id=\"T_83049_row0_col0\" class=\"data row0 col0\" >삼일절</td>\n",
              "      <td id=\"T_83049_row0_col1\" class=\"data row0 col1\" >삼일절은 1919년 3월 1일에 일어난 독립운동을 기념하는 날입니다. 이 날은 대한민국의 독립을 위해 싸운 선조들의 희생을 기리는 의미가 있습니다.</td>\n",
              "    </tr>\n",
              "    <tr>\n",
              "      <th id=\"T_83049_level0_row1\" class=\"row_heading level0 row1\" >1</th>\n",
              "      <td id=\"T_83049_row1_col0\" class=\"data row1 col0\" >어린이날</td>\n",
              "      <td id=\"T_83049_row1_col1\" class=\"data row1 col1\" >어린이날은 어린이의 인격을 존중하고 행복을 도모하기 위해 제정된 날입니다. 한국에서는 5월 5일에 기념하며, 다양한 행사와 축제가 열립니다.</td>\n",
              "    </tr>\n",
              "    <tr>\n",
              "      <th id=\"T_83049_level0_row2\" class=\"row_heading level0 row2\" >2</th>\n",
              "      <td id=\"T_83049_row2_col0\" class=\"data row2 col0\" >현충일</td>\n",
              "      <td id=\"T_83049_row2_col1\" class=\"data row2 col1\" >현충일은 나라를 위해 목숨을 바친 순국선열과 호국영령을 기리는 날입니다. 매년 6월 6일에 기념하며, 전국적으로 추모 행사가 열립니다.</td>\n",
              "    </tr>\n",
              "    <tr>\n",
              "      <th id=\"T_83049_level0_row3\" class=\"row_heading level0 row3\" >3</th>\n",
              "      <td id=\"T_83049_row3_col0\" class=\"data row3 col0\" >광복절</td>\n",
              "      <td id=\"T_83049_row3_col1\" class=\"data row3 col1\" >광복절은 1945년 8월 15일에 대한민국이 일본의 식민 통치로부터 해방된 것을 기념하는 날입니다. 이 날은 독립의 기쁨을 나누고 애국심을 고취하는 의미가 있습니다.</td>\n",
              "    </tr>\n",
              "    <tr>\n",
              "      <th id=\"T_83049_level0_row4\" class=\"row_heading level0 row4\" >4</th>\n",
              "      <td id=\"T_83049_row4_col0\" class=\"data row4 col0\" >개천절</td>\n",
              "      <td id=\"T_83049_row4_col1\" class=\"data row4 col1\" >개천절은 단군왕검이 고조선을 건국한 것을 기념하는 날입니다. 매년 10월 3일에 기념하며, 한국의 역사와 전통을 되새기는 기회가 됩니다.</td>\n",
              "    </tr>\n",
              "    <tr>\n",
              "      <th id=\"T_83049_level0_row5\" class=\"row_heading level0 row5\" >5</th>\n",
              "      <td id=\"T_83049_row5_col0\" class=\"data row5 col0\" >한글날</td>\n",
              "      <td id=\"T_83049_row5_col1\" class=\"data row5 col1\" >한글날은 세종대왕이 훈민정음을 반포한 것을 기념하는 날입니다. 이 날은 한글의 우수성을 기리고, 한국어의 발전을 도모하는 의미가 있습니다.</td>\n",
              "    </tr>\n",
              "  </tbody>\n",
              "</table>\n"
            ]
          },
          "metadata": {},
          "execution_count": 13
        }
      ],
      "source": [
        "pd.set_option('display.max_colwidth', None)\n",
        "\n",
        "dict = json.loads(output.content)\n",
        "pd.set_properties(**{'text-align': 'left'})"
      ]
    },
    {
      "cell_type": "code",
      "source": [],
      "metadata": {
        "id": "dTo7gy8uhrK_"
      },
      "execution_count": null,
      "outputs": []
    }
  ],
  "metadata": {
    "colab": {
      "provenance": []
    },
    "kernelspec": {
      "display_name": "Python 3 (ipykernel)",
      "language": "python",
      "name": "python3"
    },
    "language_info": {
      "codemirror_mode": {
        "name": "ipython",
        "version": 3
      },
      "file_extension": ".py",
      "mimetype": "text/x-python",
      "name": "python",
      "nbconvert_exporter": "python",
      "pygments_lexer": "ipython3",
      "version": "3.11.4"
    }
  },
  "nbformat": 4,
  "nbformat_minor": 0
}