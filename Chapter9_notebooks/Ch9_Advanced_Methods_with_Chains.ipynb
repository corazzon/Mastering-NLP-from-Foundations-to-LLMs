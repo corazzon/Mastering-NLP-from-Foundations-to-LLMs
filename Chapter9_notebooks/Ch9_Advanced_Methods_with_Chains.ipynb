{
 "cells": [
  {
   "cell_type": "markdown",
   "metadata": {
    "id": "L9EkjyV5iFNA"
   },
   "source": [
    "### 체인을 활용한 고급 기법 적용\n",
    "\n",
    "<img src=\"../cover.png\" \n",
    "     alt=\"NLP와 LLM 실전 가이드(한빛미디어)\"\n",
    "     style=\"border: 3px solid gray; box-shadow: 5px 5px 15px rgba(0, 0, 0, 0.3); border-radius: 10px; width: 300px;\" width=\"300\">\n",
    "\n",
    "\n",
    "* 저자:  \n",
    "    - [Lior Gazit](https://www.linkedin.com/in/liorgazit).  \n",
    "    - [Meysam Ghaffari](https://www.linkedin.com/in/meysam-ghaffari-ph-d-a2553088/).\n",
    "* 역자:\n",
    "    - [박조은](https://github.com/corazzon)\n",
    "* 이 노트북은 다음의 책에서 소개하는 내용입니다.\n",
    "    - 역서 : NLP와 LLM 실전 가이드(한빛미디어)\n",
    "    - 원서 : [Mastering NLP from Foundations to LLMs](https://www.amazon.com/dp/1804619183)"
   ]
  },
  {
   "cell_type": "markdown",
   "metadata": {
    "id": "z69T7-MvivVe"
   },
   "source": [
    "colab 실습 : \n",
    "https://github.com/corazzon/Mastering-NLP-from-Foundations-to-LLMs\n",
    "\n",
    "[![Open In Colab](https://colab.research.google.com/assets/colab-badge.svg)](https://colab.research.google.com/github/corazzon/Mastering-NLP-from-Foundations-to-LLMs/blob/main/Chapter9_notebooks/Ch9_Advanced_LangChain_Configurations_and_Pipeline.ipynb)  \n",
    "\n",
    "\n",
    "원서 Colab 실습 :   \n",
    "https://github.com/PacktPublishing/Mastering-NLP-from-Foundations-to-LLMs   \n",
    "<a target=\"_blank\" href=\"https://colab.research.google.com/github/PacktPublishing/Mastering-NLP-from-Foundations-to-LLMs/blob/liors_branch/Chapter9_notebooks/Ch9_Advanced_Methods_with_Chains.ipynb\">\n",
    "  <img src=\"https://colab.research.google.com/assets/colab-badge.svg\" alt=\"Open In Colab\"/>\n",
    "</a>"
   ]
  },
  {
   "cell_type": "markdown",
   "metadata": {
    "id": "_O6mghyBdyHh"
   },
   "source": [
    "**노트북의 목적:**  \n",
    "**Langchain**을 활용하여 다음과 같은 방법들을 탐구합니다:  \n",
    "* LLM을 통한 일반 지식 질문하기  \n",
    "* LLM 응답으로부터 구조화된 데이터 형식 도출하기  \n",
    "* 대화 내에서 메모리 기능 설정하기  \n",
    "\n",
    "**필요 조건:**  \n",
    "* Colab에서 실행 시 다음 런타임 노트북 설정이 필요: `Python3, CPU`  \n",
    "* 이 코드는 LLM으로 OpenAI의 API를 사용하므로 유료 **API 키**가 필요합니다."
   ]
  },
  {
   "cell_type": "markdown",
   "metadata": {
    "id": "g54Uf66Vz9Fi"
   },
   "source": [
    ">*```면책사항: 이 노트북에서 다루는 내용과 아이디어는 저자들 개인의 것이며, 저자들의 고용주의 견해나 지적 재산을 대변하지 않습니다.```*"
   ]
  },
  {
   "cell_type": "markdown",
   "metadata": {
    "id": "wc4H7Oz-TKQQ"
   },
   "source": [
    "설치:"
   ]
  },
  {
   "cell_type": "code",
   "execution_count": 1,
   "metadata": {
    "colab": {
     "base_uri": "https://localhost:8080/"
    },
    "executionInfo": {
     "elapsed": 40050,
     "status": "ok",
     "timestamp": 1733014065301,
     "user": {
      "displayName": "오늘코드todaycode",
      "userId": "06313463015165663090"
     },
     "user_tz": -540
    },
    "id": "g9iHIKT2HUi-",
    "outputId": "1749f7ee-24ec-4735-cffe-2f2988f5da36"
   },
   "outputs": [
    {
     "name": "stdout",
     "output_type": "stream",
     "text": [
      "\u001b[?25l   \u001b[90m━━━━━━━━━━━━━━━━━━━━━━━━━━━━━━━━━━━━━━━━\u001b[0m \u001b[32m0.0/1.0 MB\u001b[0m \u001b[31m?\u001b[0m eta \u001b[36m-:--:--\u001b[0m\r",
      "\u001b[2K   \u001b[91m━━━━━━━━━━━━━━━━━━━━━━━━━\u001b[0m\u001b[91m╸\u001b[0m\u001b[90m━━━━━━━━━━━━━━\u001b[0m \u001b[32m0.7/1.0 MB\u001b[0m \u001b[31m19.9 MB/s\u001b[0m eta \u001b[36m0:00:01\u001b[0m\r",
      "\u001b[2K   \u001b[91m━━━━━━━━━━━━━━━━━━━━━━━━━━━━━━━━━━━━━━━\u001b[0m\u001b[91m╸\u001b[0m \u001b[32m1.0/1.0 MB\u001b[0m \u001b[31m17.4 MB/s\u001b[0m eta \u001b[36m0:00:01\u001b[0m\r",
      "\u001b[2K   \u001b[90m━━━━━━━━━━━━━━━━━━━━━━━━━━━━━━━━━━━━━━━━\u001b[0m \u001b[32m1.0/1.0 MB\u001b[0m \u001b[31m12.0 MB/s\u001b[0m eta \u001b[36m0:00:00\u001b[0m\n",
      "\u001b[2K   \u001b[90m━━━━━━━━━━━━━━━━━━━━━━━━━━━━━━━━━━━━━━━━\u001b[0m \u001b[32m389.6/389.6 kB\u001b[0m \u001b[31m13.0 MB/s\u001b[0m eta \u001b[36m0:00:00\u001b[0m\n",
      "\u001b[2K   \u001b[90m━━━━━━━━━━━━━━━━━━━━━━━━━━━━━━━━━━━━━━━━\u001b[0m \u001b[32m50.6/50.6 kB\u001b[0m \u001b[31m2.5 MB/s\u001b[0m eta \u001b[36m0:00:00\u001b[0m\n",
      "\u001b[2K   \u001b[90m━━━━━━━━━━━━━━━━━━━━━━━━━━━━━━━━━━━━━━━━\u001b[0m \u001b[32m409.5/409.5 kB\u001b[0m \u001b[31m14.3 MB/s\u001b[0m eta \u001b[36m0:00:00\u001b[0m\n",
      "\u001b[2K   \u001b[90m━━━━━━━━━━━━━━━━━━━━━━━━━━━━━━━━━━━━━━━━\u001b[0m \u001b[32m1.2/1.2 MB\u001b[0m \u001b[31m17.2 MB/s\u001b[0m eta \u001b[36m0:00:00\u001b[0m\n",
      "\u001b[2K   \u001b[90m━━━━━━━━━━━━━━━━━━━━━━━━━━━━━━━━━━━━━━━━\u001b[0m \u001b[32m2.4/2.4 MB\u001b[0m \u001b[31m28.2 MB/s\u001b[0m eta \u001b[36m0:00:00\u001b[0m\n",
      "\u001b[2K   \u001b[90m━━━━━━━━━━━━━━━━━━━━━━━━━━━━━━━━━━━━━━━━\u001b[0m \u001b[32m3.1/3.1 MB\u001b[0m \u001b[31m19.5 MB/s\u001b[0m eta \u001b[36m0:00:00\u001b[0m\n",
      "\u001b[2K   \u001b[90m━━━━━━━━━━━━━━━━━━━━━━━━━━━━━━━━━━━━━━━━\u001b[0m \u001b[32m49.5/49.5 kB\u001b[0m \u001b[31m3.2 MB/s\u001b[0m eta \u001b[36m0:00:00\u001b[0m\n",
      "\u001b[?25h"
     ]
    }
   ],
   "source": [
    "# 참고사항:\n",
    "# 아래 코드가 Python 패키지 의존성 문제로 오류가 발생하면, 이는 새로운 버전의 영향일 수 있습니다.\n",
    "# 이럴 때 default_installations를 False로 설정하여 원저자가 설정한 의존성을 따르게 할 수 있습니다.\n",
    "default_installations = True\n",
    "if default_installations:\n",
    "    !pip install -qU langchain openai langchain-openai\n",
    "    !pip install -qU langchain-community\n",
    "else:\n",
    "    import requests\n",
    "    text_file_path = \"requirements__Ch9_Advanced_Methods_with_Chains.txt\"\n",
    "    url = \"https://raw.githubusercontent.com/PacktPublishing/Mastering-NLP-from-Foundations-to-LLMs/main/Chapter9_notebooks/\" + text_file_path\n",
    "    res = requests.get(url)\n",
    "    with open(text_file_path, \"w\") as f:\n",
    "        f.write(res.text)\n",
    "\n",
    "    !pip install -r requirements__Ch9_Advanced_Methods_with_Chains.txt\n"
   ]
  },
  {
   "cell_type": "markdown",
   "metadata": {
    "id": "yACZPlFPTKQR"
   },
   "source": [
    "Imports:"
   ]
  },
  {
   "cell_type": "code",
   "execution_count": 2,
   "metadata": {
    "executionInfo": {
     "elapsed": 4863,
     "status": "ok",
     "timestamp": 1733014070162,
     "user": {
      "displayName": "오늘코드todaycode",
      "userId": "06313463015165663090"
     },
     "user_tz": -540
    },
    "id": "ZBduT51rHcb7"
   },
   "outputs": [],
   "source": [
    "from langchain import PromptTemplate\n",
    "from langchain.chains import LLMChain\n",
    "from langchain_openai import OpenAI\n",
    "from langchain_community.chat_models import ChatOpenAI\n",
    "from langchain.prompts.chat import ChatPromptTemplate\n",
    "from langchain.chains import ConversationChain\n",
    "from langchain.memory import ConversationBufferMemory\n",
    "from langchain.output_parsers import CommaSeparatedListOutputParser\n",
    "import os\n",
    "import pandas as pd\n",
    "import json"
   ]
  },
  {
   "cell_type": "markdown",
   "metadata": {
    "id": "e-kYVkbxwJ3I"
   },
   "source": [
    "코드 설정:"
   ]
  },
  {
   "cell_type": "markdown",
   "metadata": {
    "id": "fMhWjKHfVRc6"
   },
   "source": [
    "OpenAI API key:  \n",
    "**문자열 형태로 아래 \"...\"에 OpenAI에서 발급받은 key를 입력해 주세요!**  \n",
    "\n",
    "\n",
    "Colab 보안 비밀 설정은 왼쪽 열쇠 모양의 아이콘을 클릭하면 나옵니다.\n",
    "<img src=\"https://i.imgur.com/7P383n4.png\" width=\"500\">\n",
    "\n",
    "유료 LLM이 아닌 무료 LLM을 활용하고자 한다면, 책에서 설명하는 허깅페이스를 활용하는 예제를 따라 대체 방법을 사용해 보세요."
   ]
  },
  {
   "cell_type": "code",
   "execution_count": 3,
   "metadata": {
    "executionInfo": {
     "elapsed": 1047,
     "status": "ok",
     "timestamp": 1733014071206,
     "user": {
      "displayName": "오늘코드todaycode",
      "userId": "06313463015165663090"
     },
     "user_tz": -540
    },
    "id": "K45_a6uxWclB"
   },
   "outputs": [],
   "source": [
    "os.environ[\"OPENAI_API_KEY\"] = \"...\"\n",
    "\n",
    "# Colab 에서는 보안 비밀키 설정을 통해 API 키를 매번 입력하지 않고 아랴와 같이 관리할 수 있습니다.\n",
    "try:\n",
    "    from google.colab import userdata\n",
    "    os.environ[\"OPENAI_API_KEY\"] = userdata.get('OPENAI_API_KEY')\n",
    "    if not os.environ[\"OPENAI_API_KEY\"]:\n",
    "        raise ValueError(\"Colab의 보안 비밀 설정에서 'OPENAI_API_KEY'를 찾을 수 없습니다.\")\n",
    "except ImportError:\n",
    "    print(\"Colab 환경이 아니므로, 'api_key' 변수에 직접 값을 할당해야 합니다.\")"
   ]
  },
  {
   "cell_type": "code",
   "execution_count": 4,
   "metadata": {
    "executionInfo": {
     "elapsed": 3,
     "status": "ok",
     "timestamp": 1733014071206,
     "user": {
      "displayName": "오늘코드todaycode",
      "userId": "06313463015165663090"
     },
     "user_tz": -540
    },
    "id": "hnqlJfXxJZTr"
   },
   "outputs": [],
   "source": [
    "# llm = OpenAI(model_name='gpt-4o-mini')"
   ]
  },
  {
   "cell_type": "markdown",
   "metadata": {
    "id": "2ROPMNWh9Tuz"
   },
   "source": [
    "### LLM에 일반적인 지식 질문하기"
   ]
  },
  {
   "cell_type": "code",
   "execution_count": 5,
   "metadata": {
    "colab": {
     "base_uri": "https://localhost:8080/"
    },
    "executionInfo": {
     "elapsed": 1185,
     "status": "ok",
     "timestamp": 1733014072389,
     "user": {
      "displayName": "오늘코드todaycode",
      "userId": "06313463015165663090"
     },
     "user_tz": -540
    },
    "id": "uMWu9EvOZx5i",
    "outputId": "18bf72b2-08f6-452e-b5e0-4480fb70f916"
   },
   "outputs": [
    {
     "name": "stderr",
     "output_type": "stream",
     "text": [
      "<ipython-input-5-1f31b9718770>:3: LangChainDeprecationWarning: The class `ChatOpenAI` was deprecated in LangChain 0.0.10 and will be removed in 1.0. An updated version of the class exists in the :class:`~langchain-openai package and should be used instead. To use it run `pip install -U :class:`~langchain-openai` and import as `from :class:`~langchain_openai import ChatOpenAI``.\n",
      "  chat = ChatOpenAI(model_name=\"gpt-4o-mini\")  # 또는 사용 가능한 다른 ChatGPT 모델\n",
      "<ipython-input-5-1f31b9718770>:5: LangChainDeprecationWarning: The class `LLMChain` was deprecated in LangChain 0.1.17 and will be removed in 1.0. Use :meth:`~RunnableSequence, e.g., `prompt | llm`` instead.\n",
      "  llm_chain = LLMChain(llm=chat, prompt=chat_prompt)\n",
      "<ipython-input-5-1f31b9718770>:7: LangChainDeprecationWarning: The method `Chain.run` was deprecated in langchain 0.1.0 and will be removed in 1.0. Use :meth:`~invoke` instead.\n",
      "  print(llm_chain.run({}))\n"
     ]
    },
    {
     "name": "stdout",
     "output_type": "stream",
     "text": [
      "제임스 헷필드, 라스 울리히, 키스 햄릿, 로버트 트루히요\n"
     ]
    }
   ],
   "source": [
    "simple_question = \"메탈리카(Metallica) 멤버는 누구인가요? 쉼표로 구분해 나열해 주세요. 멤버 이름 외 다른 텍스트는 생성하지 마세요.\"\n",
    "\n",
    "chat = ChatOpenAI(model_name=\"gpt-4o-mini\")  # 또는 사용 가능한 다른 ChatGPT 모델\n",
    "chat_prompt = ChatPromptTemplate.from_template(simple_question)\n",
    "llm_chain = LLMChain(llm=chat, prompt=chat_prompt)\n",
    "\n",
    "print(llm_chain.run({}))"
   ]
  },
  {
   "cell_type": "markdown",
   "metadata": {
    "id": "u9SMZ_D798_T"
   },
   "source": [
    "### LLM이 특정 데이터 형식으로 출력을 제공하도록 설정하기"
   ]
  },
  {
   "cell_type": "code",
   "execution_count": 6,
   "metadata": {
    "colab": {
     "base_uri": "https://localhost:8080/"
    },
    "executionInfo": {
     "elapsed": 1904,
     "status": "ok",
     "timestamp": 1733014074290,
     "user": {
      "displayName": "오늘코드todaycode",
      "userId": "06313463015165663090"
     },
     "user_tz": -540
    },
    "id": "ZbfwnQIK-Pbz",
    "outputId": "a29151ba-953b-42b4-bc73-6926fe5cbbe7"
   },
   "outputs": [
    {
     "name": "stdout",
     "output_type": "stream",
     "text": [
      "['수소', '헬륨', '리튬', '베릴륨', '붕소', '탄소', '질소', '산소', '플루오르', '네온']\n"
     ]
    }
   ],
   "source": [
    "request_list_format = \"\"\"주기율표에서 처음 10개의 원소를 쉼표로 구분하여 작성해 주세요.\n",
    "원소 외에 다른 텍스트는 생성하지 마세요.\"\"\"\n",
    "\n",
    "output_parser = CommaSeparatedListOutputParser()\n",
    "conversation = LLMChain(\n",
    "    llm = ChatOpenAI(  # ChatGPT 모델을 사용할 경우 ChatOpenAI로 변경\n",
    "        model=\"gpt-4o-mini\",  # 또는 \"gpt-4o\"\n",
    "        temperature=0.1,\n",
    "    ),\n",
    "    output_parser=output_parser,\n",
    "    prompt=PromptTemplate(template=request_list_format, input_variables=[])\n",
    ")\n",
    "\n",
    "print(conversation.predict())"
   ]
  },
  {
   "cell_type": "markdown",
   "metadata": {
    "id": "YdpIOMzv-5nY"
   },
   "source": [
    "### 자연스러운 대화를 위해 발전하기\n",
    "* 이전 상호작용을 참조와 맥락으로 활용할 수 있도록 메모리 요소를 추가해 후속 프롬프트를 이어가는 방식"
   ]
  },
  {
   "cell_type": "code",
   "execution_count": 7,
   "metadata": {
    "colab": {
     "base_uri": "https://localhost:8080/"
    },
    "executionInfo": {
     "elapsed": 1015,
     "status": "ok",
     "timestamp": 1733014075302,
     "user": {
      "displayName": "오늘코드todaycode",
      "userId": "06313463015165663090"
     },
     "user_tz": -540
    },
    "id": "xQDyTfDGkbEP",
    "outputId": "ddf1ba7c-7832-450c-dbf8-4f526e990896"
   },
   "outputs": [
    {
     "name": "stderr",
     "output_type": "stream",
     "text": [
      "<ipython-input-7-e36fdf3dcbba>:19: LangChainDeprecationWarning: Please see the migration guide at: https://python.langchain.com/docs/versions/migrating_memory/\n",
      "  memory=ConversationBufferMemory()\n",
      "<ipython-input-7-e36fdf3dcbba>:15: LangChainDeprecationWarning: The class `ConversationChain` was deprecated in LangChain 0.2.7 and will be removed in 1.0. Use :meth:`~RunnableWithMessageHistory: https://python.langchain.com/v0.2/api_reference/core/runnables/langchain_core.runnables.history.RunnableWithMessageHistory.html` instead.\n",
      "  conversation = ConversationChain(\n",
      "/usr/local/lib/python3.10/dist-packages/langchain/chains/llm.py:341: UserWarning: The predict_and_parse method is deprecated, instead pass an output parser directly to LLMChain.\n",
      "  warnings.warn(\n"
     ]
    },
    {
     "name": "stdout",
     "output_type": "stream",
     "text": [
      "다음은 알고 있는 공휴일 10가지입니다: 설날, 추석, 어린이날, 성탄절, 광복절, 개천절, 노동절, 한글날, 크리스마스, 발렌타인데이.\n"
     ]
    }
   ],
   "source": [
    "# Chat LLM 구성\n",
    "llm = ChatOpenAI(\n",
    "    model=\"gpt-4o-mini\",  # 또는 \"gpt-4\"\n",
    "    temperature=0.3,\n",
    ")\n",
    "\n",
    "# 대화 프롬프트 설정\n",
    "request_for_continuous_conversation = \"\"\"\n",
    "현재 대화 내용:\n",
    "{history}\n",
    "\n",
    "다음 질문에 답변해주세요:\n",
    "{input}\"\"\"\n",
    "\n",
    "conversation = ConversationChain(\n",
    "    llm=llm,\n",
    "    prompt=PromptTemplate(template=request_for_continuous_conversation,\n",
    "                          input_variables=[\"history\", \"input\"]),\n",
    "    memory=ConversationBufferMemory()\n",
    ")\n",
    "\n",
    "# 대화 예측 실행\n",
    "result = conversation.predict_and_parse(input=\"알고 있는 공휴일 10가지를 쉼표로 구분된 목록으로 작성해 주세요.\")\n",
    "print(result)\n"
   ]
  },
  {
   "cell_type": "code",
   "execution_count": 8,
   "metadata": {
    "colab": {
     "base_uri": "https://localhost:8080/",
     "height": 91
    },
    "executionInfo": {
     "elapsed": 630,
     "status": "ok",
     "timestamp": 1733014075930,
     "user": {
      "displayName": "오늘코드todaycode",
      "userId": "06313463015165663090"
     },
     "user_tz": -540
    },
    "id": "vc-Vhk9BHkcQ",
    "outputId": "a1bd5c39-6819-4858-a1bc-1d35efca0c29"
   },
   "outputs": [
    {
     "name": "stderr",
     "output_type": "stream",
     "text": [
      "/usr/local/lib/python3.10/dist-packages/langchain/chains/llm.py:341: UserWarning: The predict_and_parse method is deprecated, instead pass an output parser directly to LLMChain.\n",
      "  warnings.warn(\n"
     ]
    },
    {
     "data": {
      "application/vnd.google.colaboratory.intrinsic+json": {
       "type": "string"
      },
      "text/plain": [
       "'종교적이지 않은 공휴일을 제거한 목록은 다음과 같습니다: 설날, 추석, 어린이날, 광복절, 개천절, 노동절, 한글날.'"
      ]
     },
     "execution_count": 8,
     "metadata": {},
     "output_type": "execute_result"
    }
   ],
   "source": [
    "conversation.predict_and_parse(input=\"방금 나열한 공휴일 목록에서 종교적이지 않은 공휴일을 제거해 주세요. \")"
   ]
  },
  {
   "cell_type": "code",
   "execution_count": 9,
   "metadata": {
    "colab": {
     "base_uri": "https://localhost:8080/"
    },
    "executionInfo": {
     "elapsed": 4992,
     "status": "ok",
     "timestamp": 1733014080917,
     "user": {
      "displayName": "오늘코드todaycode",
      "userId": "06313463015165663090"
     },
     "user_tz": -540
    },
    "id": "tqwA3sQMlJi6",
    "outputId": "76842604-d929-41a8-a496-95742be37a63"
   },
   "outputs": [
    {
     "name": "stdout",
     "output_type": "stream",
     "text": [
      "{\"holidays\": [\n",
      "        {\"name\": \"설날\", \"description\": \"설날은 한국의 전통 명절로, 음력 1월 1일에 해당합니다. 가족들이 모여 차례를 지내고 떡국을 먹으며 새해를 맞이합니다.\"},\n",
      "        {\"name\": \"추석\", \"description\": \"추석은 한국의 가을 명절로, 음력 8월 15일에 해당합니다. 이 날은 조상에게 감사의 마음을 전하고 송편을 만들어 가족과 함께 나누는 날입니다.\"},\n",
      "        {\"name\": \"어린이날\", \"description\": \"어린이날은 매년 5월 5일에 기념되는 날로, 어린이의 권리와 행복을 기념합니다. 이 날은 부모들이 어린이들에게 선물과 특별한 시간을 선사하는 날입니다.\"},\n",
      "        {\"name\": \"광복절\", \"description\": \"광복절은 1945년 8월 15일, 한국이 일본의 식민지에서 해방된 날을 기념합니다. 이 날은 국가의 독립과 자유를 기념하며 다양한 행사와 기념식이 열립니다.\"},\n",
      "        {\"name\": \"개천절\", \"description\": \"개천절은 10월 3일에 기념되는 날로, 한국의 건국을 기념합니다. 이 날은 단군이 고조선을 세운 날로 여겨지며, 다양한 행사와 퍼레이드가 열립니다.\"},\n",
      "        {\"name\": \"노동절\", \"description\": \"노동절은 매년 5월 1일에 기념되는 날로, 노동자의 권리와 노사 간의 연대를 강조합니다. 이 날은 전 세계적으로 노동자들의 기념일로 다양한 행사와 집회가 열립니다.\"},\n",
      "        {\"name\": \"한글날\", \"description\": \"한글날은 10월 9일에 기념되는 날로, 한글의 창제를 기념합니다. 이 날은 한글의 중요성을 되새기고, 한국어와 한글의 발전을 기념하는 행사들이 진행됩니다.\"}\n",
      "]}\n"
     ]
    }
   ],
   "source": [
    "advanced_data_structure = \"\"\"각 공휴일에 대해 두 문장으로 설명하세요. 출력은 JSON 형식의 표로 작성해 주세요.\n",
    "표의 이름은 \"holidays\"이고, 필드는 \"name\"과 \"description\"입니다. 각 행에서 \"name\"은 공휴일의 이름이고,\n",
    "\"description\"은 생성된 설명입니다. 출력의 구문은 줄 바꿈 없이 JSON 형식이어야 합니다.\n",
    "\n",
    "예시:\n",
    "{\"holidays\": [\n",
    "        {\"name\": \"holiday_name\",\n",
    "         \"description\": \"holiday_description\"\n",
    "        }\n",
    "        ]}\n",
    "\"\"\"\n",
    "\n",
    "output = conversation.predict(input=advanced_data_structure)\n",
    "print(output)\n"
   ]
  },
  {
   "cell_type": "code",
   "execution_count": 10,
   "metadata": {
    "colab": {
     "base_uri": "https://localhost:8080/",
     "height": 269
    },
    "executionInfo": {
     "elapsed": 406,
     "status": "ok",
     "timestamp": 1733014081321,
     "user": {
      "displayName": "오늘코드todaycode",
      "userId": "06313463015165663090"
     },
     "user_tz": -540
    },
    "id": "cut-qr_SEkcq",
    "outputId": "a6916bb3-7cb4-45f9-c24d-1f7a09acac21"
   },
   "outputs": [
    {
     "data": {
      "text/html": [
       "<style type=\"text/css\">\n",
       "#T_259b7_row0_col0, #T_259b7_row0_col1, #T_259b7_row1_col0, #T_259b7_row1_col1, #T_259b7_row2_col0, #T_259b7_row2_col1, #T_259b7_row3_col0, #T_259b7_row3_col1, #T_259b7_row4_col0, #T_259b7_row4_col1, #T_259b7_row5_col0, #T_259b7_row5_col1, #T_259b7_row6_col0, #T_259b7_row6_col1 {\n",
       "  text-align: left;\n",
       "}\n",
       "</style>\n",
       "<table id=\"T_259b7\" class=\"dataframe\">\n",
       "  <thead>\n",
       "    <tr>\n",
       "      <th class=\"blank level0\" >&nbsp;</th>\n",
       "      <th id=\"T_259b7_level0_col0\" class=\"col_heading level0 col0\" >name</th>\n",
       "      <th id=\"T_259b7_level0_col1\" class=\"col_heading level0 col1\" >description</th>\n",
       "    </tr>\n",
       "  </thead>\n",
       "  <tbody>\n",
       "    <tr>\n",
       "      <th id=\"T_259b7_level0_row0\" class=\"row_heading level0 row0\" >0</th>\n",
       "      <td id=\"T_259b7_row0_col0\" class=\"data row0 col0\" >설날</td>\n",
       "      <td id=\"T_259b7_row0_col1\" class=\"data row0 col1\" >설날은 한국의 전통 명절로, 음력 1월 1일에 해당합니다. 가족들이 모여 차례를 지내고 떡국을 먹으며 새해를 맞이합니다.</td>\n",
       "    </tr>\n",
       "    <tr>\n",
       "      <th id=\"T_259b7_level0_row1\" class=\"row_heading level0 row1\" >1</th>\n",
       "      <td id=\"T_259b7_row1_col0\" class=\"data row1 col0\" >추석</td>\n",
       "      <td id=\"T_259b7_row1_col1\" class=\"data row1 col1\" >추석은 한국의 가을 명절로, 음력 8월 15일에 해당합니다. 이 날은 조상에게 감사의 마음을 전하고 송편을 만들어 가족과 함께 나누는 날입니다.</td>\n",
       "    </tr>\n",
       "    <tr>\n",
       "      <th id=\"T_259b7_level0_row2\" class=\"row_heading level0 row2\" >2</th>\n",
       "      <td id=\"T_259b7_row2_col0\" class=\"data row2 col0\" >어린이날</td>\n",
       "      <td id=\"T_259b7_row2_col1\" class=\"data row2 col1\" >어린이날은 매년 5월 5일에 기념되는 날로, 어린이의 권리와 행복을 기념합니다. 이 날은 부모들이 어린이들에게 선물과 특별한 시간을 선사하는 날입니다.</td>\n",
       "    </tr>\n",
       "    <tr>\n",
       "      <th id=\"T_259b7_level0_row3\" class=\"row_heading level0 row3\" >3</th>\n",
       "      <td id=\"T_259b7_row3_col0\" class=\"data row3 col0\" >광복절</td>\n",
       "      <td id=\"T_259b7_row3_col1\" class=\"data row3 col1\" >광복절은 1945년 8월 15일, 한국이 일본의 식민지에서 해방된 날을 기념합니다. 이 날은 국가의 독립과 자유를 기념하며 다양한 행사와 기념식이 열립니다.</td>\n",
       "    </tr>\n",
       "    <tr>\n",
       "      <th id=\"T_259b7_level0_row4\" class=\"row_heading level0 row4\" >4</th>\n",
       "      <td id=\"T_259b7_row4_col0\" class=\"data row4 col0\" >개천절</td>\n",
       "      <td id=\"T_259b7_row4_col1\" class=\"data row4 col1\" >개천절은 10월 3일에 기념되는 날로, 한국의 건국을 기념합니다. 이 날은 단군이 고조선을 세운 날로 여겨지며, 다양한 행사와 퍼레이드가 열립니다.</td>\n",
       "    </tr>\n",
       "    <tr>\n",
       "      <th id=\"T_259b7_level0_row5\" class=\"row_heading level0 row5\" >5</th>\n",
       "      <td id=\"T_259b7_row5_col0\" class=\"data row5 col0\" >노동절</td>\n",
       "      <td id=\"T_259b7_row5_col1\" class=\"data row5 col1\" >노동절은 매년 5월 1일에 기념되는 날로, 노동자의 권리와 노사 간의 연대를 강조합니다. 이 날은 전 세계적으로 노동자들의 기념일로 다양한 행사와 집회가 열립니다.</td>\n",
       "    </tr>\n",
       "    <tr>\n",
       "      <th id=\"T_259b7_level0_row6\" class=\"row_heading level0 row6\" >6</th>\n",
       "      <td id=\"T_259b7_row6_col0\" class=\"data row6 col0\" >한글날</td>\n",
       "      <td id=\"T_259b7_row6_col1\" class=\"data row6 col1\" >한글날은 10월 9일에 기념되는 날로, 한글의 창제를 기념합니다. 이 날은 한글의 중요성을 되새기고, 한국어와 한글의 발전을 기념하는 행사들이 진행됩니다.</td>\n",
       "    </tr>\n",
       "  </tbody>\n",
       "</table>\n"
      ],
      "text/plain": [
       "<pandas.io.formats.style.Styler at 0x7b44cc36d120>"
      ]
     },
     "execution_count": 10,
     "metadata": {},
     "output_type": "execute_result"
    }
   ],
   "source": [
    "pd.set_option('display.max_colwidth', None)\n",
    "\n",
    "dict = json.loads(output)\n",
    "pd.json_normalize(dict[\"holidays\"]).style.set_properties(**{'text-align': 'left'})"
   ]
  },
  {
   "cell_type": "code",
   "execution_count": 10,
   "metadata": {
    "executionInfo": {
     "elapsed": 4,
     "status": "ok",
     "timestamp": 1733014081321,
     "user": {
      "displayName": "오늘코드todaycode",
      "userId": "06313463015165663090"
     },
     "user_tz": -540
    },
    "id": "pmvRtK63ub8p"
   },
   "outputs": [],
   "source": []
  }
 ],
 "metadata": {
  "colab": {
   "provenance": []
  },
  "kernelspec": {
   "display_name": "Python 3 (ipykernel)",
   "language": "python",
   "name": "python3"
  },
  "language_info": {
   "codemirror_mode": {
    "name": "ipython",
    "version": 3
   },
   "file_extension": ".py",
   "mimetype": "text/x-python",
   "name": "python",
   "nbconvert_exporter": "python",
   "pygments_lexer": "ipython3",
   "version": "3.11.4"
  }
 },
 "nbformat": 4,
 "nbformat_minor": 4
}
