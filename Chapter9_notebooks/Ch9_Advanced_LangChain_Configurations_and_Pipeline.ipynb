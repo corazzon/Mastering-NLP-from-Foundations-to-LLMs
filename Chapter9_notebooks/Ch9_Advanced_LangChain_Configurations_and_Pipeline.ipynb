{
  "cells": [
    {
      "cell_type": "markdown",
      "metadata": {
        "id": "O6pqnmxktdv7"
      },
      "source": [
        "# 고급 LangChain 구성 및 파이프라인 적용하기\n",
        "* 책 303~306 쪽\n",
        "\n",
        "<img src='https://raw.githubusercontent.com/corazzon/Mastering-NLP-from-Foundations-to-LLMs/refs/heads/main/cover.png'\n",
        "     alt=\"NLP와 LLM 실전 가이드(한빛미디어)\"\n",
        "     style=\"border: 3px solid gray; box-shadow: 5px 5px 15px rgba(0, 0, 0, 0.3); border-radius: 10px; width: 300px;\"   width='300'>\n",
        "\n",
        "\n",
        "* 저자:  \n",
        "    - [Lior Gazit](https://www.linkedin.com/in/liorgazit).  \n",
        "    - [Meysam Ghaffari](https://www.linkedin.com/in/meysam-ghaffari-ph-d-a2553088/).\n",
        "* 역자:\n",
        "    - [박조은](https://github.com/corazzon)\n",
        "* 이 노트북은 다음의 책에서 소개하는 내용입니다.\n",
        "    - 역서 : NLP와 LLM 실전 가이드(한빛미디어)\n",
        "    - 원서 : [Mastering NLP from Foundations to LLMs](https://www.amazon.com/dp/1804619183)"
      ]
    },
    {
      "cell_type": "markdown",
      "metadata": {
        "id": "lmVJeXr_tu82"
      },
      "source": [
        "colab 실습 :\n",
        "https://github.com/corazzon/Mastering-NLP-from-Foundations-to-LLMs\n",
        "\n",
        "[![Open In Colab](https://colab.research.google.com/assets/colab-badge.svg)](https://colab.research.google.com/github/corazzon/Mastering-NLP-from-Foundations-to-LLMs/blob/main/Chapter9_notebooks/Ch9_Advanced_LangChain_Configurations_and_Pipeline.ipynb)  \n",
        "\n",
        "\n",
        "원서 Colab 실습 :\n",
        "https://github.com/PacktPublishing/Mastering-NLP-from-Foundations-to-LLMs   \n",
        "  \n",
        "<a target=\"_blank\" href=\"https://colab.research.google.com/github/PacktPublishing/Mastering-NLP-from-Foundations-to-LLMs/blob/liors_branch/Chapter9_notebooks/Ch9_Advanced_LangChain_Configurations_and_Pipeline.ipynb\">\n",
        "  <img src=\"https://colab.research.google.com/assets/colab-badge.svg\" alt=\"Open In Colab\"/>\n",
        "</a>"
      ]
    },
    {
      "cell_type": "markdown",
      "metadata": {
        "id": "_O6mghyBdyHh"
      },
      "source": [
        "**이 노트북의 목적:**  \n",
        "이 노트북은 8장에서 다룬 파이프라인(**Ch8_Setting_Up_LangChain_Configurations_and_Pipeline.ipynb**)을 개선한 버전입니다.  \n",
        "\n",
        "우리는 **RAG** 파이프라인을 완성하여, **임베딩**을 생성하고 이를 **벡터 DB**에 저장해 의사의 노트에서 \"내부 검색\"을 구현합니다.  \n",
        "이전 노트북과 달리, 여기서는 LLM을 활용해 검색을 수행하며, 잘못된 검색 결과로 인해 발생하는 오류를 방지합니다.  \n",
        "\n",
        "**필수 사항:**  \n",
        "* Colab에서 실행 시, 런타임 노트북 설정으로 `Python 3, CPU`를 사용하세요.  \n",
        "* 이 코드는 OpenAI의 API를 LLM으로 사용하므로, 유료 **API 키**가 필요합니다.  "
      ]
    },
    {
      "cell_type": "markdown",
      "metadata": {
        "id": "g54Uf66Vz9Fi"
      },
      "source": [
        ">*```면책사항: 이 노트북에서 다루는 내용과 아이디어는 저자들 개인의 것이며, 저자들의 고용주의 견해나 지적 재산을 대변하지 않습니다.```*"
      ]
    },
    {
      "cell_type": "markdown",
      "metadata": {
        "id": "wc4H7Oz-TKQQ"
      },
      "source": [
        "설치:"
      ]
    },
    {
      "cell_type": "code",
      "execution_count": 11,
      "metadata": {
        "id": "G_6RT4wMTKQQ"
      },
      "outputs": [],
      "source": [
        "# 주의사항:\n",
        "# 아래 코드에서 Python 패키지 불일치로 인한 오류가 발생하는 경우, 새로운 버전이 원인일 수 있습니다.\n",
        "# 이런 경우, \"default_installations\"를 False로 설정하여 원래 이미지로 되돌리세요:\n",
        "default_installations = True\n",
        "if default_installations:\n",
        "    !pip -q install langchain langchain_community\n",
        "    !pip -q install sentence_transformers\n",
        "    !pip -q install faiss-cpu\n",
        "    !pip -q install openai==0.28.1\n",
        "else:\n",
        "    import requests\n",
        "    text_file_path = \"requirements__Ch9_Advanced_LangChain_Configurations_and_Pipeline.txt\"\n",
        "    url = \"https://raw.githubusercontent.com/PacktPublishing/Mastering-NLP-from-Foundations-to-LLMs/main/Chapter9_notebooks/\" + text_file_path\n",
        "    res = requests.get(url)\n",
        "    with open(text_file_path, \"w\") as f:\n",
        "        f.write(res.text)\n",
        "\n",
        "    !pip install -r requirements__Ch9_Advanced_LangChain_Configurations_and_Pipeline.txt"
      ]
    },
    {
      "cell_type": "markdown",
      "metadata": {
        "id": "yACZPlFPTKQR"
      },
      "source": [
        "Imports:"
      ]
    },
    {
      "cell_type": "code",
      "execution_count": 12,
      "metadata": {
        "id": "WmDcVqb_TKQb"
      },
      "outputs": [],
      "source": [
        "import requests\n",
        "from langchain.document_loaders import TextLoader\n",
        "import textwrap\n",
        "from langchain.text_splitter import CharacterTextSplitter\n",
        "from langchain.embeddings import HuggingFaceEmbeddings\n",
        "from langchain.vectorstores import FAISS"
      ]
    },
    {
      "cell_type": "markdown",
      "metadata": {
        "id": "HWH_36ZfdcNC"
      },
      "source": [
        "코드 설정:"
      ]
    },
    {
      "cell_type": "markdown",
      "metadata": {
        "id": "hALLW9fyXWqu"
      },
      "source": [
        "### 모의 의사 노트가 포함된 텍스트 파일 로드  \n",
        "이 파일들은 우리가 찾으려는 정보를 담고 있습니다.  \n",
        "이 예제에서는 모든 모의 보고서를 하나의 .CSV 테이블로 결합하여 로딩 과정을 간단하고 짧게 만들었습니다.  "
      ]
    },
    {
      "cell_type": "code",
      "execution_count": 13,
      "metadata": {
        "id": "j9lr1BOMXTVr"
      },
      "outputs": [],
      "source": [
        "# # 원서\n",
        "# text_file_path = \"mocked_up_physician_records.csv\"\n",
        "# url = \"https://raw.githubusercontent.com/PacktPublishing/Mastering-NLP-from-Foundations-to-LLMs/main/Chapter8_notebooks/\" + text_file_path\n",
        "# res = requests.get(url)\n",
        "# with open(text_file_path, \"w\") as f:\n",
        "#     f.write(res.text)"
      ]
    },
    {
      "cell_type": "markdown",
      "metadata": {
        "id": "Wz4zzvxUvS2v"
      },
      "source": [
        "### 한국어 버전"
      ]
    },
    {
      "cell_type": "code",
      "execution_count": 14,
      "metadata": {
        "id": "G3BdzMfyvS2v"
      },
      "outputs": [],
      "source": [
        "text_file_path = \"mocked_up_physician_records_ko.csv\"\n",
        "url = \"https://raw.githubusercontent.com/corazzon/Mastering-NLP-from-Foundations-to-LLMs/refs/heads/main/Chapter8_notebooks/\" + text_file_path\n",
        "res = requests.get(url)\n",
        "with open(text_file_path, \"w\") as f:\n",
        "    f.write(res.text)"
      ]
    },
    {
      "cell_type": "markdown",
      "metadata": {
        "id": "YChgXFOEG7pY"
      },
      "source": [
        "파일의 텍스트 내용을 로드합니다:"
      ]
    },
    {
      "cell_type": "code",
      "execution_count": 15,
      "metadata": {
        "id": "sVio4mK5XVwR"
      },
      "outputs": [],
      "source": [
        "# 문서 불러오기\n",
        "text_loader = TextLoader(text_file_path)\n",
        "documents = text_loader.load()"
      ]
    },
    {
      "cell_type": "markdown",
      "metadata": {
        "id": "W53RuDbFHCKt"
      },
      "source": [
        "LangChain 변수 유형을 확인합니다 (이것은 조작 방법을 이해하는 데 유용합니다):"
      ]
    },
    {
      "cell_type": "code",
      "execution_count": 16,
      "metadata": {
        "colab": {
          "base_uri": "https://localhost:8080/"
        },
        "id": "Du41v2SOnXtG",
        "outputId": "d096a272-cffc-4c2d-bc1a-07421376da52"
      },
      "outputs": [
        {
          "output_type": "stream",
          "name": "stdout",
          "text": [
            "<class 'langchain_core.documents.base.Document'>\n"
          ]
        }
      ],
      "source": [
        "print(type(documents[0]))"
      ]
    },
    {
      "cell_type": "markdown",
      "metadata": {
        "id": "NIjwhtVvWOPS"
      },
      "source": [
        "문서 개수를 확인합니다:"
      ]
    },
    {
      "cell_type": "code",
      "execution_count": 17,
      "metadata": {
        "colab": {
          "base_uri": "https://localhost:8080/"
        },
        "id": "ICTYiZhMXYvQ",
        "outputId": "18c83eac-ef0a-4511-f2b6-6868eac51b1b"
      },
      "outputs": [
        {
          "output_type": "execute_result",
          "data": {
            "text/plain": [
              "1"
            ]
          },
          "metadata": {},
          "execution_count": 17
        }
      ],
      "source": [
        "len(documents)"
      ]
    },
    {
      "cell_type": "markdown",
      "metadata": {
        "id": "XsawZueGWYD_"
      },
      "source": [
        "모델에 사용할 텍스트를 확인합니다."
      ]
    },
    {
      "cell_type": "code",
      "execution_count": 18,
      "metadata": {
        "colab": {
          "base_uri": "https://localhost:8080/"
        },
        "id": "Ei5Bu28KFi89",
        "outputId": "765b2cc8-062e-4c7d-d255-0c9f327ed1e6"
      },
      "outputs": [
        {
          "output_type": "stream",
          "name": "stdout",
          "text": [
            "\"Title: Mocked up record\n",
            "Physician Name: Dr. ABC\n",
            "Date: June 25, 2099\n",
            "Patient ID: 987654321\n",
            "Chief Complaint: Abdominal pain\n",
            "\n",
            "History of Present Illness:\n",
            "The patient, Mr. John Anderson, a 42-year-old male, presents today with a chief complaint of abdominal pain. He is married and resides with his wife and two children. Mr. Anderson recently returned from a business trip to Europe about two weeks ago. He denies any respiratory symptoms or exposure to sick individuals during his travel.\n",
            "\n",
            "During the evaluation, Mr. Anderson revealed a pertinent family history of cardiovascular disease, with his father having suffered a myocardial infarction in his 60s. He also reports that his maternal grandmother had type 2 diabetes. Mr. Anderson denies any personal history of chronic illnesses, surgeries, or hospitalizations.\n",
            "\n",
            "Regarding his chief complaint, Mr. Anderson describes the abdominal pain as a dull, intermittent ache located in the lower right quadrant. He rates the pain as 5 out of 10 in severity. The pain is exacerbated by physical activity and seems to worsen after meals. He denies any associated symptoms such as nausea, vomiting, or changes in bowel movements.\n",
            "\n",
            "Based on the information provided, further assessment and diagnostic tests will be performed to determine the underlying cause of Mr. Anderson's abdominal pain.\"\n",
            "\"Title: Mocked up record\n",
            "Physician Name: Dr. ABC\n",
            "Date: November 15, 2099\n",
            "Patient ID: 123456789\n",
            "Chief Complaint: Fatigue and joint pain\n",
            "\n",
            "History of Present Illness:\n",
            "The patient, Ms. Sarah Thompson, a 57-year-old female, presents today with complaints of fatigue and joint pain. Ms. Thompson is widowed and lives alone. She has no recent history of travel outside the country.\n",
            "\n",
            "During the evaluation, Ms. Thompson reveals a pertinent family history of autoimmune diseases, with her sister being diagnosed with rheumatoid arthritis. She also reports a personal history of hypothyroidism, which is being managed with thyroid hormone replacement therapy.\n",
            "\n",
            "Regarding her\n"
          ]
        }
      ],
      "source": [
        "print(documents[0].page_content[0:2000])"
      ]
    },
    {
      "cell_type": "markdown",
      "metadata": {
        "id": "9yrck6oSHIrd"
      },
      "source": [
        "### 임베딩을 위해 텍스트 데이터 문서별로 나누기"
      ]
    },
    {
      "cell_type": "code",
      "execution_count": 25,
      "metadata": {
        "id": "RhLKC8ggvS2w"
      },
      "outputs": [],
      "source": [
        "# 우리가 사용하는 데이터 파일에서는 이 짧은 문자열이 서로 다른 임상 보고서들을 구분하는 구분자입니다:\n",
        "split_text_by = '\"Title: Mocked up record'\n",
        "chunk_size = 2000\n",
        "chunk_overlap = 0"
      ]
    },
    {
      "cell_type": "code",
      "execution_count": 26,
      "metadata": {
        "id": "_qXNpk8vXlys"
      },
      "outputs": [],
      "source": [
        "# 텍스트 나누기\n",
        "text_splitter = CharacterTextSplitter(chunk_size=chunk_size,\n",
        "                                      chunk_overlap=chunk_overlap,\n",
        "                                      separator=split_text_by)\n",
        "splitted_docs = text_splitter.split_documents(documents)"
      ]
    },
    {
      "cell_type": "code",
      "execution_count": 27,
      "metadata": {
        "colab": {
          "base_uri": "https://localhost:8080/"
        },
        "id": "gEUp4OtxnuXL",
        "outputId": "c2a45641-4f86-414d-d53e-929e2b0e3863"
      },
      "outputs": [
        {
          "output_type": "execute_result",
          "data": {
            "text/plain": [
              "4"
            ]
          },
          "metadata": {},
          "execution_count": 27
        }
      ],
      "source": [
        "len(splitted_docs)"
      ]
    },
    {
      "cell_type": "code",
      "execution_count": 28,
      "metadata": {
        "colab": {
          "base_uri": "https://localhost:8080/"
        },
        "id": "z_HUKypknucr",
        "outputId": "c6c088e1-47ef-4803-8d03-b713254de7ae"
      },
      "outputs": [
        {
          "output_type": "stream",
          "name": "stdout",
          "text": [
            "Physician Name: Dr. ABC\n",
            "Date: June 25, 2099\n",
            "Patient ID: 987654321\n",
            "Chief Complaint: Abdominal pain\n",
            "\n",
            "History of Present Illness:\n",
            "The patient, Mr. John Anderson, a 42-year-old male, presents today with a chief complaint of abdominal pain. He is married and resides with his wife and two children. Mr. Anderson recently returned from a business trip to Europe about two weeks ago. He denies any respiratory symptoms or exposure to sick individuals during his travel.\n",
            "\n",
            "During the evaluation, Mr. Anderson revealed a pertinent family history of cardiovascular disease, with his father having suffered a myocardial infarction in his 60s. He also reports that his maternal grandmother had type 2 diabetes. Mr. Anderson denies any personal history of chronic illnesses, surgeries, or hospitalizations.\n",
            "\n",
            "Regarding his chief complaint, Mr. Anderson describes the abdominal pain as a dull, intermittent ache located in the lower right quadrant. He rates the pain as 5 out of 10 in severity. The pain is exacerbated by physical activity and seems to worsen after meals. He denies any associated symptoms such as nausea, vomiting, or changes in bowel movements.\n",
            "\n",
            "Based on the information provided, further assessment and diagnostic tests will be performed to determine the underlying cause of Mr. Anderson's abdominal pain.\"\n"
          ]
        }
      ],
      "source": [
        "print(splitted_docs[0].page_content)"
      ]
    },
    {
      "cell_type": "markdown",
      "metadata": {
        "id": "G6HWzhWUaRIb"
      },
      "source": [
        "### 벡터 데이터베이스에 저장할 임베딩 생성  \n",
        "허깅페이스의 오픈 소스 모델을 사용합니다.\n",
        "* https://huggingface.co/sentence-transformers/all-mpnet-base-v2\n",
        "* MPNet은 BERT, RoBERTa, XLNet 등의 장점을 융합한 최신 Transformer 모델입니다.\n",
        "* 한국어로는 https://huggingface.co/upskyy/e5-small-korean 를 사용해 봅니다."
      ]
    },
    {
      "cell_type": "code",
      "execution_count": 29,
      "metadata": {
        "colab": {
          "base_uri": "https://localhost:8080/"
        },
        "id": "uctYbK6YXmxI",
        "outputId": "8c467d5d-6235-4891-c3cc-8a36a3a86ec9"
      },
      "outputs": [
        {
          "output_type": "stream",
          "name": "stderr",
          "text": [
            "<ipython-input-29-4901b9960a1f>:2: LangChainDeprecationWarning: The class `HuggingFaceEmbeddings` was deprecated in LangChain 0.2.2 and will be removed in 1.0. An updated version of the class exists in the :class:`~langchain-huggingface package and should be used instead. To use it run `pip install -U :class:`~langchain-huggingface` and import as `from :class:`~langchain_huggingface import HuggingFaceEmbeddings``.\n",
            "  embeddings = HuggingFaceEmbeddings(model_name=\"upskyy/e5-small-korean\")\n",
            "/usr/local/lib/python3.11/dist-packages/huggingface_hub/utils/_auth.py:94: UserWarning: \n",
            "The secret `HF_TOKEN` does not exist in your Colab secrets.\n",
            "To authenticate with the Hugging Face Hub, create a token in your settings tab (https://huggingface.co/settings/tokens), set it as secret in your Google Colab and restart your session.\n",
            "You will be able to reuse this secret in all of your notebooks.\n",
            "Please note that authentication is recommended but still optional to access public models or datasets.\n",
            "  warnings.warn(\n"
          ]
        }
      ],
      "source": [
        "# embeddings = HuggingFaceEmbeddings(model_name=\"sentence-transformers/all-mpnet-base-v2\")\n",
        "embeddings = HuggingFaceEmbeddings(model_name=\"upskyy/e5-small-korean\")"
      ]
    },
    {
      "cell_type": "markdown",
      "metadata": {
        "id": "BQxBuY1Vq_EG"
      },
      "source": [
        "### 벡터 데이터베이스 생성\n",
        "\n",
        "<img src=\"https://python.langchain.com/assets/images/vectorstores-2540b4bc355b966c99b0f02cfdddb273.png\">\n",
        "\n",
        "* 출처 : https://python.langchain.com/docs/concepts/vectorstores/\n",
        "\n",
        "벡터 데이터베이스로는 FAISS(Facebook AI Similarity Search)를 선택했습니다:\n",
        "\n",
        "자세한 내용은 다음 링크를 참조하세요:\n",
        "\n",
        "* https://python.langchain.com/docs/integrations/vectorstores/\n",
        "* https://python.langchain.com/v0.1/docs/integrations/vectorstores/faiss/#:~:text=Now%2C%20we%20can%20query%20the,similarity_search"
      ]
    },
    {
      "cell_type": "code",
      "execution_count": 30,
      "metadata": {
        "id": "Zc7cEOR0Fi_o"
      },
      "outputs": [],
      "source": [
        "vector_db = FAISS.from_documents(splitted_docs, embeddings)"
      ]
    },
    {
      "cell_type": "markdown",
      "metadata": {
        "id": "5orXbaPj5uie"
      },
      "source": [
        "### \"내부\" 문서를 기반으로 유사도 검색 수행  "
      ]
    },
    {
      "cell_type": "markdown",
      "metadata": {
        "id": "HUETRq3nxjdg"
      },
      "source": [
        "**질문 #1: 8월에 출산 예정인 임산부 환자가 있나요?**  "
      ]
    },
    {
      "cell_type": "code",
      "execution_count": 31,
      "metadata": {
        "colab": {
          "base_uri": "https://localhost:8080/"
        },
        "id": "lCu4Ors_FjCU",
        "outputId": "e69cf83d-f0a6-4890-8036-f3560d3bb38e"
      },
      "outputs": [
        {
          "output_type": "stream",
          "name": "stdout",
          "text": [
            "Physician Name: Dr. ABC\n",
            "Date: July 10, 2099\n",
            "Patient ID: 246813579\n",
            "Chief Complaint: Pregnancy Follow-\n",
            "up\n",
            "\n",
            "History of Present Illness:\n",
            "The patient, Mrs. Emily Adams, a 30-year-old female, presents today\n",
            "for a routine pregnancy follow-up. She is currently 32 weeks pregnant, with a due date of August\n",
            "27th, 2099. Mrs. Adams is married and lives with her husband.\n",
            "\n",
            "During the evaluation, Mrs. Adams\n",
            "reveals a family history of gestational diabetes, with her mother having developed the condition\n",
            "during her own pregnancies. She mentions no personal history of significant medical conditions,\n",
            "surgeries, or complications in previous pregnancies.\n",
            "\n",
            "Regarding her chief complaint, Mrs. Adams\n",
            "reports typical discomforts associated with the third trimester of pregnancy, including backache,\n",
            "frequent urination, and occasional heartburn. She denies any vaginal bleeding, severe abdominal\n",
            "pain, or significant changes in fetal movements. Mrs. Adams mentions adhering to a well-balanced\n",
            "diet and regular exercise routine to maintain her overall health during pregnancy.\n",
            "\n",
            "Based on the\n",
            "information provided, a routine prenatal examination will be conducted to monitor the progress of\n",
            "Mrs. Adams' pregnancy. This will include assessing her blood pressure, weight gain, fundal height\n",
            "measurement, and fetal heart rate monitoring. Discussions about childbirth preparation,\n",
            "breastfeeding, and postnatal care will also be addressed to ensure a healthy and smooth transition\n",
            "into motherhood.\"\n"
          ]
        }
      ],
      "source": [
        "query1 = \"8월에 출산 예정인 임산부 환자가 있나요?\"\n",
        "docs = vector_db.similarity_search(query1)\n",
        "print(textwrap.fill(str(docs[0].page_content), width=100, replace_whitespace=False))"
      ]
    },
    {
      "cell_type": "markdown",
      "metadata": {
        "id": "VbR-2uxDxCep"
      },
      "source": [
        "**[오류의 예!] 질문 #2: 출산 예정일이 9월인 임산부가 있나요?**  \n",
        "이것은 유사성 검색이 **틀린 결과**를 제공하는 예입니다.  \n",
        "질문과 유사한 텍스트를 제공하긴 했지만, 이 사례는 유사성이 정답을 맞히는 것과는 다르다는 점을 보여줍니다.  "
      ]
    },
    {
      "cell_type": "code",
      "execution_count": 32,
      "metadata": {
        "colab": {
          "base_uri": "https://localhost:8080/"
        },
        "id": "z8wvzQSvFjFP",
        "outputId": "fbdf1089-d433-418a-d2fc-ff15eb47980d"
      },
      "outputs": [
        {
          "output_type": "stream",
          "name": "stdout",
          "text": [
            "Physician Name: Dr. ABC\n",
            "Date: July 10, 2099\n",
            "Patient ID: 246813579\n",
            "Chief Complaint: Pregnancy Follow-\n",
            "up\n",
            "\n",
            "History of Present Illness:\n",
            "The patient, Mrs. Emily Adams, a 30-year-old female, presents today\n",
            "for a routine pregnancy follow-up. She is currently 32 weeks pregnant, with a due date of August\n",
            "27th, 2099. Mrs. Adams is married and lives with her husband.\n",
            "\n",
            "During the evaluation, Mrs. Adams\n",
            "reveals a family history of gestational diabetes, with her mother having developed the condition\n",
            "during her own pregnancies. She mentions no personal history of significant medical conditions,\n",
            "surgeries, or complications in previous pregnancies.\n",
            "\n",
            "Regarding her chief complaint, Mrs. Adams\n",
            "reports typical discomforts associated with the third trimester of pregnancy, including backache,\n",
            "frequent urination, and occasional heartburn. She denies any vaginal bleeding, severe abdominal\n",
            "pain, or significant changes in fetal movements. Mrs. Adams mentions adhering to a well-balanced\n",
            "diet and regular exercise routine to maintain her overall health during pregnancy.\n",
            "\n",
            "Based on the\n",
            "information provided, a routine prenatal examination will be conducted to monitor the progress of\n",
            "Mrs. Adams' pregnancy. This will include assessing her blood pressure, weight gain, fundal height\n",
            "measurement, and fetal heart rate monitoring. Discussions about childbirth preparation,\n",
            "breastfeeding, and postnatal care will also be addressed to ensure a healthy and smooth transition\n",
            "into motherhood.\"\n"
          ]
        }
      ],
      "source": [
        "query2 = \"출산 예정일이 9월인 임산부가 있나요?\"\n",
        "docs = vector_db.similarity_search(query2)\n",
        "print(textwrap.fill(str(docs[0].page_content), width=100, replace_whitespace=False))"
      ]
    },
    {
      "cell_type": "markdown",
      "metadata": {
        "id": "kpcrVa5xxpRg"
      },
      "source": [
        "**질문 #3: 최근에 여행을 다녀온 환자는 누구인가요?**"
      ]
    },
    {
      "cell_type": "code",
      "execution_count": 33,
      "metadata": {
        "colab": {
          "base_uri": "https://localhost:8080/"
        },
        "id": "An1HjqivFjIL",
        "outputId": "33b017a5-188d-4fe8-d273-7a539593c039"
      },
      "outputs": [
        {
          "output_type": "stream",
          "name": "stdout",
          "text": [
            "Physician Name: Dr. ABC\n",
            "Date: June 25, 2099\n",
            "Patient ID: 987654321\n",
            "Chief Complaint: Abdominal pain\n",
            "History of Present Illness:\n",
            "The patient, Mr. John Anderson, a 42-year-old male, presents today with\n",
            "a chief complaint of abdominal pain. He is married and resides with his wife and two children. Mr.\n",
            "Anderson recently returned from a business trip to Europe about two weeks ago. He denies any\n",
            "respiratory symptoms or exposure to sick individuals during his travel.\n",
            "\n",
            "During the evaluation, Mr.\n",
            "Anderson revealed a pertinent family history of cardiovascular disease, with his father having\n",
            "suffered a myocardial infarction in his 60s. He also reports that his maternal grandmother had type\n",
            "2 diabetes. Mr. Anderson denies any personal history of chronic illnesses, surgeries, or\n",
            "hospitalizations.\n",
            "\n",
            "Regarding his chief complaint, Mr. Anderson describes the abdominal pain as a\n",
            "dull, intermittent ache located in the lower right quadrant. He rates the pain as 5 out of 10 in\n",
            "severity. The pain is exacerbated by physical activity and seems to worsen after meals. He denies\n",
            "any associated symptoms such as nausea, vomiting, or changes in bowel movements.\n",
            "\n",
            "Based on the\n",
            "information provided, further assessment and diagnostic tests will be performed to determine the\n",
            "underlying cause of Mr. Anderson's abdominal pain.\"\n"
          ]
        }
      ],
      "source": [
        "query3 = \"최근에 여행을 다녀온 환자는 누구인가요?\"\n",
        "docs = vector_db.similarity_search(query3)\n",
        "print(textwrap.fill(str(docs[0].page_content), width=100, replace_whitespace=False))"
      ]
    },
    {
      "cell_type": "markdown",
      "metadata": {
        "id": "EXjrPg4Kxxy4"
      },
      "source": [
        "**질문 #4: 검사실 검사가 필요한 환자는 누구인가요?**"
      ]
    },
    {
      "cell_type": "code",
      "execution_count": 34,
      "metadata": {
        "colab": {
          "base_uri": "https://localhost:8080/"
        },
        "id": "oqoVJmpqFjKs",
        "outputId": "cd6fd521-977f-4770-8f78-0048ad4b74d8"
      },
      "outputs": [
        {
          "output_type": "stream",
          "name": "stdout",
          "text": [
            "Physician Name: Dr. ABC\n",
            "Date: November 15, 2099\n",
            "Patient ID: 123456789\n",
            "Chief Complaint: Fatigue and\n",
            "joint pain\n",
            "\n",
            "History of Present Illness:\n",
            "The patient, Ms. Sarah Thompson, a 57-year-old female,\n",
            "presents today with complaints of fatigue and joint pain. Ms. Thompson is widowed and lives alone.\n",
            "She has no recent history of travel outside the country.\n",
            "\n",
            "During the evaluation, Ms. Thompson\n",
            "reveals a pertinent family history of autoimmune diseases, with her sister being diagnosed with\n",
            "rheumatoid arthritis. She also reports a personal history of hypothyroidism, which is being managed\n",
            "with thyroid hormone replacement therapy.\n",
            "\n",
            "Regarding her chief complaint, Ms. Thompson describes the\n",
            "fatigue as persistent and overwhelming, affecting her ability to perform daily activities. She rates\n",
            "her fatigue as 8 out of 10 in severity. Additionally, she reports joint pain primarily in her knees\n",
            "and wrists, which is worse in the morning and improves with movement throughout the day. She denies\n",
            "any swelling or redness in the affected joints.\n",
            "\n",
            "Given the clinical presentation, further\n",
            "investigation will be carried out to explore potential causes for Ms. Thompson's fatigue and joint\n",
            "pain. This may include laboratory tests, imaging studies, and consultation with specialists as\n",
            "necessary.\"\n"
          ]
        }
      ],
      "source": [
        "query4 = \"검사실 검사가 필요한 환자는 누구인가요?\"\n",
        "docs = vector_db.similarity_search(query4)\n",
        "print(textwrap.fill(str(docs[0].page_content), width=100, replace_whitespace=False))"
      ]
    },
    {
      "cell_type": "markdown",
      "metadata": {
        "id": "OgQuV5Zv6Be7"
      },
      "source": [
        "****\n",
        "다음 단계 전에 메모리를 정리합니다 (로컬 호스팅된 LLM을 선택한 경우에 유용):"
      ]
    },
    {
      "cell_type": "code",
      "execution_count": 35,
      "metadata": {
        "colab": {
          "base_uri": "https://localhost:8080/"
        },
        "id": "L_70cf1K4aUD",
        "outputId": "60a2295f-2558-46cd-898a-f76b7c1ebadc"
      },
      "outputs": [
        {
          "output_type": "stream",
          "name": "stdout",
          "text": [
            "HuggingFaceHub 1688\n",
            "ChatOpenAI 1688\n",
            "GPT4All 1688\n",
            "_i11 1650\n",
            "TextLoader 1688\n",
            "CharacterTextSplitter 1688\n",
            "HuggingFaceEmbeddings 1688\n",
            "FAISS 1688\n"
          ]
        }
      ],
      "source": [
        "import sys\n",
        "\n",
        "local_vars = list(locals().items())\n",
        "for var, obj in local_vars:\n",
        "  if(sys.getsizeof(obj)) > 999:\n",
        "    print(var, sys.getsizeof(obj))"
      ]
    },
    {
      "cell_type": "code",
      "execution_count": 36,
      "metadata": {
        "colab": {
          "base_uri": "https://localhost:8080/"
        },
        "id": "FC2RbDX938k9",
        "outputId": "6d501939-c34c-4f45-bb6f-5aa040476703"
      },
      "outputs": [
        {
          "output_type": "execute_result",
          "data": {
            "text/plain": [
              "369"
            ]
          },
          "metadata": {},
          "execution_count": 36
        }
      ],
      "source": [
        "import gc\n",
        "del CharacterTextSplitter\n",
        "del HuggingFaceEmbeddings\n",
        "del TextLoader\n",
        "del FAISS\n",
        "gc.collect()"
      ]
    },
    {
      "cell_type": "markdown",
      "metadata": {
        "id": "9Jx4gx7iYyp0"
      },
      "source": [
        "****"
      ]
    },
    {
      "cell_type": "markdown",
      "metadata": {
        "id": "oLSRUmQOY0nY"
      },
      "source": [
        "# 8장 노트북의 개선: 요청 처리를 위한 LLM 설정  \n",
        "이제 해당 파이프라인을 개선하겠습니다. 단순히 유사성 검색 결과를 의사에게 제공하는 것에 그치지 않고, 요청과 유사한 내용으로 간주된 결과를 바탕으로 LLM을 활용하여 이를 검토하고, 실제로 의사에게 적합한 결과를 판별해낼 것입니다.  "
      ]
    },
    {
      "cell_type": "markdown",
      "metadata": {
        "id": "lPpqKBtA5jtM"
      },
      "source": [
        "OpenAI API key:  \n",
        "**문자열 형태로 아래 \"...\"에 OpenAI에서 발급받은 key를 입력해 주세요!**  \n",
        "\n",
        "\n",
        "Colab 보안 비밀 설정은 왼쪽 열쇠 모양의 아이콘을 클릭하면 나옵니다.\n",
        "<img src=\"https://i.imgur.com/7P383n4.png\" width=\"500\">\n",
        "\n",
        "\n"
      ]
    },
    {
      "cell_type": "code",
      "execution_count": 72,
      "metadata": {
        "id": "cbbbf3de-a9d6-46cf-afab-dcb72a6154ec"
      },
      "outputs": [],
      "source": [
        "openai_api_key = \"...\"\n",
        "# colab 보안 비밀 설정 사용시 주석 해제 후 사용\n",
        "# from google.colab import userdata\n",
        "# openai_api_key = userdata.get('OPENAI_API_KEY')"
      ]
    },
    {
      "cell_type": "code",
      "execution_count": 73,
      "metadata": {
        "id": "oYVAJkBrlR0n"
      },
      "outputs": [],
      "source": [
        "!pip -q install openai gpt4all==1.0.12"
      ]
    },
    {
      "cell_type": "code",
      "execution_count": 74,
      "metadata": {
        "colab": {
          "base_uri": "https://localhost:8080/"
        },
        "id": "B2NgP795lksD",
        "outputId": "0107d4be-f23c-41b5-e7f3-ca9875afe897"
      },
      "outputs": [
        {
          "output_type": "stream",
          "name": "stdout",
          "text": [
            "--2025-03-14 10:02:31--  https://huggingface.co/TheBloke/Nous-Hermes-13B-GGML/resolve/main/nous-hermes-13b.ggmlv3.q4_0.bin\n",
            "Resolving huggingface.co (huggingface.co)... 3.163.189.37, 3.163.189.114, 3.163.189.74, ...\n",
            "Connecting to huggingface.co (huggingface.co)|3.163.189.37|:443... connected.\n",
            "HTTP request sent, awaiting response... 302 Found\n",
            "Location: https://cdn-lfs.hf.co/repos/7e/26/7e26b3c7ced64f7024dbcce87fddd78a593c50c86955e5a756d14710387ada70/d1735b93e1dc503f1045ccd6c8bd73277b18ba892befd1dc29e9b9a7822ed998?response-content-disposition=inline%3B+filename*%3DUTF-8%27%27nous-hermes-13b.ggmlv3.q4_0.bin%3B+filename%3D%22nous-hermes-13b.ggmlv3.q4_0.bin%22%3B&response-content-type=application%2Foctet-stream&Expires=1741950151&Policy=eyJTdGF0ZW1lbnQiOlt7IkNvbmRpdGlvbiI6eyJEYXRlTGVzc1RoYW4iOnsiQVdTOkVwb2NoVGltZSI6MTc0MTk1MDE1MX19LCJSZXNvdXJjZSI6Imh0dHBzOi8vY2RuLWxmcy5oZi5jby9yZXBvcy83ZS8yNi83ZTI2YjNjN2NlZDY0ZjcwMjRkYmNjZTg3ZmRkZDc4YTU5M2M1MGM4Njk1NWU1YTc1NmQxNDcxMDM4N2FkYTcwL2QxNzM1YjkzZTFkYzUwM2YxMDQ1Y2NkNmM4YmQ3MzI3N2IxOGJhODkyYmVmZDFkYzI5ZTliOWE3ODIyZWQ5OTg%7EcmVzcG9uc2UtY29udGVudC1kaXNwb3NpdGlvbj0qJnJlc3BvbnNlLWNvbnRlbnQtdHlwZT0qIn1dfQ__&Signature=vXWl1RVnynfx4axBh5oxeYgWLZKktq%7EPTij9q1ktySQIy0-WSAo8i24kClztkKnktNwYg4rAXZrPNNvLfPuI8zjbS5lsuqoZEt6BQgULwpLsS-xyqM0Cl7aCk8xY5%7ErOvWOO25o1ZBpzayUn6txyeJjHvW2MsXkM55uoNtXxLC2ULmrZJT5rWv7%7EGw1pzVs-LmKBiDUWVXlYu3gLQ8kIMUgo0zgjlHAVnno%7EDU%7EPjZB-C2qLuI7HsInmsViKCY-3SvmrjGMB9pDqCmmziMKs0nCnr3udkls3m3p3ssEQWfeVqeYcIyG9N4hUHbfV8zNVnEmY2C6g-3vClpvW2bZSXQ__&Key-Pair-Id=K3RPWS32NSSJCE [following]\n",
            "--2025-03-14 10:02:31--  https://cdn-lfs.hf.co/repos/7e/26/7e26b3c7ced64f7024dbcce87fddd78a593c50c86955e5a756d14710387ada70/d1735b93e1dc503f1045ccd6c8bd73277b18ba892befd1dc29e9b9a7822ed998?response-content-disposition=inline%3B+filename*%3DUTF-8%27%27nous-hermes-13b.ggmlv3.q4_0.bin%3B+filename%3D%22nous-hermes-13b.ggmlv3.q4_0.bin%22%3B&response-content-type=application%2Foctet-stream&Expires=1741950151&Policy=eyJTdGF0ZW1lbnQiOlt7IkNvbmRpdGlvbiI6eyJEYXRlTGVzc1RoYW4iOnsiQVdTOkVwb2NoVGltZSI6MTc0MTk1MDE1MX19LCJSZXNvdXJjZSI6Imh0dHBzOi8vY2RuLWxmcy5oZi5jby9yZXBvcy83ZS8yNi83ZTI2YjNjN2NlZDY0ZjcwMjRkYmNjZTg3ZmRkZDc4YTU5M2M1MGM4Njk1NWU1YTc1NmQxNDcxMDM4N2FkYTcwL2QxNzM1YjkzZTFkYzUwM2YxMDQ1Y2NkNmM4YmQ3MzI3N2IxOGJhODkyYmVmZDFkYzI5ZTliOWE3ODIyZWQ5OTg%7EcmVzcG9uc2UtY29udGVudC1kaXNwb3NpdGlvbj0qJnJlc3BvbnNlLWNvbnRlbnQtdHlwZT0qIn1dfQ__&Signature=vXWl1RVnynfx4axBh5oxeYgWLZKktq%7EPTij9q1ktySQIy0-WSAo8i24kClztkKnktNwYg4rAXZrPNNvLfPuI8zjbS5lsuqoZEt6BQgULwpLsS-xyqM0Cl7aCk8xY5%7ErOvWOO25o1ZBpzayUn6txyeJjHvW2MsXkM55uoNtXxLC2ULmrZJT5rWv7%7EGw1pzVs-LmKBiDUWVXlYu3gLQ8kIMUgo0zgjlHAVnno%7EDU%7EPjZB-C2qLuI7HsInmsViKCY-3SvmrjGMB9pDqCmmziMKs0nCnr3udkls3m3p3ssEQWfeVqeYcIyG9N4hUHbfV8zNVnEmY2C6g-3vClpvW2bZSXQ__&Key-Pair-Id=K3RPWS32NSSJCE\n",
            "Resolving cdn-lfs.hf.co (cdn-lfs.hf.co)... 18.238.217.120, 18.238.217.113, 18.238.217.81, ...\n",
            "Connecting to cdn-lfs.hf.co (cdn-lfs.hf.co)|18.238.217.120|:443... connected.\n",
            "HTTP request sent, awaiting response... 200 OK\n",
            "Length: 7323310848 (6.8G) [application/octet-stream]\n",
            "Saving to: ‘nous-hermes-13b.ggmlv3.q4_0.bin.5’\n",
            "\n",
            "mes-13b.ggmlv3.q4_0  84%[===============>    ]   5.75G  3.68MB/s    eta 76s    ^C\n"
          ]
        }
      ],
      "source": [
        "!wget https://huggingface.co/TheBloke/Nous-Hermes-13B-GGML/resolve/main/nous-hermes-13b.ggmlv3.q4_0.bin"
      ]
    },
    {
      "cell_type": "code",
      "execution_count": 4,
      "metadata": {
        "id": "TYPfX7HEFjNk"
      },
      "outputs": [],
      "source": [
        "import os\n",
        "import langchain\n",
        "from langchain.chains.question_answering import load_qa_chain\n",
        "from langchain import HuggingFaceHub\n",
        "from langchain.chat_models import ChatOpenAI\n",
        "from langchain.llms import GPT4All"
      ]
    },
    {
      "cell_type": "markdown",
      "metadata": {
        "id": "SkX23K8tdDjC"
      },
      "source": [
        "### LLM 설정: 유료 LLM(OpenAI의 GPT)과 무료 LLM(Hugging Face 모델) 중 선택  "
      ]
    },
    {
      "cell_type": "code",
      "execution_count": 2,
      "metadata": {
        "id": "9PBWA0b1dSW9"
      },
      "outputs": [],
      "source": [
        "paid_vs_free = \"paid\"\n",
        "\n",
        "# GPT4all .bin 파일의 경로 (Google Colab에서 실행하기에 적합):\n",
        "path_to_bin = \"./nous-hermes-13b.ggmlv3.q4_0.bin\"\n",
        "\n",
        "# 백엔드 LLM:\n",
        "# \"gptj\", \"llama\" 등 다양한 모델 중 선택 합니다.\n",
        "backend_llm = \"llama\""
      ]
    },
    {
      "cell_type": "code",
      "execution_count": 5,
      "metadata": {
        "id": "tcI741JYchzt",
        "colab": {
          "base_uri": "https://localhost:8080/"
        },
        "outputId": "6c7c016e-cb6d-4cff-ad6d-a52463406f71"
      },
      "outputs": [
        {
          "output_type": "stream",
          "name": "stdout",
          "text": [
            "Found model file at  ./nous-hermes-13b.ggmlv3.q4_0.bin\n"
          ]
        }
      ],
      "source": [
        "if paid_vs_free == \"paid\":\n",
        "    os.environ[\"OPENAI_API_KEY\"] = openai_api_key\n",
        "    llm = ChatOpenAI()\n",
        "elif paid_vs_free == \"free\":\n",
        "    llm = GPT4All(\n",
        "        model=path_to_bin,\n",
        "        max_tokens=1000,\n",
        "        # backend=backend_llm,\n",
        "        verbose=False)"
      ]
    },
    {
      "cell_type": "markdown",
      "metadata": {
        "id": "QGbOUgLMZUDB"
      },
      "source": [
        "### QA 체인 생성  \n",
        "`load_qa_chain()`을 통해 RAG 프레임워크를 구성합니다. 이 기능은 다양한 텍스트 문서를 입력받아 검색 가능한 형태로 준비하며, 사용자 프롬프트를 분석하여 관련된 텍스트를 찾아냅니다. 찾아낸 텍스트는 선택된 LLM에 제공되어, LLM이 적절한 맥락을 바탕으로 프롬프트에 답변할 수 있게 합니다."
      ]
    },
    {
      "cell_type": "code",
      "execution_count": 37,
      "metadata": {
        "id": "ksxfU8E_c6ly"
      },
      "outputs": [],
      "source": [
        "chain = load_qa_chain(llm, chain_type=\"stuff\")"
      ]
    },
    {
      "cell_type": "markdown",
      "metadata": {
        "id": "Jw3QTq5_m39_"
      },
      "source": [
        "### 동일한 요구 사항을 기반으로 검색하되, 임베딩 유사성 대신 LLM을 \"두뇌\"로 활용하여 검색"
      ]
    },
    {
      "cell_type": "markdown",
      "metadata": {
        "id": "gxZjgu_5p7px"
      },
      "source": [
        "**Question #1: 8월에 출산 예정인 임산부 환자가 있나요?**  "
      ]
    },
    {
      "cell_type": "code",
      "execution_count": 38,
      "metadata": {
        "id": "OVv_Xbn1s8eH"
      },
      "outputs": [],
      "source": [
        "import langchain\n",
        "langchain.debug = True"
      ]
    },
    {
      "cell_type": "code",
      "execution_count": null,
      "metadata": {
        "colab": {
          "base_uri": "https://localhost:8080/"
        },
        "id": "vQ3SvO8mm4I5",
        "outputId": "638eb601-92d7-4ac5-98b4-e60015e550cc"
      },
      "outputs": [
        {
          "metadata": {
            "tags": null
          },
          "name": "stdout",
          "output_type": "stream",
          "text": [
            "8월에 출산 예정인 임산부 환자가 있나요?\n",
            "\u001b[32;1m\u001b[1;3m[chain/start]\u001b[0m \u001b[1m[chain:StuffDocumentsChain] Entering Chain run with input:\n",
            "\u001b[0m[inputs]\n",
            "\u001b[32;1m\u001b[1;3m[chain/start]\u001b[0m \u001b[1m[chain:StuffDocumentsChain > chain:LLMChain] Entering Chain run with input:\n",
            "\u001b[0m{\n",
            "  \"question\": \"8월에 출산 예정인 임산부 환자가 있나요?\",\n",
            "  \"context\": \"Physician Name: Dr. ABC\\nDate: July 10, 2099\\nPatient ID: 246813579\\nChief Complaint: Pregnancy Follow-up\\n\\nHistory of Present Illness:\\nThe patient, Mrs. Emily Adams, a 30-year-old female, presents today for a routine pregnancy follow-up. She is currently 32 weeks pregnant, with a due date of August 27th, 2099. Mrs. Adams is married and lives with her husband.\\n\\nDuring the evaluation, Mrs. Adams reveals a family history of gestational diabetes, with her mother having developed the condition during her own pregnancies. She mentions no personal history of significant medical conditions, surgeries, or complications in previous pregnancies.\\n\\nRegarding her chief complaint, Mrs. Adams reports typical discomforts associated with the third trimester of pregnancy, including backache, frequent urination, and occasional heartburn. She denies any vaginal bleeding, severe abdominal pain, or significant changes in fetal movements. Mrs. Adams mentions adhering to a well-balanced diet and regular exercise routine to maintain her overall health during pregnancy.\\n\\nBased on the information provided, a routine prenatal examination will be conducted to monitor the progress of Mrs. Adams' pregnancy. This will include assessing her blood pressure, weight gain, fundal height measurement, and fetal heart rate monitoring. Discussions about childbirth preparation, breastfeeding, and postnatal care will also be addressed to ensure a healthy and smooth transition into motherhood.\\\"\\n\\nPhysician Name: Dr. ABC\\nDate: June 25, 2099\\nPatient ID: 987654321\\nChief Complaint: Abdominal pain\\n\\nHistory of Present Illness:\\nThe patient, Mr. John Anderson, a 42-year-old male, presents today with a chief complaint of abdominal pain. He is married and resides with his wife and two children. Mr. Anderson recently returned from a business trip to Europe about two weeks ago. He denies any respiratory symptoms or exposure to sick individuals during his travel.\\n\\nDuring the evaluation, Mr. Anderson revealed a pertinent family history of cardiovascular disease, with his father having suffered a myocardial infarction in his 60s. He also reports that his maternal grandmother had type 2 diabetes. Mr. Anderson denies any personal history of chronic illnesses, surgeries, or hospitalizations.\\n\\nRegarding his chief complaint, Mr. Anderson describes the abdominal pain as a dull, intermittent ache located in the lower right quadrant. He rates the pain as 5 out of 10 in severity. The pain is exacerbated by physical activity and seems to worsen after meals. He denies any associated symptoms such as nausea, vomiting, or changes in bowel movements.\\n\\nBased on the information provided, further assessment and diagnostic tests will be performed to determine the underlying cause of Mr. Anderson's abdominal pain.\\\"\"\n",
            "}\n",
            "\u001b[32;1m\u001b[1;3m[llm/start]\u001b[0m \u001b[1m[chain:StuffDocumentsChain > chain:LLMChain > llm:GPT4All] Entering LLM run with input:\n",
            "\u001b[0m{\n",
            "  \"prompts\": [\n",
            "    \"Use the following pieces of context to answer the question at the end. If you don't know the answer, just say that you don't know, don't try to make up an answer.\\n\\nPhysician Name: Dr. ABC\\nDate: July 10, 2099\\nPatient ID: 246813579\\nChief Complaint: Pregnancy Follow-up\\n\\nHistory of Present Illness:\\nThe patient, Mrs. Emily Adams, a 30-year-old female, presents today for a routine pregnancy follow-up. She is currently 32 weeks pregnant, with a due date of August 27th, 2099. Mrs. Adams is married and lives with her husband.\\n\\nDuring the evaluation, Mrs. Adams reveals a family history of gestational diabetes, with her mother having developed the condition during her own pregnancies. She mentions no personal history of significant medical conditions, surgeries, or complications in previous pregnancies.\\n\\nRegarding her chief complaint, Mrs. Adams reports typical discomforts associated with the third trimester of pregnancy, including backache, frequent urination, and occasional heartburn. She denies any vaginal bleeding, severe abdominal pain, or significant changes in fetal movements. Mrs. Adams mentions adhering to a well-balanced diet and regular exercise routine to maintain her overall health during pregnancy.\\n\\nBased on the information provided, a routine prenatal examination will be conducted to monitor the progress of Mrs. Adams' pregnancy. This will include assessing her blood pressure, weight gain, fundal height measurement, and fetal heart rate monitoring. Discussions about childbirth preparation, breastfeeding, and postnatal care will also be addressed to ensure a healthy and smooth transition into motherhood.\\\"\\n\\nPhysician Name: Dr. ABC\\nDate: June 25, 2099\\nPatient ID: 987654321\\nChief Complaint: Abdominal pain\\n\\nHistory of Present Illness:\\nThe patient, Mr. John Anderson, a 42-year-old male, presents today with a chief complaint of abdominal pain. He is married and resides with his wife and two children. Mr. Anderson recently returned from a business trip to Europe about two weeks ago. He denies any respiratory symptoms or exposure to sick individuals during his travel.\\n\\nDuring the evaluation, Mr. Anderson revealed a pertinent family history of cardiovascular disease, with his father having suffered a myocardial infarction in his 60s. He also reports that his maternal grandmother had type 2 diabetes. Mr. Anderson denies any personal history of chronic illnesses, surgeries, or hospitalizations.\\n\\nRegarding his chief complaint, Mr. Anderson describes the abdominal pain as a dull, intermittent ache located in the lower right quadrant. He rates the pain as 5 out of 10 in severity. The pain is exacerbated by physical activity and seems to worsen after meals. He denies any associated symptoms such as nausea, vomiting, or changes in bowel movements.\\n\\nBased on the information provided, further assessment and diagnostic tests will be performed to determine the underlying cause of Mr. Anderson's abdominal pain.\\\"\\n\\nQuestion: 8월에 출산 예정인 임산부 환자가 있나요?\\nHelpful Answer:\"\n",
            "  ]\n",
            "}\n"
          ]
        }
      ],
      "source": [
        "current_query = query1\n",
        "print(current_query)\n",
        "docs = vector_db.similarity_search(current_query, k=2)\n",
        "# print(chain.run(input_documents=docs, question=current_query))\n",
        "response = chain.invoke({\"input_documents\": docs, \"question\": current_query})\n",
        "response"
      ]
    },
    {
      "cell_type": "code",
      "source": [
        "docs[0]"
      ],
      "metadata": {
        "id": "hfBE5aAP6NNm"
      },
      "execution_count": null,
      "outputs": []
    },
    {
      "cell_type": "markdown",
      "metadata": {
        "id": "mtJ4gn4wp9Tq"
      },
      "source": [
        "**[OpenAI의 LLM이 오류를 감지하고 피했습니다!] 질문 #2: 9월에 출산 예정인 임산부가 있나요?**  \n",
        "다만, 양자화되어 \"성능이 저하된\" 일부 무료 LLM들은 실패할 수 있으며, 9월 출산 예정일에 대해 물었음에도 8월 출산 예정일을 답변으로 제시할 수 있습니다."
      ]
    },
    {
      "cell_type": "code",
      "execution_count": null,
      "metadata": {
        "colab": {
          "base_uri": "https://localhost:8080/"
        },
        "id": "D3HgLcgTpSCa",
        "outputId": "7f860a98-1de8-4020-a234-7e8efa36c0e4"
      },
      "outputs": [
        {
          "metadata": {
            "tags": null
          },
          "name": "stdout",
          "output_type": "stream",
          "text": [
            "출산 예정일이 9월인 임산부가 있나요?\n",
            "\u001b[32;1m\u001b[1;3m[chain/start]\u001b[0m \u001b[1m[chain:StuffDocumentsChain] Entering Chain run with input:\n",
            "\u001b[0m[inputs]\n",
            "\u001b[32;1m\u001b[1;3m[chain/start]\u001b[0m \u001b[1m[chain:StuffDocumentsChain > chain:LLMChain] Entering Chain run with input:\n",
            "\u001b[0m{\n",
            "  \"question\": \"출산 예정일이 9월인 임산부가 있나요?\",\n",
            "  \"context\": \"Physician Name: Dr. ABC\\nDate: July 10, 2099\\nPatient ID: 246813579\\nChief Complaint: Pregnancy Follow-up\\n\\nHistory of Present Illness:\\nThe patient, Mrs. Emily Adams, a 30-year-old female, presents today for a routine pregnancy follow-up. She is currently 32 weeks pregnant, with a due date of August 27th, 2099. Mrs. Adams is married and lives with her husband.\\n\\nDuring the evaluation, Mrs. Adams reveals a family history of gestational diabetes, with her mother having developed the condition during her own pregnancies. She mentions no personal history of significant medical conditions, surgeries, or complications in previous pregnancies.\\n\\nRegarding her chief complaint, Mrs. Adams reports typical discomforts associated with the third trimester of pregnancy, including backache, frequent urination, and occasional heartburn. She denies any vaginal bleeding, severe abdominal pain, or significant changes in fetal movements. Mrs. Adams mentions adhering to a well-balanced diet and regular exercise routine to maintain her overall health during pregnancy.\\n\\nBased on the information provided, a routine prenatal examination will be conducted to monitor the progress of Mrs. Adams' pregnancy. This will include assessing her blood pressure, weight gain, fundal height measurement, and fetal heart rate monitoring. Discussions about childbirth preparation, breastfeeding, and postnatal care will also be addressed to ensure a healthy and smooth transition into motherhood.\\\"\\n\\nPhysician Name: Dr. ABC\\nDate: June 25, 2099\\nPatient ID: 987654321\\nChief Complaint: Abdominal pain\\n\\nHistory of Present Illness:\\nThe patient, Mr. John Anderson, a 42-year-old male, presents today with a chief complaint of abdominal pain. He is married and resides with his wife and two children. Mr. Anderson recently returned from a business trip to Europe about two weeks ago. He denies any respiratory symptoms or exposure to sick individuals during his travel.\\n\\nDuring the evaluation, Mr. Anderson revealed a pertinent family history of cardiovascular disease, with his father having suffered a myocardial infarction in his 60s. He also reports that his maternal grandmother had type 2 diabetes. Mr. Anderson denies any personal history of chronic illnesses, surgeries, or hospitalizations.\\n\\nRegarding his chief complaint, Mr. Anderson describes the abdominal pain as a dull, intermittent ache located in the lower right quadrant. He rates the pain as 5 out of 10 in severity. The pain is exacerbated by physical activity and seems to worsen after meals. He denies any associated symptoms such as nausea, vomiting, or changes in bowel movements.\\n\\nBased on the information provided, further assessment and diagnostic tests will be performed to determine the underlying cause of Mr. Anderson's abdominal pain.\\\"\"\n",
            "}\n",
            "\u001b[32;1m\u001b[1;3m[llm/start]\u001b[0m \u001b[1m[chain:StuffDocumentsChain > chain:LLMChain > llm:GPT4All] Entering LLM run with input:\n",
            "\u001b[0m{\n",
            "  \"prompts\": [\n",
            "    \"Use the following pieces of context to answer the question at the end. If you don't know the answer, just say that you don't know, don't try to make up an answer.\\n\\nPhysician Name: Dr. ABC\\nDate: July 10, 2099\\nPatient ID: 246813579\\nChief Complaint: Pregnancy Follow-up\\n\\nHistory of Present Illness:\\nThe patient, Mrs. Emily Adams, a 30-year-old female, presents today for a routine pregnancy follow-up. She is currently 32 weeks pregnant, with a due date of August 27th, 2099. Mrs. Adams is married and lives with her husband.\\n\\nDuring the evaluation, Mrs. Adams reveals a family history of gestational diabetes, with her mother having developed the condition during her own pregnancies. She mentions no personal history of significant medical conditions, surgeries, or complications in previous pregnancies.\\n\\nRegarding her chief complaint, Mrs. Adams reports typical discomforts associated with the third trimester of pregnancy, including backache, frequent urination, and occasional heartburn. She denies any vaginal bleeding, severe abdominal pain, or significant changes in fetal movements. Mrs. Adams mentions adhering to a well-balanced diet and regular exercise routine to maintain her overall health during pregnancy.\\n\\nBased on the information provided, a routine prenatal examination will be conducted to monitor the progress of Mrs. Adams' pregnancy. This will include assessing her blood pressure, weight gain, fundal height measurement, and fetal heart rate monitoring. Discussions about childbirth preparation, breastfeeding, and postnatal care will also be addressed to ensure a healthy and smooth transition into motherhood.\\\"\\n\\nPhysician Name: Dr. ABC\\nDate: June 25, 2099\\nPatient ID: 987654321\\nChief Complaint: Abdominal pain\\n\\nHistory of Present Illness:\\nThe patient, Mr. John Anderson, a 42-year-old male, presents today with a chief complaint of abdominal pain. He is married and resides with his wife and two children. Mr. Anderson recently returned from a business trip to Europe about two weeks ago. He denies any respiratory symptoms or exposure to sick individuals during his travel.\\n\\nDuring the evaluation, Mr. Anderson revealed a pertinent family history of cardiovascular disease, with his father having suffered a myocardial infarction in his 60s. He also reports that his maternal grandmother had type 2 diabetes. Mr. Anderson denies any personal history of chronic illnesses, surgeries, or hospitalizations.\\n\\nRegarding his chief complaint, Mr. Anderson describes the abdominal pain as a dull, intermittent ache located in the lower right quadrant. He rates the pain as 5 out of 10 in severity. The pain is exacerbated by physical activity and seems to worsen after meals. He denies any associated symptoms such as nausea, vomiting, or changes in bowel movements.\\n\\nBased on the information provided, further assessment and diagnostic tests will be performed to determine the underlying cause of Mr. Anderson's abdominal pain.\\\"\\n\\nQuestion: 출산 예정일이 9월인 임산부가 있나요?\\nHelpful Answer:\"\n",
            "  ]\n",
            "}\n"
          ]
        }
      ],
      "source": [
        "current_query = query2\n",
        "print(current_query)\n",
        "docs = vector_db.similarity_search(current_query, k=2)\n",
        "# print(chain.run(input_documents=docs, question=current_query))\n",
        "response = chain.invoke({\"input_documents\": docs, \"question\": current_query})\n",
        "response"
      ]
    },
    {
      "cell_type": "markdown",
      "metadata": {
        "id": "KaB8TLOap9xc"
      },
      "source": [
        "**질문 #3: 최근에 여행을 다녀온 환자는 누구인가요?**"
      ]
    },
    {
      "cell_type": "code",
      "execution_count": null,
      "metadata": {
        "id": "NQFupT2LpSFX"
      },
      "outputs": [],
      "source": [
        "current_query = query3\n",
        "print(current_query)\n",
        "docs = vector_db.similarity_search(current_query)\n",
        "# print(chain.run(input_documents=docs, question=current_query))\n",
        "response = chain.invoke({\"input_documents\": docs, \"question\": current_query})\n",
        "response"
      ]
    },
    {
      "cell_type": "code",
      "source": [
        "docs[1]"
      ],
      "metadata": {
        "id": "rCVlFkub62mx"
      },
      "execution_count": null,
      "outputs": []
    },
    {
      "cell_type": "markdown",
      "metadata": {
        "id": "59jii7MNp-kc"
      },
      "source": [
        "**질문 #4: 검사실 검사가 필요한 환자는 누구인가요?**"
      ]
    },
    {
      "cell_type": "code",
      "execution_count": null,
      "metadata": {
        "id": "u73oC9DnpSID"
      },
      "outputs": [],
      "source": [
        "current_query = query4\n",
        "print(current_query)\n",
        "docs = vector_db.similarity_search(current_query)\n",
        "# print(chain.run(input_documents=docs, question=current_query))\n",
        "response = chain.invoke({\"input_documents\": docs, \"question\": current_query})\n",
        "response"
      ]
    },
    {
      "cell_type": "code",
      "source": [
        "docs[0]"
      ],
      "metadata": {
        "id": "X3x8Vk277FgN"
      },
      "execution_count": null,
      "outputs": []
    },
    {
      "cell_type": "markdown",
      "metadata": {
        "id": "xXRqvbePqhNv"
      },
      "source": [
        "**질문 #4 수정: *확실하게* 검사실 검사를 필요로 하는 환자는 누구인가요?**"
      ]
    },
    {
      "cell_type": "code",
      "execution_count": null,
      "metadata": {
        "id": "HG_aQEqUpnby"
      },
      "outputs": [],
      "source": [
        "current_query = \"확실하게 검사실 검사를 필요로 하는 환자는 누구인가요?\"\n",
        "print(current_query)\n",
        "docs = vector_db.similarity_search(current_query)\n",
        "# print(chain.run(input_documents=docs, question=current_query))\n",
        "response = chain.invoke({\"input_documents\": docs, \"question\": current_query})\n",
        "response"
      ]
    },
    {
      "cell_type": "code",
      "source": [],
      "metadata": {
        "id": "9k_6jxANtFYf"
      },
      "execution_count": null,
      "outputs": []
    }
  ],
  "metadata": {
    "colab": {
      "provenance": []
    },
    "kernelspec": {
      "display_name": "Python 3 (ipykernel)",
      "language": "python",
      "name": "python3"
    },
    "language_info": {
      "codemirror_mode": {
        "name": "ipython",
        "version": 3
      },
      "file_extension": ".py",
      "mimetype": "text/x-python",
      "name": "python",
      "nbconvert_exporter": "python",
      "pygments_lexer": "ipython3",
      "version": "3.11.4"
    }
  },
  "nbformat": 4,
  "nbformat_minor": 0
}