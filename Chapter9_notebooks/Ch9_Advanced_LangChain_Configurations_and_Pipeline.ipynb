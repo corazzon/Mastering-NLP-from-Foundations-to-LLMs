{
  "cells": [
    {
      "cell_type": "markdown",
      "metadata": {
        "id": "O6pqnmxktdv7"
      },
      "source": [
        "# 고급 LangChain 구성 및 파이프라인 적용하기\n",
        "<img src='https://raw.githubusercontent.com/corazzon/Mastering-NLP-from-Foundations-to-LLMs/refs/heads/main/cover.png'\n",
        "     alt=\"NLP와 LLM 실전 가이드(한빛미디어)\"\n",
        "     style=\"border: 3px solid gray; box-shadow: 5px 5px 15px rgba(0, 0, 0, 0.3); border-radius: 10px; width: 300px;\"   width='300'>\n",
        "\n",
        "\n",
        "* 저자:  \n",
        "    - [Lior Gazit](https://www.linkedin.com/in/liorgazit).  \n",
        "    - [Meysam Ghaffari](https://www.linkedin.com/in/meysam-ghaffari-ph-d-a2553088/).\n",
        "* 역자:\n",
        "    - [박조은](https://github.com/corazzon)\n",
        "* 이 노트북은 다음의 책에서 소개하는 내용입니다.\n",
        "    - 역서 : NLP와 LLM 실전 가이드(한빛미디어)\n",
        "    - 원서 : [Mastering NLP from Foundations to LLMs](https://www.amazon.com/dp/1804619183)"
      ]
    },
    {
      "cell_type": "markdown",
      "metadata": {
        "id": "lmVJeXr_tu82"
      },
      "source": [
        "colab 실습 :\n",
        "https://github.com/corazzon/Mastering-NLP-from-Foundations-to-LLMs\n",
        "\n",
        "[![Open In Colab](https://colab.research.google.com/assets/colab-badge.svg)](https://colab.research.google.com/github/corazzon/Mastering-NLP-from-Foundations-to-LLMs/blob/main/Chapter9_notebooks/Ch9_Advanced_LangChain_Configurations_and_Pipeline.ipynb)  \n",
        "\n",
        "\n",
        "원서 Colab 실습 :\n",
        "https://github.com/PacktPublishing/Mastering-NLP-from-Foundations-to-LLMs   \n",
        "  \n",
        "<a target=\"_blank\" href=\"https://colab.research.google.com/github/PacktPublishing/Mastering-NLP-from-Foundations-to-LLMs/blob/liors_branch/Chapter9_notebooks/Ch9_Advanced_LangChain_Configurations_and_Pipeline.ipynb\">\n",
        "  <img src=\"https://colab.research.google.com/assets/colab-badge.svg\" alt=\"Open In Colab\"/>\n",
        "</a>"
      ]
    },
    {
      "cell_type": "markdown",
      "metadata": {
        "id": "_O6mghyBdyHh"
      },
      "source": [
        "**이 노트북의 목적:**  \n",
        "이 노트북은 8장에서 다룬 파이프라인(**Ch8_Setting_Up_LangChain_Configurations_and_Pipeline.ipynb**)을 개선한 버전입니다.  \n",
        "\n",
        "우리는 **RAG** 파이프라인을 완성하여, **임베딩**을 생성하고 이를 **벡터 DB**에 저장해 의사의 노트에서 \"내부 검색\"을 구현합니다.  \n",
        "이전 노트북과 달리, 여기서는 LLM을 활용해 검색을 수행하며, 잘못된 검색 결과로 인해 발생하는 오류를 방지합니다.  \n",
        "\n",
        "**필수 사항:**  \n",
        "* Colab에서 실행 시, 런타임 노트북 설정으로 `Python 3, CPU`를 사용하세요.  \n",
        "* 이 코드는 OpenAI의 API를 LLM으로 사용하므로, 유료 **API 키**가 필요합니다.  "
      ]
    },
    {
      "cell_type": "markdown",
      "metadata": {
        "id": "g54Uf66Vz9Fi"
      },
      "source": [
        ">*```면책사항: 이 노트북에서 다루는 내용과 아이디어는 저자들 개인의 것이며, 저자들의 고용주의 견해나 지적 재산을 대변하지 않습니다.```*"
      ]
    },
    {
      "cell_type": "markdown",
      "metadata": {
        "id": "wc4H7Oz-TKQQ"
      },
      "source": [
        "설치:"
      ]
    },
    {
      "cell_type": "code",
      "execution_count": 3,
      "metadata": {
        "colab": {
          "base_uri": "https://localhost:8080/"
        },
        "id": "G_6RT4wMTKQQ",
        "outputId": "0919a98a-ef5a-4ec0-9792-f73a211acc02"
      },
      "outputs": [
        {
          "output_type": "stream",
          "name": "stdout",
          "text": [
            "\u001b[2K   \u001b[90m━━━━━━━━━━━━━━━━━━━━━━━━━━━━━━━━━━━━━━━━\u001b[0m \u001b[32m2.5/2.5 MB\u001b[0m \u001b[31m39.5 MB/s\u001b[0m eta \u001b[36m0:00:00\u001b[0m\n",
            "\u001b[2K   \u001b[90m━━━━━━━━━━━━━━━━━━━━━━━━━━━━━━━━━━━━━━━━\u001b[0m \u001b[32m50.9/50.9 kB\u001b[0m \u001b[31m3.5 MB/s\u001b[0m eta \u001b[36m0:00:00\u001b[0m\n",
            "\u001b[?25h"
          ]
        }
      ],
      "source": [
        "# 주의사항:\n",
        "# 아래 코드에서 Python 패키지 불일치로 인한 오류가 발생하는 경우, 새로운 버전이 원인일 수 있습니다.\n",
        "# 이런 경우, \"default_installations\"를 False로 설정하여 원래 이미지로 되돌리세요:\n",
        "default_installations = True\n",
        "if default_installations:\n",
        "    !pip -q install langchain langchain_community\n",
        "    !pip -q install sentence_transformers\n",
        "    !pip -q install faiss-cpu\n",
        "    !pip -q install openai==0.28.1\n",
        "else:\n",
        "    import requests\n",
        "    text_file_path = \"requirements__Ch9_Advanced_LangChain_Configurations_and_Pipeline.txt\"\n",
        "    url = \"https://raw.githubusercontent.com/PacktPublishing/Mastering-NLP-from-Foundations-to-LLMs/main/Chapter9_notebooks/\" + text_file_path\n",
        "    res = requests.get(url)\n",
        "    with open(text_file_path, \"w\") as f:\n",
        "        f.write(res.text)\n",
        "\n",
        "    !pip install -r requirements__Ch9_Advanced_LangChain_Configurations_and_Pipeline.txt"
      ]
    },
    {
      "cell_type": "markdown",
      "metadata": {
        "id": "yACZPlFPTKQR"
      },
      "source": [
        "Imports:"
      ]
    },
    {
      "cell_type": "code",
      "execution_count": 5,
      "metadata": {
        "id": "WmDcVqb_TKQb"
      },
      "outputs": [],
      "source": [
        "import requests\n",
        "from langchain.document_loaders import TextLoader\n",
        "import textwrap\n",
        "from langchain.text_splitter import CharacterTextSplitter\n",
        "from langchain.embeddings import HuggingFaceEmbeddings\n",
        "from langchain.vectorstores import FAISS"
      ]
    },
    {
      "cell_type": "markdown",
      "metadata": {
        "id": "HWH_36ZfdcNC"
      },
      "source": [
        "코드 설정:"
      ]
    },
    {
      "cell_type": "markdown",
      "metadata": {
        "id": "lPpqKBtA5jtM"
      },
      "source": [
        "OpenAI API key:  \n",
        "**문자열 형태로 아래 \"...\"에 OpenAI에서 발급받은 key를 입력해 주세요!**  \n",
        "\n",
        "\n",
        "Colab 보안 비밀 설정은 왼쪽 열쇠 모양의 아이콘을 클릭하면 나옵니다.\n",
        "<img src=\"https://i.imgur.com/7P383n4.png\" width=\"500\">\n",
        "\n",
        "\n"
      ]
    },
    {
      "cell_type": "code",
      "execution_count": 36,
      "metadata": {
        "id": "cbbbf3de-a9d6-46cf-afab-dcb72a6154ec"
      },
      "outputs": [],
      "source": [
        "openai_api_key = \"...\"\n",
        "# colab 보안 비밀 설정 사용시 주석 해제 후 사용\n",
        "# from google.colab import userdata\n",
        "# openai_api_key = userdata.get('OPENAI_API_KEY')"
      ]
    },
    {
      "cell_type": "markdown",
      "metadata": {
        "id": "hALLW9fyXWqu"
      },
      "source": [
        "### 모의 의사 노트가 포함된 텍스트 파일 로드  \n",
        "이 파일들은 우리가 찾으려는 정보를 담고 있습니다.  \n",
        "이 예제에서는 모든 모의 보고서를 하나의 .CSV 테이블로 결합하여 로딩 과정을 간단하고 짧게 만들었습니다.  "
      ]
    },
    {
      "cell_type": "code",
      "execution_count": 7,
      "metadata": {
        "id": "j9lr1BOMXTVr"
      },
      "outputs": [],
      "source": [
        "text_file_path = \"mocked_up_physician_records.csv\"\n",
        "url = \"https://raw.githubusercontent.com/PacktPublishing/Mastering-NLP-from-Foundations-to-LLMs/main/Chapter8_notebooks/\" + text_file_path\n",
        "res = requests.get(url)\n",
        "with open(text_file_path, \"w\") as f:\n",
        "    f.write(res.text)"
      ]
    },
    {
      "cell_type": "markdown",
      "metadata": {
        "id": "Wz4zzvxUvS2v"
      },
      "source": [
        "### 한국어 버전"
      ]
    },
    {
      "cell_type": "code",
      "execution_count": 8,
      "metadata": {
        "id": "G3BdzMfyvS2v"
      },
      "outputs": [],
      "source": [
        "text_file_path = \"mocked_up_physician_records_ko.csv\"\n",
        "url = \"https://raw.githubusercontent.com/corazzon/Mastering-NLP-from-Foundations-to-LLMs/refs/heads/main/Chapter8_notebooks/\" + text_file_path\n",
        "res = requests.get(url)\n",
        "with open(text_file_path, \"w\") as f:\n",
        "    f.write(res.text)"
      ]
    },
    {
      "cell_type": "markdown",
      "metadata": {
        "id": "YChgXFOEG7pY"
      },
      "source": [
        "파일의 텍스트 내용을 로드합니다:"
      ]
    },
    {
      "cell_type": "code",
      "execution_count": 10,
      "metadata": {
        "id": "sVio4mK5XVwR"
      },
      "outputs": [],
      "source": [
        "# 문서 불러오기\n",
        "text_loader = TextLoader(text_file_path)\n",
        "documents = text_loader.load()"
      ]
    },
    {
      "cell_type": "markdown",
      "metadata": {
        "id": "W53RuDbFHCKt"
      },
      "source": [
        "LangChain 변수 유형을 확인합니다 (이것은 조작 방법을 이해하는 데 유용합니다):"
      ]
    },
    {
      "cell_type": "code",
      "execution_count": 11,
      "metadata": {
        "colab": {
          "base_uri": "https://localhost:8080/"
        },
        "id": "Du41v2SOnXtG",
        "outputId": "3d0a47d0-b769-4026-de68-83cb87538f1b"
      },
      "outputs": [
        {
          "output_type": "stream",
          "name": "stdout",
          "text": [
            "<class 'langchain_core.documents.base.Document'>\n"
          ]
        }
      ],
      "source": [
        "print(type(documents[0]))"
      ]
    },
    {
      "cell_type": "markdown",
      "metadata": {
        "id": "NIjwhtVvWOPS"
      },
      "source": [
        "문서 개수를 확인합니다:"
      ]
    },
    {
      "cell_type": "code",
      "execution_count": 12,
      "metadata": {
        "colab": {
          "base_uri": "https://localhost:8080/"
        },
        "id": "ICTYiZhMXYvQ",
        "outputId": "a46401f1-82ab-4f10-d1a8-bc11128b6474"
      },
      "outputs": [
        {
          "output_type": "execute_result",
          "data": {
            "text/plain": [
              "1"
            ]
          },
          "metadata": {},
          "execution_count": 12
        }
      ],
      "source": [
        "len(documents)"
      ]
    },
    {
      "cell_type": "markdown",
      "metadata": {
        "id": "XsawZueGWYD_"
      },
      "source": [
        "모델에 사용할 텍스트를 확인합니다."
      ]
    },
    {
      "cell_type": "code",
      "execution_count": 13,
      "metadata": {
        "colab": {
          "base_uri": "https://localhost:8080/"
        },
        "id": "Ei5Bu28KFi89",
        "outputId": "932012e6-aa81-428a-edb9-52ccef311f60"
      },
      "outputs": [
        {
          "output_type": "stream",
          "name": "stdout",
          "text": [
            "\"Title: Mocked up record\n",
            "담당의: ABC 의사\n",
            "날짜: 2099년 6월 25일\n",
            "환자 ID: 987654321\n",
            "주 증상: 복통\n",
            "현재 질환 이력:\n",
            "환자 John Anderson 씨(42세, 남성)는 복통을 주 증상으로 내원하였습니다. 기혼자로 아내와 두 자녀와 함께 살고 있습니다. Anderson 씨는 약 2주 전 유럽 출장에서 돌아왔으며, \n"
          ]
        }
      ],
      "source": [
        "print(documents[0].page_content[0:200])"
      ]
    },
    {
      "cell_type": "markdown",
      "metadata": {
        "id": "9yrck6oSHIrd"
      },
      "source": [
        "### 임베딩을 위해 데이터를 준비"
      ]
    },
    {
      "cell_type": "code",
      "execution_count": 14,
      "metadata": {
        "id": "RhLKC8ggvS2w"
      },
      "outputs": [],
      "source": [
        "# 우리가 사용하는 데이터 파일에서는 이 짧은 문자열이 서로 다른 임상 보고서들을 구분하는 구분자입니다:\n",
        "split_text_by = '\"Title: Mocked up record'\n",
        "chunk_size = 700\n",
        "chunk_overlap = 0"
      ]
    },
    {
      "cell_type": "code",
      "execution_count": 15,
      "metadata": {
        "id": "_qXNpk8vXlys"
      },
      "outputs": [],
      "source": [
        "# 텍스트 나누기\n",
        "text_splitter = CharacterTextSplitter(chunk_size=chunk_size,\n",
        "                                      chunk_overlap=chunk_overlap,\n",
        "                                      separator=split_text_by)\n",
        "splitted_docs = text_splitter.split_documents(documents)"
      ]
    },
    {
      "cell_type": "code",
      "execution_count": 16,
      "metadata": {
        "colab": {
          "base_uri": "https://localhost:8080/"
        },
        "id": "gEUp4OtxnuXL",
        "outputId": "68d26ff5-711b-49f9-bca4-759f62145c36"
      },
      "outputs": [
        {
          "output_type": "execute_result",
          "data": {
            "text/plain": [
              "4"
            ]
          },
          "metadata": {},
          "execution_count": 16
        }
      ],
      "source": [
        "len(splitted_docs)"
      ]
    },
    {
      "cell_type": "code",
      "execution_count": 17,
      "metadata": {
        "colab": {
          "base_uri": "https://localhost:8080/"
        },
        "id": "z_HUKypknucr",
        "outputId": "8eb7bad1-8438-42db-fcb3-6f7afd18c035"
      },
      "outputs": [
        {
          "output_type": "stream",
          "name": "stdout",
          "text": [
            "담당의: ABC 의사\n",
            "날짜: 2099년 6월 25일\n",
            "환자 ID: 987654321\n",
            "주 증상: 복통\n",
            "현재 질환 이력:\n",
            "환자 John Anderson 씨(42세, 남성)는 복통을 주 증상으로 내원하였습니다. 기혼자로 아내와 두 자녀와 함께 살고 있습니다. Anderson 씨는 약 2주 전 유럽 출장에서 돌아왔으며, 여행 중 호흡기 증상이나 아픈 사람과의 접촉은 없었다고 합니다.\n",
            "진료 중 Anderson 씨는 아버지가 60대에 심근경색을 앓은 심혈관 질환 가족력이 있으며, 외할머니는 제2형 당뇨병을 앓았다고 밝혔습니다. 본인은 만성 질환, 수술 경험이나 입원 이력은 없다고 합니다.\n",
            "주 증상에 대해 Anderson 씨는 우하복부에 둔하고 간헐적인 통증이 있으며, 통증 강도는 10점 만점에 5점 정도라고 설명합니다. 신체 활동 시 통증이 악화되고 식사 후에도 더 심해지는 경향이 있습니다. 구역질, 구토, 배변 습관의 변화와 같은 관련 증상은 없다고 합니다.\n",
            "제공된 정보를 바탕으로 Anderson 씨의 복통 원인을 파악하기 위한 추가 평가와 진단 검사가 진행될 예정입니다.\"\n"
          ]
        }
      ],
      "source": [
        "print(splitted_docs[0].page_content)"
      ]
    },
    {
      "cell_type": "markdown",
      "metadata": {
        "id": "G6HWzhWUaRIb"
      },
      "source": [
        "### 벡터 데이터베이스에 저장할 임베딩 생성  \n",
        "허깅페이스의 오픈 소스 모델을 사용합니다.\n",
        "* https://huggingface.co/sentence-transformers/all-mpnet-base-v2\n",
        "* MPNet은 BERT, RoBERTa, XLNet 등의 장점을 융합한 최신 Transformer 모델입니다.\n",
        "* 한국어로는 https://huggingface.co/upskyy/e5-small-korean 를 사용해 봅니다."
      ]
    },
    {
      "cell_type": "code",
      "execution_count": 18,
      "metadata": {
        "colab": {
          "base_uri": "https://localhost:8080/",
          "height": 496,
          "referenced_widgets": [
            "cc76a697a4ed4a3c89ed764cb4bc8182",
            "cb2ccfd44cea402d82a2f30673723e6d",
            "d58f11e51eff4a4180b9615ff41c8660",
            "a1d115b173b14fdc846c741e705fe0d4",
            "2c9a0b89d98a41a1a8dd1a156da47638",
            "4f09fd42ee3048aa927e1561b47a0092",
            "1bffedf638244fc1b01a00e3152b773c",
            "d56159324bdb4e9db989a4cc072eb4f9",
            "f991daa5506c42189de982d3ee3fd7b5",
            "34a61f81dc7f461e856ed3d1ea908147",
            "d591c2d434b348aeb7211a29af6e8a4b",
            "b8c53b271e9844a09cc54e53fa1d400b",
            "4e40d19999e041c1a4b62235d8b60237",
            "cc29cf7bff534b6b970ab25f212a32f2",
            "8bd1ffe9594443998c3de4a70adf31a5",
            "be597fb2db6447758ede13b9fe0de684",
            "6c34f7c08f2848a0938d83659c88469c",
            "bfc012092d464e3d8ed4bc48828c6fdb",
            "dd6c9ef4148a4d7caa78fa734fc20d30",
            "f5e6a71568a04973b4e7442fb55a958f",
            "34a98cfe50144f299eea3d411ab6b916",
            "b33f9ff75f8d4037bb2eeb1b6bbd82e1",
            "e00110481d374fe0b2585352ddca99ae",
            "37638923a0c24d1082e2dca3dda896f4",
            "2e2296ed3354407c92ce958f5bc1fe3d",
            "a7d592b0faba4dd79b352800d633ef3a",
            "aec128c5af3344ee88af4d4a9c99f8d7",
            "2c7c2874839f48c6a2bef9a1a3753733",
            "b1788946f63b4b9f8bf137ded49fb95b",
            "9beb587233434c67b852ff084f37e2eb",
            "4a55397098774d81a0b9fe9d16472103",
            "5f95f7f30cbe4d38a1fc4ecac9462add",
            "6a6dd40650de40d58fa4b2a032b0d3bb",
            "c8011ebb744f41d38d4bb25b62ff6fe9",
            "ec158a6dffdc4a11ab6107b5dab937d6",
            "07be70f17c7e464dbb505ad3dd2a93b0",
            "10a9c726a7c5408a9d2a7697d55d8511",
            "30db2be6f30a4ebb927c4903829b4863",
            "d451b90df510400a9d0d041ce467d0f3",
            "3c777aecfc5f4be982a5feebe3bbb07f",
            "4819c2a845a14423931d516973cc9291",
            "61fa064156e1462b857f41bd0c8079bf",
            "64fafacbb23c4049874b34e26d2105e1",
            "9ab943cddae04c3588ea84aacb0bd5e4",
            "cfc541ec4bda49fd910e8d1c004678d6",
            "76cf3f3908134c288a5b4d11062c9a36",
            "c5b1f0728be444f4bcef9892f2ca1e22",
            "35f9fb0430c743a7a54683b8dcaba713",
            "a7210bc21dfa4842abfbe62da34279a4",
            "675e8639469e461aba9406f8341507c6",
            "8b61d5995006447999e010853c803200",
            "2aa2f27deb764f70a43b289ec380763b",
            "15f655ebde21450497496a9caa9eb40b",
            "ff3e880cd9744d48918cdde4bdb17df3",
            "3a640671aed4459890cac66e391ff56c",
            "5f64be4fe4cb4fcd8426409398e9c1d8",
            "812a020a2f784a6393f23582dc8896c6",
            "bda90e9a6c6043038663cf3f81f41900",
            "b8858d7ec52f456aa37c15d359913a94",
            "c7d681b837b5405e9b276d4d023ac865",
            "4bb7fda113cf46a7896b16acb8a7e61e",
            "7c03edac4d93465fac423e5189e09f43",
            "c717faa5bdd44c69b3de04af2891841d",
            "88f3a8a397864ae98e4a7d8f34e011d9",
            "e19c6707596d47c5b6ba260bcac2a054",
            "0b2efe81beb342d28bd69ea804dcb90c",
            "7bd6e22fa04e44f99381084ab46c60dd",
            "4a173a8908dd4abe9ac68284a50def42",
            "e3e1009634e0410f8ef9bc350de63683",
            "01c801d69d704ea39b8391b1478b6c71",
            "c30512d57c29476fbb1f6523178149da",
            "7b8711018240436c9b87a42559c411ab",
            "d0765cb44bca4565bd7bb45984908d75",
            "aa89398c97e54aa89efaa49e3199393d",
            "69cc6d3b4fa84cda948a1fd453a55e30",
            "e7e61c26d5c04bb9aa1194bf35cf3f5e",
            "7d9b2b15b31247d48622d721e3193eeb",
            "3854d7fdf285406a8d447fb0a65a79da",
            "32a634f7c9534efba490e0813ef05ed1",
            "6c5a1bac20ed4190b14f9f78be9a32e5",
            "2535ffe305994053969476cd6804ab4e",
            "5da48e2345784b7ab1e7f5f1b086b191",
            "7cd50a92435e48ee9b1d48aed6a0cef2",
            "c239dc38bacd45999fa910ecd6ffb49f",
            "15142c2dc9e74c6eae6d8c631fdbe36c",
            "f452194eb8f14055a9a62b534716cfef",
            "72c5267c68d945d488c675ef142faa44",
            "0b5c1cc82f4843d6bebe10e29f9c880b",
            "a15c9ea4e84b4d1dbf9dc8f711fc939c",
            "e8dcbf30839f480e8aea0197478a37a2",
            "fc1804a1358c4161b4b1d3637b4cce11",
            "bd2af6dde17c4a1683abd485394d94a5",
            "73b06c1c112445fcb8cc46125dfb9de1",
            "0f2d07fd37f04b25bedc8871ea39dd38",
            "248ecb3c43bb4797bf7bc2c098abb4b4",
            "b5ec30a220d543ac85bb3a2aa410387c",
            "15cc0e4d82a343e3a9f8ff8d4215817d",
            "df62ab9d99ee40fdb1c261b26259c7a4",
            "6f977347585b4abb915705350d94984f",
            "f58b77f63db243a192b93b69462e63d7",
            "41ab7b7cd7914de19a3e44b546d70803",
            "26f8a7d6ffc94abeb1181b1c37951862",
            "64741ff8dc9747759d78f0a9314598cf",
            "3a433b2343854745901337182f009b56",
            "e0f61de5688e49c3b1a0d609a5d02db7",
            "72379c10a75246279147fc5b333c4c6a",
            "8a53498498d6476da61abbc9c8b05610",
            "9fd573ce93194b4eb585838b4bc8c57b",
            "693f6727afa847a19da063f1c8159fd2",
            "0d20d150aa084659bc2ff0ef261c26e0"
          ]
        },
        "id": "uctYbK6YXmxI",
        "outputId": "8b464421-445f-4a86-8ee3-fc4579131186"
      },
      "outputs": [
        {
          "output_type": "stream",
          "name": "stderr",
          "text": [
            "<ipython-input-18-4901b9960a1f>:2: LangChainDeprecationWarning: The class `HuggingFaceEmbeddings` was deprecated in LangChain 0.2.2 and will be removed in 1.0. An updated version of the class exists in the :class:`~langchain-huggingface package and should be used instead. To use it run `pip install -U :class:`~langchain-huggingface` and import as `from :class:`~langchain_huggingface import HuggingFaceEmbeddings``.\n",
            "  embeddings = HuggingFaceEmbeddings(model_name=\"upskyy/e5-small-korean\")\n",
            "/usr/local/lib/python3.11/dist-packages/huggingface_hub/utils/_auth.py:94: UserWarning: \n",
            "The secret `HF_TOKEN` does not exist in your Colab secrets.\n",
            "To authenticate with the Hugging Face Hub, create a token in your settings tab (https://huggingface.co/settings/tokens), set it as secret in your Google Colab and restart your session.\n",
            "You will be able to reuse this secret in all of your notebooks.\n",
            "Please note that authentication is recommended but still optional to access public models or datasets.\n",
            "  warnings.warn(\n"
          ]
        },
        {
          "output_type": "display_data",
          "data": {
            "text/plain": [
              "modules.json:   0%|          | 0.00/229 [00:00<?, ?B/s]"
            ],
            "application/vnd.jupyter.widget-view+json": {
              "version_major": 2,
              "version_minor": 0,
              "model_id": "cc76a697a4ed4a3c89ed764cb4bc8182"
            }
          },
          "metadata": {}
        },
        {
          "output_type": "display_data",
          "data": {
            "text/plain": [
              "README.md:   0%|          | 0.00/9.77k [00:00<?, ?B/s]"
            ],
            "application/vnd.jupyter.widget-view+json": {
              "version_major": 2,
              "version_minor": 0,
              "model_id": "b8c53b271e9844a09cc54e53fa1d400b"
            }
          },
          "metadata": {}
        },
        {
          "output_type": "display_data",
          "data": {
            "text/plain": [
              "sentence_bert_config.json:   0%|          | 0.00/53.0 [00:00<?, ?B/s]"
            ],
            "application/vnd.jupyter.widget-view+json": {
              "version_major": 2,
              "version_minor": 0,
              "model_id": "e00110481d374fe0b2585352ddca99ae"
            }
          },
          "metadata": {}
        },
        {
          "output_type": "display_data",
          "data": {
            "text/plain": [
              "config.json:   0%|          | 0.00/628 [00:00<?, ?B/s]"
            ],
            "application/vnd.jupyter.widget-view+json": {
              "version_major": 2,
              "version_minor": 0,
              "model_id": "c8011ebb744f41d38d4bb25b62ff6fe9"
            }
          },
          "metadata": {}
        },
        {
          "output_type": "display_data",
          "data": {
            "text/plain": [
              "model.safetensors:   0%|          | 0.00/471M [00:00<?, ?B/s]"
            ],
            "application/vnd.jupyter.widget-view+json": {
              "version_major": 2,
              "version_minor": 0,
              "model_id": "cfc541ec4bda49fd910e8d1c004678d6"
            }
          },
          "metadata": {}
        },
        {
          "output_type": "display_data",
          "data": {
            "text/plain": [
              "tokenizer_config.json:   0%|          | 0.00/1.17k [00:00<?, ?B/s]"
            ],
            "application/vnd.jupyter.widget-view+json": {
              "version_major": 2,
              "version_minor": 0,
              "model_id": "5f64be4fe4cb4fcd8426409398e9c1d8"
            }
          },
          "metadata": {}
        },
        {
          "output_type": "display_data",
          "data": {
            "text/plain": [
              "sentencepiece.bpe.model:   0%|          | 0.00/5.07M [00:00<?, ?B/s]"
            ],
            "application/vnd.jupyter.widget-view+json": {
              "version_major": 2,
              "version_minor": 0,
              "model_id": "7bd6e22fa04e44f99381084ab46c60dd"
            }
          },
          "metadata": {}
        },
        {
          "output_type": "display_data",
          "data": {
            "text/plain": [
              "tokenizer.json:   0%|          | 0.00/17.1M [00:00<?, ?B/s]"
            ],
            "application/vnd.jupyter.widget-view+json": {
              "version_major": 2,
              "version_minor": 0,
              "model_id": "3854d7fdf285406a8d447fb0a65a79da"
            }
          },
          "metadata": {}
        },
        {
          "output_type": "display_data",
          "data": {
            "text/plain": [
              "special_tokens_map.json:   0%|          | 0.00/965 [00:00<?, ?B/s]"
            ],
            "application/vnd.jupyter.widget-view+json": {
              "version_major": 2,
              "version_minor": 0,
              "model_id": "a15c9ea4e84b4d1dbf9dc8f711fc939c"
            }
          },
          "metadata": {}
        },
        {
          "output_type": "display_data",
          "data": {
            "text/plain": [
              "config.json:   0%|          | 0.00/296 [00:00<?, ?B/s]"
            ],
            "application/vnd.jupyter.widget-view+json": {
              "version_major": 2,
              "version_minor": 0,
              "model_id": "f58b77f63db243a192b93b69462e63d7"
            }
          },
          "metadata": {}
        }
      ],
      "source": [
        "# embeddings = HuggingFaceEmbeddings(model_name=\"sentence-transformers/all-mpnet-base-v2\")\n",
        "embeddings = HuggingFaceEmbeddings(model_name=\"upskyy/e5-small-korean\")"
      ]
    },
    {
      "cell_type": "markdown",
      "metadata": {
        "id": "BQxBuY1Vq_EG"
      },
      "source": [
        "### 벡터 데이터베이스 생성\n",
        "\n",
        "<img src=\"https://python.langchain.com/assets/images/vectorstores-2540b4bc355b966c99b0f02cfdddb273.png\">\n",
        "\n",
        "* 출처 : https://python.langchain.com/docs/concepts/vectorstores/\n",
        "\n",
        "벡터 데이터베이스로는 FAISS(Facebook AI Similarity Search)를 선택했습니다:\n",
        "\n",
        "자세한 내용은 다음 링크를 참조하세요:\n",
        "\n",
        "* https://python.langchain.com/docs/integrations/vectorstores/\n",
        "* https://python.langchain.com/v0.1/docs/integrations/vectorstores/faiss/#:~:text=Now%2C%20we%20can%20query%20the,similarity_search"
      ]
    },
    {
      "cell_type": "code",
      "execution_count": 19,
      "metadata": {
        "id": "Zc7cEOR0Fi_o"
      },
      "outputs": [],
      "source": [
        "vector_db = FAISS.from_documents(splitted_docs, embeddings)"
      ]
    },
    {
      "cell_type": "markdown",
      "metadata": {
        "id": "5orXbaPj5uie"
      },
      "source": [
        "### \"내부\" 문서를 기반으로 유사도 검색 수행  "
      ]
    },
    {
      "cell_type": "markdown",
      "metadata": {
        "id": "HUETRq3nxjdg"
      },
      "source": [
        "**질문 #1: 8월에 출산 예정인 임산부 환자가 있나요?**  "
      ]
    },
    {
      "cell_type": "code",
      "execution_count": 46,
      "metadata": {
        "colab": {
          "base_uri": "https://localhost:8080/"
        },
        "id": "lCu4Ors_FjCU",
        "outputId": "a8304c56-6e1e-4535-caef-08dbd3462d00"
      },
      "outputs": [
        {
          "output_type": "stream",
          "name": "stdout",
          "text": [
            "담당의: ABC 의사\n",
            "날짜: 2099년 7월 10일\n",
            "환자 ID: 246813579\n",
            "주 증상: 임신 정기 검진\n",
            "현재 질환 이력:\n",
            "환자 Emily Adams 씨(30세, 여성)는 정기\n",
            "임신 검진을 위해 내원하였습니다. 현재 임신 32주차로, 2099년 8월 27일이 출산 예정일입니다. 기혼자로 남편과 함께 살고 있습니다.\n",
            "진료 중 Adams 씨는 어머니가 임신\n",
            "중 임신성 당뇨를 앓았던 가족력이 있다고 밝혔습니다. 본인은 중요한 병력이나 수술 경험, 이전 임신에서의 합병증은 없다고 합니다.\n",
            "주 증상에 대해 Adams 씨는 임신 3기에 흔히\n",
            "나타나는 요통, 잦은 소변, 가끔의 속쓰림 등의 불편함을 호소합니다. 질 출혈, 심한 복통, 태아 움직임의 특이한 변화는 없다고 합니다. 임신 중 전반적인 건강 관리를 위해 균형\n",
            "잡힌 식단과 규칙적인 운동을 유지하고 있다고 합니다.\n",
            "제공된 정보를 바탕으로 Adams 씨의 임신 경과를 확인하기 위한 정기 산전 검사가 진행될 예정입니다. 혈압, 체중 증가,\n",
            "자궁저 높이 측정, 태아 심장 박동 모니터링 등을 평가할 것입니다. 건강한 출산과 순조로운 육아를 위해 출산 준비, 모유 수유, 산후 관리에 대한 상담도 함께 이루어질\n",
            "예정입니다.\"\n"
          ]
        }
      ],
      "source": [
        "# query1 = \"Are there any pregnant patients who are due to deliver in August?\"\n",
        "query1 = \"8월에 출산 예정인 임산부 환자가 있나요?\"\n",
        "docs = vector_db.similarity_search(query1)\n",
        "print(textwrap.fill(str(docs[0].page_content), width=100, replace_whitespace=False))"
      ]
    },
    {
      "cell_type": "markdown",
      "metadata": {
        "id": "VbR-2uxDxCep"
      },
      "source": [
        "**[오류의 예!] 질문 #2: 출산 예정일이 9월인 임산부가 있나요?**  \n",
        "이것은 유사성 검색이 **틀린 결과**를 제공하는 예입니다.  \n",
        "질문과 유사한 텍스트를 제공하긴 했지만, 이 사례는 유사성이 정답을 맞히는 것과는 다르다는 점을 보여줍니다.  "
      ]
    },
    {
      "cell_type": "code",
      "execution_count": 47,
      "metadata": {
        "colab": {
          "base_uri": "https://localhost:8080/"
        },
        "id": "z8wvzQSvFjFP",
        "outputId": "7aacc5f2-6589-4b05-adce-442abdcb9f69"
      },
      "outputs": [
        {
          "output_type": "stream",
          "name": "stdout",
          "text": [
            "담당의: ABC 의사\n",
            "날짜: 2099년 7월 10일\n",
            "환자 ID: 246813579\n",
            "주 증상: 임신 정기 검진\n",
            "현재 질환 이력:\n",
            "환자 Emily Adams 씨(30세, 여성)는 정기\n",
            "임신 검진을 위해 내원하였습니다. 현재 임신 32주차로, 2099년 8월 27일이 출산 예정일입니다. 기혼자로 남편과 함께 살고 있습니다.\n",
            "진료 중 Adams 씨는 어머니가 임신\n",
            "중 임신성 당뇨를 앓았던 가족력이 있다고 밝혔습니다. 본인은 중요한 병력이나 수술 경험, 이전 임신에서의 합병증은 없다고 합니다.\n",
            "주 증상에 대해 Adams 씨는 임신 3기에 흔히\n",
            "나타나는 요통, 잦은 소변, 가끔의 속쓰림 등의 불편함을 호소합니다. 질 출혈, 심한 복통, 태아 움직임의 특이한 변화는 없다고 합니다. 임신 중 전반적인 건강 관리를 위해 균형\n",
            "잡힌 식단과 규칙적인 운동을 유지하고 있다고 합니다.\n",
            "제공된 정보를 바탕으로 Adams 씨의 임신 경과를 확인하기 위한 정기 산전 검사가 진행될 예정입니다. 혈압, 체중 증가,\n",
            "자궁저 높이 측정, 태아 심장 박동 모니터링 등을 평가할 것입니다. 건강한 출산과 순조로운 육아를 위해 출산 준비, 모유 수유, 산후 관리에 대한 상담도 함께 이루어질\n",
            "예정입니다.\"\n"
          ]
        }
      ],
      "source": [
        "query2 = \"출산 예정일이 9월인 임산부가 있나요?\"\n",
        "docs = vector_db.similarity_search(query2)\n",
        "print(textwrap.fill(str(docs[0].page_content), width=100, replace_whitespace=False))"
      ]
    },
    {
      "cell_type": "markdown",
      "metadata": {
        "id": "kpcrVa5xxpRg"
      },
      "source": [
        "**질문 #3: 최근에 여행을 다녀온 환자는 누구인가요?**"
      ]
    },
    {
      "cell_type": "code",
      "execution_count": 48,
      "metadata": {
        "colab": {
          "base_uri": "https://localhost:8080/"
        },
        "id": "An1HjqivFjIL",
        "outputId": "38874d57-04ba-45f9-f304-246730c95d3b"
      },
      "outputs": [
        {
          "output_type": "stream",
          "name": "stdout",
          "text": [
            "담당의: ABC 의사\n",
            "날짜: 2099년 11월 15일\n",
            "환자 ID: 123456789\n",
            "주 증상: 피로감과 관절통\n",
            "현재 질환 이력:\n",
            "환자 Sarah Thompson 씨(57세,\n",
            "여성)는 피로감과 관절통을 호소하며 내원하였습니다. 홀로 거주 중인 미망인으로, 최근 해외여행 이력은 없습니다.\n",
            "진료 중 Thompson 씨는 자매가 류마티스 관절염 진단을 받은\n",
            "자가면역 질환 가족력이 있다고 밝혔습니다. 또한 본인은 갑상선 기능 저하증이 있어 갑상선 호르몬 대체 요법으로 관리 중이라고 합니다.\n",
            "주 증상에 대해 Thompson 씨는 일상\n",
            "활동에 지장을 줄 정도로 지속적이고 심한 피로감을 느끼며, 그 정도는 10점 만점에 8점이라고 표현했습니다. 또한 주로 무릎과 손목에 관절통이 있는데, 아침에 더 심하고 하루 중\n",
            "활동하면서 점차 나아진다고 합니다. 관절 부위의 붓기나 붉어짐은 없다고 합니다.\n",
            "임상 소견을 바탕으로 Thompson 씨의 피로감과 관절통의 원인을 찾기 위한 추가 검사가\n",
            "필요합니다. 혈액 검사, 영상 검사 및 필요시 전문의 상담을 진행할 예정입니다.\"\n"
          ]
        }
      ],
      "source": [
        "query3 = \"최근에 여행을 다녀온 환자는 누구인가요?\"\n",
        "docs = vector_db.similarity_search(query3)\n",
        "print(textwrap.fill(str(docs[0].page_content), width=100, replace_whitespace=False))"
      ]
    },
    {
      "cell_type": "markdown",
      "metadata": {
        "id": "EXjrPg4Kxxy4"
      },
      "source": [
        "**질문 #4: 검사실 검사가 필요한 환자는 누구인가요?**"
      ]
    },
    {
      "cell_type": "code",
      "execution_count": 49,
      "metadata": {
        "colab": {
          "base_uri": "https://localhost:8080/"
        },
        "id": "oqoVJmpqFjKs",
        "outputId": "eeefb3e1-782a-41b4-893d-c712de9a2459"
      },
      "outputs": [
        {
          "output_type": "stream",
          "name": "stdout",
          "text": [
            "담당의: ABC 의사\n",
            "날짜: 2099년 11월 15일\n",
            "환자 ID: 123456789\n",
            "주 증상: 피로감과 관절통\n",
            "현재 질환 이력:\n",
            "환자 Sarah Thompson 씨(57세,\n",
            "여성)는 피로감과 관절통을 호소하며 내원하였습니다. 홀로 거주 중인 미망인으로, 최근 해외여행 이력은 없습니다.\n",
            "진료 중 Thompson 씨는 자매가 류마티스 관절염 진단을 받은\n",
            "자가면역 질환 가족력이 있다고 밝혔습니다. 또한 본인은 갑상선 기능 저하증이 있어 갑상선 호르몬 대체 요법으로 관리 중이라고 합니다.\n",
            "주 증상에 대해 Thompson 씨는 일상\n",
            "활동에 지장을 줄 정도로 지속적이고 심한 피로감을 느끼며, 그 정도는 10점 만점에 8점이라고 표현했습니다. 또한 주로 무릎과 손목에 관절통이 있는데, 아침에 더 심하고 하루 중\n",
            "활동하면서 점차 나아진다고 합니다. 관절 부위의 붓기나 붉어짐은 없다고 합니다.\n",
            "임상 소견을 바탕으로 Thompson 씨의 피로감과 관절통의 원인을 찾기 위한 추가 검사가\n",
            "필요합니다. 혈액 검사, 영상 검사 및 필요시 전문의 상담을 진행할 예정입니다.\"\n"
          ]
        }
      ],
      "source": [
        "query4 = \"검사실 검사가 필요한 환자는 누구인가요?\"\n",
        "docs = vector_db.similarity_search(query4)\n",
        "print(textwrap.fill(str(docs[0].page_content), width=100, replace_whitespace=False))"
      ]
    },
    {
      "cell_type": "markdown",
      "metadata": {
        "id": "OgQuV5Zv6Be7"
      },
      "source": [
        "****\n",
        "다음 단계 전에 메모리를 정리합니다 (로컬 호스팅된 LLM을 선택한 경우에 유용):"
      ]
    },
    {
      "cell_type": "code",
      "execution_count": 24,
      "metadata": {
        "colab": {
          "base_uri": "https://localhost:8080/"
        },
        "id": "L_70cf1K4aUD",
        "outputId": "d02b41a1-0a07-4338-9dcf-115574dcf3ad"
      },
      "outputs": [
        {
          "output_type": "stream",
          "name": "stdout",
          "text": [
            "_i1 1610\n",
            "_i3 1650\n",
            "TextLoader 1688\n",
            "CharacterTextSplitter 1688\n",
            "HuggingFaceEmbeddings 1688\n",
            "FAISS 1688\n"
          ]
        }
      ],
      "source": [
        "import sys\n",
        "\n",
        "local_vars = list(locals().items())\n",
        "for var, obj in local_vars:\n",
        "  if(sys.getsizeof(obj)) > 999:\n",
        "    print(var, sys.getsizeof(obj))"
      ]
    },
    {
      "cell_type": "code",
      "execution_count": 25,
      "metadata": {
        "colab": {
          "base_uri": "https://localhost:8080/"
        },
        "id": "FC2RbDX938k9",
        "outputId": "5554b801-bc41-4906-d018-1f8a1dd8739a"
      },
      "outputs": [
        {
          "output_type": "execute_result",
          "data": {
            "text/plain": [
              "354"
            ]
          },
          "metadata": {},
          "execution_count": 25
        }
      ],
      "source": [
        "import gc\n",
        "del CharacterTextSplitter\n",
        "del HuggingFaceEmbeddings\n",
        "del TextLoader\n",
        "del FAISS\n",
        "gc.collect()"
      ]
    },
    {
      "cell_type": "markdown",
      "metadata": {
        "id": "9Jx4gx7iYyp0"
      },
      "source": [
        "****"
      ]
    },
    {
      "cell_type": "markdown",
      "metadata": {
        "id": "oLSRUmQOY0nY"
      },
      "source": [
        "# 8장 노트북의 개선: 요청 처리를 위한 LLM 설정  \n",
        "이제 해당 파이프라인을 개선하겠습니다. 단순히 유사성 검색 결과를 의사에게 제공하는 것에 그치지 않고, 요청과 유사한 내용으로 간주된 결과를 바탕으로 LLM을 활용하여 이를 검토하고, 실제로 의사에게 적합한 결과를 판별해낼 것입니다.  "
      ]
    },
    {
      "cell_type": "code",
      "execution_count": 26,
      "metadata": {
        "colab": {
          "base_uri": "https://localhost:8080/"
        },
        "id": "oYVAJkBrlR0n",
        "outputId": "0a20705c-7365-408b-d5d2-d61a38e06620"
      },
      "outputs": [
        {
          "output_type": "stream",
          "name": "stdout",
          "text": [
            "\u001b[?25l   \u001b[90m━━━━━━━━━━━━━━━━━━━━━━━━━━━━━━━━━━━━━━━━\u001b[0m \u001b[32m0.0/6.0 MB\u001b[0m \u001b[31m?\u001b[0m eta \u001b[36m-:--:--\u001b[0m\r\u001b[2K   \u001b[91m━\u001b[0m\u001b[91m╸\u001b[0m\u001b[90m━━━━━━━━━━━━━━━━━━━━━━━━━━━━━━━━━━━━━━\u001b[0m \u001b[32m0.3/6.0 MB\u001b[0m \u001b[31m8.4 MB/s\u001b[0m eta \u001b[36m0:00:01\u001b[0m\r\u001b[2K   \u001b[91m━━━━━━━━━━━━━━━━━━\u001b[0m\u001b[91m╸\u001b[0m\u001b[90m━━━━━━━━━━━━━━━━━━━━━\u001b[0m \u001b[32m2.8/6.0 MB\u001b[0m \u001b[31m39.9 MB/s\u001b[0m eta \u001b[36m0:00:01\u001b[0m\r\u001b[2K   \u001b[91m━━━━━━━━━━━━━━━━━━━━━━━━━━━━━━━━━━━━━━━\u001b[0m\u001b[91m╸\u001b[0m \u001b[32m6.0/6.0 MB\u001b[0m \u001b[31m58.0 MB/s\u001b[0m eta \u001b[36m0:00:01\u001b[0m\r\u001b[2K   \u001b[91m━━━━━━━━━━━━━━━━━━━━━━━━━━━━━━━━━━━━━━━\u001b[0m\u001b[91m╸\u001b[0m \u001b[32m6.0/6.0 MB\u001b[0m \u001b[31m58.0 MB/s\u001b[0m eta \u001b[36m0:00:01\u001b[0m\r\u001b[2K   \u001b[90m━━━━━━━━━━━━━━━━━━━━━━━━━━━━━━━━━━━━━━━━\u001b[0m \u001b[32m6.0/6.0 MB\u001b[0m \u001b[31m40.5 MB/s\u001b[0m eta \u001b[36m0:00:00\u001b[0m\n",
            "\u001b[?25h"
          ]
        }
      ],
      "source": [
        "!pip -q install openai gpt4all==1.0.12"
      ]
    },
    {
      "cell_type": "code",
      "execution_count": 27,
      "metadata": {
        "colab": {
          "base_uri": "https://localhost:8080/"
        },
        "id": "B2NgP795lksD",
        "outputId": "585e51f3-1cd7-4f30-99cd-36b1465e3ccc"
      },
      "outputs": [
        {
          "output_type": "stream",
          "name": "stdout",
          "text": [
            "--2025-03-11 10:31:03--  https://huggingface.co/TheBloke/Nous-Hermes-13B-GGML/resolve/main/nous-hermes-13b.ggmlv3.q4_0.bin\n",
            "Resolving huggingface.co (huggingface.co)... 3.165.160.59, 3.165.160.12, 3.165.160.11, ...\n",
            "Connecting to huggingface.co (huggingface.co)|3.165.160.59|:443... connected.\n",
            "HTTP request sent, awaiting response... 302 Found\n",
            "Location: https://cdn-lfs.hf.co/repos/7e/26/7e26b3c7ced64f7024dbcce87fddd78a593c50c86955e5a756d14710387ada70/d1735b93e1dc503f1045ccd6c8bd73277b18ba892befd1dc29e9b9a7822ed998?response-content-disposition=inline%3B+filename*%3DUTF-8%27%27nous-hermes-13b.ggmlv3.q4_0.bin%3B+filename%3D%22nous-hermes-13b.ggmlv3.q4_0.bin%22%3B&response-content-type=application%2Foctet-stream&Expires=1741692664&Policy=eyJTdGF0ZW1lbnQiOlt7IkNvbmRpdGlvbiI6eyJEYXRlTGVzc1RoYW4iOnsiQVdTOkVwb2NoVGltZSI6MTc0MTY5MjY2NH19LCJSZXNvdXJjZSI6Imh0dHBzOi8vY2RuLWxmcy5oZi5jby9yZXBvcy83ZS8yNi83ZTI2YjNjN2NlZDY0ZjcwMjRkYmNjZTg3ZmRkZDc4YTU5M2M1MGM4Njk1NWU1YTc1NmQxNDcxMDM4N2FkYTcwL2QxNzM1YjkzZTFkYzUwM2YxMDQ1Y2NkNmM4YmQ3MzI3N2IxOGJhODkyYmVmZDFkYzI5ZTliOWE3ODIyZWQ5OTg%7EcmVzcG9uc2UtY29udGVudC1kaXNwb3NpdGlvbj0qJnJlc3BvbnNlLWNvbnRlbnQtdHlwZT0qIn1dfQ__&Signature=YiRwR4Bqenfeu4hXByb-YAxJ550KndrK3Nn2lra7Pybo9gvdlSQeyfxzBSeZEUiw7MEA39xaJjiDR8x14ej377a1CMzPw7OLBA1jalDXwMuy79-IzlELPPG67xbY9HSTGmiyI3inbOBfaEuNqR3bXdd7SbOtOP9rF8VfG7sWANajBpyR0b%7E-EN24lFQf-v36PmvwY1aF1PQPfIYq%7E33rNqCGZjPlueuna-z8KGCcde81s2ibnvXjWOm-U4ZpiwCdd502kriILR1RKJeTee%7Ee3p-HvOpzBJ0aasw1mL%7Eew9bCojVbA0av1Pi44JWjhsKwmbloB%7EtvhJ7XDOCEs531pg__&Key-Pair-Id=K3RPWS32NSSJCE [following]\n",
            "--2025-03-11 10:31:04--  https://cdn-lfs.hf.co/repos/7e/26/7e26b3c7ced64f7024dbcce87fddd78a593c50c86955e5a756d14710387ada70/d1735b93e1dc503f1045ccd6c8bd73277b18ba892befd1dc29e9b9a7822ed998?response-content-disposition=inline%3B+filename*%3DUTF-8%27%27nous-hermes-13b.ggmlv3.q4_0.bin%3B+filename%3D%22nous-hermes-13b.ggmlv3.q4_0.bin%22%3B&response-content-type=application%2Foctet-stream&Expires=1741692664&Policy=eyJTdGF0ZW1lbnQiOlt7IkNvbmRpdGlvbiI6eyJEYXRlTGVzc1RoYW4iOnsiQVdTOkVwb2NoVGltZSI6MTc0MTY5MjY2NH19LCJSZXNvdXJjZSI6Imh0dHBzOi8vY2RuLWxmcy5oZi5jby9yZXBvcy83ZS8yNi83ZTI2YjNjN2NlZDY0ZjcwMjRkYmNjZTg3ZmRkZDc4YTU5M2M1MGM4Njk1NWU1YTc1NmQxNDcxMDM4N2FkYTcwL2QxNzM1YjkzZTFkYzUwM2YxMDQ1Y2NkNmM4YmQ3MzI3N2IxOGJhODkyYmVmZDFkYzI5ZTliOWE3ODIyZWQ5OTg%7EcmVzcG9uc2UtY29udGVudC1kaXNwb3NpdGlvbj0qJnJlc3BvbnNlLWNvbnRlbnQtdHlwZT0qIn1dfQ__&Signature=YiRwR4Bqenfeu4hXByb-YAxJ550KndrK3Nn2lra7Pybo9gvdlSQeyfxzBSeZEUiw7MEA39xaJjiDR8x14ej377a1CMzPw7OLBA1jalDXwMuy79-IzlELPPG67xbY9HSTGmiyI3inbOBfaEuNqR3bXdd7SbOtOP9rF8VfG7sWANajBpyR0b%7E-EN24lFQf-v36PmvwY1aF1PQPfIYq%7E33rNqCGZjPlueuna-z8KGCcde81s2ibnvXjWOm-U4ZpiwCdd502kriILR1RKJeTee%7Ee3p-HvOpzBJ0aasw1mL%7Eew9bCojVbA0av1Pi44JWjhsKwmbloB%7EtvhJ7XDOCEs531pg__&Key-Pair-Id=K3RPWS32NSSJCE\n",
            "Resolving cdn-lfs.hf.co (cdn-lfs.hf.co)... 18.238.217.120, 18.238.217.81, 18.238.217.113, ...\n",
            "Connecting to cdn-lfs.hf.co (cdn-lfs.hf.co)|18.238.217.120|:443... connected.\n",
            "HTTP request sent, awaiting response... 200 OK\n",
            "Length: 7323310848 (6.8G) [application/octet-stream]\n",
            "Saving to: ‘nous-hermes-13b.ggmlv3.q4_0.bin’\n",
            "\n",
            "nous-hermes-13b.ggm 100%[===================>]   6.82G  38.0MB/s    in 2m 50s  \n",
            "\n",
            "2025-03-11 10:33:55 (41.0 MB/s) - ‘nous-hermes-13b.ggmlv3.q4_0.bin’ saved [7323310848/7323310848]\n",
            "\n"
          ]
        }
      ],
      "source": [
        "!wget https://huggingface.co/TheBloke/Nous-Hermes-13B-GGML/resolve/main/nous-hermes-13b.ggmlv3.q4_0.bin"
      ]
    },
    {
      "cell_type": "code",
      "execution_count": 28,
      "metadata": {
        "id": "TYPfX7HEFjNk"
      },
      "outputs": [],
      "source": [
        "import os\n",
        "import langchain\n",
        "from langchain.chains.question_answering import load_qa_chain\n",
        "from langchain import HuggingFaceHub\n",
        "from langchain.chat_models import ChatOpenAI\n",
        "from langchain.llms import GPT4All"
      ]
    },
    {
      "cell_type": "markdown",
      "metadata": {
        "id": "SkX23K8tdDjC"
      },
      "source": [
        "### LLM 설정: 유료 LLM(OpenAI의 GPT)과 무료 LLM(Hugging Face 모델) 중 선택  "
      ]
    },
    {
      "cell_type": "code",
      "execution_count": 29,
      "metadata": {
        "id": "9PBWA0b1dSW9"
      },
      "outputs": [],
      "source": [
        "paid_vs_free = \"paid\"\n",
        "\n",
        "# GPT4all .bin 파일의 경로 (Google Colab에서 실행하기에 적합):\n",
        "path_to_bin = \"/content/nous-hermes-13b.ggmlv3.q4_0.bin\"\n",
        "\n",
        "# 백엔드 LLM:\n",
        "# \"gptj\", \"llama\" 등 다양한 모델 중 선택 합니다.\n",
        "backend_llm = \"llama\""
      ]
    },
    {
      "cell_type": "code",
      "execution_count": 38,
      "metadata": {
        "id": "tcI741JYchzt"
      },
      "outputs": [],
      "source": [
        "if paid_vs_free == \"paid\":\n",
        "    os.environ[\"OPENAI_API_KEY\"] = openai_api_key\n",
        "    llm = ChatOpenAI()\n",
        "elif paid_vs_free == \"free\":\n",
        "    llm = GPT4All(\n",
        "        model=path_to_bin,\n",
        "        max_tokens=1000,\n",
        "        # backend=backend_llm,\n",
        "        verbose=False)"
      ]
    },
    {
      "cell_type": "markdown",
      "metadata": {
        "id": "QGbOUgLMZUDB"
      },
      "source": [
        "### QA 체인 생성  \n",
        "`load_qa_chain()`을 통해 RAG 프레임워크를 구성합니다. 이 기능은 다양한 텍스트 문서를 입력받아 검색 가능한 형태로 준비하며, 사용자 프롬프트를 분석하여 관련된 텍스트를 찾아냅니다. 찾아낸 텍스트는 선택된 LLM에 제공되어, LLM이 적절한 맥락을 바탕으로 프롬프트에 답변할 수 있게 합니다."
      ]
    },
    {
      "cell_type": "code",
      "execution_count": 39,
      "metadata": {
        "id": "ksxfU8E_c6ly"
      },
      "outputs": [],
      "source": [
        "chain = load_qa_chain(llm, chain_type=\"stuff\")"
      ]
    },
    {
      "cell_type": "markdown",
      "metadata": {
        "id": "Jw3QTq5_m39_"
      },
      "source": [
        "### 동일한 요구 사항을 기반으로 검색하되, 임베딩 유사성 대신 LLM을 \"두뇌\"로 활용하여 검색"
      ]
    },
    {
      "cell_type": "markdown",
      "metadata": {
        "id": "gxZjgu_5p7px"
      },
      "source": [
        "**Question #1: 8월에 출산 예정인 임산부 환자가 있나요?**  "
      ]
    },
    {
      "cell_type": "code",
      "execution_count": 40,
      "metadata": {
        "id": "OVv_Xbn1s8eH"
      },
      "outputs": [],
      "source": [
        "import langchain\n",
        "langchain.debug = True"
      ]
    },
    {
      "cell_type": "code",
      "execution_count": 50,
      "metadata": {
        "colab": {
          "base_uri": "https://localhost:8080/"
        },
        "id": "vQ3SvO8mm4I5",
        "outputId": "52b9be0e-94fc-4a36-9ebe-206fc2611d84"
      },
      "outputs": [
        {
          "output_type": "stream",
          "name": "stdout",
          "text": [
            "\u001b[32;1m\u001b[1;3m[chain/start]\u001b[0m \u001b[1m[chain:StuffDocumentsChain] Entering Chain run with input:\n",
            "\u001b[0m[inputs]\n",
            "\u001b[32;1m\u001b[1;3m[chain/start]\u001b[0m \u001b[1m[chain:StuffDocumentsChain > chain:LLMChain] Entering Chain run with input:\n",
            "\u001b[0m{\n",
            "  \"question\": \"8월에 출산 예정인 임산부 환자가 있나요?\",\n",
            "  \"context\": \"담당의: ABC 의사\\n날짜: 2099년 7월 10일\\n환자 ID: 246813579\\n주 증상: 임신 정기 검진\\n현재 질환 이력:\\n환자 Emily Adams 씨(30세, 여성)는 정기 임신 검진을 위해 내원하였습니다. 현재 임신 32주차로, 2099년 8월 27일이 출산 예정일입니다. 기혼자로 남편과 함께 살고 있습니다.\\n진료 중 Adams 씨는 어머니가 임신 중 임신성 당뇨를 앓았던 가족력이 있다고 밝혔습니다. 본인은 중요한 병력이나 수술 경험, 이전 임신에서의 합병증은 없다고 합니다.\\n주 증상에 대해 Adams 씨는 임신 3기에 흔히 나타나는 요통, 잦은 소변, 가끔의 속쓰림 등의 불편함을 호소합니다. 질 출혈, 심한 복통, 태아 움직임의 특이한 변화는 없다고 합니다. 임신 중 전반적인 건강 관리를 위해 균형 잡힌 식단과 규칙적인 운동을 유지하고 있다고 합니다.\\n제공된 정보를 바탕으로 Adams 씨의 임신 경과를 확인하기 위한 정기 산전 검사가 진행될 예정입니다. 혈압, 체중 증가, 자궁저 높이 측정, 태아 심장 박동 모니터링 등을 평가할 것입니다. 건강한 출산과 순조로운 육아를 위해 출산 준비, 모유 수유, 산후 관리에 대한 상담도 함께 이루어질 예정입니다.\\\"\\n\\n담당의: ABC 의사\\n날짜: 2099년 11월 15일\\n환자 ID: 123456789\\n주 증상: 피로감과 관절통\\n현재 질환 이력:\\n환자 Sarah Thompson 씨(57세, 여성)는 피로감과 관절통을 호소하며 내원하였습니다. 홀로 거주 중인 미망인으로, 최근 해외여행 이력은 없습니다.\\n진료 중 Thompson 씨는 자매가 류마티스 관절염 진단을 받은 자가면역 질환 가족력이 있다고 밝혔습니다. 또한 본인은 갑상선 기능 저하증이 있어 갑상선 호르몬 대체 요법으로 관리 중이라고 합니다.\\n주 증상에 대해 Thompson 씨는 일상 활동에 지장을 줄 정도로 지속적이고 심한 피로감을 느끼며, 그 정도는 10점 만점에 8점이라고 표현했습니다. 또한 주로 무릎과 손목에 관절통이 있는데, 아침에 더 심하고 하루 중 활동하면서 점차 나아진다고 합니다. 관절 부위의 붓기나 붉어짐은 없다고 합니다.\\n임상 소견을 바탕으로 Thompson 씨의 피로감과 관절통의 원인을 찾기 위한 추가 검사가 필요합니다. 혈액 검사, 영상 검사 및 필요시 전문의 상담을 진행할 예정입니다.\\\"\\n\\n담당의: ABC 의사\\n날짜: 2099년 11월 28일\\n환자 ID: 987654321\\n주 증상: 편두통\\n현재 질환 이력:\\n환자 Michael Johnson 씨(40세, 남성)는 반복되는 편두통을 주 증상으로 내원하였습니다. 기혼자로 배우자와 두 자녀와 함께 살고 있으며, 최근 지역 외 여행은 하지 않았습니다.\\n진료 중 Johnson 씨는 어머니와 여동생도 비슷한 증상의 편두통을 앓고 있는 가족력이 있다고 밝혔습니다. 중요한 과거 병력, 수술이나 입원 경험은 없다고 합니다. 업무가 바빠 가끔 스트레스를 받고 수면 패턴이 불규칙하다고 언급했습니다.\\n주 증상에 대해 Johnson 씨는 주로 머리 한쪽에 중간에서 심한 정도의 욱신거리는 통증이 반복적으로 나타난다고 설명합니다. 빛과 소리에 민감해지고 구역질이 나며 때로는 구토도 한다고 합니다. 편두통은 보통 몇 시간 지속되며 한 달에 한두 번 발생한다고 합니다.\\n제공된 정보를 바탕으로 Johnson 씨의 편두통 관리를 위한 추가 평가가 이루어질 예정입니다. 두통의 빈도, 지속 시간 및 유발 요인을 추적하기 위한 두통 일기 작성을 권장할 것이며, 증상 완화와 삶의 질 향상을 위한 생활 습관 개선, 스트레스 관리 방법, 적절한 약물 치료에 대해 상담할 예정입니다.\\\"\\n\\n담당의: ABC 의사\\n날짜: 2099년 6월 25일\\n환자 ID: 987654321\\n주 증상: 복통\\n현재 질환 이력:\\n환자 John Anderson 씨(42세, 남성)는 복통을 주 증상으로 내원하였습니다. 기혼자로 아내와 두 자녀와 함께 살고 있습니다. Anderson 씨는 약 2주 전 유럽 출장에서 돌아왔으며, 여행 중 호흡기 증상이나 아픈 사람과의 접촉은 없었다고 합니다.\\n진료 중 Anderson 씨는 아버지가 60대에 심근경색을 앓은 심혈관 질환 가족력이 있으며, 외할머니는 제2형 당뇨병을 앓았다고 밝혔습니다. 본인은 만성 질환, 수술 경험이나 입원 이력은 없다고 합니다.\\n주 증상에 대해 Anderson 씨는 우하복부에 둔하고 간헐적인 통증이 있으며, 통증 강도는 10점 만점에 5점 정도라고 설명합니다. 신체 활동 시 통증이 악화되고 식사 후에도 더 심해지는 경향이 있습니다. 구역질, 구토, 배변 습관의 변화와 같은 관련 증상은 없다고 합니다.\\n제공된 정보를 바탕으로 Anderson 씨의 복통 원인을 파악하기 위한 추가 평가와 진단 검사가 진행될 예정입니다.\\\"\"\n",
            "}\n",
            "\u001b[32;1m\u001b[1;3m[llm/start]\u001b[0m \u001b[1m[chain:StuffDocumentsChain > chain:LLMChain > llm:ChatOpenAI] Entering LLM run with input:\n",
            "\u001b[0m{\n",
            "  \"prompts\": [\n",
            "    \"System: Use the following pieces of context to answer the user's question. \\nIf you don't know the answer, just say that you don't know, don't try to make up an answer.\\n----------------\\n담당의: ABC 의사\\n날짜: 2099년 7월 10일\\n환자 ID: 246813579\\n주 증상: 임신 정기 검진\\n현재 질환 이력:\\n환자 Emily Adams 씨(30세, 여성)는 정기 임신 검진을 위해 내원하였습니다. 현재 임신 32주차로, 2099년 8월 27일이 출산 예정일입니다. 기혼자로 남편과 함께 살고 있습니다.\\n진료 중 Adams 씨는 어머니가 임신 중 임신성 당뇨를 앓았던 가족력이 있다고 밝혔습니다. 본인은 중요한 병력이나 수술 경험, 이전 임신에서의 합병증은 없다고 합니다.\\n주 증상에 대해 Adams 씨는 임신 3기에 흔히 나타나는 요통, 잦은 소변, 가끔의 속쓰림 등의 불편함을 호소합니다. 질 출혈, 심한 복통, 태아 움직임의 특이한 변화는 없다고 합니다. 임신 중 전반적인 건강 관리를 위해 균형 잡힌 식단과 규칙적인 운동을 유지하고 있다고 합니다.\\n제공된 정보를 바탕으로 Adams 씨의 임신 경과를 확인하기 위한 정기 산전 검사가 진행될 예정입니다. 혈압, 체중 증가, 자궁저 높이 측정, 태아 심장 박동 모니터링 등을 평가할 것입니다. 건강한 출산과 순조로운 육아를 위해 출산 준비, 모유 수유, 산후 관리에 대한 상담도 함께 이루어질 예정입니다.\\\"\\n\\n담당의: ABC 의사\\n날짜: 2099년 11월 15일\\n환자 ID: 123456789\\n주 증상: 피로감과 관절통\\n현재 질환 이력:\\n환자 Sarah Thompson 씨(57세, 여성)는 피로감과 관절통을 호소하며 내원하였습니다. 홀로 거주 중인 미망인으로, 최근 해외여행 이력은 없습니다.\\n진료 중 Thompson 씨는 자매가 류마티스 관절염 진단을 받은 자가면역 질환 가족력이 있다고 밝혔습니다. 또한 본인은 갑상선 기능 저하증이 있어 갑상선 호르몬 대체 요법으로 관리 중이라고 합니다.\\n주 증상에 대해 Thompson 씨는 일상 활동에 지장을 줄 정도로 지속적이고 심한 피로감을 느끼며, 그 정도는 10점 만점에 8점이라고 표현했습니다. 또한 주로 무릎과 손목에 관절통이 있는데, 아침에 더 심하고 하루 중 활동하면서 점차 나아진다고 합니다. 관절 부위의 붓기나 붉어짐은 없다고 합니다.\\n임상 소견을 바탕으로 Thompson 씨의 피로감과 관절통의 원인을 찾기 위한 추가 검사가 필요합니다. 혈액 검사, 영상 검사 및 필요시 전문의 상담을 진행할 예정입니다.\\\"\\n\\n담당의: ABC 의사\\n날짜: 2099년 11월 28일\\n환자 ID: 987654321\\n주 증상: 편두통\\n현재 질환 이력:\\n환자 Michael Johnson 씨(40세, 남성)는 반복되는 편두통을 주 증상으로 내원하였습니다. 기혼자로 배우자와 두 자녀와 함께 살고 있으며, 최근 지역 외 여행은 하지 않았습니다.\\n진료 중 Johnson 씨는 어머니와 여동생도 비슷한 증상의 편두통을 앓고 있는 가족력이 있다고 밝혔습니다. 중요한 과거 병력, 수술이나 입원 경험은 없다고 합니다. 업무가 바빠 가끔 스트레스를 받고 수면 패턴이 불규칙하다고 언급했습니다.\\n주 증상에 대해 Johnson 씨는 주로 머리 한쪽에 중간에서 심한 정도의 욱신거리는 통증이 반복적으로 나타난다고 설명합니다. 빛과 소리에 민감해지고 구역질이 나며 때로는 구토도 한다고 합니다. 편두통은 보통 몇 시간 지속되며 한 달에 한두 번 발생한다고 합니다.\\n제공된 정보를 바탕으로 Johnson 씨의 편두통 관리를 위한 추가 평가가 이루어질 예정입니다. 두통의 빈도, 지속 시간 및 유발 요인을 추적하기 위한 두통 일기 작성을 권장할 것이며, 증상 완화와 삶의 질 향상을 위한 생활 습관 개선, 스트레스 관리 방법, 적절한 약물 치료에 대해 상담할 예정입니다.\\\"\\n\\n담당의: ABC 의사\\n날짜: 2099년 6월 25일\\n환자 ID: 987654321\\n주 증상: 복통\\n현재 질환 이력:\\n환자 John Anderson 씨(42세, 남성)는 복통을 주 증상으로 내원하였습니다. 기혼자로 아내와 두 자녀와 함께 살고 있습니다. Anderson 씨는 약 2주 전 유럽 출장에서 돌아왔으며, 여행 중 호흡기 증상이나 아픈 사람과의 접촉은 없었다고 합니다.\\n진료 중 Anderson 씨는 아버지가 60대에 심근경색을 앓은 심혈관 질환 가족력이 있으며, 외할머니는 제2형 당뇨병을 앓았다고 밝혔습니다. 본인은 만성 질환, 수술 경험이나 입원 이력은 없다고 합니다.\\n주 증상에 대해 Anderson 씨는 우하복부에 둔하고 간헐적인 통증이 있으며, 통증 강도는 10점 만점에 5점 정도라고 설명합니다. 신체 활동 시 통증이 악화되고 식사 후에도 더 심해지는 경향이 있습니다. 구역질, 구토, 배변 습관의 변화와 같은 관련 증상은 없다고 합니다.\\n제공된 정보를 바탕으로 Anderson 씨의 복통 원인을 파악하기 위한 추가 평가와 진단 검사가 진행될 예정입니다.\\\"\\nHuman: 8월에 출산 예정인 임산부 환자가 있나요?\"\n",
            "  ]\n",
            "}\n",
            "\u001b[36;1m\u001b[1;3m[llm/end]\u001b[0m \u001b[1m[chain:StuffDocumentsChain > chain:LLMChain > llm:ChatOpenAI] [850ms] Exiting LLM run with output:\n",
            "\u001b[0m{\n",
            "  \"generations\": [\n",
            "    [\n",
            "      {\n",
            "        \"text\": \"네, 환자 Emily Adams 씨는 2099년 8월 27일에 출산 예정일을 가지고 있는 임산부 환자입니다.\",\n",
            "        \"generation_info\": {\n",
            "          \"finish_reason\": \"stop\",\n",
            "          \"logprobs\": null\n",
            "        },\n",
            "        \"type\": \"ChatGeneration\",\n",
            "        \"message\": {\n",
            "          \"lc\": 1,\n",
            "          \"type\": \"constructor\",\n",
            "          \"id\": [\n",
            "            \"langchain\",\n",
            "            \"schema\",\n",
            "            \"messages\",\n",
            "            \"AIMessage\"\n",
            "          ],\n",
            "          \"kwargs\": {\n",
            "            \"content\": \"네, 환자 Emily Adams 씨는 2099년 8월 27일에 출산 예정일을 가지고 있는 임산부 환자입니다.\",\n",
            "            \"response_metadata\": {\n",
            "              \"token_usage\": {\n",
            "                \"prompt_tokens\": 2153,\n",
            "                \"completion_tokens\": 46,\n",
            "                \"total_tokens\": 2199,\n",
            "                \"prompt_tokens_details\": {\n",
            "                  \"cached_tokens\": 0,\n",
            "                  \"audio_tokens\": 0\n",
            "                },\n",
            "                \"completion_tokens_details\": {\n",
            "                  \"reasoning_tokens\": 0,\n",
            "                  \"audio_tokens\": 0,\n",
            "                  \"accepted_prediction_tokens\": 0,\n",
            "                  \"rejected_prediction_tokens\": 0\n",
            "                }\n",
            "              },\n",
            "              \"model_name\": \"gpt-3.5-turbo\",\n",
            "              \"system_fingerprint\": null,\n",
            "              \"finish_reason\": \"stop\",\n",
            "              \"logprobs\": null\n",
            "            },\n",
            "            \"type\": \"ai\",\n",
            "            \"id\": \"run-69acce6d-1d28-4e53-b31c-117ce92c687c-0\",\n",
            "            \"tool_calls\": [],\n",
            "            \"invalid_tool_calls\": []\n",
            "          }\n",
            "        }\n",
            "      }\n",
            "    ]\n",
            "  ],\n",
            "  \"llm_output\": {\n",
            "    \"token_usage\": {\n",
            "      \"prompt_tokens\": 2153,\n",
            "      \"completion_tokens\": 46,\n",
            "      \"total_tokens\": 2199,\n",
            "      \"prompt_tokens_details\": {\n",
            "        \"cached_tokens\": 0,\n",
            "        \"audio_tokens\": 0\n",
            "      },\n",
            "      \"completion_tokens_details\": {\n",
            "        \"reasoning_tokens\": 0,\n",
            "        \"audio_tokens\": 0,\n",
            "        \"accepted_prediction_tokens\": 0,\n",
            "        \"rejected_prediction_tokens\": 0\n",
            "      }\n",
            "    },\n",
            "    \"model_name\": \"gpt-3.5-turbo\",\n",
            "    \"system_fingerprint\": null\n",
            "  },\n",
            "  \"run\": null,\n",
            "  \"type\": \"LLMResult\"\n",
            "}\n",
            "\u001b[36;1m\u001b[1;3m[chain/end]\u001b[0m \u001b[1m[chain:StuffDocumentsChain > chain:LLMChain] [851ms] Exiting Chain run with output:\n",
            "\u001b[0m{\n",
            "  \"text\": \"네, 환자 Emily Adams 씨는 2099년 8월 27일에 출산 예정일을 가지고 있는 임산부 환자입니다.\"\n",
            "}\n",
            "\u001b[36;1m\u001b[1;3m[chain/end]\u001b[0m \u001b[1m[chain:StuffDocumentsChain] [852ms] Exiting Chain run with output:\n",
            "\u001b[0m{\n",
            "  \"output_text\": \"네, 환자 Emily Adams 씨는 2099년 8월 27일에 출산 예정일을 가지고 있는 임산부 환자입니다.\"\n",
            "}\n",
            "네, 환자 Emily Adams 씨는 2099년 8월 27일에 출산 예정일을 가지고 있는 임산부 환자입니다.\n"
          ]
        }
      ],
      "source": [
        "current_query = query1\n",
        "docs = vector_db.similarity_search(current_query)\n",
        "print(chain.run(input_documents=docs, question=current_query))"
      ]
    },
    {
      "cell_type": "markdown",
      "metadata": {
        "id": "mtJ4gn4wp9Tq"
      },
      "source": [
        "**[OpenAI의 LLM이 오류를 감지하고 피했습니다!] 질문 #2: 9월에 출산 예정인 임산부가 있나요?**  \n",
        "다만, 양자화되어 \"성능이 저하된\" 일부 무료 LLM들은 실패할 수 있으며, 9월 출산 예정일에 대해 물었음에도 8월 출산 예정일을 답변으로 제시할 수 있습니다."
      ]
    },
    {
      "cell_type": "code",
      "execution_count": 55,
      "metadata": {
        "colab": {
          "base_uri": "https://localhost:8080/"
        },
        "id": "D3HgLcgTpSCa",
        "outputId": "1006a4fd-260d-4f06-d433-b474f1a05379"
      },
      "outputs": [
        {
          "output_type": "stream",
          "name": "stdout",
          "text": [
            "\u001b[32;1m\u001b[1;3m[chain/start]\u001b[0m \u001b[1m[chain:StuffDocumentsChain] Entering Chain run with input:\n",
            "\u001b[0m[inputs]\n",
            "\u001b[32;1m\u001b[1;3m[chain/start]\u001b[0m \u001b[1m[chain:StuffDocumentsChain > chain:LLMChain] Entering Chain run with input:\n",
            "\u001b[0m{\n",
            "  \"question\": \"출산 예정일이 9월인 임산부가 있나요?\",\n",
            "  \"context\": \"담당의: ABC 의사\\n날짜: 2099년 7월 10일\\n환자 ID: 246813579\\n주 증상: 임신 정기 검진\\n현재 질환 이력:\\n환자 Emily Adams 씨(30세, 여성)는 정기 임신 검진을 위해 내원하였습니다. 현재 임신 32주차로, 2099년 8월 27일이 출산 예정일입니다. 기혼자로 남편과 함께 살고 있습니다.\\n진료 중 Adams 씨는 어머니가 임신 중 임신성 당뇨를 앓았던 가족력이 있다고 밝혔습니다. 본인은 중요한 병력이나 수술 경험, 이전 임신에서의 합병증은 없다고 합니다.\\n주 증상에 대해 Adams 씨는 임신 3기에 흔히 나타나는 요통, 잦은 소변, 가끔의 속쓰림 등의 불편함을 호소합니다. 질 출혈, 심한 복통, 태아 움직임의 특이한 변화는 없다고 합니다. 임신 중 전반적인 건강 관리를 위해 균형 잡힌 식단과 규칙적인 운동을 유지하고 있다고 합니다.\\n제공된 정보를 바탕으로 Adams 씨의 임신 경과를 확인하기 위한 정기 산전 검사가 진행될 예정입니다. 혈압, 체중 증가, 자궁저 높이 측정, 태아 심장 박동 모니터링 등을 평가할 것입니다. 건강한 출산과 순조로운 육아를 위해 출산 준비, 모유 수유, 산후 관리에 대한 상담도 함께 이루어질 예정입니다.\\\"\\n\\n담당의: ABC 의사\\n날짜: 2099년 6월 25일\\n환자 ID: 987654321\\n주 증상: 복통\\n현재 질환 이력:\\n환자 John Anderson 씨(42세, 남성)는 복통을 주 증상으로 내원하였습니다. 기혼자로 아내와 두 자녀와 함께 살고 있습니다. Anderson 씨는 약 2주 전 유럽 출장에서 돌아왔으며, 여행 중 호흡기 증상이나 아픈 사람과의 접촉은 없었다고 합니다.\\n진료 중 Anderson 씨는 아버지가 60대에 심근경색을 앓은 심혈관 질환 가족력이 있으며, 외할머니는 제2형 당뇨병을 앓았다고 밝혔습니다. 본인은 만성 질환, 수술 경험이나 입원 이력은 없다고 합니다.\\n주 증상에 대해 Anderson 씨는 우하복부에 둔하고 간헐적인 통증이 있으며, 통증 강도는 10점 만점에 5점 정도라고 설명합니다. 신체 활동 시 통증이 악화되고 식사 후에도 더 심해지는 경향이 있습니다. 구역질, 구토, 배변 습관의 변화와 같은 관련 증상은 없다고 합니다.\\n제공된 정보를 바탕으로 Anderson 씨의 복통 원인을 파악하기 위한 추가 평가와 진단 검사가 진행될 예정입니다.\\\"\\n\\n담당의: ABC 의사\\n날짜: 2099년 11월 15일\\n환자 ID: 123456789\\n주 증상: 피로감과 관절통\\n현재 질환 이력:\\n환자 Sarah Thompson 씨(57세, 여성)는 피로감과 관절통을 호소하며 내원하였습니다. 홀로 거주 중인 미망인으로, 최근 해외여행 이력은 없습니다.\\n진료 중 Thompson 씨는 자매가 류마티스 관절염 진단을 받은 자가면역 질환 가족력이 있다고 밝혔습니다. 또한 본인은 갑상선 기능 저하증이 있어 갑상선 호르몬 대체 요법으로 관리 중이라고 합니다.\\n주 증상에 대해 Thompson 씨는 일상 활동에 지장을 줄 정도로 지속적이고 심한 피로감을 느끼며, 그 정도는 10점 만점에 8점이라고 표현했습니다. 또한 주로 무릎과 손목에 관절통이 있는데, 아침에 더 심하고 하루 중 활동하면서 점차 나아진다고 합니다. 관절 부위의 붓기나 붉어짐은 없다고 합니다.\\n임상 소견을 바탕으로 Thompson 씨의 피로감과 관절통의 원인을 찾기 위한 추가 검사가 필요합니다. 혈액 검사, 영상 검사 및 필요시 전문의 상담을 진행할 예정입니다.\\\"\\n\\n담당의: ABC 의사\\n날짜: 2099년 11월 28일\\n환자 ID: 987654321\\n주 증상: 편두통\\n현재 질환 이력:\\n환자 Michael Johnson 씨(40세, 남성)는 반복되는 편두통을 주 증상으로 내원하였습니다. 기혼자로 배우자와 두 자녀와 함께 살고 있으며, 최근 지역 외 여행은 하지 않았습니다.\\n진료 중 Johnson 씨는 어머니와 여동생도 비슷한 증상의 편두통을 앓고 있는 가족력이 있다고 밝혔습니다. 중요한 과거 병력, 수술이나 입원 경험은 없다고 합니다. 업무가 바빠 가끔 스트레스를 받고 수면 패턴이 불규칙하다고 언급했습니다.\\n주 증상에 대해 Johnson 씨는 주로 머리 한쪽에 중간에서 심한 정도의 욱신거리는 통증이 반복적으로 나타난다고 설명합니다. 빛과 소리에 민감해지고 구역질이 나며 때로는 구토도 한다고 합니다. 편두통은 보통 몇 시간 지속되며 한 달에 한두 번 발생한다고 합니다.\\n제공된 정보를 바탕으로 Johnson 씨의 편두통 관리를 위한 추가 평가가 이루어질 예정입니다. 두통의 빈도, 지속 시간 및 유발 요인을 추적하기 위한 두통 일기 작성을 권장할 것이며, 증상 완화와 삶의 질 향상을 위한 생활 습관 개선, 스트레스 관리 방법, 적절한 약물 치료에 대해 상담할 예정입니다.\\\"\"\n",
            "}\n",
            "\u001b[32;1m\u001b[1;3m[llm/start]\u001b[0m \u001b[1m[chain:StuffDocumentsChain > chain:LLMChain > llm:ChatOpenAI] Entering LLM run with input:\n",
            "\u001b[0m{\n",
            "  \"prompts\": [\n",
            "    \"System: Use the following pieces of context to answer the user's question. \\nIf you don't know the answer, just say that you don't know, don't try to make up an answer.\\n----------------\\n담당의: ABC 의사\\n날짜: 2099년 7월 10일\\n환자 ID: 246813579\\n주 증상: 임신 정기 검진\\n현재 질환 이력:\\n환자 Emily Adams 씨(30세, 여성)는 정기 임신 검진을 위해 내원하였습니다. 현재 임신 32주차로, 2099년 8월 27일이 출산 예정일입니다. 기혼자로 남편과 함께 살고 있습니다.\\n진료 중 Adams 씨는 어머니가 임신 중 임신성 당뇨를 앓았던 가족력이 있다고 밝혔습니다. 본인은 중요한 병력이나 수술 경험, 이전 임신에서의 합병증은 없다고 합니다.\\n주 증상에 대해 Adams 씨는 임신 3기에 흔히 나타나는 요통, 잦은 소변, 가끔의 속쓰림 등의 불편함을 호소합니다. 질 출혈, 심한 복통, 태아 움직임의 특이한 변화는 없다고 합니다. 임신 중 전반적인 건강 관리를 위해 균형 잡힌 식단과 규칙적인 운동을 유지하고 있다고 합니다.\\n제공된 정보를 바탕으로 Adams 씨의 임신 경과를 확인하기 위한 정기 산전 검사가 진행될 예정입니다. 혈압, 체중 증가, 자궁저 높이 측정, 태아 심장 박동 모니터링 등을 평가할 것입니다. 건강한 출산과 순조로운 육아를 위해 출산 준비, 모유 수유, 산후 관리에 대한 상담도 함께 이루어질 예정입니다.\\\"\\n\\n담당의: ABC 의사\\n날짜: 2099년 6월 25일\\n환자 ID: 987654321\\n주 증상: 복통\\n현재 질환 이력:\\n환자 John Anderson 씨(42세, 남성)는 복통을 주 증상으로 내원하였습니다. 기혼자로 아내와 두 자녀와 함께 살고 있습니다. Anderson 씨는 약 2주 전 유럽 출장에서 돌아왔으며, 여행 중 호흡기 증상이나 아픈 사람과의 접촉은 없었다고 합니다.\\n진료 중 Anderson 씨는 아버지가 60대에 심근경색을 앓은 심혈관 질환 가족력이 있으며, 외할머니는 제2형 당뇨병을 앓았다고 밝혔습니다. 본인은 만성 질환, 수술 경험이나 입원 이력은 없다고 합니다.\\n주 증상에 대해 Anderson 씨는 우하복부에 둔하고 간헐적인 통증이 있으며, 통증 강도는 10점 만점에 5점 정도라고 설명합니다. 신체 활동 시 통증이 악화되고 식사 후에도 더 심해지는 경향이 있습니다. 구역질, 구토, 배변 습관의 변화와 같은 관련 증상은 없다고 합니다.\\n제공된 정보를 바탕으로 Anderson 씨의 복통 원인을 파악하기 위한 추가 평가와 진단 검사가 진행될 예정입니다.\\\"\\n\\n담당의: ABC 의사\\n날짜: 2099년 11월 15일\\n환자 ID: 123456789\\n주 증상: 피로감과 관절통\\n현재 질환 이력:\\n환자 Sarah Thompson 씨(57세, 여성)는 피로감과 관절통을 호소하며 내원하였습니다. 홀로 거주 중인 미망인으로, 최근 해외여행 이력은 없습니다.\\n진료 중 Thompson 씨는 자매가 류마티스 관절염 진단을 받은 자가면역 질환 가족력이 있다고 밝혔습니다. 또한 본인은 갑상선 기능 저하증이 있어 갑상선 호르몬 대체 요법으로 관리 중이라고 합니다.\\n주 증상에 대해 Thompson 씨는 일상 활동에 지장을 줄 정도로 지속적이고 심한 피로감을 느끼며, 그 정도는 10점 만점에 8점이라고 표현했습니다. 또한 주로 무릎과 손목에 관절통이 있는데, 아침에 더 심하고 하루 중 활동하면서 점차 나아진다고 합니다. 관절 부위의 붓기나 붉어짐은 없다고 합니다.\\n임상 소견을 바탕으로 Thompson 씨의 피로감과 관절통의 원인을 찾기 위한 추가 검사가 필요합니다. 혈액 검사, 영상 검사 및 필요시 전문의 상담을 진행할 예정입니다.\\\"\\n\\n담당의: ABC 의사\\n날짜: 2099년 11월 28일\\n환자 ID: 987654321\\n주 증상: 편두통\\n현재 질환 이력:\\n환자 Michael Johnson 씨(40세, 남성)는 반복되는 편두통을 주 증상으로 내원하였습니다. 기혼자로 배우자와 두 자녀와 함께 살고 있으며, 최근 지역 외 여행은 하지 않았습니다.\\n진료 중 Johnson 씨는 어머니와 여동생도 비슷한 증상의 편두통을 앓고 있는 가족력이 있다고 밝혔습니다. 중요한 과거 병력, 수술이나 입원 경험은 없다고 합니다. 업무가 바빠 가끔 스트레스를 받고 수면 패턴이 불규칙하다고 언급했습니다.\\n주 증상에 대해 Johnson 씨는 주로 머리 한쪽에 중간에서 심한 정도의 욱신거리는 통증이 반복적으로 나타난다고 설명합니다. 빛과 소리에 민감해지고 구역질이 나며 때로는 구토도 한다고 합니다. 편두통은 보통 몇 시간 지속되며 한 달에 한두 번 발생한다고 합니다.\\n제공된 정보를 바탕으로 Johnson 씨의 편두통 관리를 위한 추가 평가가 이루어질 예정입니다. 두통의 빈도, 지속 시간 및 유발 요인을 추적하기 위한 두통 일기 작성을 권장할 것이며, 증상 완화와 삶의 질 향상을 위한 생활 습관 개선, 스트레스 관리 방법, 적절한 약물 치료에 대해 상담할 예정입니다.\\\"\\nHuman: 출산 예정일이 9월인 임산부가 있나요?\"\n",
            "  ]\n",
            "}\n",
            "\u001b[36;1m\u001b[1;3m[llm/end]\u001b[0m \u001b[1m[chain:StuffDocumentsChain > chain:LLMChain > llm:ChatOpenAI] [1.26s] Exiting LLM run with output:\n",
            "\u001b[0m{\n",
            "  \"generations\": [\n",
            "    [\n",
            "      {\n",
            "        \"text\": \"제공된 정보에서는 8월에 출산 예정일이 있는 임신부가 있습니다. 9월에 출산 예정일이 있는 임산부에 대한 정보는 제공되지 않았습니다.\",\n",
            "        \"generation_info\": {\n",
            "          \"finish_reason\": \"stop\",\n",
            "          \"logprobs\": null\n",
            "        },\n",
            "        \"type\": \"ChatGeneration\",\n",
            "        \"message\": {\n",
            "          \"lc\": 1,\n",
            "          \"type\": \"constructor\",\n",
            "          \"id\": [\n",
            "            \"langchain\",\n",
            "            \"schema\",\n",
            "            \"messages\",\n",
            "            \"AIMessage\"\n",
            "          ],\n",
            "          \"kwargs\": {\n",
            "            \"content\": \"제공된 정보에서는 8월에 출산 예정일이 있는 임신부가 있습니다. 9월에 출산 예정일이 있는 임산부에 대한 정보는 제공되지 않았습니다.\",\n",
            "            \"response_metadata\": {\n",
            "              \"token_usage\": {\n",
            "                \"prompt_tokens\": 2151,\n",
            "                \"completion_tokens\": 59,\n",
            "                \"total_tokens\": 2210,\n",
            "                \"prompt_tokens_details\": {\n",
            "                  \"cached_tokens\": 0,\n",
            "                  \"audio_tokens\": 0\n",
            "                },\n",
            "                \"completion_tokens_details\": {\n",
            "                  \"reasoning_tokens\": 0,\n",
            "                  \"audio_tokens\": 0,\n",
            "                  \"accepted_prediction_tokens\": 0,\n",
            "                  \"rejected_prediction_tokens\": 0\n",
            "                }\n",
            "              },\n",
            "              \"model_name\": \"gpt-3.5-turbo\",\n",
            "              \"system_fingerprint\": null,\n",
            "              \"finish_reason\": \"stop\",\n",
            "              \"logprobs\": null\n",
            "            },\n",
            "            \"type\": \"ai\",\n",
            "            \"id\": \"run-29a11366-9940-41a5-9551-6ce0ca91f07b-0\",\n",
            "            \"tool_calls\": [],\n",
            "            \"invalid_tool_calls\": []\n",
            "          }\n",
            "        }\n",
            "      }\n",
            "    ]\n",
            "  ],\n",
            "  \"llm_output\": {\n",
            "    \"token_usage\": {\n",
            "      \"prompt_tokens\": 2151,\n",
            "      \"completion_tokens\": 59,\n",
            "      \"total_tokens\": 2210,\n",
            "      \"prompt_tokens_details\": {\n",
            "        \"cached_tokens\": 0,\n",
            "        \"audio_tokens\": 0\n",
            "      },\n",
            "      \"completion_tokens_details\": {\n",
            "        \"reasoning_tokens\": 0,\n",
            "        \"audio_tokens\": 0,\n",
            "        \"accepted_prediction_tokens\": 0,\n",
            "        \"rejected_prediction_tokens\": 0\n",
            "      }\n",
            "    },\n",
            "    \"model_name\": \"gpt-3.5-turbo\",\n",
            "    \"system_fingerprint\": null\n",
            "  },\n",
            "  \"run\": null,\n",
            "  \"type\": \"LLMResult\"\n",
            "}\n",
            "\u001b[36;1m\u001b[1;3m[chain/end]\u001b[0m \u001b[1m[chain:StuffDocumentsChain > chain:LLMChain] [1.26s] Exiting Chain run with output:\n",
            "\u001b[0m{\n",
            "  \"text\": \"제공된 정보에서는 8월에 출산 예정일이 있는 임신부가 있습니다. 9월에 출산 예정일이 있는 임산부에 대한 정보는 제공되지 않았습니다.\"\n",
            "}\n",
            "\u001b[36;1m\u001b[1;3m[chain/end]\u001b[0m \u001b[1m[chain:StuffDocumentsChain] [1.26s] Exiting Chain run with output:\n",
            "\u001b[0m{\n",
            "  \"output_text\": \"제공된 정보에서는 8월에 출산 예정일이 있는 임신부가 있습니다. 9월에 출산 예정일이 있는 임산부에 대한 정보는 제공되지 않았습니다.\"\n",
            "}\n",
            "제공된 정보에서는 8월에 출산 예정일이 있는 임신부가 있습니다. 9월에 출산 예정일이 있는 임산부에 대한 정보는 제공되지 않았습니다.\n"
          ]
        }
      ],
      "source": [
        "current_query = query2\n",
        "docs = vector_db.similarity_search(current_query)\n",
        "print(chain.run(input_documents=docs, question=current_query))"
      ]
    },
    {
      "cell_type": "markdown",
      "metadata": {
        "id": "KaB8TLOap9xc"
      },
      "source": [
        "**질문 #3: 최근에 여행을 다녀온 환자는 누구인가요?**"
      ]
    },
    {
      "cell_type": "code",
      "execution_count": 52,
      "metadata": {
        "colab": {
          "base_uri": "https://localhost:8080/"
        },
        "id": "NQFupT2LpSFX",
        "outputId": "7335c5d3-2892-4f02-9721-f65d785a8906"
      },
      "outputs": [
        {
          "output_type": "stream",
          "name": "stdout",
          "text": [
            "\u001b[32;1m\u001b[1;3m[chain/start]\u001b[0m \u001b[1m[chain:StuffDocumentsChain] Entering Chain run with input:\n",
            "\u001b[0m[inputs]\n",
            "\u001b[32;1m\u001b[1;3m[chain/start]\u001b[0m \u001b[1m[chain:StuffDocumentsChain > chain:LLMChain] Entering Chain run with input:\n",
            "\u001b[0m{\n",
            "  \"question\": \"최근에 여행을 다녀온 환자는 누구인가요?\",\n",
            "  \"context\": \"담당의: ABC 의사\\n날짜: 2099년 11월 15일\\n환자 ID: 123456789\\n주 증상: 피로감과 관절통\\n현재 질환 이력:\\n환자 Sarah Thompson 씨(57세, 여성)는 피로감과 관절통을 호소하며 내원하였습니다. 홀로 거주 중인 미망인으로, 최근 해외여행 이력은 없습니다.\\n진료 중 Thompson 씨는 자매가 류마티스 관절염 진단을 받은 자가면역 질환 가족력이 있다고 밝혔습니다. 또한 본인은 갑상선 기능 저하증이 있어 갑상선 호르몬 대체 요법으로 관리 중이라고 합니다.\\n주 증상에 대해 Thompson 씨는 일상 활동에 지장을 줄 정도로 지속적이고 심한 피로감을 느끼며, 그 정도는 10점 만점에 8점이라고 표현했습니다. 또한 주로 무릎과 손목에 관절통이 있는데, 아침에 더 심하고 하루 중 활동하면서 점차 나아진다고 합니다. 관절 부위의 붓기나 붉어짐은 없다고 합니다.\\n임상 소견을 바탕으로 Thompson 씨의 피로감과 관절통의 원인을 찾기 위한 추가 검사가 필요합니다. 혈액 검사, 영상 검사 및 필요시 전문의 상담을 진행할 예정입니다.\\\"\\n\\n담당의: ABC 의사\\n날짜: 2099년 6월 25일\\n환자 ID: 987654321\\n주 증상: 복통\\n현재 질환 이력:\\n환자 John Anderson 씨(42세, 남성)는 복통을 주 증상으로 내원하였습니다. 기혼자로 아내와 두 자녀와 함께 살고 있습니다. Anderson 씨는 약 2주 전 유럽 출장에서 돌아왔으며, 여행 중 호흡기 증상이나 아픈 사람과의 접촉은 없었다고 합니다.\\n진료 중 Anderson 씨는 아버지가 60대에 심근경색을 앓은 심혈관 질환 가족력이 있으며, 외할머니는 제2형 당뇨병을 앓았다고 밝혔습니다. 본인은 만성 질환, 수술 경험이나 입원 이력은 없다고 합니다.\\n주 증상에 대해 Anderson 씨는 우하복부에 둔하고 간헐적인 통증이 있으며, 통증 강도는 10점 만점에 5점 정도라고 설명합니다. 신체 활동 시 통증이 악화되고 식사 후에도 더 심해지는 경향이 있습니다. 구역질, 구토, 배변 습관의 변화와 같은 관련 증상은 없다고 합니다.\\n제공된 정보를 바탕으로 Anderson 씨의 복통 원인을 파악하기 위한 추가 평가와 진단 검사가 진행될 예정입니다.\\\"\\n\\n담당의: ABC 의사\\n날짜: 2099년 11월 28일\\n환자 ID: 987654321\\n주 증상: 편두통\\n현재 질환 이력:\\n환자 Michael Johnson 씨(40세, 남성)는 반복되는 편두통을 주 증상으로 내원하였습니다. 기혼자로 배우자와 두 자녀와 함께 살고 있으며, 최근 지역 외 여행은 하지 않았습니다.\\n진료 중 Johnson 씨는 어머니와 여동생도 비슷한 증상의 편두통을 앓고 있는 가족력이 있다고 밝혔습니다. 중요한 과거 병력, 수술이나 입원 경험은 없다고 합니다. 업무가 바빠 가끔 스트레스를 받고 수면 패턴이 불규칙하다고 언급했습니다.\\n주 증상에 대해 Johnson 씨는 주로 머리 한쪽에 중간에서 심한 정도의 욱신거리는 통증이 반복적으로 나타난다고 설명합니다. 빛과 소리에 민감해지고 구역질이 나며 때로는 구토도 한다고 합니다. 편두통은 보통 몇 시간 지속되며 한 달에 한두 번 발생한다고 합니다.\\n제공된 정보를 바탕으로 Johnson 씨의 편두통 관리를 위한 추가 평가가 이루어질 예정입니다. 두통의 빈도, 지속 시간 및 유발 요인을 추적하기 위한 두통 일기 작성을 권장할 것이며, 증상 완화와 삶의 질 향상을 위한 생활 습관 개선, 스트레스 관리 방법, 적절한 약물 치료에 대해 상담할 예정입니다.\\\"\\n\\n담당의: ABC 의사\\n날짜: 2099년 7월 10일\\n환자 ID: 246813579\\n주 증상: 임신 정기 검진\\n현재 질환 이력:\\n환자 Emily Adams 씨(30세, 여성)는 정기 임신 검진을 위해 내원하였습니다. 현재 임신 32주차로, 2099년 8월 27일이 출산 예정일입니다. 기혼자로 남편과 함께 살고 있습니다.\\n진료 중 Adams 씨는 어머니가 임신 중 임신성 당뇨를 앓았던 가족력이 있다고 밝혔습니다. 본인은 중요한 병력이나 수술 경험, 이전 임신에서의 합병증은 없다고 합니다.\\n주 증상에 대해 Adams 씨는 임신 3기에 흔히 나타나는 요통, 잦은 소변, 가끔의 속쓰림 등의 불편함을 호소합니다. 질 출혈, 심한 복통, 태아 움직임의 특이한 변화는 없다고 합니다. 임신 중 전반적인 건강 관리를 위해 균형 잡힌 식단과 규칙적인 운동을 유지하고 있다고 합니다.\\n제공된 정보를 바탕으로 Adams 씨의 임신 경과를 확인하기 위한 정기 산전 검사가 진행될 예정입니다. 혈압, 체중 증가, 자궁저 높이 측정, 태아 심장 박동 모니터링 등을 평가할 것입니다. 건강한 출산과 순조로운 육아를 위해 출산 준비, 모유 수유, 산후 관리에 대한 상담도 함께 이루어질 예정입니다.\\\"\"\n",
            "}\n",
            "\u001b[32;1m\u001b[1;3m[llm/start]\u001b[0m \u001b[1m[chain:StuffDocumentsChain > chain:LLMChain > llm:ChatOpenAI] Entering LLM run with input:\n",
            "\u001b[0m{\n",
            "  \"prompts\": [\n",
            "    \"System: Use the following pieces of context to answer the user's question. \\nIf you don't know the answer, just say that you don't know, don't try to make up an answer.\\n----------------\\n담당의: ABC 의사\\n날짜: 2099년 11월 15일\\n환자 ID: 123456789\\n주 증상: 피로감과 관절통\\n현재 질환 이력:\\n환자 Sarah Thompson 씨(57세, 여성)는 피로감과 관절통을 호소하며 내원하였습니다. 홀로 거주 중인 미망인으로, 최근 해외여행 이력은 없습니다.\\n진료 중 Thompson 씨는 자매가 류마티스 관절염 진단을 받은 자가면역 질환 가족력이 있다고 밝혔습니다. 또한 본인은 갑상선 기능 저하증이 있어 갑상선 호르몬 대체 요법으로 관리 중이라고 합니다.\\n주 증상에 대해 Thompson 씨는 일상 활동에 지장을 줄 정도로 지속적이고 심한 피로감을 느끼며, 그 정도는 10점 만점에 8점이라고 표현했습니다. 또한 주로 무릎과 손목에 관절통이 있는데, 아침에 더 심하고 하루 중 활동하면서 점차 나아진다고 합니다. 관절 부위의 붓기나 붉어짐은 없다고 합니다.\\n임상 소견을 바탕으로 Thompson 씨의 피로감과 관절통의 원인을 찾기 위한 추가 검사가 필요합니다. 혈액 검사, 영상 검사 및 필요시 전문의 상담을 진행할 예정입니다.\\\"\\n\\n담당의: ABC 의사\\n날짜: 2099년 6월 25일\\n환자 ID: 987654321\\n주 증상: 복통\\n현재 질환 이력:\\n환자 John Anderson 씨(42세, 남성)는 복통을 주 증상으로 내원하였습니다. 기혼자로 아내와 두 자녀와 함께 살고 있습니다. Anderson 씨는 약 2주 전 유럽 출장에서 돌아왔으며, 여행 중 호흡기 증상이나 아픈 사람과의 접촉은 없었다고 합니다.\\n진료 중 Anderson 씨는 아버지가 60대에 심근경색을 앓은 심혈관 질환 가족력이 있으며, 외할머니는 제2형 당뇨병을 앓았다고 밝혔습니다. 본인은 만성 질환, 수술 경험이나 입원 이력은 없다고 합니다.\\n주 증상에 대해 Anderson 씨는 우하복부에 둔하고 간헐적인 통증이 있으며, 통증 강도는 10점 만점에 5점 정도라고 설명합니다. 신체 활동 시 통증이 악화되고 식사 후에도 더 심해지는 경향이 있습니다. 구역질, 구토, 배변 습관의 변화와 같은 관련 증상은 없다고 합니다.\\n제공된 정보를 바탕으로 Anderson 씨의 복통 원인을 파악하기 위한 추가 평가와 진단 검사가 진행될 예정입니다.\\\"\\n\\n담당의: ABC 의사\\n날짜: 2099년 11월 28일\\n환자 ID: 987654321\\n주 증상: 편두통\\n현재 질환 이력:\\n환자 Michael Johnson 씨(40세, 남성)는 반복되는 편두통을 주 증상으로 내원하였습니다. 기혼자로 배우자와 두 자녀와 함께 살고 있으며, 최근 지역 외 여행은 하지 않았습니다.\\n진료 중 Johnson 씨는 어머니와 여동생도 비슷한 증상의 편두통을 앓고 있는 가족력이 있다고 밝혔습니다. 중요한 과거 병력, 수술이나 입원 경험은 없다고 합니다. 업무가 바빠 가끔 스트레스를 받고 수면 패턴이 불규칙하다고 언급했습니다.\\n주 증상에 대해 Johnson 씨는 주로 머리 한쪽에 중간에서 심한 정도의 욱신거리는 통증이 반복적으로 나타난다고 설명합니다. 빛과 소리에 민감해지고 구역질이 나며 때로는 구토도 한다고 합니다. 편두통은 보통 몇 시간 지속되며 한 달에 한두 번 발생한다고 합니다.\\n제공된 정보를 바탕으로 Johnson 씨의 편두통 관리를 위한 추가 평가가 이루어질 예정입니다. 두통의 빈도, 지속 시간 및 유발 요인을 추적하기 위한 두통 일기 작성을 권장할 것이며, 증상 완화와 삶의 질 향상을 위한 생활 습관 개선, 스트레스 관리 방법, 적절한 약물 치료에 대해 상담할 예정입니다.\\\"\\n\\n담당의: ABC 의사\\n날짜: 2099년 7월 10일\\n환자 ID: 246813579\\n주 증상: 임신 정기 검진\\n현재 질환 이력:\\n환자 Emily Adams 씨(30세, 여성)는 정기 임신 검진을 위해 내원하였습니다. 현재 임신 32주차로, 2099년 8월 27일이 출산 예정일입니다. 기혼자로 남편과 함께 살고 있습니다.\\n진료 중 Adams 씨는 어머니가 임신 중 임신성 당뇨를 앓았던 가족력이 있다고 밝혔습니다. 본인은 중요한 병력이나 수술 경험, 이전 임신에서의 합병증은 없다고 합니다.\\n주 증상에 대해 Adams 씨는 임신 3기에 흔히 나타나는 요통, 잦은 소변, 가끔의 속쓰림 등의 불편함을 호소합니다. 질 출혈, 심한 복통, 태아 움직임의 특이한 변화는 없다고 합니다. 임신 중 전반적인 건강 관리를 위해 균형 잡힌 식단과 규칙적인 운동을 유지하고 있다고 합니다.\\n제공된 정보를 바탕으로 Adams 씨의 임신 경과를 확인하기 위한 정기 산전 검사가 진행될 예정입니다. 혈압, 체중 증가, 자궁저 높이 측정, 태아 심장 박동 모니터링 등을 평가할 것입니다. 건강한 출산과 순조로운 육아를 위해 출산 준비, 모유 수유, 산후 관리에 대한 상담도 함께 이루어질 예정입니다.\\\"\\nHuman: 최근에 여행을 다녀온 환자는 누구인가요?\"\n",
            "  ]\n",
            "}\n",
            "\u001b[36;1m\u001b[1;3m[llm/end]\u001b[0m \u001b[1m[chain:StuffDocumentsChain > chain:LLMChain > llm:ChatOpenAI] [522ms] Exiting LLM run with output:\n",
            "\u001b[0m{\n",
            "  \"generations\": [\n",
            "    [\n",
            "      {\n",
            "        \"text\": \"John Anderson 씨가 최근에 유럽 출장에서 돌아왔다고 합니다.\",\n",
            "        \"generation_info\": {\n",
            "          \"finish_reason\": \"stop\",\n",
            "          \"logprobs\": null\n",
            "        },\n",
            "        \"type\": \"ChatGeneration\",\n",
            "        \"message\": {\n",
            "          \"lc\": 1,\n",
            "          \"type\": \"constructor\",\n",
            "          \"id\": [\n",
            "            \"langchain\",\n",
            "            \"schema\",\n",
            "            \"messages\",\n",
            "            \"AIMessage\"\n",
            "          ],\n",
            "          \"kwargs\": {\n",
            "            \"content\": \"John Anderson 씨가 최근에 유럽 출장에서 돌아왔다고 합니다.\",\n",
            "            \"response_metadata\": {\n",
            "              \"token_usage\": {\n",
            "                \"prompt_tokens\": 2157,\n",
            "                \"completion_tokens\": 29,\n",
            "                \"total_tokens\": 2186,\n",
            "                \"prompt_tokens_details\": {\n",
            "                  \"cached_tokens\": 0,\n",
            "                  \"audio_tokens\": 0\n",
            "                },\n",
            "                \"completion_tokens_details\": {\n",
            "                  \"reasoning_tokens\": 0,\n",
            "                  \"audio_tokens\": 0,\n",
            "                  \"accepted_prediction_tokens\": 0,\n",
            "                  \"rejected_prediction_tokens\": 0\n",
            "                }\n",
            "              },\n",
            "              \"model_name\": \"gpt-3.5-turbo\",\n",
            "              \"system_fingerprint\": null,\n",
            "              \"finish_reason\": \"stop\",\n",
            "              \"logprobs\": null\n",
            "            },\n",
            "            \"type\": \"ai\",\n",
            "            \"id\": \"run-345b3757-cd08-4a87-97ec-c4cedfe7fd3c-0\",\n",
            "            \"tool_calls\": [],\n",
            "            \"invalid_tool_calls\": []\n",
            "          }\n",
            "        }\n",
            "      }\n",
            "    ]\n",
            "  ],\n",
            "  \"llm_output\": {\n",
            "    \"token_usage\": {\n",
            "      \"prompt_tokens\": 2157,\n",
            "      \"completion_tokens\": 29,\n",
            "      \"total_tokens\": 2186,\n",
            "      \"prompt_tokens_details\": {\n",
            "        \"cached_tokens\": 0,\n",
            "        \"audio_tokens\": 0\n",
            "      },\n",
            "      \"completion_tokens_details\": {\n",
            "        \"reasoning_tokens\": 0,\n",
            "        \"audio_tokens\": 0,\n",
            "        \"accepted_prediction_tokens\": 0,\n",
            "        \"rejected_prediction_tokens\": 0\n",
            "      }\n",
            "    },\n",
            "    \"model_name\": \"gpt-3.5-turbo\",\n",
            "    \"system_fingerprint\": null\n",
            "  },\n",
            "  \"run\": null,\n",
            "  \"type\": \"LLMResult\"\n",
            "}\n",
            "\u001b[36;1m\u001b[1;3m[chain/end]\u001b[0m \u001b[1m[chain:StuffDocumentsChain > chain:LLMChain] [524ms] Exiting Chain run with output:\n",
            "\u001b[0m{\n",
            "  \"text\": \"John Anderson 씨가 최근에 유럽 출장에서 돌아왔다고 합니다.\"\n",
            "}\n",
            "\u001b[36;1m\u001b[1;3m[chain/end]\u001b[0m \u001b[1m[chain:StuffDocumentsChain] [525ms] Exiting Chain run with output:\n",
            "\u001b[0m{\n",
            "  \"output_text\": \"John Anderson 씨가 최근에 유럽 출장에서 돌아왔다고 합니다.\"\n",
            "}\n",
            "John Anderson 씨가 최근에 유럽 출장에서 돌아왔다고 합니다.\n"
          ]
        }
      ],
      "source": [
        "current_query = query3\n",
        "docs = vector_db.similarity_search(current_query)\n",
        "print(chain.run(input_documents=docs, question=current_query))"
      ]
    },
    {
      "cell_type": "markdown",
      "metadata": {
        "id": "59jii7MNp-kc"
      },
      "source": [
        "**질문 #4: 검사실 검사가 필요한 환자는 누구인가요?**"
      ]
    },
    {
      "cell_type": "code",
      "execution_count": 53,
      "metadata": {
        "colab": {
          "base_uri": "https://localhost:8080/"
        },
        "id": "u73oC9DnpSID",
        "outputId": "4808395a-f095-4f7a-bab1-8c4b71f9c045"
      },
      "outputs": [
        {
          "output_type": "stream",
          "name": "stdout",
          "text": [
            "\u001b[32;1m\u001b[1;3m[chain/start]\u001b[0m \u001b[1m[chain:StuffDocumentsChain] Entering Chain run with input:\n",
            "\u001b[0m[inputs]\n",
            "\u001b[32;1m\u001b[1;3m[chain/start]\u001b[0m \u001b[1m[chain:StuffDocumentsChain > chain:LLMChain] Entering Chain run with input:\n",
            "\u001b[0m{\n",
            "  \"question\": \"검사실 검사가 필요한 환자는 누구인가요?\",\n",
            "  \"context\": \"담당의: ABC 의사\\n날짜: 2099년 11월 15일\\n환자 ID: 123456789\\n주 증상: 피로감과 관절통\\n현재 질환 이력:\\n환자 Sarah Thompson 씨(57세, 여성)는 피로감과 관절통을 호소하며 내원하였습니다. 홀로 거주 중인 미망인으로, 최근 해외여행 이력은 없습니다.\\n진료 중 Thompson 씨는 자매가 류마티스 관절염 진단을 받은 자가면역 질환 가족력이 있다고 밝혔습니다. 또한 본인은 갑상선 기능 저하증이 있어 갑상선 호르몬 대체 요법으로 관리 중이라고 합니다.\\n주 증상에 대해 Thompson 씨는 일상 활동에 지장을 줄 정도로 지속적이고 심한 피로감을 느끼며, 그 정도는 10점 만점에 8점이라고 표현했습니다. 또한 주로 무릎과 손목에 관절통이 있는데, 아침에 더 심하고 하루 중 활동하면서 점차 나아진다고 합니다. 관절 부위의 붓기나 붉어짐은 없다고 합니다.\\n임상 소견을 바탕으로 Thompson 씨의 피로감과 관절통의 원인을 찾기 위한 추가 검사가 필요합니다. 혈액 검사, 영상 검사 및 필요시 전문의 상담을 진행할 예정입니다.\\\"\\n\\n담당의: ABC 의사\\n날짜: 2099년 7월 10일\\n환자 ID: 246813579\\n주 증상: 임신 정기 검진\\n현재 질환 이력:\\n환자 Emily Adams 씨(30세, 여성)는 정기 임신 검진을 위해 내원하였습니다. 현재 임신 32주차로, 2099년 8월 27일이 출산 예정일입니다. 기혼자로 남편과 함께 살고 있습니다.\\n진료 중 Adams 씨는 어머니가 임신 중 임신성 당뇨를 앓았던 가족력이 있다고 밝혔습니다. 본인은 중요한 병력이나 수술 경험, 이전 임신에서의 합병증은 없다고 합니다.\\n주 증상에 대해 Adams 씨는 임신 3기에 흔히 나타나는 요통, 잦은 소변, 가끔의 속쓰림 등의 불편함을 호소합니다. 질 출혈, 심한 복통, 태아 움직임의 특이한 변화는 없다고 합니다. 임신 중 전반적인 건강 관리를 위해 균형 잡힌 식단과 규칙적인 운동을 유지하고 있다고 합니다.\\n제공된 정보를 바탕으로 Adams 씨의 임신 경과를 확인하기 위한 정기 산전 검사가 진행될 예정입니다. 혈압, 체중 증가, 자궁저 높이 측정, 태아 심장 박동 모니터링 등을 평가할 것입니다. 건강한 출산과 순조로운 육아를 위해 출산 준비, 모유 수유, 산후 관리에 대한 상담도 함께 이루어질 예정입니다.\\\"\\n\\n담당의: ABC 의사\\n날짜: 2099년 6월 25일\\n환자 ID: 987654321\\n주 증상: 복통\\n현재 질환 이력:\\n환자 John Anderson 씨(42세, 남성)는 복통을 주 증상으로 내원하였습니다. 기혼자로 아내와 두 자녀와 함께 살고 있습니다. Anderson 씨는 약 2주 전 유럽 출장에서 돌아왔으며, 여행 중 호흡기 증상이나 아픈 사람과의 접촉은 없었다고 합니다.\\n진료 중 Anderson 씨는 아버지가 60대에 심근경색을 앓은 심혈관 질환 가족력이 있으며, 외할머니는 제2형 당뇨병을 앓았다고 밝혔습니다. 본인은 만성 질환, 수술 경험이나 입원 이력은 없다고 합니다.\\n주 증상에 대해 Anderson 씨는 우하복부에 둔하고 간헐적인 통증이 있으며, 통증 강도는 10점 만점에 5점 정도라고 설명합니다. 신체 활동 시 통증이 악화되고 식사 후에도 더 심해지는 경향이 있습니다. 구역질, 구토, 배변 습관의 변화와 같은 관련 증상은 없다고 합니다.\\n제공된 정보를 바탕으로 Anderson 씨의 복통 원인을 파악하기 위한 추가 평가와 진단 검사가 진행될 예정입니다.\\\"\\n\\n담당의: ABC 의사\\n날짜: 2099년 11월 28일\\n환자 ID: 987654321\\n주 증상: 편두통\\n현재 질환 이력:\\n환자 Michael Johnson 씨(40세, 남성)는 반복되는 편두통을 주 증상으로 내원하였습니다. 기혼자로 배우자와 두 자녀와 함께 살고 있으며, 최근 지역 외 여행은 하지 않았습니다.\\n진료 중 Johnson 씨는 어머니와 여동생도 비슷한 증상의 편두통을 앓고 있는 가족력이 있다고 밝혔습니다. 중요한 과거 병력, 수술이나 입원 경험은 없다고 합니다. 업무가 바빠 가끔 스트레스를 받고 수면 패턴이 불규칙하다고 언급했습니다.\\n주 증상에 대해 Johnson 씨는 주로 머리 한쪽에 중간에서 심한 정도의 욱신거리는 통증이 반복적으로 나타난다고 설명합니다. 빛과 소리에 민감해지고 구역질이 나며 때로는 구토도 한다고 합니다. 편두통은 보통 몇 시간 지속되며 한 달에 한두 번 발생한다고 합니다.\\n제공된 정보를 바탕으로 Johnson 씨의 편두통 관리를 위한 추가 평가가 이루어질 예정입니다. 두통의 빈도, 지속 시간 및 유발 요인을 추적하기 위한 두통 일기 작성을 권장할 것이며, 증상 완화와 삶의 질 향상을 위한 생활 습관 개선, 스트레스 관리 방법, 적절한 약물 치료에 대해 상담할 예정입니다.\\\"\"\n",
            "}\n",
            "\u001b[32;1m\u001b[1;3m[llm/start]\u001b[0m \u001b[1m[chain:StuffDocumentsChain > chain:LLMChain > llm:ChatOpenAI] Entering LLM run with input:\n",
            "\u001b[0m{\n",
            "  \"prompts\": [\n",
            "    \"System: Use the following pieces of context to answer the user's question. \\nIf you don't know the answer, just say that you don't know, don't try to make up an answer.\\n----------------\\n담당의: ABC 의사\\n날짜: 2099년 11월 15일\\n환자 ID: 123456789\\n주 증상: 피로감과 관절통\\n현재 질환 이력:\\n환자 Sarah Thompson 씨(57세, 여성)는 피로감과 관절통을 호소하며 내원하였습니다. 홀로 거주 중인 미망인으로, 최근 해외여행 이력은 없습니다.\\n진료 중 Thompson 씨는 자매가 류마티스 관절염 진단을 받은 자가면역 질환 가족력이 있다고 밝혔습니다. 또한 본인은 갑상선 기능 저하증이 있어 갑상선 호르몬 대체 요법으로 관리 중이라고 합니다.\\n주 증상에 대해 Thompson 씨는 일상 활동에 지장을 줄 정도로 지속적이고 심한 피로감을 느끼며, 그 정도는 10점 만점에 8점이라고 표현했습니다. 또한 주로 무릎과 손목에 관절통이 있는데, 아침에 더 심하고 하루 중 활동하면서 점차 나아진다고 합니다. 관절 부위의 붓기나 붉어짐은 없다고 합니다.\\n임상 소견을 바탕으로 Thompson 씨의 피로감과 관절통의 원인을 찾기 위한 추가 검사가 필요합니다. 혈액 검사, 영상 검사 및 필요시 전문의 상담을 진행할 예정입니다.\\\"\\n\\n담당의: ABC 의사\\n날짜: 2099년 7월 10일\\n환자 ID: 246813579\\n주 증상: 임신 정기 검진\\n현재 질환 이력:\\n환자 Emily Adams 씨(30세, 여성)는 정기 임신 검진을 위해 내원하였습니다. 현재 임신 32주차로, 2099년 8월 27일이 출산 예정일입니다. 기혼자로 남편과 함께 살고 있습니다.\\n진료 중 Adams 씨는 어머니가 임신 중 임신성 당뇨를 앓았던 가족력이 있다고 밝혔습니다. 본인은 중요한 병력이나 수술 경험, 이전 임신에서의 합병증은 없다고 합니다.\\n주 증상에 대해 Adams 씨는 임신 3기에 흔히 나타나는 요통, 잦은 소변, 가끔의 속쓰림 등의 불편함을 호소합니다. 질 출혈, 심한 복통, 태아 움직임의 특이한 변화는 없다고 합니다. 임신 중 전반적인 건강 관리를 위해 균형 잡힌 식단과 규칙적인 운동을 유지하고 있다고 합니다.\\n제공된 정보를 바탕으로 Adams 씨의 임신 경과를 확인하기 위한 정기 산전 검사가 진행될 예정입니다. 혈압, 체중 증가, 자궁저 높이 측정, 태아 심장 박동 모니터링 등을 평가할 것입니다. 건강한 출산과 순조로운 육아를 위해 출산 준비, 모유 수유, 산후 관리에 대한 상담도 함께 이루어질 예정입니다.\\\"\\n\\n담당의: ABC 의사\\n날짜: 2099년 6월 25일\\n환자 ID: 987654321\\n주 증상: 복통\\n현재 질환 이력:\\n환자 John Anderson 씨(42세, 남성)는 복통을 주 증상으로 내원하였습니다. 기혼자로 아내와 두 자녀와 함께 살고 있습니다. Anderson 씨는 약 2주 전 유럽 출장에서 돌아왔으며, 여행 중 호흡기 증상이나 아픈 사람과의 접촉은 없었다고 합니다.\\n진료 중 Anderson 씨는 아버지가 60대에 심근경색을 앓은 심혈관 질환 가족력이 있으며, 외할머니는 제2형 당뇨병을 앓았다고 밝혔습니다. 본인은 만성 질환, 수술 경험이나 입원 이력은 없다고 합니다.\\n주 증상에 대해 Anderson 씨는 우하복부에 둔하고 간헐적인 통증이 있으며, 통증 강도는 10점 만점에 5점 정도라고 설명합니다. 신체 활동 시 통증이 악화되고 식사 후에도 더 심해지는 경향이 있습니다. 구역질, 구토, 배변 습관의 변화와 같은 관련 증상은 없다고 합니다.\\n제공된 정보를 바탕으로 Anderson 씨의 복통 원인을 파악하기 위한 추가 평가와 진단 검사가 진행될 예정입니다.\\\"\\n\\n담당의: ABC 의사\\n날짜: 2099년 11월 28일\\n환자 ID: 987654321\\n주 증상: 편두통\\n현재 질환 이력:\\n환자 Michael Johnson 씨(40세, 남성)는 반복되는 편두통을 주 증상으로 내원하였습니다. 기혼자로 배우자와 두 자녀와 함께 살고 있으며, 최근 지역 외 여행은 하지 않았습니다.\\n진료 중 Johnson 씨는 어머니와 여동생도 비슷한 증상의 편두통을 앓고 있는 가족력이 있다고 밝혔습니다. 중요한 과거 병력, 수술이나 입원 경험은 없다고 합니다. 업무가 바빠 가끔 스트레스를 받고 수면 패턴이 불규칙하다고 언급했습니다.\\n주 증상에 대해 Johnson 씨는 주로 머리 한쪽에 중간에서 심한 정도의 욱신거리는 통증이 반복적으로 나타난다고 설명합니다. 빛과 소리에 민감해지고 구역질이 나며 때로는 구토도 한다고 합니다. 편두통은 보통 몇 시간 지속되며 한 달에 한두 번 발생한다고 합니다.\\n제공된 정보를 바탕으로 Johnson 씨의 편두통 관리를 위한 추가 평가가 이루어질 예정입니다. 두통의 빈도, 지속 시간 및 유발 요인을 추적하기 위한 두통 일기 작성을 권장할 것이며, 증상 완화와 삶의 질 향상을 위한 생활 습관 개선, 스트레스 관리 방법, 적절한 약물 치료에 대해 상담할 예정입니다.\\\"\\nHuman: 검사실 검사가 필요한 환자는 누구인가요?\"\n",
            "  ]\n",
            "}\n",
            "\u001b[36;1m\u001b[1;3m[llm/end]\u001b[0m \u001b[1m[chain:StuffDocumentsChain > chain:LLMChain > llm:ChatOpenAI] [654ms] Exiting LLM run with output:\n",
            "\u001b[0m{\n",
            "  \"generations\": [\n",
            "    [\n",
            "      {\n",
            "        \"text\": \"피로감과 관절통을 호소하는 Sarah Thompson 씨가 추가 검사가 필요한 환자입니다.\",\n",
            "        \"generation_info\": {\n",
            "          \"finish_reason\": \"stop\",\n",
            "          \"logprobs\": null\n",
            "        },\n",
            "        \"type\": \"ChatGeneration\",\n",
            "        \"message\": {\n",
            "          \"lc\": 1,\n",
            "          \"type\": \"constructor\",\n",
            "          \"id\": [\n",
            "            \"langchain\",\n",
            "            \"schema\",\n",
            "            \"messages\",\n",
            "            \"AIMessage\"\n",
            "          ],\n",
            "          \"kwargs\": {\n",
            "            \"content\": \"피로감과 관절통을 호소하는 Sarah Thompson 씨가 추가 검사가 필요한 환자입니다.\",\n",
            "            \"response_metadata\": {\n",
            "              \"token_usage\": {\n",
            "                \"prompt_tokens\": 2154,\n",
            "                \"completion_tokens\": 35,\n",
            "                \"total_tokens\": 2189,\n",
            "                \"prompt_tokens_details\": {\n",
            "                  \"cached_tokens\": 0,\n",
            "                  \"audio_tokens\": 0\n",
            "                },\n",
            "                \"completion_tokens_details\": {\n",
            "                  \"reasoning_tokens\": 0,\n",
            "                  \"audio_tokens\": 0,\n",
            "                  \"accepted_prediction_tokens\": 0,\n",
            "                  \"rejected_prediction_tokens\": 0\n",
            "                }\n",
            "              },\n",
            "              \"model_name\": \"gpt-3.5-turbo\",\n",
            "              \"system_fingerprint\": null,\n",
            "              \"finish_reason\": \"stop\",\n",
            "              \"logprobs\": null\n",
            "            },\n",
            "            \"type\": \"ai\",\n",
            "            \"id\": \"run-72e1ed98-874a-4eff-9e6d-e4176727475f-0\",\n",
            "            \"tool_calls\": [],\n",
            "            \"invalid_tool_calls\": []\n",
            "          }\n",
            "        }\n",
            "      }\n",
            "    ]\n",
            "  ],\n",
            "  \"llm_output\": {\n",
            "    \"token_usage\": {\n",
            "      \"prompt_tokens\": 2154,\n",
            "      \"completion_tokens\": 35,\n",
            "      \"total_tokens\": 2189,\n",
            "      \"prompt_tokens_details\": {\n",
            "        \"cached_tokens\": 0,\n",
            "        \"audio_tokens\": 0\n",
            "      },\n",
            "      \"completion_tokens_details\": {\n",
            "        \"reasoning_tokens\": 0,\n",
            "        \"audio_tokens\": 0,\n",
            "        \"accepted_prediction_tokens\": 0,\n",
            "        \"rejected_prediction_tokens\": 0\n",
            "      }\n",
            "    },\n",
            "    \"model_name\": \"gpt-3.5-turbo\",\n",
            "    \"system_fingerprint\": null\n",
            "  },\n",
            "  \"run\": null,\n",
            "  \"type\": \"LLMResult\"\n",
            "}\n",
            "\u001b[36;1m\u001b[1;3m[chain/end]\u001b[0m \u001b[1m[chain:StuffDocumentsChain > chain:LLMChain] [655ms] Exiting Chain run with output:\n",
            "\u001b[0m{\n",
            "  \"text\": \"피로감과 관절통을 호소하는 Sarah Thompson 씨가 추가 검사가 필요한 환자입니다.\"\n",
            "}\n",
            "\u001b[36;1m\u001b[1;3m[chain/end]\u001b[0m \u001b[1m[chain:StuffDocumentsChain] [657ms] Exiting Chain run with output:\n",
            "\u001b[0m{\n",
            "  \"output_text\": \"피로감과 관절통을 호소하는 Sarah Thompson 씨가 추가 검사가 필요한 환자입니다.\"\n",
            "}\n",
            "피로감과 관절통을 호소하는 Sarah Thompson 씨가 추가 검사가 필요한 환자입니다.\n"
          ]
        }
      ],
      "source": [
        "current_query = query4\n",
        "docs = vector_db.similarity_search(current_query)\n",
        "print(chain.run(input_documents=docs, question=current_query))"
      ]
    },
    {
      "cell_type": "markdown",
      "metadata": {
        "id": "xXRqvbePqhNv"
      },
      "source": [
        "**질문 #4 수정: *확실하게* 검사실 검사를 필요로 하는 환자는 누구인가요?**"
      ]
    },
    {
      "cell_type": "code",
      "execution_count": 54,
      "metadata": {
        "colab": {
          "base_uri": "https://localhost:8080/"
        },
        "id": "HG_aQEqUpnby",
        "outputId": "086e043c-15e6-4e40-bdc9-268fa8d7b2c2"
      },
      "outputs": [
        {
          "output_type": "stream",
          "name": "stdout",
          "text": [
            "\u001b[32;1m\u001b[1;3m[chain/start]\u001b[0m \u001b[1m[chain:StuffDocumentsChain] Entering Chain run with input:\n",
            "\u001b[0m[inputs]\n",
            "\u001b[32;1m\u001b[1;3m[chain/start]\u001b[0m \u001b[1m[chain:StuffDocumentsChain > chain:LLMChain] Entering Chain run with input:\n",
            "\u001b[0m{\n",
            "  \"question\": \"확실하게 검사실 검사를 필요로 하는 환자는 누구인가요?\",\n",
            "  \"context\": \"담당의: ABC 의사\\n날짜: 2099년 11월 15일\\n환자 ID: 123456789\\n주 증상: 피로감과 관절통\\n현재 질환 이력:\\n환자 Sarah Thompson 씨(57세, 여성)는 피로감과 관절통을 호소하며 내원하였습니다. 홀로 거주 중인 미망인으로, 최근 해외여행 이력은 없습니다.\\n진료 중 Thompson 씨는 자매가 류마티스 관절염 진단을 받은 자가면역 질환 가족력이 있다고 밝혔습니다. 또한 본인은 갑상선 기능 저하증이 있어 갑상선 호르몬 대체 요법으로 관리 중이라고 합니다.\\n주 증상에 대해 Thompson 씨는 일상 활동에 지장을 줄 정도로 지속적이고 심한 피로감을 느끼며, 그 정도는 10점 만점에 8점이라고 표현했습니다. 또한 주로 무릎과 손목에 관절통이 있는데, 아침에 더 심하고 하루 중 활동하면서 점차 나아진다고 합니다. 관절 부위의 붓기나 붉어짐은 없다고 합니다.\\n임상 소견을 바탕으로 Thompson 씨의 피로감과 관절통의 원인을 찾기 위한 추가 검사가 필요합니다. 혈액 검사, 영상 검사 및 필요시 전문의 상담을 진행할 예정입니다.\\\"\\n\\n담당의: ABC 의사\\n날짜: 2099년 7월 10일\\n환자 ID: 246813579\\n주 증상: 임신 정기 검진\\n현재 질환 이력:\\n환자 Emily Adams 씨(30세, 여성)는 정기 임신 검진을 위해 내원하였습니다. 현재 임신 32주차로, 2099년 8월 27일이 출산 예정일입니다. 기혼자로 남편과 함께 살고 있습니다.\\n진료 중 Adams 씨는 어머니가 임신 중 임신성 당뇨를 앓았던 가족력이 있다고 밝혔습니다. 본인은 중요한 병력이나 수술 경험, 이전 임신에서의 합병증은 없다고 합니다.\\n주 증상에 대해 Adams 씨는 임신 3기에 흔히 나타나는 요통, 잦은 소변, 가끔의 속쓰림 등의 불편함을 호소합니다. 질 출혈, 심한 복통, 태아 움직임의 특이한 변화는 없다고 합니다. 임신 중 전반적인 건강 관리를 위해 균형 잡힌 식단과 규칙적인 운동을 유지하고 있다고 합니다.\\n제공된 정보를 바탕으로 Adams 씨의 임신 경과를 확인하기 위한 정기 산전 검사가 진행될 예정입니다. 혈압, 체중 증가, 자궁저 높이 측정, 태아 심장 박동 모니터링 등을 평가할 것입니다. 건강한 출산과 순조로운 육아를 위해 출산 준비, 모유 수유, 산후 관리에 대한 상담도 함께 이루어질 예정입니다.\\\"\\n\\n담당의: ABC 의사\\n날짜: 2099년 6월 25일\\n환자 ID: 987654321\\n주 증상: 복통\\n현재 질환 이력:\\n환자 John Anderson 씨(42세, 남성)는 복통을 주 증상으로 내원하였습니다. 기혼자로 아내와 두 자녀와 함께 살고 있습니다. Anderson 씨는 약 2주 전 유럽 출장에서 돌아왔으며, 여행 중 호흡기 증상이나 아픈 사람과의 접촉은 없었다고 합니다.\\n진료 중 Anderson 씨는 아버지가 60대에 심근경색을 앓은 심혈관 질환 가족력이 있으며, 외할머니는 제2형 당뇨병을 앓았다고 밝혔습니다. 본인은 만성 질환, 수술 경험이나 입원 이력은 없다고 합니다.\\n주 증상에 대해 Anderson 씨는 우하복부에 둔하고 간헐적인 통증이 있으며, 통증 강도는 10점 만점에 5점 정도라고 설명합니다. 신체 활동 시 통증이 악화되고 식사 후에도 더 심해지는 경향이 있습니다. 구역질, 구토, 배변 습관의 변화와 같은 관련 증상은 없다고 합니다.\\n제공된 정보를 바탕으로 Anderson 씨의 복통 원인을 파악하기 위한 추가 평가와 진단 검사가 진행될 예정입니다.\\\"\\n\\n담당의: ABC 의사\\n날짜: 2099년 11월 28일\\n환자 ID: 987654321\\n주 증상: 편두통\\n현재 질환 이력:\\n환자 Michael Johnson 씨(40세, 남성)는 반복되는 편두통을 주 증상으로 내원하였습니다. 기혼자로 배우자와 두 자녀와 함께 살고 있으며, 최근 지역 외 여행은 하지 않았습니다.\\n진료 중 Johnson 씨는 어머니와 여동생도 비슷한 증상의 편두통을 앓고 있는 가족력이 있다고 밝혔습니다. 중요한 과거 병력, 수술이나 입원 경험은 없다고 합니다. 업무가 바빠 가끔 스트레스를 받고 수면 패턴이 불규칙하다고 언급했습니다.\\n주 증상에 대해 Johnson 씨는 주로 머리 한쪽에 중간에서 심한 정도의 욱신거리는 통증이 반복적으로 나타난다고 설명합니다. 빛과 소리에 민감해지고 구역질이 나며 때로는 구토도 한다고 합니다. 편두통은 보통 몇 시간 지속되며 한 달에 한두 번 발생한다고 합니다.\\n제공된 정보를 바탕으로 Johnson 씨의 편두통 관리를 위한 추가 평가가 이루어질 예정입니다. 두통의 빈도, 지속 시간 및 유발 요인을 추적하기 위한 두통 일기 작성을 권장할 것이며, 증상 완화와 삶의 질 향상을 위한 생활 습관 개선, 스트레스 관리 방법, 적절한 약물 치료에 대해 상담할 예정입니다.\\\"\"\n",
            "}\n",
            "\u001b[32;1m\u001b[1;3m[llm/start]\u001b[0m \u001b[1m[chain:StuffDocumentsChain > chain:LLMChain > llm:ChatOpenAI] Entering LLM run with input:\n",
            "\u001b[0m{\n",
            "  \"prompts\": [\n",
            "    \"System: Use the following pieces of context to answer the user's question. \\nIf you don't know the answer, just say that you don't know, don't try to make up an answer.\\n----------------\\n담당의: ABC 의사\\n날짜: 2099년 11월 15일\\n환자 ID: 123456789\\n주 증상: 피로감과 관절통\\n현재 질환 이력:\\n환자 Sarah Thompson 씨(57세, 여성)는 피로감과 관절통을 호소하며 내원하였습니다. 홀로 거주 중인 미망인으로, 최근 해외여행 이력은 없습니다.\\n진료 중 Thompson 씨는 자매가 류마티스 관절염 진단을 받은 자가면역 질환 가족력이 있다고 밝혔습니다. 또한 본인은 갑상선 기능 저하증이 있어 갑상선 호르몬 대체 요법으로 관리 중이라고 합니다.\\n주 증상에 대해 Thompson 씨는 일상 활동에 지장을 줄 정도로 지속적이고 심한 피로감을 느끼며, 그 정도는 10점 만점에 8점이라고 표현했습니다. 또한 주로 무릎과 손목에 관절통이 있는데, 아침에 더 심하고 하루 중 활동하면서 점차 나아진다고 합니다. 관절 부위의 붓기나 붉어짐은 없다고 합니다.\\n임상 소견을 바탕으로 Thompson 씨의 피로감과 관절통의 원인을 찾기 위한 추가 검사가 필요합니다. 혈액 검사, 영상 검사 및 필요시 전문의 상담을 진행할 예정입니다.\\\"\\n\\n담당의: ABC 의사\\n날짜: 2099년 7월 10일\\n환자 ID: 246813579\\n주 증상: 임신 정기 검진\\n현재 질환 이력:\\n환자 Emily Adams 씨(30세, 여성)는 정기 임신 검진을 위해 내원하였습니다. 현재 임신 32주차로, 2099년 8월 27일이 출산 예정일입니다. 기혼자로 남편과 함께 살고 있습니다.\\n진료 중 Adams 씨는 어머니가 임신 중 임신성 당뇨를 앓았던 가족력이 있다고 밝혔습니다. 본인은 중요한 병력이나 수술 경험, 이전 임신에서의 합병증은 없다고 합니다.\\n주 증상에 대해 Adams 씨는 임신 3기에 흔히 나타나는 요통, 잦은 소변, 가끔의 속쓰림 등의 불편함을 호소합니다. 질 출혈, 심한 복통, 태아 움직임의 특이한 변화는 없다고 합니다. 임신 중 전반적인 건강 관리를 위해 균형 잡힌 식단과 규칙적인 운동을 유지하고 있다고 합니다.\\n제공된 정보를 바탕으로 Adams 씨의 임신 경과를 확인하기 위한 정기 산전 검사가 진행될 예정입니다. 혈압, 체중 증가, 자궁저 높이 측정, 태아 심장 박동 모니터링 등을 평가할 것입니다. 건강한 출산과 순조로운 육아를 위해 출산 준비, 모유 수유, 산후 관리에 대한 상담도 함께 이루어질 예정입니다.\\\"\\n\\n담당의: ABC 의사\\n날짜: 2099년 6월 25일\\n환자 ID: 987654321\\n주 증상: 복통\\n현재 질환 이력:\\n환자 John Anderson 씨(42세, 남성)는 복통을 주 증상으로 내원하였습니다. 기혼자로 아내와 두 자녀와 함께 살고 있습니다. Anderson 씨는 약 2주 전 유럽 출장에서 돌아왔으며, 여행 중 호흡기 증상이나 아픈 사람과의 접촉은 없었다고 합니다.\\n진료 중 Anderson 씨는 아버지가 60대에 심근경색을 앓은 심혈관 질환 가족력이 있으며, 외할머니는 제2형 당뇨병을 앓았다고 밝혔습니다. 본인은 만성 질환, 수술 경험이나 입원 이력은 없다고 합니다.\\n주 증상에 대해 Anderson 씨는 우하복부에 둔하고 간헐적인 통증이 있으며, 통증 강도는 10점 만점에 5점 정도라고 설명합니다. 신체 활동 시 통증이 악화되고 식사 후에도 더 심해지는 경향이 있습니다. 구역질, 구토, 배변 습관의 변화와 같은 관련 증상은 없다고 합니다.\\n제공된 정보를 바탕으로 Anderson 씨의 복통 원인을 파악하기 위한 추가 평가와 진단 검사가 진행될 예정입니다.\\\"\\n\\n담당의: ABC 의사\\n날짜: 2099년 11월 28일\\n환자 ID: 987654321\\n주 증상: 편두통\\n현재 질환 이력:\\n환자 Michael Johnson 씨(40세, 남성)는 반복되는 편두통을 주 증상으로 내원하였습니다. 기혼자로 배우자와 두 자녀와 함께 살고 있으며, 최근 지역 외 여행은 하지 않았습니다.\\n진료 중 Johnson 씨는 어머니와 여동생도 비슷한 증상의 편두통을 앓고 있는 가족력이 있다고 밝혔습니다. 중요한 과거 병력, 수술이나 입원 경험은 없다고 합니다. 업무가 바빠 가끔 스트레스를 받고 수면 패턴이 불규칙하다고 언급했습니다.\\n주 증상에 대해 Johnson 씨는 주로 머리 한쪽에 중간에서 심한 정도의 욱신거리는 통증이 반복적으로 나타난다고 설명합니다. 빛과 소리에 민감해지고 구역질이 나며 때로는 구토도 한다고 합니다. 편두통은 보통 몇 시간 지속되며 한 달에 한두 번 발생한다고 합니다.\\n제공된 정보를 바탕으로 Johnson 씨의 편두통 관리를 위한 추가 평가가 이루어질 예정입니다. 두통의 빈도, 지속 시간 및 유발 요인을 추적하기 위한 두통 일기 작성을 권장할 것이며, 증상 완화와 삶의 질 향상을 위한 생활 습관 개선, 스트레스 관리 방법, 적절한 약물 치료에 대해 상담할 예정입니다.\\\"\\nHuman: 확실하게 검사실 검사를 필요로 하는 환자는 누구인가요?\"\n",
            "  ]\n",
            "}\n",
            "\u001b[36;1m\u001b[1;3m[llm/end]\u001b[0m \u001b[1m[chain:StuffDocumentsChain > chain:LLMChain > llm:ChatOpenAI] [1.02s] Exiting LLM run with output:\n",
            "\u001b[0m{\n",
            "  \"generations\": [\n",
            "    [\n",
            "      {\n",
            "        \"text\": \"Sarah Thompson 씨는 확실하게 검사실 검사를 필요로 하는 환자입니다. Thompson 씨의 피로감과 관절통 증상을 토대로 추가 검사가 필요하다는 의사의 판단이 있었습니다.\",\n",
            "        \"generation_info\": {\n",
            "          \"finish_reason\": \"stop\",\n",
            "          \"logprobs\": null\n",
            "        },\n",
            "        \"type\": \"ChatGeneration\",\n",
            "        \"message\": {\n",
            "          \"lc\": 1,\n",
            "          \"type\": \"constructor\",\n",
            "          \"id\": [\n",
            "            \"langchain\",\n",
            "            \"schema\",\n",
            "            \"messages\",\n",
            "            \"AIMessage\"\n",
            "          ],\n",
            "          \"kwargs\": {\n",
            "            \"content\": \"Sarah Thompson 씨는 확실하게 검사실 검사를 필요로 하는 환자입니다. Thompson 씨의 피로감과 관절통 증상을 토대로 추가 검사가 필요하다는 의사의 판단이 있었습니다.\",\n",
            "            \"response_metadata\": {\n",
            "              \"token_usage\": {\n",
            "                \"prompt_tokens\": 2161,\n",
            "                \"completion_tokens\": 79,\n",
            "                \"total_tokens\": 2240,\n",
            "                \"prompt_tokens_details\": {\n",
            "                  \"cached_tokens\": 0,\n",
            "                  \"audio_tokens\": 0\n",
            "                },\n",
            "                \"completion_tokens_details\": {\n",
            "                  \"reasoning_tokens\": 0,\n",
            "                  \"audio_tokens\": 0,\n",
            "                  \"accepted_prediction_tokens\": 0,\n",
            "                  \"rejected_prediction_tokens\": 0\n",
            "                }\n",
            "              },\n",
            "              \"model_name\": \"gpt-3.5-turbo\",\n",
            "              \"system_fingerprint\": null,\n",
            "              \"finish_reason\": \"stop\",\n",
            "              \"logprobs\": null\n",
            "            },\n",
            "            \"type\": \"ai\",\n",
            "            \"id\": \"run-835cbdfa-7044-4f30-aea4-54a94bfececa-0\",\n",
            "            \"tool_calls\": [],\n",
            "            \"invalid_tool_calls\": []\n",
            "          }\n",
            "        }\n",
            "      }\n",
            "    ]\n",
            "  ],\n",
            "  \"llm_output\": {\n",
            "    \"token_usage\": {\n",
            "      \"prompt_tokens\": 2161,\n",
            "      \"completion_tokens\": 79,\n",
            "      \"total_tokens\": 2240,\n",
            "      \"prompt_tokens_details\": {\n",
            "        \"cached_tokens\": 0,\n",
            "        \"audio_tokens\": 0\n",
            "      },\n",
            "      \"completion_tokens_details\": {\n",
            "        \"reasoning_tokens\": 0,\n",
            "        \"audio_tokens\": 0,\n",
            "        \"accepted_prediction_tokens\": 0,\n",
            "        \"rejected_prediction_tokens\": 0\n",
            "      }\n",
            "    },\n",
            "    \"model_name\": \"gpt-3.5-turbo\",\n",
            "    \"system_fingerprint\": null\n",
            "  },\n",
            "  \"run\": null,\n",
            "  \"type\": \"LLMResult\"\n",
            "}\n",
            "\u001b[36;1m\u001b[1;3m[chain/end]\u001b[0m \u001b[1m[chain:StuffDocumentsChain > chain:LLMChain] [1.03s] Exiting Chain run with output:\n",
            "\u001b[0m{\n",
            "  \"text\": \"Sarah Thompson 씨는 확실하게 검사실 검사를 필요로 하는 환자입니다. Thompson 씨의 피로감과 관절통 증상을 토대로 추가 검사가 필요하다는 의사의 판단이 있었습니다.\"\n",
            "}\n",
            "\u001b[36;1m\u001b[1;3m[chain/end]\u001b[0m \u001b[1m[chain:StuffDocumentsChain] [1.03s] Exiting Chain run with output:\n",
            "\u001b[0m{\n",
            "  \"output_text\": \"Sarah Thompson 씨는 확실하게 검사실 검사를 필요로 하는 환자입니다. Thompson 씨의 피로감과 관절통 증상을 토대로 추가 검사가 필요하다는 의사의 판단이 있었습니다.\"\n",
            "}\n",
            "Sarah Thompson 씨는 확실하게 검사실 검사를 필요로 하는 환자입니다. Thompson 씨의 피로감과 관절통 증상을 토대로 추가 검사가 필요하다는 의사의 판단이 있었습니다.\n"
          ]
        }
      ],
      "source": [
        "# current_query = \"Which patients explicitly require lab work?\"\n",
        "current_query = \"확실하게 검사실 검사를 필요로 하는 환자는 누구인가요?\"\n",
        "docs = vector_db.similarity_search(current_query)\n",
        "print(chain.run(input_documents=docs, question=current_query))"
      ]
    },
    {
      "cell_type": "code",
      "execution_count": 45,
      "metadata": {
        "id": "m5l4hqhlsv4Z"
      },
      "outputs": [],
      "source": []
    }
  ],
  "metadata": {
    "colab": {
      "provenance": []
    },
    "kernelspec": {
      "display_name": "Python 3 (ipykernel)",
      "language": "python",
      "name": "python3"
    },
    "language_info": {
      "codemirror_mode": {
        "name": "ipython",
        "version": 3
      },
      "file_extension": ".py",
      "mimetype": "text/x-python",
      "name": "python",
      "nbconvert_exporter": "python",
      "pygments_lexer": "ipython3",
      "version": "3.11.4"
    },
    "widgets": {
      "application/vnd.jupyter.widget-state+json": {
        "cc76a697a4ed4a3c89ed764cb4bc8182": {
          "model_module": "@jupyter-widgets/controls",
          "model_name": "HBoxModel",
          "model_module_version": "1.5.0",
          "state": {
            "_dom_classes": [],
            "_model_module": "@jupyter-widgets/controls",
            "_model_module_version": "1.5.0",
            "_model_name": "HBoxModel",
            "_view_count": null,
            "_view_module": "@jupyter-widgets/controls",
            "_view_module_version": "1.5.0",
            "_view_name": "HBoxView",
            "box_style": "",
            "children": [
              "IPY_MODEL_cb2ccfd44cea402d82a2f30673723e6d",
              "IPY_MODEL_d58f11e51eff4a4180b9615ff41c8660",
              "IPY_MODEL_a1d115b173b14fdc846c741e705fe0d4"
            ],
            "layout": "IPY_MODEL_2c9a0b89d98a41a1a8dd1a156da47638"
          }
        },
        "cb2ccfd44cea402d82a2f30673723e6d": {
          "model_module": "@jupyter-widgets/controls",
          "model_name": "HTMLModel",
          "model_module_version": "1.5.0",
          "state": {
            "_dom_classes": [],
            "_model_module": "@jupyter-widgets/controls",
            "_model_module_version": "1.5.0",
            "_model_name": "HTMLModel",
            "_view_count": null,
            "_view_module": "@jupyter-widgets/controls",
            "_view_module_version": "1.5.0",
            "_view_name": "HTMLView",
            "description": "",
            "description_tooltip": null,
            "layout": "IPY_MODEL_4f09fd42ee3048aa927e1561b47a0092",
            "placeholder": "​",
            "style": "IPY_MODEL_1bffedf638244fc1b01a00e3152b773c",
            "value": "modules.json: 100%"
          }
        },
        "d58f11e51eff4a4180b9615ff41c8660": {
          "model_module": "@jupyter-widgets/controls",
          "model_name": "FloatProgressModel",
          "model_module_version": "1.5.0",
          "state": {
            "_dom_classes": [],
            "_model_module": "@jupyter-widgets/controls",
            "_model_module_version": "1.5.0",
            "_model_name": "FloatProgressModel",
            "_view_count": null,
            "_view_module": "@jupyter-widgets/controls",
            "_view_module_version": "1.5.0",
            "_view_name": "ProgressView",
            "bar_style": "success",
            "description": "",
            "description_tooltip": null,
            "layout": "IPY_MODEL_d56159324bdb4e9db989a4cc072eb4f9",
            "max": 229,
            "min": 0,
            "orientation": "horizontal",
            "style": "IPY_MODEL_f991daa5506c42189de982d3ee3fd7b5",
            "value": 229
          }
        },
        "a1d115b173b14fdc846c741e705fe0d4": {
          "model_module": "@jupyter-widgets/controls",
          "model_name": "HTMLModel",
          "model_module_version": "1.5.0",
          "state": {
            "_dom_classes": [],
            "_model_module": "@jupyter-widgets/controls",
            "_model_module_version": "1.5.0",
            "_model_name": "HTMLModel",
            "_view_count": null,
            "_view_module": "@jupyter-widgets/controls",
            "_view_module_version": "1.5.0",
            "_view_name": "HTMLView",
            "description": "",
            "description_tooltip": null,
            "layout": "IPY_MODEL_34a61f81dc7f461e856ed3d1ea908147",
            "placeholder": "​",
            "style": "IPY_MODEL_d591c2d434b348aeb7211a29af6e8a4b",
            "value": " 229/229 [00:00&lt;00:00, 8.54kB/s]"
          }
        },
        "2c9a0b89d98a41a1a8dd1a156da47638": {
          "model_module": "@jupyter-widgets/base",
          "model_name": "LayoutModel",
          "model_module_version": "1.2.0",
          "state": {
            "_model_module": "@jupyter-widgets/base",
            "_model_module_version": "1.2.0",
            "_model_name": "LayoutModel",
            "_view_count": null,
            "_view_module": "@jupyter-widgets/base",
            "_view_module_version": "1.2.0",
            "_view_name": "LayoutView",
            "align_content": null,
            "align_items": null,
            "align_self": null,
            "border": null,
            "bottom": null,
            "display": null,
            "flex": null,
            "flex_flow": null,
            "grid_area": null,
            "grid_auto_columns": null,
            "grid_auto_flow": null,
            "grid_auto_rows": null,
            "grid_column": null,
            "grid_gap": null,
            "grid_row": null,
            "grid_template_areas": null,
            "grid_template_columns": null,
            "grid_template_rows": null,
            "height": null,
            "justify_content": null,
            "justify_items": null,
            "left": null,
            "margin": null,
            "max_height": null,
            "max_width": null,
            "min_height": null,
            "min_width": null,
            "object_fit": null,
            "object_position": null,
            "order": null,
            "overflow": null,
            "overflow_x": null,
            "overflow_y": null,
            "padding": null,
            "right": null,
            "top": null,
            "visibility": null,
            "width": null
          }
        },
        "4f09fd42ee3048aa927e1561b47a0092": {
          "model_module": "@jupyter-widgets/base",
          "model_name": "LayoutModel",
          "model_module_version": "1.2.0",
          "state": {
            "_model_module": "@jupyter-widgets/base",
            "_model_module_version": "1.2.0",
            "_model_name": "LayoutModel",
            "_view_count": null,
            "_view_module": "@jupyter-widgets/base",
            "_view_module_version": "1.2.0",
            "_view_name": "LayoutView",
            "align_content": null,
            "align_items": null,
            "align_self": null,
            "border": null,
            "bottom": null,
            "display": null,
            "flex": null,
            "flex_flow": null,
            "grid_area": null,
            "grid_auto_columns": null,
            "grid_auto_flow": null,
            "grid_auto_rows": null,
            "grid_column": null,
            "grid_gap": null,
            "grid_row": null,
            "grid_template_areas": null,
            "grid_template_columns": null,
            "grid_template_rows": null,
            "height": null,
            "justify_content": null,
            "justify_items": null,
            "left": null,
            "margin": null,
            "max_height": null,
            "max_width": null,
            "min_height": null,
            "min_width": null,
            "object_fit": null,
            "object_position": null,
            "order": null,
            "overflow": null,
            "overflow_x": null,
            "overflow_y": null,
            "padding": null,
            "right": null,
            "top": null,
            "visibility": null,
            "width": null
          }
        },
        "1bffedf638244fc1b01a00e3152b773c": {
          "model_module": "@jupyter-widgets/controls",
          "model_name": "DescriptionStyleModel",
          "model_module_version": "1.5.0",
          "state": {
            "_model_module": "@jupyter-widgets/controls",
            "_model_module_version": "1.5.0",
            "_model_name": "DescriptionStyleModel",
            "_view_count": null,
            "_view_module": "@jupyter-widgets/base",
            "_view_module_version": "1.2.0",
            "_view_name": "StyleView",
            "description_width": ""
          }
        },
        "d56159324bdb4e9db989a4cc072eb4f9": {
          "model_module": "@jupyter-widgets/base",
          "model_name": "LayoutModel",
          "model_module_version": "1.2.0",
          "state": {
            "_model_module": "@jupyter-widgets/base",
            "_model_module_version": "1.2.0",
            "_model_name": "LayoutModel",
            "_view_count": null,
            "_view_module": "@jupyter-widgets/base",
            "_view_module_version": "1.2.0",
            "_view_name": "LayoutView",
            "align_content": null,
            "align_items": null,
            "align_self": null,
            "border": null,
            "bottom": null,
            "display": null,
            "flex": null,
            "flex_flow": null,
            "grid_area": null,
            "grid_auto_columns": null,
            "grid_auto_flow": null,
            "grid_auto_rows": null,
            "grid_column": null,
            "grid_gap": null,
            "grid_row": null,
            "grid_template_areas": null,
            "grid_template_columns": null,
            "grid_template_rows": null,
            "height": null,
            "justify_content": null,
            "justify_items": null,
            "left": null,
            "margin": null,
            "max_height": null,
            "max_width": null,
            "min_height": null,
            "min_width": null,
            "object_fit": null,
            "object_position": null,
            "order": null,
            "overflow": null,
            "overflow_x": null,
            "overflow_y": null,
            "padding": null,
            "right": null,
            "top": null,
            "visibility": null,
            "width": null
          }
        },
        "f991daa5506c42189de982d3ee3fd7b5": {
          "model_module": "@jupyter-widgets/controls",
          "model_name": "ProgressStyleModel",
          "model_module_version": "1.5.0",
          "state": {
            "_model_module": "@jupyter-widgets/controls",
            "_model_module_version": "1.5.0",
            "_model_name": "ProgressStyleModel",
            "_view_count": null,
            "_view_module": "@jupyter-widgets/base",
            "_view_module_version": "1.2.0",
            "_view_name": "StyleView",
            "bar_color": null,
            "description_width": ""
          }
        },
        "34a61f81dc7f461e856ed3d1ea908147": {
          "model_module": "@jupyter-widgets/base",
          "model_name": "LayoutModel",
          "model_module_version": "1.2.0",
          "state": {
            "_model_module": "@jupyter-widgets/base",
            "_model_module_version": "1.2.0",
            "_model_name": "LayoutModel",
            "_view_count": null,
            "_view_module": "@jupyter-widgets/base",
            "_view_module_version": "1.2.0",
            "_view_name": "LayoutView",
            "align_content": null,
            "align_items": null,
            "align_self": null,
            "border": null,
            "bottom": null,
            "display": null,
            "flex": null,
            "flex_flow": null,
            "grid_area": null,
            "grid_auto_columns": null,
            "grid_auto_flow": null,
            "grid_auto_rows": null,
            "grid_column": null,
            "grid_gap": null,
            "grid_row": null,
            "grid_template_areas": null,
            "grid_template_columns": null,
            "grid_template_rows": null,
            "height": null,
            "justify_content": null,
            "justify_items": null,
            "left": null,
            "margin": null,
            "max_height": null,
            "max_width": null,
            "min_height": null,
            "min_width": null,
            "object_fit": null,
            "object_position": null,
            "order": null,
            "overflow": null,
            "overflow_x": null,
            "overflow_y": null,
            "padding": null,
            "right": null,
            "top": null,
            "visibility": null,
            "width": null
          }
        },
        "d591c2d434b348aeb7211a29af6e8a4b": {
          "model_module": "@jupyter-widgets/controls",
          "model_name": "DescriptionStyleModel",
          "model_module_version": "1.5.0",
          "state": {
            "_model_module": "@jupyter-widgets/controls",
            "_model_module_version": "1.5.0",
            "_model_name": "DescriptionStyleModel",
            "_view_count": null,
            "_view_module": "@jupyter-widgets/base",
            "_view_module_version": "1.2.0",
            "_view_name": "StyleView",
            "description_width": ""
          }
        },
        "b8c53b271e9844a09cc54e53fa1d400b": {
          "model_module": "@jupyter-widgets/controls",
          "model_name": "HBoxModel",
          "model_module_version": "1.5.0",
          "state": {
            "_dom_classes": [],
            "_model_module": "@jupyter-widgets/controls",
            "_model_module_version": "1.5.0",
            "_model_name": "HBoxModel",
            "_view_count": null,
            "_view_module": "@jupyter-widgets/controls",
            "_view_module_version": "1.5.0",
            "_view_name": "HBoxView",
            "box_style": "",
            "children": [
              "IPY_MODEL_4e40d19999e041c1a4b62235d8b60237",
              "IPY_MODEL_cc29cf7bff534b6b970ab25f212a32f2",
              "IPY_MODEL_8bd1ffe9594443998c3de4a70adf31a5"
            ],
            "layout": "IPY_MODEL_be597fb2db6447758ede13b9fe0de684"
          }
        },
        "4e40d19999e041c1a4b62235d8b60237": {
          "model_module": "@jupyter-widgets/controls",
          "model_name": "HTMLModel",
          "model_module_version": "1.5.0",
          "state": {
            "_dom_classes": [],
            "_model_module": "@jupyter-widgets/controls",
            "_model_module_version": "1.5.0",
            "_model_name": "HTMLModel",
            "_view_count": null,
            "_view_module": "@jupyter-widgets/controls",
            "_view_module_version": "1.5.0",
            "_view_name": "HTMLView",
            "description": "",
            "description_tooltip": null,
            "layout": "IPY_MODEL_6c34f7c08f2848a0938d83659c88469c",
            "placeholder": "​",
            "style": "IPY_MODEL_bfc012092d464e3d8ed4bc48828c6fdb",
            "value": "README.md: 100%"
          }
        },
        "cc29cf7bff534b6b970ab25f212a32f2": {
          "model_module": "@jupyter-widgets/controls",
          "model_name": "FloatProgressModel",
          "model_module_version": "1.5.0",
          "state": {
            "_dom_classes": [],
            "_model_module": "@jupyter-widgets/controls",
            "_model_module_version": "1.5.0",
            "_model_name": "FloatProgressModel",
            "_view_count": null,
            "_view_module": "@jupyter-widgets/controls",
            "_view_module_version": "1.5.0",
            "_view_name": "ProgressView",
            "bar_style": "success",
            "description": "",
            "description_tooltip": null,
            "layout": "IPY_MODEL_dd6c9ef4148a4d7caa78fa734fc20d30",
            "max": 9765,
            "min": 0,
            "orientation": "horizontal",
            "style": "IPY_MODEL_f5e6a71568a04973b4e7442fb55a958f",
            "value": 9765
          }
        },
        "8bd1ffe9594443998c3de4a70adf31a5": {
          "model_module": "@jupyter-widgets/controls",
          "model_name": "HTMLModel",
          "model_module_version": "1.5.0",
          "state": {
            "_dom_classes": [],
            "_model_module": "@jupyter-widgets/controls",
            "_model_module_version": "1.5.0",
            "_model_name": "HTMLModel",
            "_view_count": null,
            "_view_module": "@jupyter-widgets/controls",
            "_view_module_version": "1.5.0",
            "_view_name": "HTMLView",
            "description": "",
            "description_tooltip": null,
            "layout": "IPY_MODEL_34a98cfe50144f299eea3d411ab6b916",
            "placeholder": "​",
            "style": "IPY_MODEL_b33f9ff75f8d4037bb2eeb1b6bbd82e1",
            "value": " 9.77k/9.77k [00:00&lt;00:00, 465kB/s]"
          }
        },
        "be597fb2db6447758ede13b9fe0de684": {
          "model_module": "@jupyter-widgets/base",
          "model_name": "LayoutModel",
          "model_module_version": "1.2.0",
          "state": {
            "_model_module": "@jupyter-widgets/base",
            "_model_module_version": "1.2.0",
            "_model_name": "LayoutModel",
            "_view_count": null,
            "_view_module": "@jupyter-widgets/base",
            "_view_module_version": "1.2.0",
            "_view_name": "LayoutView",
            "align_content": null,
            "align_items": null,
            "align_self": null,
            "border": null,
            "bottom": null,
            "display": null,
            "flex": null,
            "flex_flow": null,
            "grid_area": null,
            "grid_auto_columns": null,
            "grid_auto_flow": null,
            "grid_auto_rows": null,
            "grid_column": null,
            "grid_gap": null,
            "grid_row": null,
            "grid_template_areas": null,
            "grid_template_columns": null,
            "grid_template_rows": null,
            "height": null,
            "justify_content": null,
            "justify_items": null,
            "left": null,
            "margin": null,
            "max_height": null,
            "max_width": null,
            "min_height": null,
            "min_width": null,
            "object_fit": null,
            "object_position": null,
            "order": null,
            "overflow": null,
            "overflow_x": null,
            "overflow_y": null,
            "padding": null,
            "right": null,
            "top": null,
            "visibility": null,
            "width": null
          }
        },
        "6c34f7c08f2848a0938d83659c88469c": {
          "model_module": "@jupyter-widgets/base",
          "model_name": "LayoutModel",
          "model_module_version": "1.2.0",
          "state": {
            "_model_module": "@jupyter-widgets/base",
            "_model_module_version": "1.2.0",
            "_model_name": "LayoutModel",
            "_view_count": null,
            "_view_module": "@jupyter-widgets/base",
            "_view_module_version": "1.2.0",
            "_view_name": "LayoutView",
            "align_content": null,
            "align_items": null,
            "align_self": null,
            "border": null,
            "bottom": null,
            "display": null,
            "flex": null,
            "flex_flow": null,
            "grid_area": null,
            "grid_auto_columns": null,
            "grid_auto_flow": null,
            "grid_auto_rows": null,
            "grid_column": null,
            "grid_gap": null,
            "grid_row": null,
            "grid_template_areas": null,
            "grid_template_columns": null,
            "grid_template_rows": null,
            "height": null,
            "justify_content": null,
            "justify_items": null,
            "left": null,
            "margin": null,
            "max_height": null,
            "max_width": null,
            "min_height": null,
            "min_width": null,
            "object_fit": null,
            "object_position": null,
            "order": null,
            "overflow": null,
            "overflow_x": null,
            "overflow_y": null,
            "padding": null,
            "right": null,
            "top": null,
            "visibility": null,
            "width": null
          }
        },
        "bfc012092d464e3d8ed4bc48828c6fdb": {
          "model_module": "@jupyter-widgets/controls",
          "model_name": "DescriptionStyleModel",
          "model_module_version": "1.5.0",
          "state": {
            "_model_module": "@jupyter-widgets/controls",
            "_model_module_version": "1.5.0",
            "_model_name": "DescriptionStyleModel",
            "_view_count": null,
            "_view_module": "@jupyter-widgets/base",
            "_view_module_version": "1.2.0",
            "_view_name": "StyleView",
            "description_width": ""
          }
        },
        "dd6c9ef4148a4d7caa78fa734fc20d30": {
          "model_module": "@jupyter-widgets/base",
          "model_name": "LayoutModel",
          "model_module_version": "1.2.0",
          "state": {
            "_model_module": "@jupyter-widgets/base",
            "_model_module_version": "1.2.0",
            "_model_name": "LayoutModel",
            "_view_count": null,
            "_view_module": "@jupyter-widgets/base",
            "_view_module_version": "1.2.0",
            "_view_name": "LayoutView",
            "align_content": null,
            "align_items": null,
            "align_self": null,
            "border": null,
            "bottom": null,
            "display": null,
            "flex": null,
            "flex_flow": null,
            "grid_area": null,
            "grid_auto_columns": null,
            "grid_auto_flow": null,
            "grid_auto_rows": null,
            "grid_column": null,
            "grid_gap": null,
            "grid_row": null,
            "grid_template_areas": null,
            "grid_template_columns": null,
            "grid_template_rows": null,
            "height": null,
            "justify_content": null,
            "justify_items": null,
            "left": null,
            "margin": null,
            "max_height": null,
            "max_width": null,
            "min_height": null,
            "min_width": null,
            "object_fit": null,
            "object_position": null,
            "order": null,
            "overflow": null,
            "overflow_x": null,
            "overflow_y": null,
            "padding": null,
            "right": null,
            "top": null,
            "visibility": null,
            "width": null
          }
        },
        "f5e6a71568a04973b4e7442fb55a958f": {
          "model_module": "@jupyter-widgets/controls",
          "model_name": "ProgressStyleModel",
          "model_module_version": "1.5.0",
          "state": {
            "_model_module": "@jupyter-widgets/controls",
            "_model_module_version": "1.5.0",
            "_model_name": "ProgressStyleModel",
            "_view_count": null,
            "_view_module": "@jupyter-widgets/base",
            "_view_module_version": "1.2.0",
            "_view_name": "StyleView",
            "bar_color": null,
            "description_width": ""
          }
        },
        "34a98cfe50144f299eea3d411ab6b916": {
          "model_module": "@jupyter-widgets/base",
          "model_name": "LayoutModel",
          "model_module_version": "1.2.0",
          "state": {
            "_model_module": "@jupyter-widgets/base",
            "_model_module_version": "1.2.0",
            "_model_name": "LayoutModel",
            "_view_count": null,
            "_view_module": "@jupyter-widgets/base",
            "_view_module_version": "1.2.0",
            "_view_name": "LayoutView",
            "align_content": null,
            "align_items": null,
            "align_self": null,
            "border": null,
            "bottom": null,
            "display": null,
            "flex": null,
            "flex_flow": null,
            "grid_area": null,
            "grid_auto_columns": null,
            "grid_auto_flow": null,
            "grid_auto_rows": null,
            "grid_column": null,
            "grid_gap": null,
            "grid_row": null,
            "grid_template_areas": null,
            "grid_template_columns": null,
            "grid_template_rows": null,
            "height": null,
            "justify_content": null,
            "justify_items": null,
            "left": null,
            "margin": null,
            "max_height": null,
            "max_width": null,
            "min_height": null,
            "min_width": null,
            "object_fit": null,
            "object_position": null,
            "order": null,
            "overflow": null,
            "overflow_x": null,
            "overflow_y": null,
            "padding": null,
            "right": null,
            "top": null,
            "visibility": null,
            "width": null
          }
        },
        "b33f9ff75f8d4037bb2eeb1b6bbd82e1": {
          "model_module": "@jupyter-widgets/controls",
          "model_name": "DescriptionStyleModel",
          "model_module_version": "1.5.0",
          "state": {
            "_model_module": "@jupyter-widgets/controls",
            "_model_module_version": "1.5.0",
            "_model_name": "DescriptionStyleModel",
            "_view_count": null,
            "_view_module": "@jupyter-widgets/base",
            "_view_module_version": "1.2.0",
            "_view_name": "StyleView",
            "description_width": ""
          }
        },
        "e00110481d374fe0b2585352ddca99ae": {
          "model_module": "@jupyter-widgets/controls",
          "model_name": "HBoxModel",
          "model_module_version": "1.5.0",
          "state": {
            "_dom_classes": [],
            "_model_module": "@jupyter-widgets/controls",
            "_model_module_version": "1.5.0",
            "_model_name": "HBoxModel",
            "_view_count": null,
            "_view_module": "@jupyter-widgets/controls",
            "_view_module_version": "1.5.0",
            "_view_name": "HBoxView",
            "box_style": "",
            "children": [
              "IPY_MODEL_37638923a0c24d1082e2dca3dda896f4",
              "IPY_MODEL_2e2296ed3354407c92ce958f5bc1fe3d",
              "IPY_MODEL_a7d592b0faba4dd79b352800d633ef3a"
            ],
            "layout": "IPY_MODEL_aec128c5af3344ee88af4d4a9c99f8d7"
          }
        },
        "37638923a0c24d1082e2dca3dda896f4": {
          "model_module": "@jupyter-widgets/controls",
          "model_name": "HTMLModel",
          "model_module_version": "1.5.0",
          "state": {
            "_dom_classes": [],
            "_model_module": "@jupyter-widgets/controls",
            "_model_module_version": "1.5.0",
            "_model_name": "HTMLModel",
            "_view_count": null,
            "_view_module": "@jupyter-widgets/controls",
            "_view_module_version": "1.5.0",
            "_view_name": "HTMLView",
            "description": "",
            "description_tooltip": null,
            "layout": "IPY_MODEL_2c7c2874839f48c6a2bef9a1a3753733",
            "placeholder": "​",
            "style": "IPY_MODEL_b1788946f63b4b9f8bf137ded49fb95b",
            "value": "sentence_bert_config.json: 100%"
          }
        },
        "2e2296ed3354407c92ce958f5bc1fe3d": {
          "model_module": "@jupyter-widgets/controls",
          "model_name": "FloatProgressModel",
          "model_module_version": "1.5.0",
          "state": {
            "_dom_classes": [],
            "_model_module": "@jupyter-widgets/controls",
            "_model_module_version": "1.5.0",
            "_model_name": "FloatProgressModel",
            "_view_count": null,
            "_view_module": "@jupyter-widgets/controls",
            "_view_module_version": "1.5.0",
            "_view_name": "ProgressView",
            "bar_style": "success",
            "description": "",
            "description_tooltip": null,
            "layout": "IPY_MODEL_9beb587233434c67b852ff084f37e2eb",
            "max": 53,
            "min": 0,
            "orientation": "horizontal",
            "style": "IPY_MODEL_4a55397098774d81a0b9fe9d16472103",
            "value": 53
          }
        },
        "a7d592b0faba4dd79b352800d633ef3a": {
          "model_module": "@jupyter-widgets/controls",
          "model_name": "HTMLModel",
          "model_module_version": "1.5.0",
          "state": {
            "_dom_classes": [],
            "_model_module": "@jupyter-widgets/controls",
            "_model_module_version": "1.5.0",
            "_model_name": "HTMLModel",
            "_view_count": null,
            "_view_module": "@jupyter-widgets/controls",
            "_view_module_version": "1.5.0",
            "_view_name": "HTMLView",
            "description": "",
            "description_tooltip": null,
            "layout": "IPY_MODEL_5f95f7f30cbe4d38a1fc4ecac9462add",
            "placeholder": "​",
            "style": "IPY_MODEL_6a6dd40650de40d58fa4b2a032b0d3bb",
            "value": " 53.0/53.0 [00:00&lt;00:00, 3.50kB/s]"
          }
        },
        "aec128c5af3344ee88af4d4a9c99f8d7": {
          "model_module": "@jupyter-widgets/base",
          "model_name": "LayoutModel",
          "model_module_version": "1.2.0",
          "state": {
            "_model_module": "@jupyter-widgets/base",
            "_model_module_version": "1.2.0",
            "_model_name": "LayoutModel",
            "_view_count": null,
            "_view_module": "@jupyter-widgets/base",
            "_view_module_version": "1.2.0",
            "_view_name": "LayoutView",
            "align_content": null,
            "align_items": null,
            "align_self": null,
            "border": null,
            "bottom": null,
            "display": null,
            "flex": null,
            "flex_flow": null,
            "grid_area": null,
            "grid_auto_columns": null,
            "grid_auto_flow": null,
            "grid_auto_rows": null,
            "grid_column": null,
            "grid_gap": null,
            "grid_row": null,
            "grid_template_areas": null,
            "grid_template_columns": null,
            "grid_template_rows": null,
            "height": null,
            "justify_content": null,
            "justify_items": null,
            "left": null,
            "margin": null,
            "max_height": null,
            "max_width": null,
            "min_height": null,
            "min_width": null,
            "object_fit": null,
            "object_position": null,
            "order": null,
            "overflow": null,
            "overflow_x": null,
            "overflow_y": null,
            "padding": null,
            "right": null,
            "top": null,
            "visibility": null,
            "width": null
          }
        },
        "2c7c2874839f48c6a2bef9a1a3753733": {
          "model_module": "@jupyter-widgets/base",
          "model_name": "LayoutModel",
          "model_module_version": "1.2.0",
          "state": {
            "_model_module": "@jupyter-widgets/base",
            "_model_module_version": "1.2.0",
            "_model_name": "LayoutModel",
            "_view_count": null,
            "_view_module": "@jupyter-widgets/base",
            "_view_module_version": "1.2.0",
            "_view_name": "LayoutView",
            "align_content": null,
            "align_items": null,
            "align_self": null,
            "border": null,
            "bottom": null,
            "display": null,
            "flex": null,
            "flex_flow": null,
            "grid_area": null,
            "grid_auto_columns": null,
            "grid_auto_flow": null,
            "grid_auto_rows": null,
            "grid_column": null,
            "grid_gap": null,
            "grid_row": null,
            "grid_template_areas": null,
            "grid_template_columns": null,
            "grid_template_rows": null,
            "height": null,
            "justify_content": null,
            "justify_items": null,
            "left": null,
            "margin": null,
            "max_height": null,
            "max_width": null,
            "min_height": null,
            "min_width": null,
            "object_fit": null,
            "object_position": null,
            "order": null,
            "overflow": null,
            "overflow_x": null,
            "overflow_y": null,
            "padding": null,
            "right": null,
            "top": null,
            "visibility": null,
            "width": null
          }
        },
        "b1788946f63b4b9f8bf137ded49fb95b": {
          "model_module": "@jupyter-widgets/controls",
          "model_name": "DescriptionStyleModel",
          "model_module_version": "1.5.0",
          "state": {
            "_model_module": "@jupyter-widgets/controls",
            "_model_module_version": "1.5.0",
            "_model_name": "DescriptionStyleModel",
            "_view_count": null,
            "_view_module": "@jupyter-widgets/base",
            "_view_module_version": "1.2.0",
            "_view_name": "StyleView",
            "description_width": ""
          }
        },
        "9beb587233434c67b852ff084f37e2eb": {
          "model_module": "@jupyter-widgets/base",
          "model_name": "LayoutModel",
          "model_module_version": "1.2.0",
          "state": {
            "_model_module": "@jupyter-widgets/base",
            "_model_module_version": "1.2.0",
            "_model_name": "LayoutModel",
            "_view_count": null,
            "_view_module": "@jupyter-widgets/base",
            "_view_module_version": "1.2.0",
            "_view_name": "LayoutView",
            "align_content": null,
            "align_items": null,
            "align_self": null,
            "border": null,
            "bottom": null,
            "display": null,
            "flex": null,
            "flex_flow": null,
            "grid_area": null,
            "grid_auto_columns": null,
            "grid_auto_flow": null,
            "grid_auto_rows": null,
            "grid_column": null,
            "grid_gap": null,
            "grid_row": null,
            "grid_template_areas": null,
            "grid_template_columns": null,
            "grid_template_rows": null,
            "height": null,
            "justify_content": null,
            "justify_items": null,
            "left": null,
            "margin": null,
            "max_height": null,
            "max_width": null,
            "min_height": null,
            "min_width": null,
            "object_fit": null,
            "object_position": null,
            "order": null,
            "overflow": null,
            "overflow_x": null,
            "overflow_y": null,
            "padding": null,
            "right": null,
            "top": null,
            "visibility": null,
            "width": null
          }
        },
        "4a55397098774d81a0b9fe9d16472103": {
          "model_module": "@jupyter-widgets/controls",
          "model_name": "ProgressStyleModel",
          "model_module_version": "1.5.0",
          "state": {
            "_model_module": "@jupyter-widgets/controls",
            "_model_module_version": "1.5.0",
            "_model_name": "ProgressStyleModel",
            "_view_count": null,
            "_view_module": "@jupyter-widgets/base",
            "_view_module_version": "1.2.0",
            "_view_name": "StyleView",
            "bar_color": null,
            "description_width": ""
          }
        },
        "5f95f7f30cbe4d38a1fc4ecac9462add": {
          "model_module": "@jupyter-widgets/base",
          "model_name": "LayoutModel",
          "model_module_version": "1.2.0",
          "state": {
            "_model_module": "@jupyter-widgets/base",
            "_model_module_version": "1.2.0",
            "_model_name": "LayoutModel",
            "_view_count": null,
            "_view_module": "@jupyter-widgets/base",
            "_view_module_version": "1.2.0",
            "_view_name": "LayoutView",
            "align_content": null,
            "align_items": null,
            "align_self": null,
            "border": null,
            "bottom": null,
            "display": null,
            "flex": null,
            "flex_flow": null,
            "grid_area": null,
            "grid_auto_columns": null,
            "grid_auto_flow": null,
            "grid_auto_rows": null,
            "grid_column": null,
            "grid_gap": null,
            "grid_row": null,
            "grid_template_areas": null,
            "grid_template_columns": null,
            "grid_template_rows": null,
            "height": null,
            "justify_content": null,
            "justify_items": null,
            "left": null,
            "margin": null,
            "max_height": null,
            "max_width": null,
            "min_height": null,
            "min_width": null,
            "object_fit": null,
            "object_position": null,
            "order": null,
            "overflow": null,
            "overflow_x": null,
            "overflow_y": null,
            "padding": null,
            "right": null,
            "top": null,
            "visibility": null,
            "width": null
          }
        },
        "6a6dd40650de40d58fa4b2a032b0d3bb": {
          "model_module": "@jupyter-widgets/controls",
          "model_name": "DescriptionStyleModel",
          "model_module_version": "1.5.0",
          "state": {
            "_model_module": "@jupyter-widgets/controls",
            "_model_module_version": "1.5.0",
            "_model_name": "DescriptionStyleModel",
            "_view_count": null,
            "_view_module": "@jupyter-widgets/base",
            "_view_module_version": "1.2.0",
            "_view_name": "StyleView",
            "description_width": ""
          }
        },
        "c8011ebb744f41d38d4bb25b62ff6fe9": {
          "model_module": "@jupyter-widgets/controls",
          "model_name": "HBoxModel",
          "model_module_version": "1.5.0",
          "state": {
            "_dom_classes": [],
            "_model_module": "@jupyter-widgets/controls",
            "_model_module_version": "1.5.0",
            "_model_name": "HBoxModel",
            "_view_count": null,
            "_view_module": "@jupyter-widgets/controls",
            "_view_module_version": "1.5.0",
            "_view_name": "HBoxView",
            "box_style": "",
            "children": [
              "IPY_MODEL_ec158a6dffdc4a11ab6107b5dab937d6",
              "IPY_MODEL_07be70f17c7e464dbb505ad3dd2a93b0",
              "IPY_MODEL_10a9c726a7c5408a9d2a7697d55d8511"
            ],
            "layout": "IPY_MODEL_30db2be6f30a4ebb927c4903829b4863"
          }
        },
        "ec158a6dffdc4a11ab6107b5dab937d6": {
          "model_module": "@jupyter-widgets/controls",
          "model_name": "HTMLModel",
          "model_module_version": "1.5.0",
          "state": {
            "_dom_classes": [],
            "_model_module": "@jupyter-widgets/controls",
            "_model_module_version": "1.5.0",
            "_model_name": "HTMLModel",
            "_view_count": null,
            "_view_module": "@jupyter-widgets/controls",
            "_view_module_version": "1.5.0",
            "_view_name": "HTMLView",
            "description": "",
            "description_tooltip": null,
            "layout": "IPY_MODEL_d451b90df510400a9d0d041ce467d0f3",
            "placeholder": "​",
            "style": "IPY_MODEL_3c777aecfc5f4be982a5feebe3bbb07f",
            "value": "config.json: 100%"
          }
        },
        "07be70f17c7e464dbb505ad3dd2a93b0": {
          "model_module": "@jupyter-widgets/controls",
          "model_name": "FloatProgressModel",
          "model_module_version": "1.5.0",
          "state": {
            "_dom_classes": [],
            "_model_module": "@jupyter-widgets/controls",
            "_model_module_version": "1.5.0",
            "_model_name": "FloatProgressModel",
            "_view_count": null,
            "_view_module": "@jupyter-widgets/controls",
            "_view_module_version": "1.5.0",
            "_view_name": "ProgressView",
            "bar_style": "success",
            "description": "",
            "description_tooltip": null,
            "layout": "IPY_MODEL_4819c2a845a14423931d516973cc9291",
            "max": 628,
            "min": 0,
            "orientation": "horizontal",
            "style": "IPY_MODEL_61fa064156e1462b857f41bd0c8079bf",
            "value": 628
          }
        },
        "10a9c726a7c5408a9d2a7697d55d8511": {
          "model_module": "@jupyter-widgets/controls",
          "model_name": "HTMLModel",
          "model_module_version": "1.5.0",
          "state": {
            "_dom_classes": [],
            "_model_module": "@jupyter-widgets/controls",
            "_model_module_version": "1.5.0",
            "_model_name": "HTMLModel",
            "_view_count": null,
            "_view_module": "@jupyter-widgets/controls",
            "_view_module_version": "1.5.0",
            "_view_name": "HTMLView",
            "description": "",
            "description_tooltip": null,
            "layout": "IPY_MODEL_64fafacbb23c4049874b34e26d2105e1",
            "placeholder": "​",
            "style": "IPY_MODEL_9ab943cddae04c3588ea84aacb0bd5e4",
            "value": " 628/628 [00:00&lt;00:00, 44.3kB/s]"
          }
        },
        "30db2be6f30a4ebb927c4903829b4863": {
          "model_module": "@jupyter-widgets/base",
          "model_name": "LayoutModel",
          "model_module_version": "1.2.0",
          "state": {
            "_model_module": "@jupyter-widgets/base",
            "_model_module_version": "1.2.0",
            "_model_name": "LayoutModel",
            "_view_count": null,
            "_view_module": "@jupyter-widgets/base",
            "_view_module_version": "1.2.0",
            "_view_name": "LayoutView",
            "align_content": null,
            "align_items": null,
            "align_self": null,
            "border": null,
            "bottom": null,
            "display": null,
            "flex": null,
            "flex_flow": null,
            "grid_area": null,
            "grid_auto_columns": null,
            "grid_auto_flow": null,
            "grid_auto_rows": null,
            "grid_column": null,
            "grid_gap": null,
            "grid_row": null,
            "grid_template_areas": null,
            "grid_template_columns": null,
            "grid_template_rows": null,
            "height": null,
            "justify_content": null,
            "justify_items": null,
            "left": null,
            "margin": null,
            "max_height": null,
            "max_width": null,
            "min_height": null,
            "min_width": null,
            "object_fit": null,
            "object_position": null,
            "order": null,
            "overflow": null,
            "overflow_x": null,
            "overflow_y": null,
            "padding": null,
            "right": null,
            "top": null,
            "visibility": null,
            "width": null
          }
        },
        "d451b90df510400a9d0d041ce467d0f3": {
          "model_module": "@jupyter-widgets/base",
          "model_name": "LayoutModel",
          "model_module_version": "1.2.0",
          "state": {
            "_model_module": "@jupyter-widgets/base",
            "_model_module_version": "1.2.0",
            "_model_name": "LayoutModel",
            "_view_count": null,
            "_view_module": "@jupyter-widgets/base",
            "_view_module_version": "1.2.0",
            "_view_name": "LayoutView",
            "align_content": null,
            "align_items": null,
            "align_self": null,
            "border": null,
            "bottom": null,
            "display": null,
            "flex": null,
            "flex_flow": null,
            "grid_area": null,
            "grid_auto_columns": null,
            "grid_auto_flow": null,
            "grid_auto_rows": null,
            "grid_column": null,
            "grid_gap": null,
            "grid_row": null,
            "grid_template_areas": null,
            "grid_template_columns": null,
            "grid_template_rows": null,
            "height": null,
            "justify_content": null,
            "justify_items": null,
            "left": null,
            "margin": null,
            "max_height": null,
            "max_width": null,
            "min_height": null,
            "min_width": null,
            "object_fit": null,
            "object_position": null,
            "order": null,
            "overflow": null,
            "overflow_x": null,
            "overflow_y": null,
            "padding": null,
            "right": null,
            "top": null,
            "visibility": null,
            "width": null
          }
        },
        "3c777aecfc5f4be982a5feebe3bbb07f": {
          "model_module": "@jupyter-widgets/controls",
          "model_name": "DescriptionStyleModel",
          "model_module_version": "1.5.0",
          "state": {
            "_model_module": "@jupyter-widgets/controls",
            "_model_module_version": "1.5.0",
            "_model_name": "DescriptionStyleModel",
            "_view_count": null,
            "_view_module": "@jupyter-widgets/base",
            "_view_module_version": "1.2.0",
            "_view_name": "StyleView",
            "description_width": ""
          }
        },
        "4819c2a845a14423931d516973cc9291": {
          "model_module": "@jupyter-widgets/base",
          "model_name": "LayoutModel",
          "model_module_version": "1.2.0",
          "state": {
            "_model_module": "@jupyter-widgets/base",
            "_model_module_version": "1.2.0",
            "_model_name": "LayoutModel",
            "_view_count": null,
            "_view_module": "@jupyter-widgets/base",
            "_view_module_version": "1.2.0",
            "_view_name": "LayoutView",
            "align_content": null,
            "align_items": null,
            "align_self": null,
            "border": null,
            "bottom": null,
            "display": null,
            "flex": null,
            "flex_flow": null,
            "grid_area": null,
            "grid_auto_columns": null,
            "grid_auto_flow": null,
            "grid_auto_rows": null,
            "grid_column": null,
            "grid_gap": null,
            "grid_row": null,
            "grid_template_areas": null,
            "grid_template_columns": null,
            "grid_template_rows": null,
            "height": null,
            "justify_content": null,
            "justify_items": null,
            "left": null,
            "margin": null,
            "max_height": null,
            "max_width": null,
            "min_height": null,
            "min_width": null,
            "object_fit": null,
            "object_position": null,
            "order": null,
            "overflow": null,
            "overflow_x": null,
            "overflow_y": null,
            "padding": null,
            "right": null,
            "top": null,
            "visibility": null,
            "width": null
          }
        },
        "61fa064156e1462b857f41bd0c8079bf": {
          "model_module": "@jupyter-widgets/controls",
          "model_name": "ProgressStyleModel",
          "model_module_version": "1.5.0",
          "state": {
            "_model_module": "@jupyter-widgets/controls",
            "_model_module_version": "1.5.0",
            "_model_name": "ProgressStyleModel",
            "_view_count": null,
            "_view_module": "@jupyter-widgets/base",
            "_view_module_version": "1.2.0",
            "_view_name": "StyleView",
            "bar_color": null,
            "description_width": ""
          }
        },
        "64fafacbb23c4049874b34e26d2105e1": {
          "model_module": "@jupyter-widgets/base",
          "model_name": "LayoutModel",
          "model_module_version": "1.2.0",
          "state": {
            "_model_module": "@jupyter-widgets/base",
            "_model_module_version": "1.2.0",
            "_model_name": "LayoutModel",
            "_view_count": null,
            "_view_module": "@jupyter-widgets/base",
            "_view_module_version": "1.2.0",
            "_view_name": "LayoutView",
            "align_content": null,
            "align_items": null,
            "align_self": null,
            "border": null,
            "bottom": null,
            "display": null,
            "flex": null,
            "flex_flow": null,
            "grid_area": null,
            "grid_auto_columns": null,
            "grid_auto_flow": null,
            "grid_auto_rows": null,
            "grid_column": null,
            "grid_gap": null,
            "grid_row": null,
            "grid_template_areas": null,
            "grid_template_columns": null,
            "grid_template_rows": null,
            "height": null,
            "justify_content": null,
            "justify_items": null,
            "left": null,
            "margin": null,
            "max_height": null,
            "max_width": null,
            "min_height": null,
            "min_width": null,
            "object_fit": null,
            "object_position": null,
            "order": null,
            "overflow": null,
            "overflow_x": null,
            "overflow_y": null,
            "padding": null,
            "right": null,
            "top": null,
            "visibility": null,
            "width": null
          }
        },
        "9ab943cddae04c3588ea84aacb0bd5e4": {
          "model_module": "@jupyter-widgets/controls",
          "model_name": "DescriptionStyleModel",
          "model_module_version": "1.5.0",
          "state": {
            "_model_module": "@jupyter-widgets/controls",
            "_model_module_version": "1.5.0",
            "_model_name": "DescriptionStyleModel",
            "_view_count": null,
            "_view_module": "@jupyter-widgets/base",
            "_view_module_version": "1.2.0",
            "_view_name": "StyleView",
            "description_width": ""
          }
        },
        "cfc541ec4bda49fd910e8d1c004678d6": {
          "model_module": "@jupyter-widgets/controls",
          "model_name": "HBoxModel",
          "model_module_version": "1.5.0",
          "state": {
            "_dom_classes": [],
            "_model_module": "@jupyter-widgets/controls",
            "_model_module_version": "1.5.0",
            "_model_name": "HBoxModel",
            "_view_count": null,
            "_view_module": "@jupyter-widgets/controls",
            "_view_module_version": "1.5.0",
            "_view_name": "HBoxView",
            "box_style": "",
            "children": [
              "IPY_MODEL_76cf3f3908134c288a5b4d11062c9a36",
              "IPY_MODEL_c5b1f0728be444f4bcef9892f2ca1e22",
              "IPY_MODEL_35f9fb0430c743a7a54683b8dcaba713"
            ],
            "layout": "IPY_MODEL_a7210bc21dfa4842abfbe62da34279a4"
          }
        },
        "76cf3f3908134c288a5b4d11062c9a36": {
          "model_module": "@jupyter-widgets/controls",
          "model_name": "HTMLModel",
          "model_module_version": "1.5.0",
          "state": {
            "_dom_classes": [],
            "_model_module": "@jupyter-widgets/controls",
            "_model_module_version": "1.5.0",
            "_model_name": "HTMLModel",
            "_view_count": null,
            "_view_module": "@jupyter-widgets/controls",
            "_view_module_version": "1.5.0",
            "_view_name": "HTMLView",
            "description": "",
            "description_tooltip": null,
            "layout": "IPY_MODEL_675e8639469e461aba9406f8341507c6",
            "placeholder": "​",
            "style": "IPY_MODEL_8b61d5995006447999e010853c803200",
            "value": "model.safetensors: 100%"
          }
        },
        "c5b1f0728be444f4bcef9892f2ca1e22": {
          "model_module": "@jupyter-widgets/controls",
          "model_name": "FloatProgressModel",
          "model_module_version": "1.5.0",
          "state": {
            "_dom_classes": [],
            "_model_module": "@jupyter-widgets/controls",
            "_model_module_version": "1.5.0",
            "_model_name": "FloatProgressModel",
            "_view_count": null,
            "_view_module": "@jupyter-widgets/controls",
            "_view_module_version": "1.5.0",
            "_view_name": "ProgressView",
            "bar_style": "success",
            "description": "",
            "description_tooltip": null,
            "layout": "IPY_MODEL_2aa2f27deb764f70a43b289ec380763b",
            "max": 470637416,
            "min": 0,
            "orientation": "horizontal",
            "style": "IPY_MODEL_15f655ebde21450497496a9caa9eb40b",
            "value": 470637416
          }
        },
        "35f9fb0430c743a7a54683b8dcaba713": {
          "model_module": "@jupyter-widgets/controls",
          "model_name": "HTMLModel",
          "model_module_version": "1.5.0",
          "state": {
            "_dom_classes": [],
            "_model_module": "@jupyter-widgets/controls",
            "_model_module_version": "1.5.0",
            "_model_name": "HTMLModel",
            "_view_count": null,
            "_view_module": "@jupyter-widgets/controls",
            "_view_module_version": "1.5.0",
            "_view_name": "HTMLView",
            "description": "",
            "description_tooltip": null,
            "layout": "IPY_MODEL_ff3e880cd9744d48918cdde4bdb17df3",
            "placeholder": "​",
            "style": "IPY_MODEL_3a640671aed4459890cac66e391ff56c",
            "value": " 471M/471M [00:02&lt;00:00, 248MB/s]"
          }
        },
        "a7210bc21dfa4842abfbe62da34279a4": {
          "model_module": "@jupyter-widgets/base",
          "model_name": "LayoutModel",
          "model_module_version": "1.2.0",
          "state": {
            "_model_module": "@jupyter-widgets/base",
            "_model_module_version": "1.2.0",
            "_model_name": "LayoutModel",
            "_view_count": null,
            "_view_module": "@jupyter-widgets/base",
            "_view_module_version": "1.2.0",
            "_view_name": "LayoutView",
            "align_content": null,
            "align_items": null,
            "align_self": null,
            "border": null,
            "bottom": null,
            "display": null,
            "flex": null,
            "flex_flow": null,
            "grid_area": null,
            "grid_auto_columns": null,
            "grid_auto_flow": null,
            "grid_auto_rows": null,
            "grid_column": null,
            "grid_gap": null,
            "grid_row": null,
            "grid_template_areas": null,
            "grid_template_columns": null,
            "grid_template_rows": null,
            "height": null,
            "justify_content": null,
            "justify_items": null,
            "left": null,
            "margin": null,
            "max_height": null,
            "max_width": null,
            "min_height": null,
            "min_width": null,
            "object_fit": null,
            "object_position": null,
            "order": null,
            "overflow": null,
            "overflow_x": null,
            "overflow_y": null,
            "padding": null,
            "right": null,
            "top": null,
            "visibility": null,
            "width": null
          }
        },
        "675e8639469e461aba9406f8341507c6": {
          "model_module": "@jupyter-widgets/base",
          "model_name": "LayoutModel",
          "model_module_version": "1.2.0",
          "state": {
            "_model_module": "@jupyter-widgets/base",
            "_model_module_version": "1.2.0",
            "_model_name": "LayoutModel",
            "_view_count": null,
            "_view_module": "@jupyter-widgets/base",
            "_view_module_version": "1.2.0",
            "_view_name": "LayoutView",
            "align_content": null,
            "align_items": null,
            "align_self": null,
            "border": null,
            "bottom": null,
            "display": null,
            "flex": null,
            "flex_flow": null,
            "grid_area": null,
            "grid_auto_columns": null,
            "grid_auto_flow": null,
            "grid_auto_rows": null,
            "grid_column": null,
            "grid_gap": null,
            "grid_row": null,
            "grid_template_areas": null,
            "grid_template_columns": null,
            "grid_template_rows": null,
            "height": null,
            "justify_content": null,
            "justify_items": null,
            "left": null,
            "margin": null,
            "max_height": null,
            "max_width": null,
            "min_height": null,
            "min_width": null,
            "object_fit": null,
            "object_position": null,
            "order": null,
            "overflow": null,
            "overflow_x": null,
            "overflow_y": null,
            "padding": null,
            "right": null,
            "top": null,
            "visibility": null,
            "width": null
          }
        },
        "8b61d5995006447999e010853c803200": {
          "model_module": "@jupyter-widgets/controls",
          "model_name": "DescriptionStyleModel",
          "model_module_version": "1.5.0",
          "state": {
            "_model_module": "@jupyter-widgets/controls",
            "_model_module_version": "1.5.0",
            "_model_name": "DescriptionStyleModel",
            "_view_count": null,
            "_view_module": "@jupyter-widgets/base",
            "_view_module_version": "1.2.0",
            "_view_name": "StyleView",
            "description_width": ""
          }
        },
        "2aa2f27deb764f70a43b289ec380763b": {
          "model_module": "@jupyter-widgets/base",
          "model_name": "LayoutModel",
          "model_module_version": "1.2.0",
          "state": {
            "_model_module": "@jupyter-widgets/base",
            "_model_module_version": "1.2.0",
            "_model_name": "LayoutModel",
            "_view_count": null,
            "_view_module": "@jupyter-widgets/base",
            "_view_module_version": "1.2.0",
            "_view_name": "LayoutView",
            "align_content": null,
            "align_items": null,
            "align_self": null,
            "border": null,
            "bottom": null,
            "display": null,
            "flex": null,
            "flex_flow": null,
            "grid_area": null,
            "grid_auto_columns": null,
            "grid_auto_flow": null,
            "grid_auto_rows": null,
            "grid_column": null,
            "grid_gap": null,
            "grid_row": null,
            "grid_template_areas": null,
            "grid_template_columns": null,
            "grid_template_rows": null,
            "height": null,
            "justify_content": null,
            "justify_items": null,
            "left": null,
            "margin": null,
            "max_height": null,
            "max_width": null,
            "min_height": null,
            "min_width": null,
            "object_fit": null,
            "object_position": null,
            "order": null,
            "overflow": null,
            "overflow_x": null,
            "overflow_y": null,
            "padding": null,
            "right": null,
            "top": null,
            "visibility": null,
            "width": null
          }
        },
        "15f655ebde21450497496a9caa9eb40b": {
          "model_module": "@jupyter-widgets/controls",
          "model_name": "ProgressStyleModel",
          "model_module_version": "1.5.0",
          "state": {
            "_model_module": "@jupyter-widgets/controls",
            "_model_module_version": "1.5.0",
            "_model_name": "ProgressStyleModel",
            "_view_count": null,
            "_view_module": "@jupyter-widgets/base",
            "_view_module_version": "1.2.0",
            "_view_name": "StyleView",
            "bar_color": null,
            "description_width": ""
          }
        },
        "ff3e880cd9744d48918cdde4bdb17df3": {
          "model_module": "@jupyter-widgets/base",
          "model_name": "LayoutModel",
          "model_module_version": "1.2.0",
          "state": {
            "_model_module": "@jupyter-widgets/base",
            "_model_module_version": "1.2.0",
            "_model_name": "LayoutModel",
            "_view_count": null,
            "_view_module": "@jupyter-widgets/base",
            "_view_module_version": "1.2.0",
            "_view_name": "LayoutView",
            "align_content": null,
            "align_items": null,
            "align_self": null,
            "border": null,
            "bottom": null,
            "display": null,
            "flex": null,
            "flex_flow": null,
            "grid_area": null,
            "grid_auto_columns": null,
            "grid_auto_flow": null,
            "grid_auto_rows": null,
            "grid_column": null,
            "grid_gap": null,
            "grid_row": null,
            "grid_template_areas": null,
            "grid_template_columns": null,
            "grid_template_rows": null,
            "height": null,
            "justify_content": null,
            "justify_items": null,
            "left": null,
            "margin": null,
            "max_height": null,
            "max_width": null,
            "min_height": null,
            "min_width": null,
            "object_fit": null,
            "object_position": null,
            "order": null,
            "overflow": null,
            "overflow_x": null,
            "overflow_y": null,
            "padding": null,
            "right": null,
            "top": null,
            "visibility": null,
            "width": null
          }
        },
        "3a640671aed4459890cac66e391ff56c": {
          "model_module": "@jupyter-widgets/controls",
          "model_name": "DescriptionStyleModel",
          "model_module_version": "1.5.0",
          "state": {
            "_model_module": "@jupyter-widgets/controls",
            "_model_module_version": "1.5.0",
            "_model_name": "DescriptionStyleModel",
            "_view_count": null,
            "_view_module": "@jupyter-widgets/base",
            "_view_module_version": "1.2.0",
            "_view_name": "StyleView",
            "description_width": ""
          }
        },
        "5f64be4fe4cb4fcd8426409398e9c1d8": {
          "model_module": "@jupyter-widgets/controls",
          "model_name": "HBoxModel",
          "model_module_version": "1.5.0",
          "state": {
            "_dom_classes": [],
            "_model_module": "@jupyter-widgets/controls",
            "_model_module_version": "1.5.0",
            "_model_name": "HBoxModel",
            "_view_count": null,
            "_view_module": "@jupyter-widgets/controls",
            "_view_module_version": "1.5.0",
            "_view_name": "HBoxView",
            "box_style": "",
            "children": [
              "IPY_MODEL_812a020a2f784a6393f23582dc8896c6",
              "IPY_MODEL_bda90e9a6c6043038663cf3f81f41900",
              "IPY_MODEL_b8858d7ec52f456aa37c15d359913a94"
            ],
            "layout": "IPY_MODEL_c7d681b837b5405e9b276d4d023ac865"
          }
        },
        "812a020a2f784a6393f23582dc8896c6": {
          "model_module": "@jupyter-widgets/controls",
          "model_name": "HTMLModel",
          "model_module_version": "1.5.0",
          "state": {
            "_dom_classes": [],
            "_model_module": "@jupyter-widgets/controls",
            "_model_module_version": "1.5.0",
            "_model_name": "HTMLModel",
            "_view_count": null,
            "_view_module": "@jupyter-widgets/controls",
            "_view_module_version": "1.5.0",
            "_view_name": "HTMLView",
            "description": "",
            "description_tooltip": null,
            "layout": "IPY_MODEL_4bb7fda113cf46a7896b16acb8a7e61e",
            "placeholder": "​",
            "style": "IPY_MODEL_7c03edac4d93465fac423e5189e09f43",
            "value": "tokenizer_config.json: 100%"
          }
        },
        "bda90e9a6c6043038663cf3f81f41900": {
          "model_module": "@jupyter-widgets/controls",
          "model_name": "FloatProgressModel",
          "model_module_version": "1.5.0",
          "state": {
            "_dom_classes": [],
            "_model_module": "@jupyter-widgets/controls",
            "_model_module_version": "1.5.0",
            "_model_name": "FloatProgressModel",
            "_view_count": null,
            "_view_module": "@jupyter-widgets/controls",
            "_view_module_version": "1.5.0",
            "_view_name": "ProgressView",
            "bar_style": "success",
            "description": "",
            "description_tooltip": null,
            "layout": "IPY_MODEL_c717faa5bdd44c69b3de04af2891841d",
            "max": 1173,
            "min": 0,
            "orientation": "horizontal",
            "style": "IPY_MODEL_88f3a8a397864ae98e4a7d8f34e011d9",
            "value": 1173
          }
        },
        "b8858d7ec52f456aa37c15d359913a94": {
          "model_module": "@jupyter-widgets/controls",
          "model_name": "HTMLModel",
          "model_module_version": "1.5.0",
          "state": {
            "_dom_classes": [],
            "_model_module": "@jupyter-widgets/controls",
            "_model_module_version": "1.5.0",
            "_model_name": "HTMLModel",
            "_view_count": null,
            "_view_module": "@jupyter-widgets/controls",
            "_view_module_version": "1.5.0",
            "_view_name": "HTMLView",
            "description": "",
            "description_tooltip": null,
            "layout": "IPY_MODEL_e19c6707596d47c5b6ba260bcac2a054",
            "placeholder": "​",
            "style": "IPY_MODEL_0b2efe81beb342d28bd69ea804dcb90c",
            "value": " 1.17k/1.17k [00:00&lt;00:00, 90.1kB/s]"
          }
        },
        "c7d681b837b5405e9b276d4d023ac865": {
          "model_module": "@jupyter-widgets/base",
          "model_name": "LayoutModel",
          "model_module_version": "1.2.0",
          "state": {
            "_model_module": "@jupyter-widgets/base",
            "_model_module_version": "1.2.0",
            "_model_name": "LayoutModel",
            "_view_count": null,
            "_view_module": "@jupyter-widgets/base",
            "_view_module_version": "1.2.0",
            "_view_name": "LayoutView",
            "align_content": null,
            "align_items": null,
            "align_self": null,
            "border": null,
            "bottom": null,
            "display": null,
            "flex": null,
            "flex_flow": null,
            "grid_area": null,
            "grid_auto_columns": null,
            "grid_auto_flow": null,
            "grid_auto_rows": null,
            "grid_column": null,
            "grid_gap": null,
            "grid_row": null,
            "grid_template_areas": null,
            "grid_template_columns": null,
            "grid_template_rows": null,
            "height": null,
            "justify_content": null,
            "justify_items": null,
            "left": null,
            "margin": null,
            "max_height": null,
            "max_width": null,
            "min_height": null,
            "min_width": null,
            "object_fit": null,
            "object_position": null,
            "order": null,
            "overflow": null,
            "overflow_x": null,
            "overflow_y": null,
            "padding": null,
            "right": null,
            "top": null,
            "visibility": null,
            "width": null
          }
        },
        "4bb7fda113cf46a7896b16acb8a7e61e": {
          "model_module": "@jupyter-widgets/base",
          "model_name": "LayoutModel",
          "model_module_version": "1.2.0",
          "state": {
            "_model_module": "@jupyter-widgets/base",
            "_model_module_version": "1.2.0",
            "_model_name": "LayoutModel",
            "_view_count": null,
            "_view_module": "@jupyter-widgets/base",
            "_view_module_version": "1.2.0",
            "_view_name": "LayoutView",
            "align_content": null,
            "align_items": null,
            "align_self": null,
            "border": null,
            "bottom": null,
            "display": null,
            "flex": null,
            "flex_flow": null,
            "grid_area": null,
            "grid_auto_columns": null,
            "grid_auto_flow": null,
            "grid_auto_rows": null,
            "grid_column": null,
            "grid_gap": null,
            "grid_row": null,
            "grid_template_areas": null,
            "grid_template_columns": null,
            "grid_template_rows": null,
            "height": null,
            "justify_content": null,
            "justify_items": null,
            "left": null,
            "margin": null,
            "max_height": null,
            "max_width": null,
            "min_height": null,
            "min_width": null,
            "object_fit": null,
            "object_position": null,
            "order": null,
            "overflow": null,
            "overflow_x": null,
            "overflow_y": null,
            "padding": null,
            "right": null,
            "top": null,
            "visibility": null,
            "width": null
          }
        },
        "7c03edac4d93465fac423e5189e09f43": {
          "model_module": "@jupyter-widgets/controls",
          "model_name": "DescriptionStyleModel",
          "model_module_version": "1.5.0",
          "state": {
            "_model_module": "@jupyter-widgets/controls",
            "_model_module_version": "1.5.0",
            "_model_name": "DescriptionStyleModel",
            "_view_count": null,
            "_view_module": "@jupyter-widgets/base",
            "_view_module_version": "1.2.0",
            "_view_name": "StyleView",
            "description_width": ""
          }
        },
        "c717faa5bdd44c69b3de04af2891841d": {
          "model_module": "@jupyter-widgets/base",
          "model_name": "LayoutModel",
          "model_module_version": "1.2.0",
          "state": {
            "_model_module": "@jupyter-widgets/base",
            "_model_module_version": "1.2.0",
            "_model_name": "LayoutModel",
            "_view_count": null,
            "_view_module": "@jupyter-widgets/base",
            "_view_module_version": "1.2.0",
            "_view_name": "LayoutView",
            "align_content": null,
            "align_items": null,
            "align_self": null,
            "border": null,
            "bottom": null,
            "display": null,
            "flex": null,
            "flex_flow": null,
            "grid_area": null,
            "grid_auto_columns": null,
            "grid_auto_flow": null,
            "grid_auto_rows": null,
            "grid_column": null,
            "grid_gap": null,
            "grid_row": null,
            "grid_template_areas": null,
            "grid_template_columns": null,
            "grid_template_rows": null,
            "height": null,
            "justify_content": null,
            "justify_items": null,
            "left": null,
            "margin": null,
            "max_height": null,
            "max_width": null,
            "min_height": null,
            "min_width": null,
            "object_fit": null,
            "object_position": null,
            "order": null,
            "overflow": null,
            "overflow_x": null,
            "overflow_y": null,
            "padding": null,
            "right": null,
            "top": null,
            "visibility": null,
            "width": null
          }
        },
        "88f3a8a397864ae98e4a7d8f34e011d9": {
          "model_module": "@jupyter-widgets/controls",
          "model_name": "ProgressStyleModel",
          "model_module_version": "1.5.0",
          "state": {
            "_model_module": "@jupyter-widgets/controls",
            "_model_module_version": "1.5.0",
            "_model_name": "ProgressStyleModel",
            "_view_count": null,
            "_view_module": "@jupyter-widgets/base",
            "_view_module_version": "1.2.0",
            "_view_name": "StyleView",
            "bar_color": null,
            "description_width": ""
          }
        },
        "e19c6707596d47c5b6ba260bcac2a054": {
          "model_module": "@jupyter-widgets/base",
          "model_name": "LayoutModel",
          "model_module_version": "1.2.0",
          "state": {
            "_model_module": "@jupyter-widgets/base",
            "_model_module_version": "1.2.0",
            "_model_name": "LayoutModel",
            "_view_count": null,
            "_view_module": "@jupyter-widgets/base",
            "_view_module_version": "1.2.0",
            "_view_name": "LayoutView",
            "align_content": null,
            "align_items": null,
            "align_self": null,
            "border": null,
            "bottom": null,
            "display": null,
            "flex": null,
            "flex_flow": null,
            "grid_area": null,
            "grid_auto_columns": null,
            "grid_auto_flow": null,
            "grid_auto_rows": null,
            "grid_column": null,
            "grid_gap": null,
            "grid_row": null,
            "grid_template_areas": null,
            "grid_template_columns": null,
            "grid_template_rows": null,
            "height": null,
            "justify_content": null,
            "justify_items": null,
            "left": null,
            "margin": null,
            "max_height": null,
            "max_width": null,
            "min_height": null,
            "min_width": null,
            "object_fit": null,
            "object_position": null,
            "order": null,
            "overflow": null,
            "overflow_x": null,
            "overflow_y": null,
            "padding": null,
            "right": null,
            "top": null,
            "visibility": null,
            "width": null
          }
        },
        "0b2efe81beb342d28bd69ea804dcb90c": {
          "model_module": "@jupyter-widgets/controls",
          "model_name": "DescriptionStyleModel",
          "model_module_version": "1.5.0",
          "state": {
            "_model_module": "@jupyter-widgets/controls",
            "_model_module_version": "1.5.0",
            "_model_name": "DescriptionStyleModel",
            "_view_count": null,
            "_view_module": "@jupyter-widgets/base",
            "_view_module_version": "1.2.0",
            "_view_name": "StyleView",
            "description_width": ""
          }
        },
        "7bd6e22fa04e44f99381084ab46c60dd": {
          "model_module": "@jupyter-widgets/controls",
          "model_name": "HBoxModel",
          "model_module_version": "1.5.0",
          "state": {
            "_dom_classes": [],
            "_model_module": "@jupyter-widgets/controls",
            "_model_module_version": "1.5.0",
            "_model_name": "HBoxModel",
            "_view_count": null,
            "_view_module": "@jupyter-widgets/controls",
            "_view_module_version": "1.5.0",
            "_view_name": "HBoxView",
            "box_style": "",
            "children": [
              "IPY_MODEL_4a173a8908dd4abe9ac68284a50def42",
              "IPY_MODEL_e3e1009634e0410f8ef9bc350de63683",
              "IPY_MODEL_01c801d69d704ea39b8391b1478b6c71"
            ],
            "layout": "IPY_MODEL_c30512d57c29476fbb1f6523178149da"
          }
        },
        "4a173a8908dd4abe9ac68284a50def42": {
          "model_module": "@jupyter-widgets/controls",
          "model_name": "HTMLModel",
          "model_module_version": "1.5.0",
          "state": {
            "_dom_classes": [],
            "_model_module": "@jupyter-widgets/controls",
            "_model_module_version": "1.5.0",
            "_model_name": "HTMLModel",
            "_view_count": null,
            "_view_module": "@jupyter-widgets/controls",
            "_view_module_version": "1.5.0",
            "_view_name": "HTMLView",
            "description": "",
            "description_tooltip": null,
            "layout": "IPY_MODEL_7b8711018240436c9b87a42559c411ab",
            "placeholder": "​",
            "style": "IPY_MODEL_d0765cb44bca4565bd7bb45984908d75",
            "value": "sentencepiece.bpe.model: 100%"
          }
        },
        "e3e1009634e0410f8ef9bc350de63683": {
          "model_module": "@jupyter-widgets/controls",
          "model_name": "FloatProgressModel",
          "model_module_version": "1.5.0",
          "state": {
            "_dom_classes": [],
            "_model_module": "@jupyter-widgets/controls",
            "_model_module_version": "1.5.0",
            "_model_name": "FloatProgressModel",
            "_view_count": null,
            "_view_module": "@jupyter-widgets/controls",
            "_view_module_version": "1.5.0",
            "_view_name": "ProgressView",
            "bar_style": "success",
            "description": "",
            "description_tooltip": null,
            "layout": "IPY_MODEL_aa89398c97e54aa89efaa49e3199393d",
            "max": 5069051,
            "min": 0,
            "orientation": "horizontal",
            "style": "IPY_MODEL_69cc6d3b4fa84cda948a1fd453a55e30",
            "value": 5069051
          }
        },
        "01c801d69d704ea39b8391b1478b6c71": {
          "model_module": "@jupyter-widgets/controls",
          "model_name": "HTMLModel",
          "model_module_version": "1.5.0",
          "state": {
            "_dom_classes": [],
            "_model_module": "@jupyter-widgets/controls",
            "_model_module_version": "1.5.0",
            "_model_name": "HTMLModel",
            "_view_count": null,
            "_view_module": "@jupyter-widgets/controls",
            "_view_module_version": "1.5.0",
            "_view_name": "HTMLView",
            "description": "",
            "description_tooltip": null,
            "layout": "IPY_MODEL_e7e61c26d5c04bb9aa1194bf35cf3f5e",
            "placeholder": "​",
            "style": "IPY_MODEL_7d9b2b15b31247d48622d721e3193eeb",
            "value": " 5.07M/5.07M [00:00&lt;00:00, 63.8MB/s]"
          }
        },
        "c30512d57c29476fbb1f6523178149da": {
          "model_module": "@jupyter-widgets/base",
          "model_name": "LayoutModel",
          "model_module_version": "1.2.0",
          "state": {
            "_model_module": "@jupyter-widgets/base",
            "_model_module_version": "1.2.0",
            "_model_name": "LayoutModel",
            "_view_count": null,
            "_view_module": "@jupyter-widgets/base",
            "_view_module_version": "1.2.0",
            "_view_name": "LayoutView",
            "align_content": null,
            "align_items": null,
            "align_self": null,
            "border": null,
            "bottom": null,
            "display": null,
            "flex": null,
            "flex_flow": null,
            "grid_area": null,
            "grid_auto_columns": null,
            "grid_auto_flow": null,
            "grid_auto_rows": null,
            "grid_column": null,
            "grid_gap": null,
            "grid_row": null,
            "grid_template_areas": null,
            "grid_template_columns": null,
            "grid_template_rows": null,
            "height": null,
            "justify_content": null,
            "justify_items": null,
            "left": null,
            "margin": null,
            "max_height": null,
            "max_width": null,
            "min_height": null,
            "min_width": null,
            "object_fit": null,
            "object_position": null,
            "order": null,
            "overflow": null,
            "overflow_x": null,
            "overflow_y": null,
            "padding": null,
            "right": null,
            "top": null,
            "visibility": null,
            "width": null
          }
        },
        "7b8711018240436c9b87a42559c411ab": {
          "model_module": "@jupyter-widgets/base",
          "model_name": "LayoutModel",
          "model_module_version": "1.2.0",
          "state": {
            "_model_module": "@jupyter-widgets/base",
            "_model_module_version": "1.2.0",
            "_model_name": "LayoutModel",
            "_view_count": null,
            "_view_module": "@jupyter-widgets/base",
            "_view_module_version": "1.2.0",
            "_view_name": "LayoutView",
            "align_content": null,
            "align_items": null,
            "align_self": null,
            "border": null,
            "bottom": null,
            "display": null,
            "flex": null,
            "flex_flow": null,
            "grid_area": null,
            "grid_auto_columns": null,
            "grid_auto_flow": null,
            "grid_auto_rows": null,
            "grid_column": null,
            "grid_gap": null,
            "grid_row": null,
            "grid_template_areas": null,
            "grid_template_columns": null,
            "grid_template_rows": null,
            "height": null,
            "justify_content": null,
            "justify_items": null,
            "left": null,
            "margin": null,
            "max_height": null,
            "max_width": null,
            "min_height": null,
            "min_width": null,
            "object_fit": null,
            "object_position": null,
            "order": null,
            "overflow": null,
            "overflow_x": null,
            "overflow_y": null,
            "padding": null,
            "right": null,
            "top": null,
            "visibility": null,
            "width": null
          }
        },
        "d0765cb44bca4565bd7bb45984908d75": {
          "model_module": "@jupyter-widgets/controls",
          "model_name": "DescriptionStyleModel",
          "model_module_version": "1.5.0",
          "state": {
            "_model_module": "@jupyter-widgets/controls",
            "_model_module_version": "1.5.0",
            "_model_name": "DescriptionStyleModel",
            "_view_count": null,
            "_view_module": "@jupyter-widgets/base",
            "_view_module_version": "1.2.0",
            "_view_name": "StyleView",
            "description_width": ""
          }
        },
        "aa89398c97e54aa89efaa49e3199393d": {
          "model_module": "@jupyter-widgets/base",
          "model_name": "LayoutModel",
          "model_module_version": "1.2.0",
          "state": {
            "_model_module": "@jupyter-widgets/base",
            "_model_module_version": "1.2.0",
            "_model_name": "LayoutModel",
            "_view_count": null,
            "_view_module": "@jupyter-widgets/base",
            "_view_module_version": "1.2.0",
            "_view_name": "LayoutView",
            "align_content": null,
            "align_items": null,
            "align_self": null,
            "border": null,
            "bottom": null,
            "display": null,
            "flex": null,
            "flex_flow": null,
            "grid_area": null,
            "grid_auto_columns": null,
            "grid_auto_flow": null,
            "grid_auto_rows": null,
            "grid_column": null,
            "grid_gap": null,
            "grid_row": null,
            "grid_template_areas": null,
            "grid_template_columns": null,
            "grid_template_rows": null,
            "height": null,
            "justify_content": null,
            "justify_items": null,
            "left": null,
            "margin": null,
            "max_height": null,
            "max_width": null,
            "min_height": null,
            "min_width": null,
            "object_fit": null,
            "object_position": null,
            "order": null,
            "overflow": null,
            "overflow_x": null,
            "overflow_y": null,
            "padding": null,
            "right": null,
            "top": null,
            "visibility": null,
            "width": null
          }
        },
        "69cc6d3b4fa84cda948a1fd453a55e30": {
          "model_module": "@jupyter-widgets/controls",
          "model_name": "ProgressStyleModel",
          "model_module_version": "1.5.0",
          "state": {
            "_model_module": "@jupyter-widgets/controls",
            "_model_module_version": "1.5.0",
            "_model_name": "ProgressStyleModel",
            "_view_count": null,
            "_view_module": "@jupyter-widgets/base",
            "_view_module_version": "1.2.0",
            "_view_name": "StyleView",
            "bar_color": null,
            "description_width": ""
          }
        },
        "e7e61c26d5c04bb9aa1194bf35cf3f5e": {
          "model_module": "@jupyter-widgets/base",
          "model_name": "LayoutModel",
          "model_module_version": "1.2.0",
          "state": {
            "_model_module": "@jupyter-widgets/base",
            "_model_module_version": "1.2.0",
            "_model_name": "LayoutModel",
            "_view_count": null,
            "_view_module": "@jupyter-widgets/base",
            "_view_module_version": "1.2.0",
            "_view_name": "LayoutView",
            "align_content": null,
            "align_items": null,
            "align_self": null,
            "border": null,
            "bottom": null,
            "display": null,
            "flex": null,
            "flex_flow": null,
            "grid_area": null,
            "grid_auto_columns": null,
            "grid_auto_flow": null,
            "grid_auto_rows": null,
            "grid_column": null,
            "grid_gap": null,
            "grid_row": null,
            "grid_template_areas": null,
            "grid_template_columns": null,
            "grid_template_rows": null,
            "height": null,
            "justify_content": null,
            "justify_items": null,
            "left": null,
            "margin": null,
            "max_height": null,
            "max_width": null,
            "min_height": null,
            "min_width": null,
            "object_fit": null,
            "object_position": null,
            "order": null,
            "overflow": null,
            "overflow_x": null,
            "overflow_y": null,
            "padding": null,
            "right": null,
            "top": null,
            "visibility": null,
            "width": null
          }
        },
        "7d9b2b15b31247d48622d721e3193eeb": {
          "model_module": "@jupyter-widgets/controls",
          "model_name": "DescriptionStyleModel",
          "model_module_version": "1.5.0",
          "state": {
            "_model_module": "@jupyter-widgets/controls",
            "_model_module_version": "1.5.0",
            "_model_name": "DescriptionStyleModel",
            "_view_count": null,
            "_view_module": "@jupyter-widgets/base",
            "_view_module_version": "1.2.0",
            "_view_name": "StyleView",
            "description_width": ""
          }
        },
        "3854d7fdf285406a8d447fb0a65a79da": {
          "model_module": "@jupyter-widgets/controls",
          "model_name": "HBoxModel",
          "model_module_version": "1.5.0",
          "state": {
            "_dom_classes": [],
            "_model_module": "@jupyter-widgets/controls",
            "_model_module_version": "1.5.0",
            "_model_name": "HBoxModel",
            "_view_count": null,
            "_view_module": "@jupyter-widgets/controls",
            "_view_module_version": "1.5.0",
            "_view_name": "HBoxView",
            "box_style": "",
            "children": [
              "IPY_MODEL_32a634f7c9534efba490e0813ef05ed1",
              "IPY_MODEL_6c5a1bac20ed4190b14f9f78be9a32e5",
              "IPY_MODEL_2535ffe305994053969476cd6804ab4e"
            ],
            "layout": "IPY_MODEL_5da48e2345784b7ab1e7f5f1b086b191"
          }
        },
        "32a634f7c9534efba490e0813ef05ed1": {
          "model_module": "@jupyter-widgets/controls",
          "model_name": "HTMLModel",
          "model_module_version": "1.5.0",
          "state": {
            "_dom_classes": [],
            "_model_module": "@jupyter-widgets/controls",
            "_model_module_version": "1.5.0",
            "_model_name": "HTMLModel",
            "_view_count": null,
            "_view_module": "@jupyter-widgets/controls",
            "_view_module_version": "1.5.0",
            "_view_name": "HTMLView",
            "description": "",
            "description_tooltip": null,
            "layout": "IPY_MODEL_7cd50a92435e48ee9b1d48aed6a0cef2",
            "placeholder": "​",
            "style": "IPY_MODEL_c239dc38bacd45999fa910ecd6ffb49f",
            "value": "tokenizer.json: 100%"
          }
        },
        "6c5a1bac20ed4190b14f9f78be9a32e5": {
          "model_module": "@jupyter-widgets/controls",
          "model_name": "FloatProgressModel",
          "model_module_version": "1.5.0",
          "state": {
            "_dom_classes": [],
            "_model_module": "@jupyter-widgets/controls",
            "_model_module_version": "1.5.0",
            "_model_name": "FloatProgressModel",
            "_view_count": null,
            "_view_module": "@jupyter-widgets/controls",
            "_view_module_version": "1.5.0",
            "_view_name": "ProgressView",
            "bar_style": "success",
            "description": "",
            "description_tooltip": null,
            "layout": "IPY_MODEL_15142c2dc9e74c6eae6d8c631fdbe36c",
            "max": 17083053,
            "min": 0,
            "orientation": "horizontal",
            "style": "IPY_MODEL_f452194eb8f14055a9a62b534716cfef",
            "value": 17083053
          }
        },
        "2535ffe305994053969476cd6804ab4e": {
          "model_module": "@jupyter-widgets/controls",
          "model_name": "HTMLModel",
          "model_module_version": "1.5.0",
          "state": {
            "_dom_classes": [],
            "_model_module": "@jupyter-widgets/controls",
            "_model_module_version": "1.5.0",
            "_model_name": "HTMLModel",
            "_view_count": null,
            "_view_module": "@jupyter-widgets/controls",
            "_view_module_version": "1.5.0",
            "_view_name": "HTMLView",
            "description": "",
            "description_tooltip": null,
            "layout": "IPY_MODEL_72c5267c68d945d488c675ef142faa44",
            "placeholder": "​",
            "style": "IPY_MODEL_0b5c1cc82f4843d6bebe10e29f9c880b",
            "value": " 17.1M/17.1M [00:00&lt;00:00, 63.7MB/s]"
          }
        },
        "5da48e2345784b7ab1e7f5f1b086b191": {
          "model_module": "@jupyter-widgets/base",
          "model_name": "LayoutModel",
          "model_module_version": "1.2.0",
          "state": {
            "_model_module": "@jupyter-widgets/base",
            "_model_module_version": "1.2.0",
            "_model_name": "LayoutModel",
            "_view_count": null,
            "_view_module": "@jupyter-widgets/base",
            "_view_module_version": "1.2.0",
            "_view_name": "LayoutView",
            "align_content": null,
            "align_items": null,
            "align_self": null,
            "border": null,
            "bottom": null,
            "display": null,
            "flex": null,
            "flex_flow": null,
            "grid_area": null,
            "grid_auto_columns": null,
            "grid_auto_flow": null,
            "grid_auto_rows": null,
            "grid_column": null,
            "grid_gap": null,
            "grid_row": null,
            "grid_template_areas": null,
            "grid_template_columns": null,
            "grid_template_rows": null,
            "height": null,
            "justify_content": null,
            "justify_items": null,
            "left": null,
            "margin": null,
            "max_height": null,
            "max_width": null,
            "min_height": null,
            "min_width": null,
            "object_fit": null,
            "object_position": null,
            "order": null,
            "overflow": null,
            "overflow_x": null,
            "overflow_y": null,
            "padding": null,
            "right": null,
            "top": null,
            "visibility": null,
            "width": null
          }
        },
        "7cd50a92435e48ee9b1d48aed6a0cef2": {
          "model_module": "@jupyter-widgets/base",
          "model_name": "LayoutModel",
          "model_module_version": "1.2.0",
          "state": {
            "_model_module": "@jupyter-widgets/base",
            "_model_module_version": "1.2.0",
            "_model_name": "LayoutModel",
            "_view_count": null,
            "_view_module": "@jupyter-widgets/base",
            "_view_module_version": "1.2.0",
            "_view_name": "LayoutView",
            "align_content": null,
            "align_items": null,
            "align_self": null,
            "border": null,
            "bottom": null,
            "display": null,
            "flex": null,
            "flex_flow": null,
            "grid_area": null,
            "grid_auto_columns": null,
            "grid_auto_flow": null,
            "grid_auto_rows": null,
            "grid_column": null,
            "grid_gap": null,
            "grid_row": null,
            "grid_template_areas": null,
            "grid_template_columns": null,
            "grid_template_rows": null,
            "height": null,
            "justify_content": null,
            "justify_items": null,
            "left": null,
            "margin": null,
            "max_height": null,
            "max_width": null,
            "min_height": null,
            "min_width": null,
            "object_fit": null,
            "object_position": null,
            "order": null,
            "overflow": null,
            "overflow_x": null,
            "overflow_y": null,
            "padding": null,
            "right": null,
            "top": null,
            "visibility": null,
            "width": null
          }
        },
        "c239dc38bacd45999fa910ecd6ffb49f": {
          "model_module": "@jupyter-widgets/controls",
          "model_name": "DescriptionStyleModel",
          "model_module_version": "1.5.0",
          "state": {
            "_model_module": "@jupyter-widgets/controls",
            "_model_module_version": "1.5.0",
            "_model_name": "DescriptionStyleModel",
            "_view_count": null,
            "_view_module": "@jupyter-widgets/base",
            "_view_module_version": "1.2.0",
            "_view_name": "StyleView",
            "description_width": ""
          }
        },
        "15142c2dc9e74c6eae6d8c631fdbe36c": {
          "model_module": "@jupyter-widgets/base",
          "model_name": "LayoutModel",
          "model_module_version": "1.2.0",
          "state": {
            "_model_module": "@jupyter-widgets/base",
            "_model_module_version": "1.2.0",
            "_model_name": "LayoutModel",
            "_view_count": null,
            "_view_module": "@jupyter-widgets/base",
            "_view_module_version": "1.2.0",
            "_view_name": "LayoutView",
            "align_content": null,
            "align_items": null,
            "align_self": null,
            "border": null,
            "bottom": null,
            "display": null,
            "flex": null,
            "flex_flow": null,
            "grid_area": null,
            "grid_auto_columns": null,
            "grid_auto_flow": null,
            "grid_auto_rows": null,
            "grid_column": null,
            "grid_gap": null,
            "grid_row": null,
            "grid_template_areas": null,
            "grid_template_columns": null,
            "grid_template_rows": null,
            "height": null,
            "justify_content": null,
            "justify_items": null,
            "left": null,
            "margin": null,
            "max_height": null,
            "max_width": null,
            "min_height": null,
            "min_width": null,
            "object_fit": null,
            "object_position": null,
            "order": null,
            "overflow": null,
            "overflow_x": null,
            "overflow_y": null,
            "padding": null,
            "right": null,
            "top": null,
            "visibility": null,
            "width": null
          }
        },
        "f452194eb8f14055a9a62b534716cfef": {
          "model_module": "@jupyter-widgets/controls",
          "model_name": "ProgressStyleModel",
          "model_module_version": "1.5.0",
          "state": {
            "_model_module": "@jupyter-widgets/controls",
            "_model_module_version": "1.5.0",
            "_model_name": "ProgressStyleModel",
            "_view_count": null,
            "_view_module": "@jupyter-widgets/base",
            "_view_module_version": "1.2.0",
            "_view_name": "StyleView",
            "bar_color": null,
            "description_width": ""
          }
        },
        "72c5267c68d945d488c675ef142faa44": {
          "model_module": "@jupyter-widgets/base",
          "model_name": "LayoutModel",
          "model_module_version": "1.2.0",
          "state": {
            "_model_module": "@jupyter-widgets/base",
            "_model_module_version": "1.2.0",
            "_model_name": "LayoutModel",
            "_view_count": null,
            "_view_module": "@jupyter-widgets/base",
            "_view_module_version": "1.2.0",
            "_view_name": "LayoutView",
            "align_content": null,
            "align_items": null,
            "align_self": null,
            "border": null,
            "bottom": null,
            "display": null,
            "flex": null,
            "flex_flow": null,
            "grid_area": null,
            "grid_auto_columns": null,
            "grid_auto_flow": null,
            "grid_auto_rows": null,
            "grid_column": null,
            "grid_gap": null,
            "grid_row": null,
            "grid_template_areas": null,
            "grid_template_columns": null,
            "grid_template_rows": null,
            "height": null,
            "justify_content": null,
            "justify_items": null,
            "left": null,
            "margin": null,
            "max_height": null,
            "max_width": null,
            "min_height": null,
            "min_width": null,
            "object_fit": null,
            "object_position": null,
            "order": null,
            "overflow": null,
            "overflow_x": null,
            "overflow_y": null,
            "padding": null,
            "right": null,
            "top": null,
            "visibility": null,
            "width": null
          }
        },
        "0b5c1cc82f4843d6bebe10e29f9c880b": {
          "model_module": "@jupyter-widgets/controls",
          "model_name": "DescriptionStyleModel",
          "model_module_version": "1.5.0",
          "state": {
            "_model_module": "@jupyter-widgets/controls",
            "_model_module_version": "1.5.0",
            "_model_name": "DescriptionStyleModel",
            "_view_count": null,
            "_view_module": "@jupyter-widgets/base",
            "_view_module_version": "1.2.0",
            "_view_name": "StyleView",
            "description_width": ""
          }
        },
        "a15c9ea4e84b4d1dbf9dc8f711fc939c": {
          "model_module": "@jupyter-widgets/controls",
          "model_name": "HBoxModel",
          "model_module_version": "1.5.0",
          "state": {
            "_dom_classes": [],
            "_model_module": "@jupyter-widgets/controls",
            "_model_module_version": "1.5.0",
            "_model_name": "HBoxModel",
            "_view_count": null,
            "_view_module": "@jupyter-widgets/controls",
            "_view_module_version": "1.5.0",
            "_view_name": "HBoxView",
            "box_style": "",
            "children": [
              "IPY_MODEL_e8dcbf30839f480e8aea0197478a37a2",
              "IPY_MODEL_fc1804a1358c4161b4b1d3637b4cce11",
              "IPY_MODEL_bd2af6dde17c4a1683abd485394d94a5"
            ],
            "layout": "IPY_MODEL_73b06c1c112445fcb8cc46125dfb9de1"
          }
        },
        "e8dcbf30839f480e8aea0197478a37a2": {
          "model_module": "@jupyter-widgets/controls",
          "model_name": "HTMLModel",
          "model_module_version": "1.5.0",
          "state": {
            "_dom_classes": [],
            "_model_module": "@jupyter-widgets/controls",
            "_model_module_version": "1.5.0",
            "_model_name": "HTMLModel",
            "_view_count": null,
            "_view_module": "@jupyter-widgets/controls",
            "_view_module_version": "1.5.0",
            "_view_name": "HTMLView",
            "description": "",
            "description_tooltip": null,
            "layout": "IPY_MODEL_0f2d07fd37f04b25bedc8871ea39dd38",
            "placeholder": "​",
            "style": "IPY_MODEL_248ecb3c43bb4797bf7bc2c098abb4b4",
            "value": "special_tokens_map.json: 100%"
          }
        },
        "fc1804a1358c4161b4b1d3637b4cce11": {
          "model_module": "@jupyter-widgets/controls",
          "model_name": "FloatProgressModel",
          "model_module_version": "1.5.0",
          "state": {
            "_dom_classes": [],
            "_model_module": "@jupyter-widgets/controls",
            "_model_module_version": "1.5.0",
            "_model_name": "FloatProgressModel",
            "_view_count": null,
            "_view_module": "@jupyter-widgets/controls",
            "_view_module_version": "1.5.0",
            "_view_name": "ProgressView",
            "bar_style": "success",
            "description": "",
            "description_tooltip": null,
            "layout": "IPY_MODEL_b5ec30a220d543ac85bb3a2aa410387c",
            "max": 965,
            "min": 0,
            "orientation": "horizontal",
            "style": "IPY_MODEL_15cc0e4d82a343e3a9f8ff8d4215817d",
            "value": 965
          }
        },
        "bd2af6dde17c4a1683abd485394d94a5": {
          "model_module": "@jupyter-widgets/controls",
          "model_name": "HTMLModel",
          "model_module_version": "1.5.0",
          "state": {
            "_dom_classes": [],
            "_model_module": "@jupyter-widgets/controls",
            "_model_module_version": "1.5.0",
            "_model_name": "HTMLModel",
            "_view_count": null,
            "_view_module": "@jupyter-widgets/controls",
            "_view_module_version": "1.5.0",
            "_view_name": "HTMLView",
            "description": "",
            "description_tooltip": null,
            "layout": "IPY_MODEL_df62ab9d99ee40fdb1c261b26259c7a4",
            "placeholder": "​",
            "style": "IPY_MODEL_6f977347585b4abb915705350d94984f",
            "value": " 965/965 [00:00&lt;00:00, 66.9kB/s]"
          }
        },
        "73b06c1c112445fcb8cc46125dfb9de1": {
          "model_module": "@jupyter-widgets/base",
          "model_name": "LayoutModel",
          "model_module_version": "1.2.0",
          "state": {
            "_model_module": "@jupyter-widgets/base",
            "_model_module_version": "1.2.0",
            "_model_name": "LayoutModel",
            "_view_count": null,
            "_view_module": "@jupyter-widgets/base",
            "_view_module_version": "1.2.0",
            "_view_name": "LayoutView",
            "align_content": null,
            "align_items": null,
            "align_self": null,
            "border": null,
            "bottom": null,
            "display": null,
            "flex": null,
            "flex_flow": null,
            "grid_area": null,
            "grid_auto_columns": null,
            "grid_auto_flow": null,
            "grid_auto_rows": null,
            "grid_column": null,
            "grid_gap": null,
            "grid_row": null,
            "grid_template_areas": null,
            "grid_template_columns": null,
            "grid_template_rows": null,
            "height": null,
            "justify_content": null,
            "justify_items": null,
            "left": null,
            "margin": null,
            "max_height": null,
            "max_width": null,
            "min_height": null,
            "min_width": null,
            "object_fit": null,
            "object_position": null,
            "order": null,
            "overflow": null,
            "overflow_x": null,
            "overflow_y": null,
            "padding": null,
            "right": null,
            "top": null,
            "visibility": null,
            "width": null
          }
        },
        "0f2d07fd37f04b25bedc8871ea39dd38": {
          "model_module": "@jupyter-widgets/base",
          "model_name": "LayoutModel",
          "model_module_version": "1.2.0",
          "state": {
            "_model_module": "@jupyter-widgets/base",
            "_model_module_version": "1.2.0",
            "_model_name": "LayoutModel",
            "_view_count": null,
            "_view_module": "@jupyter-widgets/base",
            "_view_module_version": "1.2.0",
            "_view_name": "LayoutView",
            "align_content": null,
            "align_items": null,
            "align_self": null,
            "border": null,
            "bottom": null,
            "display": null,
            "flex": null,
            "flex_flow": null,
            "grid_area": null,
            "grid_auto_columns": null,
            "grid_auto_flow": null,
            "grid_auto_rows": null,
            "grid_column": null,
            "grid_gap": null,
            "grid_row": null,
            "grid_template_areas": null,
            "grid_template_columns": null,
            "grid_template_rows": null,
            "height": null,
            "justify_content": null,
            "justify_items": null,
            "left": null,
            "margin": null,
            "max_height": null,
            "max_width": null,
            "min_height": null,
            "min_width": null,
            "object_fit": null,
            "object_position": null,
            "order": null,
            "overflow": null,
            "overflow_x": null,
            "overflow_y": null,
            "padding": null,
            "right": null,
            "top": null,
            "visibility": null,
            "width": null
          }
        },
        "248ecb3c43bb4797bf7bc2c098abb4b4": {
          "model_module": "@jupyter-widgets/controls",
          "model_name": "DescriptionStyleModel",
          "model_module_version": "1.5.0",
          "state": {
            "_model_module": "@jupyter-widgets/controls",
            "_model_module_version": "1.5.0",
            "_model_name": "DescriptionStyleModel",
            "_view_count": null,
            "_view_module": "@jupyter-widgets/base",
            "_view_module_version": "1.2.0",
            "_view_name": "StyleView",
            "description_width": ""
          }
        },
        "b5ec30a220d543ac85bb3a2aa410387c": {
          "model_module": "@jupyter-widgets/base",
          "model_name": "LayoutModel",
          "model_module_version": "1.2.0",
          "state": {
            "_model_module": "@jupyter-widgets/base",
            "_model_module_version": "1.2.0",
            "_model_name": "LayoutModel",
            "_view_count": null,
            "_view_module": "@jupyter-widgets/base",
            "_view_module_version": "1.2.0",
            "_view_name": "LayoutView",
            "align_content": null,
            "align_items": null,
            "align_self": null,
            "border": null,
            "bottom": null,
            "display": null,
            "flex": null,
            "flex_flow": null,
            "grid_area": null,
            "grid_auto_columns": null,
            "grid_auto_flow": null,
            "grid_auto_rows": null,
            "grid_column": null,
            "grid_gap": null,
            "grid_row": null,
            "grid_template_areas": null,
            "grid_template_columns": null,
            "grid_template_rows": null,
            "height": null,
            "justify_content": null,
            "justify_items": null,
            "left": null,
            "margin": null,
            "max_height": null,
            "max_width": null,
            "min_height": null,
            "min_width": null,
            "object_fit": null,
            "object_position": null,
            "order": null,
            "overflow": null,
            "overflow_x": null,
            "overflow_y": null,
            "padding": null,
            "right": null,
            "top": null,
            "visibility": null,
            "width": null
          }
        },
        "15cc0e4d82a343e3a9f8ff8d4215817d": {
          "model_module": "@jupyter-widgets/controls",
          "model_name": "ProgressStyleModel",
          "model_module_version": "1.5.0",
          "state": {
            "_model_module": "@jupyter-widgets/controls",
            "_model_module_version": "1.5.0",
            "_model_name": "ProgressStyleModel",
            "_view_count": null,
            "_view_module": "@jupyter-widgets/base",
            "_view_module_version": "1.2.0",
            "_view_name": "StyleView",
            "bar_color": null,
            "description_width": ""
          }
        },
        "df62ab9d99ee40fdb1c261b26259c7a4": {
          "model_module": "@jupyter-widgets/base",
          "model_name": "LayoutModel",
          "model_module_version": "1.2.0",
          "state": {
            "_model_module": "@jupyter-widgets/base",
            "_model_module_version": "1.2.0",
            "_model_name": "LayoutModel",
            "_view_count": null,
            "_view_module": "@jupyter-widgets/base",
            "_view_module_version": "1.2.0",
            "_view_name": "LayoutView",
            "align_content": null,
            "align_items": null,
            "align_self": null,
            "border": null,
            "bottom": null,
            "display": null,
            "flex": null,
            "flex_flow": null,
            "grid_area": null,
            "grid_auto_columns": null,
            "grid_auto_flow": null,
            "grid_auto_rows": null,
            "grid_column": null,
            "grid_gap": null,
            "grid_row": null,
            "grid_template_areas": null,
            "grid_template_columns": null,
            "grid_template_rows": null,
            "height": null,
            "justify_content": null,
            "justify_items": null,
            "left": null,
            "margin": null,
            "max_height": null,
            "max_width": null,
            "min_height": null,
            "min_width": null,
            "object_fit": null,
            "object_position": null,
            "order": null,
            "overflow": null,
            "overflow_x": null,
            "overflow_y": null,
            "padding": null,
            "right": null,
            "top": null,
            "visibility": null,
            "width": null
          }
        },
        "6f977347585b4abb915705350d94984f": {
          "model_module": "@jupyter-widgets/controls",
          "model_name": "DescriptionStyleModel",
          "model_module_version": "1.5.0",
          "state": {
            "_model_module": "@jupyter-widgets/controls",
            "_model_module_version": "1.5.0",
            "_model_name": "DescriptionStyleModel",
            "_view_count": null,
            "_view_module": "@jupyter-widgets/base",
            "_view_module_version": "1.2.0",
            "_view_name": "StyleView",
            "description_width": ""
          }
        },
        "f58b77f63db243a192b93b69462e63d7": {
          "model_module": "@jupyter-widgets/controls",
          "model_name": "HBoxModel",
          "model_module_version": "1.5.0",
          "state": {
            "_dom_classes": [],
            "_model_module": "@jupyter-widgets/controls",
            "_model_module_version": "1.5.0",
            "_model_name": "HBoxModel",
            "_view_count": null,
            "_view_module": "@jupyter-widgets/controls",
            "_view_module_version": "1.5.0",
            "_view_name": "HBoxView",
            "box_style": "",
            "children": [
              "IPY_MODEL_41ab7b7cd7914de19a3e44b546d70803",
              "IPY_MODEL_26f8a7d6ffc94abeb1181b1c37951862",
              "IPY_MODEL_64741ff8dc9747759d78f0a9314598cf"
            ],
            "layout": "IPY_MODEL_3a433b2343854745901337182f009b56"
          }
        },
        "41ab7b7cd7914de19a3e44b546d70803": {
          "model_module": "@jupyter-widgets/controls",
          "model_name": "HTMLModel",
          "model_module_version": "1.5.0",
          "state": {
            "_dom_classes": [],
            "_model_module": "@jupyter-widgets/controls",
            "_model_module_version": "1.5.0",
            "_model_name": "HTMLModel",
            "_view_count": null,
            "_view_module": "@jupyter-widgets/controls",
            "_view_module_version": "1.5.0",
            "_view_name": "HTMLView",
            "description": "",
            "description_tooltip": null,
            "layout": "IPY_MODEL_e0f61de5688e49c3b1a0d609a5d02db7",
            "placeholder": "​",
            "style": "IPY_MODEL_72379c10a75246279147fc5b333c4c6a",
            "value": "config.json: 100%"
          }
        },
        "26f8a7d6ffc94abeb1181b1c37951862": {
          "model_module": "@jupyter-widgets/controls",
          "model_name": "FloatProgressModel",
          "model_module_version": "1.5.0",
          "state": {
            "_dom_classes": [],
            "_model_module": "@jupyter-widgets/controls",
            "_model_module_version": "1.5.0",
            "_model_name": "FloatProgressModel",
            "_view_count": null,
            "_view_module": "@jupyter-widgets/controls",
            "_view_module_version": "1.5.0",
            "_view_name": "ProgressView",
            "bar_style": "success",
            "description": "",
            "description_tooltip": null,
            "layout": "IPY_MODEL_8a53498498d6476da61abbc9c8b05610",
            "max": 296,
            "min": 0,
            "orientation": "horizontal",
            "style": "IPY_MODEL_9fd573ce93194b4eb585838b4bc8c57b",
            "value": 296
          }
        },
        "64741ff8dc9747759d78f0a9314598cf": {
          "model_module": "@jupyter-widgets/controls",
          "model_name": "HTMLModel",
          "model_module_version": "1.5.0",
          "state": {
            "_dom_classes": [],
            "_model_module": "@jupyter-widgets/controls",
            "_model_module_version": "1.5.0",
            "_model_name": "HTMLModel",
            "_view_count": null,
            "_view_module": "@jupyter-widgets/controls",
            "_view_module_version": "1.5.0",
            "_view_name": "HTMLView",
            "description": "",
            "description_tooltip": null,
            "layout": "IPY_MODEL_693f6727afa847a19da063f1c8159fd2",
            "placeholder": "​",
            "style": "IPY_MODEL_0d20d150aa084659bc2ff0ef261c26e0",
            "value": " 296/296 [00:00&lt;00:00, 21.0kB/s]"
          }
        },
        "3a433b2343854745901337182f009b56": {
          "model_module": "@jupyter-widgets/base",
          "model_name": "LayoutModel",
          "model_module_version": "1.2.0",
          "state": {
            "_model_module": "@jupyter-widgets/base",
            "_model_module_version": "1.2.0",
            "_model_name": "LayoutModel",
            "_view_count": null,
            "_view_module": "@jupyter-widgets/base",
            "_view_module_version": "1.2.0",
            "_view_name": "LayoutView",
            "align_content": null,
            "align_items": null,
            "align_self": null,
            "border": null,
            "bottom": null,
            "display": null,
            "flex": null,
            "flex_flow": null,
            "grid_area": null,
            "grid_auto_columns": null,
            "grid_auto_flow": null,
            "grid_auto_rows": null,
            "grid_column": null,
            "grid_gap": null,
            "grid_row": null,
            "grid_template_areas": null,
            "grid_template_columns": null,
            "grid_template_rows": null,
            "height": null,
            "justify_content": null,
            "justify_items": null,
            "left": null,
            "margin": null,
            "max_height": null,
            "max_width": null,
            "min_height": null,
            "min_width": null,
            "object_fit": null,
            "object_position": null,
            "order": null,
            "overflow": null,
            "overflow_x": null,
            "overflow_y": null,
            "padding": null,
            "right": null,
            "top": null,
            "visibility": null,
            "width": null
          }
        },
        "e0f61de5688e49c3b1a0d609a5d02db7": {
          "model_module": "@jupyter-widgets/base",
          "model_name": "LayoutModel",
          "model_module_version": "1.2.0",
          "state": {
            "_model_module": "@jupyter-widgets/base",
            "_model_module_version": "1.2.0",
            "_model_name": "LayoutModel",
            "_view_count": null,
            "_view_module": "@jupyter-widgets/base",
            "_view_module_version": "1.2.0",
            "_view_name": "LayoutView",
            "align_content": null,
            "align_items": null,
            "align_self": null,
            "border": null,
            "bottom": null,
            "display": null,
            "flex": null,
            "flex_flow": null,
            "grid_area": null,
            "grid_auto_columns": null,
            "grid_auto_flow": null,
            "grid_auto_rows": null,
            "grid_column": null,
            "grid_gap": null,
            "grid_row": null,
            "grid_template_areas": null,
            "grid_template_columns": null,
            "grid_template_rows": null,
            "height": null,
            "justify_content": null,
            "justify_items": null,
            "left": null,
            "margin": null,
            "max_height": null,
            "max_width": null,
            "min_height": null,
            "min_width": null,
            "object_fit": null,
            "object_position": null,
            "order": null,
            "overflow": null,
            "overflow_x": null,
            "overflow_y": null,
            "padding": null,
            "right": null,
            "top": null,
            "visibility": null,
            "width": null
          }
        },
        "72379c10a75246279147fc5b333c4c6a": {
          "model_module": "@jupyter-widgets/controls",
          "model_name": "DescriptionStyleModel",
          "model_module_version": "1.5.0",
          "state": {
            "_model_module": "@jupyter-widgets/controls",
            "_model_module_version": "1.5.0",
            "_model_name": "DescriptionStyleModel",
            "_view_count": null,
            "_view_module": "@jupyter-widgets/base",
            "_view_module_version": "1.2.0",
            "_view_name": "StyleView",
            "description_width": ""
          }
        },
        "8a53498498d6476da61abbc9c8b05610": {
          "model_module": "@jupyter-widgets/base",
          "model_name": "LayoutModel",
          "model_module_version": "1.2.0",
          "state": {
            "_model_module": "@jupyter-widgets/base",
            "_model_module_version": "1.2.0",
            "_model_name": "LayoutModel",
            "_view_count": null,
            "_view_module": "@jupyter-widgets/base",
            "_view_module_version": "1.2.0",
            "_view_name": "LayoutView",
            "align_content": null,
            "align_items": null,
            "align_self": null,
            "border": null,
            "bottom": null,
            "display": null,
            "flex": null,
            "flex_flow": null,
            "grid_area": null,
            "grid_auto_columns": null,
            "grid_auto_flow": null,
            "grid_auto_rows": null,
            "grid_column": null,
            "grid_gap": null,
            "grid_row": null,
            "grid_template_areas": null,
            "grid_template_columns": null,
            "grid_template_rows": null,
            "height": null,
            "justify_content": null,
            "justify_items": null,
            "left": null,
            "margin": null,
            "max_height": null,
            "max_width": null,
            "min_height": null,
            "min_width": null,
            "object_fit": null,
            "object_position": null,
            "order": null,
            "overflow": null,
            "overflow_x": null,
            "overflow_y": null,
            "padding": null,
            "right": null,
            "top": null,
            "visibility": null,
            "width": null
          }
        },
        "9fd573ce93194b4eb585838b4bc8c57b": {
          "model_module": "@jupyter-widgets/controls",
          "model_name": "ProgressStyleModel",
          "model_module_version": "1.5.0",
          "state": {
            "_model_module": "@jupyter-widgets/controls",
            "_model_module_version": "1.5.0",
            "_model_name": "ProgressStyleModel",
            "_view_count": null,
            "_view_module": "@jupyter-widgets/base",
            "_view_module_version": "1.2.0",
            "_view_name": "StyleView",
            "bar_color": null,
            "description_width": ""
          }
        },
        "693f6727afa847a19da063f1c8159fd2": {
          "model_module": "@jupyter-widgets/base",
          "model_name": "LayoutModel",
          "model_module_version": "1.2.0",
          "state": {
            "_model_module": "@jupyter-widgets/base",
            "_model_module_version": "1.2.0",
            "_model_name": "LayoutModel",
            "_view_count": null,
            "_view_module": "@jupyter-widgets/base",
            "_view_module_version": "1.2.0",
            "_view_name": "LayoutView",
            "align_content": null,
            "align_items": null,
            "align_self": null,
            "border": null,
            "bottom": null,
            "display": null,
            "flex": null,
            "flex_flow": null,
            "grid_area": null,
            "grid_auto_columns": null,
            "grid_auto_flow": null,
            "grid_auto_rows": null,
            "grid_column": null,
            "grid_gap": null,
            "grid_row": null,
            "grid_template_areas": null,
            "grid_template_columns": null,
            "grid_template_rows": null,
            "height": null,
            "justify_content": null,
            "justify_items": null,
            "left": null,
            "margin": null,
            "max_height": null,
            "max_width": null,
            "min_height": null,
            "min_width": null,
            "object_fit": null,
            "object_position": null,
            "order": null,
            "overflow": null,
            "overflow_x": null,
            "overflow_y": null,
            "padding": null,
            "right": null,
            "top": null,
            "visibility": null,
            "width": null
          }
        },
        "0d20d150aa084659bc2ff0ef261c26e0": {
          "model_module": "@jupyter-widgets/controls",
          "model_name": "DescriptionStyleModel",
          "model_module_version": "1.5.0",
          "state": {
            "_model_module": "@jupyter-widgets/controls",
            "_model_module_version": "1.5.0",
            "_model_name": "DescriptionStyleModel",
            "_view_count": null,
            "_view_module": "@jupyter-widgets/base",
            "_view_module_version": "1.2.0",
            "_view_name": "StyleView",
            "description_width": ""
          }
        }
      }
    }
  },
  "nbformat": 4,
  "nbformat_minor": 0
}