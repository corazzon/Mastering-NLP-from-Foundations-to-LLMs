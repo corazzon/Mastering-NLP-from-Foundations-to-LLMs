{
  "cells": [
    {
      "cell_type": "markdown",
      "metadata": {
        "id": "dLjOBWiuQhBV"
      },
      "source": [
        "# 딥러닝을 활용한 텍스트 분류 파이프라인\n",
        "\n",
        "\n",
        "<img src='https://raw.githubusercontent.com/corazzon/Mastering-NLP-from-Foundations-to-LLMs/refs/heads/main/cover.png'\n",
        "     alt=\"NLP와 LLM 실전 가이드(한빛미디어)\"\n",
        "     style=\"border: 3px solid gray; box-shadow: 5px 5px 15px rgba(0, 0, 0, 0.3); border-radius: 10px; width: 300px;\"   width='300'>\n",
        "\n",
        "\n",
        "* 저자:  \n",
        "    - [Lior Gazit](https://www.linkedin.com/in/liorgazit).  \n",
        "    - [Meysam Ghaffari](https://www.linkedin.com/in/meysam-ghaffari-ph-d-a2553088/).\n",
        "* 역자:\n",
        "    - [박조은](https://github.com/corazzon)\n",
        "* 이 노트북은 다음의 책에서 소개하는 내용입니다.\n",
        "    - 역서 : NLP와 LLM 실전 가이드(한빛미디어)\n",
        "    - 원서 : [Mastering NLP from Foundations to LLMs](https://www.amazon.com/dp/1804619183)"
      ]
    },
    {
      "cell_type": "markdown",
      "metadata": {
        "id": "-097GprHQvwv"
      },
      "source": [
        "colab 실습 :\n",
        "https://github.com/corazzon/Mastering-NLP-from-Foundations-to-LLMs\n",
        "\n",
        "[![Open In Colab](https://colab.research.google.com/assets/colab-badge.svg)](https://colab.research.google.com/github/corazzon/Mastering-NLP-from-Foundations-to-LLMs/blob/main/Chapter5_notebooks/Ch5_Text_Classification_Traditional_ML.ipynb)  \n",
        "\n",
        "\n",
        "원서 Colab 실습:   \n",
        "https://github.com/PacktPublishing/Mastering-NLP-from-Foundations-to-LLMs   \n",
        "<a target=\"_blank\" href=\"https://colab.research.google.com/github/PacktPublishing/Mastering-NLP-from-Foundations-to-LLMs/blob/liors_branch/Chapter6_notebooks/Ch6_Text_Classification_DL.ipynb\">\n",
        "  <img src=\"https://colab.research.google.com/assets/colab-badge.svg\" alt=\"Open In Colab\"/>\n",
        "</a>"
      ]
    },
    {
      "cell_type": "markdown",
      "metadata": {
        "id": "GoCA7atEspTg"
      },
      "source": [
        "**목적 : 의학 논문의 결론을 처리하고 해당 결론이 조언을 나타내는지 여부를 추론하기**\n",
        "\n",
        "본 노트북은 Chapter 6을 바탕으로 딥러닝 이진 분류기의 완전한 엔드-투-엔드 시스템 설계를 보여줍니다.\n",
        "주어진 텍스트를 관찰하여 해당 내용이 의학적 조언인지 아닌지를 분류기가 추론합니다.\n",
        "\n",
        "## 파이프라인 구성:\n",
        "\n",
        "1. 코드 설정  \n",
        "2. 데이터 수집  \n",
        "3. 데이터 처리  \n",
        "4. 전처리  \n",
        "5. 초기 데이터 탐색  \n",
        "6. 특성 엔지니어링  \n",
        "7. 생성된 수치 특성 탐색  \n",
        "8. 학습/테스트 데이터 분할  \n",
        "9. 초기 통계 분석 및 가능성 평가  \n",
        "10. 특성 선택  \n",
        "11. 머신러닝  \n",
        "  11.1 다양한 머신러닝 모델 실험  \n",
        "  11.2 최적의 모델 생성  \n",
        "  11.3 학습 결과 확인  \n",
        "  11.4 테스트 결과 확인  \n",
        "12. 딥러닝  \n",
        "  12.1 데이터 포맷 준비  \n",
        "  12.2 언어 모델(LM) 학습  \n",
        "    12.2.1 학습 하이퍼파라미터 설정  \n",
        "    12.2.2 평가 지표 선정  \n",
        "    12.2.3 트레이너 객체 구성  \n",
        "    12.2.4 모델 미세 조정  \n",
        "    12.2.5 학습 시간 분석 및 결론  \n",
        "    12.2.6 학습 결과 생성  \n",
        "    12.2.7 테스트 결과 생성  \n",
        "\n",
        "\n",
        "**참고:**  \n",
        "이 노트북은 단일 파일로 모든 머신러닝 파이프라인 단계를 통합하여 실행할 수 있도록 설계되었습니다. 그러나 실제 개발 환경에서는 코드의 재현성과 효율성을 높이기 위해 워크플로를 여러 `.py` 파일로 분리하는 것이 바람직합니다.\n",
        "\n",
        "## 데이터:\n",
        "[Hugging Face의 데이터셋:  \n",
        "medical_meadow_health_advice](https://huggingface.co/datasets/medalpaca/medical_meadow_health_advice):  \n",
        "\n",
        "> 이 데이터셋은 의료 논문의 결론을 담고 있는 수천 개의 텍스트 데이터를 포함하고 있습니다. 각 결론은 해당 내용이 조언인지 아닌지에 대한 주석이 달려 있습니다.\n",
        "\n",
        "**요구사항:**  \n",
        "* Colab 환경에서 실행 시 다음 런타임 설정을 사용하세요: `Python3, T4 GPU`  "
      ]
    },
    {
      "cell_type": "markdown",
      "metadata": {
        "id": "g54Uf66Vz9Fi"
      },
      "source": [
        ">*```면책사항: 이 노트북에서 다루는 내용과 아이디어는 저자들 개인의 것이며, 저자들의 고용주의 견해나 지적 재산을 대변하지 않습니다.```*"
      ]
    },
    {
      "cell_type": "markdown",
      "metadata": {
        "id": "uJ1LYgXOpDJ6"
      },
      "source": [
        "설치:"
      ]
    },
    {
      "cell_type": "code",
      "execution_count": null,
      "metadata": {
        "id": "kO5KM7JCpDUP"
      },
      "outputs": [],
      "source": [
        "# 주의:\n",
        "# 아래 코드가 Python 패키지 충돌로 인해 에러가 발생할 경우, 이는 새로운 버전이 원인일 수 있습니다.\n",
        "# 이런 경우, \"default_installations\" 값을 False로 설정하여 원래 이미지로 되돌리세요:\n",
        "default_installations = True\n",
        "if default_installations:\n",
        "    !pip -q install transformers==4.28.0 datasets num2words autocorrect accelerate evaluate\n",
        "else:\n",
        "    import requests\n",
        "    text_file_path = \"requirements__Ch6_Text_Classification_DL.txt\"\n",
        "    url = \"https://raw.githubusercontent.com/PacktPublishing/Mastering-NLP-from-Foundations-to-LLMs/main/Chapter6_notebooks/\" + text_file_path\n",
        "    res = requests.get(url)\n",
        "    with open(text_file_path, \"w\") as f:\n",
        "        f.write(res.text)\n",
        "\n",
        "    !pip install -r requirements__Ch6_Text_Classification_DL.txt"
      ]
    },
    {
      "cell_type": "markdown",
      "metadata": {
        "id": "S_--320f-8Yi"
      },
      "source": [
        "Imports:"
      ]
    },
    {
      "cell_type": "code",
      "execution_count": null,
      "metadata": {
        "id": "E0zHJoN61Zu5"
      },
      "outputs": [],
      "source": [
        "import numpy as np\n",
        "import pandas as pd\n",
        "import matplotlib\n",
        "import scipy\n",
        "import re\n",
        "from datasets import load_dataset, Dataset\n",
        "\n",
        "from num2words import num2words\n",
        "import nltk; nltk.download('punkt'); nltk.download('stopwords'); nltk.download('wordnet')\n",
        "from nltk.corpus import stopwords\n",
        "from nltk.stem.porter import PorterStemmer\n",
        "from nltk.stem import WordNetLemmatizer\n",
        "from autocorrect import Speller\n",
        "\n",
        "# ML imports:\n",
        "from sklearn.feature_extraction.text import TfidfVectorizer,CountVectorizer\n",
        "from sklearn.model_selection import cross_val_score, GridSearchCV, StratifiedKFold\n",
        "import sklearn.linear_model as lm\n",
        "from sklearn.ensemble import RandomForestClassifier\n",
        "from sklearn.neighbors import KNeighborsClassifier\n",
        "from sklearn.svm import SVC\n",
        "from sklearn.tree import DecisionTreeClassifier\n",
        "from sklearn.metrics import classification_report\n",
        "from sklearn.metrics import confusion_matrix\n",
        "\n",
        "# DL imports:\n",
        "from transformers import AutoTokenizer, TrainingArguments, Trainer\n",
        "from torch.utils.data import DataLoader\n",
        "import evaluate"
      ]
    },
    {
      "cell_type": "code",
      "execution_count": null,
      "metadata": {
        "id": "4VieQ4VW9du4"
      },
      "outputs": [],
      "source": [
        "!pip install -Uq koreanize-matplotlib\n",
        "import koreanize_matplotlib"
      ]
    },
    {
      "cell_type": "markdown",
      "metadata": {
        "id": "Ql6clhha--CD"
      },
      "source": [
        "### 코드 설정"
      ]
    },
    {
      "cell_type": "code",
      "execution_count": null,
      "metadata": {
        "id": "02lniQAu-6ou"
      },
      "outputs": [],
      "source": [
        "# config_dict:\n",
        "# source_of_dataset: 데이터셋을 패키지에서 로드할지 URL에서 로드할지 결정 (이 노트북에서 사용되는 데이터셋의 경우 두 옵션 모두 가능)\n",
        "# json_url: 데이터셋의 .json 파일 URL\n",
        "# db_name: HuggingFace에서 원시 데이터를 보유한 데이터베이스 이름\n",
        "# do_preprocessing: 논리 값, 전처리를 수행할지 여부\n",
        "# do_enhanced_preprocessing: 논리 값, 고비용 전처리를 수행할지 여부\n",
        "# do_feature_eng: 논리 값, 특성 공학 수행 여부\n",
        "# maximize_a_priori: 논리 값, 단변량 초기 특성 선택을 사전(a priori) 통계 또는 사후(a postiori) 통계 기반으로 할지 여부\n",
        "# num_chosen_features_per_class: 정수형, 초기 특성 선택 시 클래스당 선택할 특성 개수\n",
        "# test_size: 0과 1 사이의 값, 테스트 데이터 비율\n",
        "# feature_eng_details: \"TfidfVectorizer\" (TF-IDF 기반 특성 공학) 또는 \"CountVectorizer\" (원-핫 인코딩) 중 하나 선택\n",
        "# seed: 정수형, 결과 재현성을 보장하기 위한 랜덤 시드 값\n",
        "config_dict = {'source_of_dataset': \"json\",\n",
        "               'json_url': \"https://huggingface.co/datasets/medalpaca/medical_meadow_health_advice/raw/main/medical_meadow_health_advice.json\",\n",
        "               'db_name': \"medalpaca/medical_meadow_health_advice\",\n",
        "               'do_preprocessing': True,\n",
        "               'do_enhanced_preprocessing': False,\n",
        "               'do_feature_eng': True,\n",
        "               'maximize_a_priori': False,\n",
        "               'num_chosen_features_per_class': 200,\n",
        "               'test_size': 0.25,\n",
        "               'feature_eng_details': \"CountVectorizer-binary\",\n",
        "               'ngram_range_min': 1,\n",
        "               'ngram_range_max': 3,\n",
        "               'max_features': 1000,\n",
        "               'seed': 0}\n",
        "\n",
        "# 딥러닝 학습 매개변수:\n",
        "# transformers.TrainingArguments에 대한 문서에서 입력 매개변수 설명을 참고하세요.\n",
        "lm_training_args = TrainingArguments(\n",
        "    output_dir=\"test_trainer\",\n",
        "    num_train_epochs=2,\n",
        "    per_device_train_batch_size=8,\n",
        "    learning_rate=2e-5,\n",
        "    evaluation_strategy=\"steps\",\n",
        "    logging_steps=100,\n",
        "    report_to=\"none\")\n",
        "\n",
        "layers_to_fine_tune = None\n",
        "\n",
        "pd.set_option('display.max_colwidth', None)\n",
        "pd.set_option('display.max_rows', None)\n"
      ]
    },
    {
      "cell_type": "markdown",
      "metadata": {
        "id": "3d6x7m9s_eh0"
      },
      "source": [
        "### 데이터 수집"
      ]
    },
    {
      "cell_type": "code",
      "execution_count": null,
      "metadata": {
        "id": "iJd1W79I4JmR"
      },
      "outputs": [],
      "source": [
        "# 데이터셋을 datasets 패키지를 통해 가져오거나 URL에서 직접 가져오기:\n",
        "if config_dict[\"source_of_dataset\"] == \"datasets package\":\n",
        "    # HuggingFace의 datasets 패키지를 사용하여 데이터셋 로드\n",
        "    dataset_raw = load_dataset(config_dict[\"db_name\"])\n",
        "    dataset_df = pd.DataFrame(dataset_raw[\"train\"])\n",
        "elif config_dict[\"source_of_dataset\"] == \"json\":\n",
        "    # json에 특정 파일 url 을 설정 했을 때:\n",
        "    dataset_df = pd.read_json(config_dict[\"json_url\"])"
      ]
    },
    {
      "cell_type": "markdown",
      "metadata": {
        "id": "utLjs7A60MSQ"
      },
      "source": [
        "### 데이터 처리"
      ]
    },
    {
      "cell_type": "code",
      "execution_count": null,
      "metadata": {
        "id": "LVrk7NItpMmv"
      },
      "outputs": [],
      "source": [
        "dataset_df[\"_label_\"] = dataset_df[\"output\"]\n",
        "dataset_df[\"text\"] = dataset_df[\"input\"]\n",
        "dataset_df = dataset_df[[\"text\", \"_label_\"]]"
      ]
    },
    {
      "cell_type": "markdown",
      "metadata": {
        "id": "gOo5mBx004k7"
      },
      "source": [
        "데이터 미리보기:  "
      ]
    },
    {
      "cell_type": "code",
      "execution_count": null,
      "metadata": {
        "id": "L5wF9r9A04uA"
      },
      "outputs": [],
      "source": [
        "dataset_df.head(4).style.set_properties(**{'text-align': 'left'})"
      ]
    },
    {
      "cell_type": "code",
      "execution_count": null,
      "metadata": {
        "id": "pZ7hseIDJbX0"
      },
      "outputs": [],
      "source": [
        "print(\"원래 레이블의 분포:\\n\")\n",
        "dataset_df[[\"_label_\"]].value_counts()"
      ]
    },
    {
      "cell_type": "markdown",
      "metadata": {
        "id": "uJIfEYzYzzC4"
      },
      "source": [
        "다중 클래스 분류 모델을 학습시켜 3개의 레이블을 모두 구분할 수도 있지만, 이를 이진 분류 문제로 단순화할 것입니다.  \n",
        "조언을 나타내는 두 개의 레이블을 하나로 합쳐 텍스트가 '조언인지 아닌지'를 판별하는 이진 결정 문제로 전환합니다.  \n",
        "따라서 레이블을 다음과 같이 재설정할 것입니다:\n",
        "\n",
        ">>\n",
        "레이블 0: **조언이 아님**  \n",
        "레이블 1: 조언임  \n",
        "\n",
        "이제 분류 문제는 이진 분류 문제가 됩니다.  "
      ]
    },
    {
      "cell_type": "markdown",
      "metadata": {
        "id": "AP7MrOXQ8Vas"
      },
      "source": [
        "#### 타겟 클래스 선택하기"
      ]
    },
    {
      "cell_type": "code",
      "execution_count": null,
      "metadata": {
        "id": "pbe_tsjmzzMX"
      },
      "outputs": [],
      "source": [
        "dataset_df_binary = dataset_df.copy()\n",
        "dataset_df_binary[\"_label_\"] = dataset_df[\"_label_\"].map({\"This is no advice\":0}).fillna(1).map(int)\n",
        "dataset_df_binary.head()"
      ]
    },
    {
      "cell_type": "code",
      "execution_count": null,
      "metadata": {
        "id": "atVRw5FFIMaJ"
      },
      "outputs": [],
      "source": [
        "print(\"새로운 레이블의 분포:\\n\")\n",
        "frequencies = dataset_df_binary[[\"_label_\"]].value_counts()\n",
        "frequencies"
      ]
    },
    {
      "cell_type": "markdown",
      "metadata": {
        "id": "hiil7tVKv8kx"
      },
      "source": [
        "가장 빈도가 높은 클래스를 식별합니다.  \n",
        "이는 이 데이터셋에 대한 기준 정확도(사전 확률)를 설정합니다:"
      ]
    },
    {
      "cell_type": "code",
      "execution_count": null,
      "metadata": {
        "id": "Bs1Tv68QW1pA"
      },
      "outputs": [],
      "source": [
        "most_frequent_class = frequencies.index[:][0][0]\n",
        "print(\"가장 빈도가 높은 클래스는:\", most_frequent_class)\n",
        "print(\"해당 클래스의 기준 정확도는:\", round((dataset_df_binary[\"_label_\"] == most_frequent_class).mean(), 3))"
      ]
    },
    {
      "cell_type": "markdown",
      "metadata": {
        "id": "w5KVvs7J_giZ"
      },
      "source": [
        "### 전처리"
      ]
    },
    {
      "cell_type": "markdown",
      "metadata": {
        "id": "RJm8NNust0H0"
      },
      "source": [
        "전처리 유틸리티 함수 정의:"
      ]
    },
    {
      "cell_type": "code",
      "execution_count": null,
      "metadata": {
        "id": "uNJaNvEYt0SM"
      },
      "outputs": [],
      "source": [
        "def digits_to_words(match):\n",
        "    \"\"\"\n",
        "    문자열 숫자를 영어 단어로 변환합니다. 이 함수는 기수(cardinal)와 서수(ordinal)를 구분합니다.\n",
        "    예: \"2\"는 \"two\"로, \"2nd\"는 \"second\"로 변환됩니다.\n",
        "\n",
        "    입력: str\n",
        "    출력: str\n",
        "    \"\"\"\n",
        "    suffixes = ['st', 'nd', 'rd', 'th']\n",
        "    # 문자열을 소문자로 변환하여 이전 작업에 의존하지 않도록 보장:\n",
        "    string = match[0].lower()\n",
        "    if string[-2:] in suffixes:\n",
        "        type = 'ordinal'\n",
        "        string = string[:-2]\n",
        "    else:\n",
        "        type = 'cardinal'\n",
        "\n",
        "    return num2words(string, to=type)\n",
        "\n",
        "\n",
        "def spelling_correction(text):\n",
        "    \"\"\"\n",
        "    잘못된 철자를 올바른 철자로 교정합니다.\n",
        "\n",
        "    입력: str\n",
        "    출력: str\n",
        "    \"\"\"\n",
        "    corrector = Speller()\n",
        "    spells = [corrector(word) for word in text.split()]\n",
        "    return \" \".join(spells)\n",
        "\n",
        "\n",
        "def remove_stop_words(text):\n",
        "    \"\"\"\n",
        "    불용어(stopwords)를 제거합니다.\n",
        "\n",
        "    입력: str\n",
        "    출력: str\n",
        "    \"\"\"\n",
        "    stopwords_set = set(stopwords.words('english'))\n",
        "    return \" \".join([word for word in text.split() if word not in stopwords_set])\n",
        "\n",
        "\n",
        "def stemming(text):\n",
        "    \"\"\"\n",
        "    각 단어에 대해 개별적으로 어간 추출(stemming)을 수행합니다.\n",
        "\n",
        "    입력: str\n",
        "    출력: str\n",
        "    \"\"\"\n",
        "    stemmer = PorterStemmer()\n",
        "    return \" \".join([stemmer.stem(word) for word in text.split()])\n",
        "\n",
        "\n",
        "def lemmatizing(text):\n",
        "    \"\"\"\n",
        "    각 단어에 대해 개별적으로 원형 복원(lemmatization)을 수행합니다.\n",
        "\n",
        "    입력: str\n",
        "    출력: str\n",
        "    \"\"\"\n",
        "    lemmatizer = WordNetLemmatizer()\n",
        "    return \" \".join([lemmatizer.lemmatize(word) for word in text.split()])\n",
        "\n",
        "\n",
        "def preprocessing(input_text):\n",
        "    \"\"\"\n",
        "    텍스트 전처리를 위한 전체 파이프라인을 수행하는 함수입니다.\n",
        "\n",
        "    입력: str\n",
        "    출력: str\n",
        "    \"\"\"\n",
        "    output = input_text\n",
        "    # 소문자로 변환:\n",
        "    output = output.lower()\n",
        "    # 숫자를 단어로 변환:\n",
        "    # 아래 정규 표현식은 숫자 뒤에 서수 접미사가 있을 가능성을 검색합니다:\n",
        "    output = re.sub(r'\\d+(st)?(nd)?(rd)?(th)?', digits_to_words, output, flags=re.IGNORECASE)\n",
        "    # 구두점 및 기타 특수 문자를 제거:\n",
        "    output = re.sub('[^ A-Za-z0-9]+', '', output)\n",
        "\n",
        "    if config_dict[\"do_enhanced_preprocessing\"]:\n",
        "        # 철자 교정:\n",
        "        output = spelling_correction(output)\n",
        "\n",
        "    # 불용어 제거:\n",
        "    output = remove_stop_words(output)\n",
        "\n",
        "    if config_dict[\"do_enhanced_preprocessing\"]:\n",
        "        # 어간 추출:\n",
        "        output = stemming(output)\n",
        "        # 원형 복원:\n",
        "        output = lemmatizing(output)\n",
        "\n",
        "    return output"
      ]
    },
    {
      "cell_type": "markdown",
      "metadata": {
        "id": "bgrWf0mEt0bm"
      },
      "source": [
        "전처리 수행:"
      ]
    },
    {
      "cell_type": "code",
      "execution_count": null,
      "metadata": {
        "id": "IEedfizM6FtZ"
      },
      "outputs": [],
      "source": [
        "dataset_clean = dataset_df_binary.copy()\n",
        "if config_dict[\"do_preprocessing\"]:\n",
        "    dataset_clean[\"text\"] = [preprocessing(text) for text in dataset_clean[\"text\"]]"
      ]
    },
    {
      "cell_type": "code",
      "execution_count": null,
      "metadata": {
        "id": "MSYLrwr7KREy"
      },
      "outputs": [],
      "source": [
        "dataset_clean[[\"text\", \"_label_\"]].head(10).style.set_properties(**{'text-align': 'left'})"
      ]
    },
    {
      "cell_type": "markdown",
      "metadata": {
        "id": "Ht259WodQFLK"
      },
      "source": [
        "## 초기 데이터 탐색\n",
        "\n",
        "모든 머신러닝 프로젝트는 데이터의 기본적인 탐색으로 시작해야 합니다.  \n",
        "주요 목표는 데이터의 특성을 이해하고, \"X\" 데이터(여기서는 입력 텍스트)와 원하는 값 \"Y\"(여기서는 조언으로 분류 여부) 사이에 연결고리가 있는지를 확인하는 것입니다.\n",
        "\n",
        "여기에서는 데이터의 가장 단순한 특성인 각 입력의 길이를 살펴보는 것으로 시작합니다.  \n",
        "이후에는 사용된 언어와 조언 레이블 간의 통계적 의존성을 탐구할 것입니다."
      ]
    },
    {
      "cell_type": "code",
      "execution_count": null,
      "metadata": {
        "id": "zbe9QF-lNnLs"
      },
      "outputs": [],
      "source": [
        "dataset_clean[\"length of text\"] = dataset_clean[\"text\"].map(len)\n",
        "ax = dataset_clean.plot.hist(column=[\"length of text\"], by=\"_label_\",\n",
        "                             bins=50, alpha=0.5, figsize=(10, 6),\n",
        "                             title=\"클래스별 문자열 길이 분포\",\n",
        "                             xlim=[0, 1000])"
      ]
    },
    {
      "cell_type": "markdown",
      "metadata": {
        "id": "HgDwJos4FgJK"
      },
      "source": [
        "## 특성공학"
      ]
    },
    {
      "cell_type": "code",
      "execution_count": null,
      "metadata": {
        "id": "vX9IFcHYFi7f"
      },
      "outputs": [],
      "source": [
        "def feat_eng_text_df(in_df, text_col, labels_col, config_dict):\n",
        "    # 특성 공학: CountVectorizer를 이용한 이진 인코딩 또는 Bag of Words 방식\n",
        "    if \"CountVectorizer-binary\" == config_dict[\"feature_eng_details\"]:\n",
        "        print(\"특성 공학 방식: 이진 인코딩 (원-핫 인코딩)\")\n",
        "        countvectorizer = CountVectorizer(ngram_range=(config_dict[\"ngram_range_min\"],\n",
        "                                                       config_dict[\"ngram_range_max\"]),\n",
        "                                          stop_words='english',\n",
        "                                          max_features=config_dict[\"max_features\"],\n",
        "                                          binary=True)\n",
        "\n",
        "    elif \"CountVectorizer-BOW\" == config_dict[\"feature_eng_details\"]:\n",
        "        print(\"특성 공학 방식: Bag of Words\")\n",
        "        countvectorizer = CountVectorizer(ngram_range=(config_dict[\"ngram_range_min\"],\n",
        "                                                       config_dict[\"ngram_range_max\"]),\n",
        "                                          stop_words='english',\n",
        "                                          max_features=config_dict[\"max_features\"],\n",
        "                                          binary=False)\n",
        "\n",
        "    # 입력 텍스트 데이터를 CountVectorizer로 변환\n",
        "    out_arr = countvectorizer.fit_transform(in_df[text_col])\n",
        "    count_tokens = countvectorizer.get_feature_names_out()\n",
        "    out_df = pd.DataFrame(data=out_arr.toarray(), columns=count_tokens)\n",
        "    out_df[labels_col] = list(in_df[labels_col])  # 레이블 컬럼 추가\n",
        "    return out_df\n",
        "\n",
        "\n",
        "if config_dict[\"do_feature_eng\"]:\n",
        "    # 특성 공학 수행\n",
        "    dataset_feat_eng = feat_eng_text_df(dataset_clean, 'text', '_label_', config_dict)\n",
        "else:\n",
        "    # 이 옵션은 지원되지 않아 노트북이 실행되지 않을 것입니다.\n",
        "    # 이 옵션은 가공된 특성이 아닌 텍스트를 직접 처리하는 딥러닝 언어 모델을 사용하는 머신러닝 파이프라인을 위해 여기에 포함되어 있습니다.\n",
        "    dataset_feat_eng = dataset_clean.copy()"
      ]
    },
    {
      "cell_type": "markdown",
      "metadata": {
        "id": "f_WMzIFM_i6A"
      },
      "source": [
        "## 생성된 수치형 특성 탐색"
      ]
    },
    {
      "cell_type": "code",
      "execution_count": null,
      "metadata": {
        "id": "Aqz7oNbE_328"
      },
      "outputs": [],
      "source": [
        "dataset_feat_eng.head()"
      ]
    },
    {
      "cell_type": "code",
      "execution_count": null,
      "metadata": {
        "id": "8ZPYzjltUZ3Q"
      },
      "outputs": [],
      "source": [
        "dataset_feat_eng.describe().loc[['min', 'max', 'mean']]"
      ]
    },
    {
      "cell_type": "markdown",
      "metadata": {
        "id": "Vf-JsLSKC-Vk"
      },
      "source": [
        "## Train/Test 데이터 세트 나누기"
      ]
    },
    {
      "cell_type": "code",
      "execution_count": null,
      "metadata": {
        "id": "RQzV5OeY6RaZ"
      },
      "outputs": [],
      "source": [
        "dataset_feat_eng_test = dataset_feat_eng.sample(frac=config_dict[\"test_size\"],random_state=config_dict['seed']).copy()\n",
        "dataset_feat_eng_train = dataset_feat_eng.drop(dataset_feat_eng_test.index).copy()\n",
        "dataset_feat_eng_test.shape, dataset_feat_eng_train.shape"
      ]
    },
    {
      "cell_type": "markdown",
      "metadata": {
        "id": "TfsphIcZFZEn"
      },
      "source": [
        "## 초기 통계 분석 및 타당성 조사\n",
        "\n",
        "이 과정은 머신러닝을 적용하기 전에 수행하는 초기 연구에서 가장 가치 있는 단계 중 하나입니다.  \n",
        "이 단계에서는 \"X\"와 \"Y\" 간의 관계를 측정하여 \"상관관계\"가 존재하는지 확인합니다.\n",
        "\n",
        "만약 X와 Y가 모두 수치 데이터이고 회귀 문제라면, X와 Y 간의 상관관계를 평가하여 선형 회귀 모델이 좋은 결과를 낼 가능성을 확인하는 것이 합리적일 것입니다.\n",
        "\n",
        "그러나 X와 Y 모두 본질적으로 수치 데이터가 아니므로, 두 변수 간의 **통계적 의존성**을 평가하여 모델이 탐지할 수 있는 \"신호\"가 존재하는지 판단하려고 합니다.  "
      ]
    },
    {
      "cell_type": "markdown",
      "metadata": {
        "id": "k-ZtgfrJ9nhl"
      },
      "source": [
        "계산:  \n",
        "**P(feature | class)**"
      ]
    },
    {
      "cell_type": "code",
      "execution_count": null,
      "metadata": {
        "id": "HPvdzu9utqMC"
      },
      "outputs": [],
      "source": [
        "# 클래스별 특성 통계:\n",
        "means_by_class = dataset_feat_eng_train.groupby(by=[\"_label_\"]).mean().T.sort_index()\n",
        "means_by_class.head()"
      ]
    },
    {
      "cell_type": "markdown",
      "metadata": {
        "id": "LINyT4DBAsf8"
      },
      "source": [
        "통계적 의존성을 반영하는 비율을 계산합니다:  \n",
        "**P(class, feature)/(P(class)P(feature))**  \n",
        "이것은 다음과 같이 다시 쓸 수 있습니다:  \n",
        "**P(class | feature)/P(class)**  \n",
        "또는 동등하게:  \n",
        "**P(feature | class)/P(feature)**  \n",
        "\n",
        "\\*참고:  \n",
        "아래 계산은 각 텍스트 항목의 수치적 특성이 **이진(binary)**인 경우에만 확률 측정으로 간주됩니다.  \n",
        "만약 Bag of Words(BOW)나 TF/IDF와 같은 다른 특성 방법을 사용한다면, 아래 값은 확률이 아니라 그 대략적인 값을 나타냅니다.  "
      ]
    },
    {
      "cell_type": "code",
      "execution_count": null,
      "metadata": {
        "collapsed": true,
        "id": "QwHZPJwuAssf",
        "jupyter": {
          "outputs_hidden": true
        }
      },
      "outputs": [],
      "source": [
        "P_class = sorted([[c, np.mean(dataset_feat_eng[\"_label_\"] == c)] for c in set(means_by_class.columns)])\n",
        "P_feature = sorted([[f, np.mean(dataset_feat_eng[f] > 0)] for f in dataset_feat_eng.columns if f != \"_label_\"])\n",
        "P_feature_inv = [[f, 1/p] for f, p in P_feature]\n",
        "\n",
        "P_class_arr = np.array(P_class)\n",
        "P_feature_arr = np.array(P_feature)\n",
        "P_feature_inv_arr = np.array(P_feature_inv)\n",
        "# 특성 확률의 \"열 벡터\"와 클래스 확률의 \"행 벡터\"를 곱하여\n",
        "# 각 요소가 확률의 곱으로 구성된 행렬을 생성합니다.\n",
        "P_class_prod_P_feature_inv_arr = np.outer(P_feature_inv_arr[:, 1].astype(float), P_class_arr[:, 1].astype(float))\n",
        "\n",
        "P_class_given_feature = means_by_class.copy()\n",
        "for feature_counter in range(len(P_class_given_feature)):\n",
        "  for c in P_class_given_feature.columns:\n",
        "    # Right hand side: P(feature | class) / P(feature)\n",
        "    P_class_given_feature[c][feature_counter] = means_by_class[c][feature_counter] / P_feature_arr[feature_counter, 1].astype(float)"
      ]
    },
    {
      "cell_type": "markdown",
      "metadata": {
        "id": "ipfL9o6XX8pE"
      },
      "source": [
        "**클래스 \"0\"을 가장 잘 나타내는 단어들:**"
      ]
    },
    {
      "cell_type": "code",
      "execution_count": null,
      "metadata": {
        "id": "bEl4iKwaX82G"
      },
      "outputs": [],
      "source": [
        "P_class_given_feature.sort_values([0], ascending=False).head(10)"
      ]
    },
    {
      "cell_type": "markdown",
      "metadata": {
        "id": "MaZFPdu0ZZgW"
      },
      "source": [
        "**클래스 \"1\"을 가장 잘 나타내는 단어들:**"
      ]
    },
    {
      "cell_type": "code",
      "execution_count": null,
      "metadata": {
        "id": "Hqyvb9KlZZyW"
      },
      "outputs": [],
      "source": [
        "P_class_given_feature.sort_values([1], ascending=False).head(10)"
      ]
    },
    {
      "cell_type": "markdown",
      "metadata": {
        "id": "YyHadLWYchW7"
      },
      "source": [
        "## 특성 선택\n",
        "\n",
        "이 과정은 단변량 특성 선택(univariate feature selection)입니다.  \n",
        "특성 값이 0/1일 때와 클래스 값이 0/1일 때의 조건부 의존성을 기반으로 하며, 특성의 평균 값이 해당 특성의 확률을 나타냅니다.  \n",
        "특성 선택 과정은 **훈련 데이터셋에서만** 수행된다는 점에 유의하세요.  "
      ]
    },
    {
      "cell_type": "markdown",
      "metadata": {
        "id": "glryYgkh9uGr"
      },
      "source": [
        "각 클래스에 대해 가장 특징적인 특성을 선택합니다.  \n",
        "다음 중 하나를 극대화합니다:  \n",
        "* 사전 확률 분포 $ P(\\text{feature} | \\text{class})$, 최대 가능도(Max Likelihood)  \n",
        "또는  \n",
        "* 사후 확률 $ P(\\text{class} | \\text{feature})$, 최대 사후 확률(MAP)  "
      ]
    },
    {
      "cell_type": "code",
      "execution_count": null,
      "metadata": {
        "id": "bTnI3Lpk95BU"
      },
      "outputs": [],
      "source": [
        "chosen_features = []\n",
        "if config_dict[\"maximize_a_priori\"] == True:\n",
        "  classes = means_by_class.columns\n",
        "  for c in classes:\n",
        "    chosen_features += list(means_by_class[c].sort_values(ascending=False).index[:config_dict[\"num_chosen_features_per_class\"] + 1])\n",
        "else:\n",
        "  classes = P_class_given_feature.columns\n",
        "  for c in classes:\n",
        "    chosen_features += list(P_class_given_feature[c].sort_values(ascending=False).index[:config_dict[\"num_chosen_features_per_class\"] + 1])\n",
        "\n",
        "\n",
        "chosen_features = list(set(chosen_features))"
      ]
    },
    {
      "cell_type": "code",
      "execution_count": null,
      "metadata": {
        "id": "QsRkvKXuAApE"
      },
      "outputs": [],
      "source": [
        "chosen_features[:20]"
      ]
    },
    {
      "cell_type": "markdown",
      "metadata": {
        "id": "vhgOQmjkBq78"
      },
      "source": [
        "### 선택된 특성만 남기기:  \n",
        "훈련 데이터를 기반으로 어떤 특성이 \"중요한지\"를 도출했으므로, 이 특성들을 훈련 데이터와 테스트 데이터 모두에 적용하여 선택합니다.  "
      ]
    },
    {
      "cell_type": "code",
      "execution_count": null,
      "metadata": {
        "id": "w4bY4gmWBrGe"
      },
      "outputs": [],
      "source": [
        "dataset_feat_eng_train_selected = dataset_feat_eng_train.filter(chosen_features + [\"_label_\"])\n",
        "dataset_feat_eng_test_selected = dataset_feat_eng_test.filter(chosen_features + [\"_label_\"])\n",
        "\n",
        "dataset_feat_eng_train_selected.head()"
      ]
    },
    {
      "cell_type": "code",
      "execution_count": null,
      "metadata": {
        "id": "5jiW-llRT4VK"
      },
      "outputs": [],
      "source": [
        "dataset_feat_eng_train_selected[\"_label_\"].value_counts()"
      ]
    },
    {
      "cell_type": "markdown",
      "metadata": {
        "id": "4JAQspmJCwfT"
      },
      "source": [
        "# 머신러닝"
      ]
    },
    {
      "cell_type": "code",
      "execution_count": null,
      "metadata": {
        "id": "QIVm-heY6AdA"
      },
      "outputs": [],
      "source": [
        "dataset_feat_eng_train_selected.head()"
      ]
    },
    {
      "cell_type": "markdown",
      "metadata": {
        "id": "ffIH343jLKRs"
      },
      "source": [
        "데이터셋에서 Y 레이블을 추출하고, 모델에 적합하도록 변수 유형을 변환합니다."
      ]
    },
    {
      "cell_type": "code",
      "execution_count": null,
      "metadata": {
        "id": "ox0X7mDgLKg1"
      },
      "outputs": [],
      "source": [
        "x_features_train = dataset_feat_eng_train_selected.values[:, 0:-1]\n",
        "y_labels_train = dataset_feat_eng_train_selected.values[:, -1]\n",
        "\n",
        "x_features_test = dataset_feat_eng_test_selected.values[:, :-1]\n",
        "y_labels_test = dataset_feat_eng_test_selected.values[:, -1]"
      ]
    },
    {
      "cell_type": "code",
      "execution_count": null,
      "metadata": {
        "id": "xP3y7-9XOpfj"
      },
      "outputs": [],
      "source": [
        "print(f\"x_features_train shape: {x_features_train.shape}\")\n",
        "print(f\"y_labels_train shape: {y_labels_train.shape}\")"
      ]
    },
    {
      "cell_type": "markdown",
      "metadata": {
        "id": "SDAccMSXDD7N"
      },
      "source": [
        "#### 머신러닝 모델 반복 실험  "
      ]
    },
    {
      "cell_type": "code",
      "execution_count": null,
      "metadata": {
        "id": "lJyaQVzyDETH"
      },
      "outputs": [],
      "source": [
        "models = []\n",
        "models.append((\"Random Forest\", RandomForestClassifier(random_state=config_dict['seed'])))\n",
        "models.append((\"LASSO\", lm.LogisticRegression(solver='liblinear', penalty='l1', max_iter=1000, random_state=config_dict['seed'])))\n",
        "models.append((\"KNN\", KNeighborsClassifier()))\n",
        "models.append((\"Decision Tree\", DecisionTreeClassifier(random_state=config_dict['seed'])))\n",
        "models.append((\"SVM\", SVC(gamma='auto', random_state=config_dict['seed'])))\n",
        "\n",
        "results = []\n",
        "names = []\n",
        "best_mean_result = 0\n",
        "best_std_result = 0\n",
        "for name, model in models:\n",
        "  kfold = StratifiedKFold()\n",
        "  cv_results = cross_val_score(model, X=x_features_train, y=y_labels_train, scoring='accuracy', cv=kfold)\n",
        "  results.append(cv_results)\n",
        "  names.append(name)\n",
        "  print(name + \": mean(accuracy)=\" + str(round(np.mean(cv_results), 3)) + \", std(accuracy)=\" + str(round(np.std(cv_results), 3)))\n",
        "  if (best_mean_result < np.mean(cv_results)) or \\\n",
        "    ((best_mean_result == np.mean(cv_results)) and (best_std_result > np.std(cv_results))):\n",
        "    best_mean_result = np.mean(cv_results)\n",
        "    best_std_result = np.std(cv_results)\n",
        "    best_model_name = name\n",
        "    best_model = model\n",
        "print(\"\\nBest model is:\\n\" + best_model_name)"
      ]
    },
    {
      "cell_type": "markdown",
      "metadata": {
        "id": "5HUN7jJE1IcP"
      },
      "source": [
        "검증 폴드별 결과 분포를 관찰합니다:"
      ]
    },
    {
      "cell_type": "code",
      "execution_count": null,
      "metadata": {
        "id": "sx1tB-Vw1IuI"
      },
      "outputs": [],
      "source": [
        "matplotlib.pyplot.boxplot(results, labels=names)\n",
        "matplotlib.pyplot.title(\"Models' results' distribution of accuracy\")\n",
        "matplotlib.pyplot.show()"
      ]
    },
    {
      "cell_type": "markdown",
      "metadata": {
        "id": "w6HrRE6U1YBS"
      },
      "source": [
        "### 선택한 모델 생성  "
      ]
    },
    {
      "cell_type": "markdown",
      "metadata": {
        "id": "oODOQLuOoFc2"
      },
      "source": [
        "하이퍼파라미터 최적화:"
      ]
    },
    {
      "cell_type": "code",
      "execution_count": null,
      "metadata": {
        "id": "PA6QOmgf1YQD"
      },
      "outputs": [],
      "source": [
        "model = lm.LogisticRegression(solver='liblinear', penalty='l1', max_iter=1000, random_state=config_dict['seed'])\n",
        "params = {\"C\": np.linspace(start=0.001, stop=10, num=20)}\n",
        "grid_search = GridSearchCV(model, params, scoring='accuracy')\n",
        "grid_search.fit(x_features_train, y_labels_train)\n",
        "print(\"최적의 하이퍼파라미터 'C' 값은:\", grid_search.best_params_[\"C\"])\n"
      ]
    },
    {
      "cell_type": "markdown",
      "metadata": {
        "id": "DjK2e9GaoO34"
      },
      "source": [
        "Fit the optimized model to the training set:"
      ]
    },
    {
      "cell_type": "code",
      "execution_count": null,
      "metadata": {
        "id": "KC8baVMOoPHk"
      },
      "outputs": [],
      "source": [
        "model = lm.LogisticRegression(C=grid_search.best_params_[\"C\"], max_iter=1000, random_state=config_dict['seed'])\n",
        "model.fit(x_features_train, y_labels_train)"
      ]
    },
    {
      "cell_type": "markdown",
      "metadata": {
        "id": "ZinbMBQb8t5D"
      },
      "source": [
        "### Generate the ML train results: Use for Design Choices"
      ]
    },
    {
      "cell_type": "code",
      "execution_count": null,
      "metadata": {
        "id": "J1A1nr-kSS0q"
      },
      "outputs": [],
      "source": [
        "y_train_estimated = model.predict(x_features_train)\n",
        "accuracy_train = np.mean(y_train_estimated == y_labels_train)\n",
        "baseline_accuracy_train = np.mean(0 == y_labels_train)\n",
        "accuracy_lift_train = 100 * (accuracy_train/baseline_accuracy_train - 1)\n",
        "\n",
        "print(\"전통적인 머신러닝 훈련 세트 결과:\\n-------------------------\")\n",
        "print(\"기준 모델(더미 분류기) 정확도:\", round(baseline_accuracy_train, 2))\n",
        "print(\"현재 모델의 정확도:\", round(accuracy_train, 2))\n",
        "print(\"정확도 향상은:\", round(accuracy_lift_train), \"%\")"
      ]
    },
    {
      "cell_type": "markdown",
      "metadata": {
        "id": "VRSrEo2j8y0P"
      },
      "source": [
        "### 머신러닝 테스트 결과 생성: 성능 발표에 활용"
      ]
    },
    {
      "cell_type": "code",
      "execution_count": null,
      "metadata": {
        "id": "msAAgYoBSiK3"
      },
      "outputs": [],
      "source": [
        "y_test_estimated = model.predict(x_features_test)\n",
        "accuracy_test = np.mean(y_test_estimated == y_labels_test)\n",
        "baseline_accuracy_test = np.mean(0 == y_labels_test)\n",
        "accuracy_lift = 100 * (accuracy_test/baseline_accuracy_test - 1)\n",
        "\n",
        "print(\"전통적인 ML 모델의 테스트 세트 결과:\\n-------------------------\")\n",
        "print(\"기준선(더미 분류기) 정확도:\", round(baseline_accuracy_test, 2))\n",
        "print(\"현재 모델의 정확도:\", round(accuracy_test, 2))\n",
        "print(\"정확도 향상률:\", round(accuracy_lift), \"%\")\n",
        "\n",
        "print(\"\\n혼동 행렬:\")\n",
        "print(confusion_matrix(y_labels_test, y_test_estimated))\n",
        "print(\"\\n분류 보고서:\")\n",
        "print(classification_report(y_labels_test, y_test_estimated))"
      ]
    },
    {
      "cell_type": "markdown",
      "metadata": {
        "id": "s874Gqsa6XBi"
      },
      "source": [
        "****\n",
        "# 딥러닝  \n",
        "BERT 언어 모델을 텍스트 분류에 적용하기"
      ]
    },
    {
      "cell_type": "markdown",
      "metadata": {
        "id": "6MYOOQ1gS2n2"
      },
      "source": [
        "## 데이터 형식 조정하기\n",
        "\n",
        "레이블 열의 이름 조정:  \n",
        "Transformers 패키지의 설계상 데이터셋의 레이블 열 이름이 정확히 `label`이어야 합니다.  \n",
        "\n",
        "이 노트북의 앞부분에서 전통적인 머신러닝 작업을 수행할 때는, 자연어가 **아닌** 열 이름을 선택해야 했습니다. 이는 특성 엔지니어링을 수행할 때 각 단어/N-gram에 해당하는 열이 그 이름으로 생성되기 때문입니다. 만약 \"label\"이라는 단어가 텍스트에 있다면, 데이터프레임에 `label`이라는 열이 생성될 수 있고, 이는 레이블 열의 이름과 **충돌**하게 됩니다.  \n",
        "\n",
        "이제는 그러한 위험이 없으며, Transformers의 요구사항을 따라야 합니다:"
      ]
    },
    {
      "cell_type": "code",
      "execution_count": null,
      "metadata": {
        "id": "VhT0emfy1rgP"
      },
      "outputs": [],
      "source": [
        "df = dataset_df_binary.copy()\n",
        "dataset_df_binary = dataset_df_binary.rename(columns={\"_label_\":\"label\"})"
      ]
    },
    {
      "cell_type": "markdown",
      "metadata": {
        "id": "ZfY-cQ-nJGPs"
      },
      "source": [
        "토크나이저와 사전 학습된 언어 모델 불러오기:"
      ]
    },
    {
      "cell_type": "code",
      "execution_count": null,
      "metadata": {
        "id": "WCCvrZYiJGPs"
      },
      "outputs": [],
      "source": [
        "labels = list(dataset_df_binary[\"label\"].unique())\n",
        "\n",
        "from transformers import AutoTokenizer, AutoModelForSequenceClassification\n",
        "tokenizer = AutoTokenizer.from_pretrained(\"bert-base-uncased\")\n",
        "language_model = AutoModelForSequenceClassification.from_pretrained(\"bert-base-uncased\", num_labels=len(labels))"
      ]
    },
    {
      "cell_type": "markdown",
      "metadata": {
        "id": "XYECTcgS6XlH"
      },
      "source": [
        ">>\n",
        "이전 셀은 다음과 같은 경고를 출력할 것입니다:  \n",
        "`Some weights of the model checkpoint at bert-base-uncased were not used when initializing...`  \n",
        "\n",
        ">>\n",
        "이것은 예상된 결과입니다. 기존 모델에서 사전 학습된 분류 헤드(마지막 신경망 층)를 제거하고 새로운 초기화된 층으로 교체했기 때문입니다. 이는 의도한 대로입니다. 이제 우리는 이 분류 헤드를 우리의 데이터셋에 맞게 학습시킬 수 있으며, 필요한 경우 다른 층들도 미세 조정할 수 있습니다."
      ]
    },
    {
      "cell_type": "code",
      "execution_count": null,
      "metadata": {
        "id": "s5TAnpQy8ww6"
      },
      "outputs": [],
      "source": [
        "print(f\"모델의 토큰 어휘 사전 크기: {language_model.config.vocab_size}\")"
      ]
    },
    {
      "cell_type": "markdown",
      "metadata": {
        "id": "_VSj4AUH3el6"
      },
      "source": [
        "데이터셋을 세 개의 하위 집합으로 분할:  \n",
        "1. 별도로 보관된 테스트 세트  \n",
        "2. 두 개로 나뉜 학습 세트:  \n",
        "   2.1 신경망의 파라미터 학습에 사용되는 하위 집합  \n",
        "   2.2 학습 진행 상황을 평가하는 데 사용되는 하위 집합  "
      ]
    },
    {
      "cell_type": "code",
      "execution_count": null,
      "metadata": {
        "id": "EJQx35vq3Wkt"
      },
      "outputs": [],
      "source": [
        "# 학습 세트와 테스트 세트 생성\n",
        "test_df = dataset_df_binary.sample(frac=config_dict['test_size'], random_state=config_dict['seed'])\n",
        "train_df = dataset_df_binary.drop(test_df.index)\n",
        "\n",
        "# 학습 세트를 학습용과 학습 평가용으로 분할:\n",
        "train_eval_df = train_df.sample(frac=config_dict['test_size'], random_state=config_dict['seed'])\n",
        "train_train_df = train_df.drop(train_eval_df.index)\n",
        "\n",
        "# Transformers 패키지의 요구사항에 따라 데이터프레임을 Dataset 형식으로 변환:\n",
        "dataset_train_train = Dataset.from_pandas(train_train_df)\n",
        "dataset_train_eval = Dataset.from_pandas(train_eval_df)\n",
        "dataset_test = Dataset.from_pandas(test_df)"
      ]
    },
    {
      "cell_type": "markdown",
      "metadata": {
        "id": "rI25Mza34Qut"
      },
      "source": [
        "언어 모델이 텍스트를 처리하기 위해서는 토큰화가 필요합니다:"
      ]
    },
    {
      "cell_type": "code",
      "execution_count": null,
      "metadata": {
        "id": "4WfTVCYm4Q6V"
      },
      "outputs": [],
      "source": [
        "def tokenize_function(examples):\n",
        "    return tokenizer(examples[\"text\"], padding=\"max_length\", truncation=True)\n",
        "\n",
        "train_train_tokenized = dataset_train_train.map(tokenize_function, batched=True)\n",
        "train_eval_tokenized = dataset_train_eval.map(tokenize_function, batched=True)\n",
        "test_tokenized = dataset_test.map(tokenize_function, batched=True)"
      ]
    },
    {
      "cell_type": "markdown",
      "metadata": {
        "id": "r05gJRSqJGPu"
      },
      "source": [
        "<a id='trainer'></a>"
      ]
    },
    {
      "cell_type": "markdown",
      "metadata": {
        "id": "2ijS9JahJGPv"
      },
      "source": [
        "## 언어 모델 훈련\n",
        "\n"
      ]
    },
    {
      "cell_type": "markdown",
      "metadata": {
        "id": "7gFV8yDTJGPv"
      },
      "source": [
        "우리는 사전 학습된 언어 모델을 `transformers`의 [Trainer](https://huggingface.co/docs/transformers/main/en/main_classes/trainer#transformers.Trainer)를 통해 미세 조정합니다.  "
      ]
    },
    {
      "cell_type": "markdown",
      "metadata": {
        "id": "xL_AepCYGi19"
      },
      "source": [
        "### 미세 조정할 신경망 층 선택하기"
      ]
    },
    {
      "cell_type": "code",
      "execution_count": null,
      "metadata": {
        "id": "umQ7F-mvGjAl"
      },
      "outputs": [],
      "source": [
        "if layers_to_fine_tune == \"head\":\n",
        "    print(\"분류 헤드만 미세 조정합니다!\")\n",
        "    language_model.train()\n",
        "    for name, param in language_model.named_parameters():\n",
        "        # 분류 헤드를 제외한 모든 계층의 파라미터를 고정:\n",
        "        if 'classifier' not in name:\n",
        "            param.requires_grad = False\n",
        "else:\n",
        "    print(\"전체 신경망을 미세 조정합니다!\")"
      ]
    },
    {
      "cell_type": "markdown",
      "metadata": {
        "id": "ZWADrXqRJGPw"
      },
      "source": [
        "### 학습 하이퍼파라미터"
      ]
    },
    {
      "cell_type": "markdown",
      "metadata": {
        "id": "K7jPvmmVJGPw"
      },
      "source": [
        "다음은 모델 학습을 위한 설정입니다:"
      ]
    },
    {
      "cell_type": "markdown",
      "metadata": {
        "id": "xI5pi9fnJGPw"
      },
      "source": [
        "### 평가 지표"
      ]
    },
    {
      "cell_type": "markdown",
      "metadata": {
        "id": "GFGxObdeJGPx"
      },
      "source": [
        "언어 모델 미세 조정을 위한 평가 지표 정의:"
      ]
    },
    {
      "cell_type": "code",
      "execution_count": null,
      "metadata": {
        "id": "3tFbTVfpJGPx"
      },
      "outputs": [],
      "source": [
        "metric = evaluate.load(\"accuracy\")"
      ]
    },
    {
      "cell_type": "markdown",
      "metadata": {
        "id": "Q3A9_OZtJGPx"
      },
      "source": [
        "트레이너가 활용할 평가 함수 설정:"
      ]
    },
    {
      "cell_type": "code",
      "execution_count": null,
      "metadata": {
        "id": "xUPhu4n_JGPx"
      },
      "outputs": [],
      "source": [
        "def compute_metrics(eval_pred):\n",
        "    logits, labels = eval_pred\n",
        "    # 모델은 각 관찰값에 대해 두 개의 로짓 값 쌍을 반환합니다.\n",
        "    # 이 두 로짓 값은 각각 클래스에 대한 가능성을 나타내므로,\n",
        "    # 이를 분류 값으로 변환해야 합니다.\n",
        "    predictions = np.argmax(logits, axis=-1)\n",
        "    return metric.compute(predictions=predictions, references=labels)"
      ]
    },
    {
      "cell_type": "markdown",
      "metadata": {
        "id": "_bowLe51JGPy"
      },
      "source": [
        "### 트레이너 객체"
      ]
    },
    {
      "cell_type": "code",
      "execution_count": null,
      "metadata": {
        "id": "SGEfjqqWJGPy"
      },
      "outputs": [],
      "source": [
        "trainer = Trainer(\n",
        "    model=language_model,\n",
        "    args=lm_training_args,\n",
        "    train_dataset=train_train_tokenized,\n",
        "    eval_dataset=train_eval_tokenized,\n",
        "    compute_metrics=compute_metrics,\n",
        ")"
      ]
    },
    {
      "cell_type": "markdown",
      "metadata": {
        "id": "49tZDZCv8-yT"
      },
      "source": [
        "### 미세 조정"
      ]
    },
    {
      "cell_type": "code",
      "execution_count": null,
      "metadata": {
        "colab": {
          "background_save": true
        },
        "id": "rFChSNaqJGPz"
      },
      "outputs": [],
      "source": [
        "trainer.train()"
      ]
    },
    {
      "cell_type": "markdown",
      "metadata": {
        "id": "vV1wOxvzAdKh"
      },
      "source": [
        "학습 로그를 플로팅을 위한 데이터프레임으로 변환:"
      ]
    },
    {
      "cell_type": "code",
      "execution_count": null,
      "metadata": {
        "id": "QgNw76aIAvh-"
      },
      "outputs": [],
      "source": [
        "training_logs_df = pd.DataFrame(trainer.state.log_history).groupby(\"step\", as_index=False).first()"
      ]
    },
    {
      "cell_type": "code",
      "execution_count": null,
      "metadata": {
        "id": "3QCwRW8bAdY7"
      },
      "outputs": [],
      "source": [
        "import matplotlib.pyplot as plt\n",
        "\n",
        "# 학습 진행에 따른 성능 관찰\n",
        "training_logs_df.plot(x=\"epoch\", y=[\"loss\", \"eval_loss\"])\n",
        "plt.title('학습 진행에 따른 성능 관찰')\n",
        "plt.legend(['훈련 손실', '검증 손실'], loc='upper right')\n",
        "plt.show()"
      ]
    },
    {
      "cell_type": "markdown",
      "metadata": {
        "id": "HUYiyvA0-TMd"
      },
      "source": [
        "참고로,  \n",
        "다음은 5 에포크로 실행했을 때의 곡선입니다:  \n",
        "![image.png](data:image/png;base64,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)"
      ]
    },
    {
      "cell_type": "markdown",
      "metadata": {
        "id": "F4Dl1Ucg9bLO"
      },
      "source": [
        "### 학습 기간에 대한 결론  \n",
        "\n",
        "보시다시피, 평가 세트의 결과에 따르면 학습 시간을 절반으로 줄이고 두 번의 에포크 대신 **한 번의 에포크**만 사용하는 것이 더 나을 수 있습니다.  \n",
        "두 에포크를 선택한 이유는 이를 직접 확인할 수 있도록 하기 위함입니다. 첫 번째 에포크 이후 모델이 학습 세트에 과적합되기 시작하여 정확도가 떨어지고 가치가 감소하는 것으로 보입니다.  \n",
        "두 에포크 이상의 결과도 검토해볼 것을 권장합니다.  "
      ]
    },
    {
      "cell_type": "markdown",
      "metadata": {
        "id": "L4eRP4Nm-Amg"
      },
      "source": [
        "### 딥러닝 훈련 결과 생성: 설계 선택에 활용"
      ]
    },
    {
      "cell_type": "code",
      "execution_count": null,
      "metadata": {
        "id": "Vf7JR3mbYjKd"
      },
      "outputs": [],
      "source": [
        "results_train_train = trainer.predict(train_train_tokenized)#\n",
        "predictions_train_train = np.argmax(results_train_train[0], axis=-1)\n",
        "\n",
        "accuracy_dl_train = np.mean(predictions_train_train == train_train_df[\"label\"])\n",
        "baseline_accuracy_dl_train = np.mean(most_frequent_class == train_train_df[\"label\"])\n",
        "accuracy_dl_lift_train = 100 * (accuracy_dl_train/baseline_accuracy_dl_train - 1)\n",
        "\n",
        "print(\"딥러닝 언어 모델의 훈련 세트 결과:\\n-------------------------------------------\")\n",
        "print(\"기준 모델(더미 분류기) 정확도:\", round(baseline_accuracy_dl_train, 2))\n",
        "print(\"현재 모델의 정확도:\", round(accuracy_dl_train, 2))\n",
        "print(\"정확도 향상은:\", round(accuracy_dl_lift_train), \"%\")"
      ]
    },
    {
      "cell_type": "markdown",
      "metadata": {
        "id": "Kx4OosWO-Rj4"
      },
      "source": [
        "### Generate the DL test results: Use for presenting performance"
      ]
    },
    {
      "cell_type": "code",
      "execution_count": null,
      "metadata": {
        "id": "KANVFwsKvn2d"
      },
      "outputs": [],
      "source": [
        "results_test = trainer.predict(test_tokenized)\n",
        "predictions_test = np.argmax(results_test[0], axis=-1)\n",
        "\n",
        "accuracy_dl_test = np.mean(predictions_test == test_df[\"label\"])\n",
        "baseline_accuracy_dl_test = np.mean(most_frequent_class == test_df[\"label\"])\n",
        "accuracy_dl_lift = 100 * (accuracy_dl_test/baseline_accuracy_dl_test - 1)\n",
        "\n",
        "print(\"딥러닝 언어 모델의 테스트 세트 결과:\\n---------------------------------------------------\")\n",
        "print(\"기준 모델(더미 분류기) 정확도:\", round(baseline_accuracy_dl_test, 2))\n",
        "print(\"현재 모델의 정확도:\", round(accuracy_dl_test, 2))\n",
        "print(\"정확도 향상은:\", round(accuracy_dl_lift), \"%\")\n",
        "\n",
        "print(\"\\n혼동 행렬(Confusion Matrix):\")\n",
        "print(confusion_matrix(test_df[\"label\"], predictions_test))\n",
        "print(\"\\n분류 보고서(Classification Report):\")\n",
        "print(classification_report(test_df[\"label\"], predictions_test))"
      ]
    },
    {
      "cell_type": "markdown",
      "metadata": {
        "id": "K5UfgvaxJGPz"
      },
      "source": [
        "<a id='pytorch_native'></a>"
      ]
    }
  ],
  "metadata": {
    "accelerator": "GPU",
    "colab": {
      "provenance": []
    },
    "gpuClass": "standard",
    "kernelspec": {
      "display_name": "Python 3 (ipykernel)",
      "language": "python",
      "name": "python3"
    },
    "language_info": {
      "codemirror_mode": {
        "name": "ipython",
        "version": 3
      },
      "file_extension": ".py",
      "mimetype": "text/x-python",
      "name": "python",
      "nbconvert_exporter": "python",
      "pygments_lexer": "ipython3",
      "version": "3.11.4"
    }
  },
  "nbformat": 4,
  "nbformat_minor": 0
}