{
  "cells": [
    {
      "cell_type": "markdown",
      "metadata": {
        "id": "K9spKTF-L5Wc"
      },
      "source": [
        "# 대규모 언어 모델의 잠재력을 끌어내는 RAG 활용법\n",
        "## **랭체인** 구성과 파이프라인 설정하기\n",
        "<img src='https://raw.githubusercontent.com/corazzon/Mastering-NLP-from-Foundations-to-LLMs/refs/heads/main/cover.png'\n",
        "     alt=\"NLP와 LLM 실전 가이드(한빛미디어)\"\n",
        "     style=\"border: 3px solid gray; box-shadow: 5px 5px 15px rgba(0, 0, 0, 0.3); border-radius: 10px; width: 300px;\"   width='300'>\n",
        "\n",
        "* 저자:  \n",
        "    - [Lior Gazit](https://www.linkedin.com/in/liorgazit).  \n",
        "    - [Meysam Ghaffari](https://www.linkedin.com/in/meysam-ghaffari-ph-d-a2553088/).\n",
        "* 역자:\n",
        "    - [박조은](https://github.com/corazzon)\n",
        "* 이 노트북은 다음의 책에서 소개하는 내용입니다.\n",
        "    - 역서 : NLP와 LLM 실전 가이드(한빛미디어)\n",
        "    - 원서 : [Mastering NLP from Foundations to LLMs](https://www.amazon.com/dp/1804619183)"
      ]
    },
    {
      "cell_type": "markdown",
      "metadata": {
        "id": "Dpep5R_NMO84"
      },
      "source": [
        "colab 실습 :\n",
        "https://github.com/corazzon/Mastering-NLP-from-Foundations-to-LLMs\n",
        "\n",
        "[![Open In Colab](https://colab.research.google.com/assets/colab-badge.svg)](https://colab.research.google.com/github/corazzon/Mastering-NLP-from-Foundations-to-LLMs/blob/main/Chapter8_notebooks/Ch8_Setting_Up_LangChain_Configurations_and_Pipeline.ipynb)  \n",
        "\n",
        "\n",
        "원서 Colab 실습 :\n",
        "https://github.com/PacktPublishing/Mastering-NLP-from-Foundations-to-LLMs   \n",
        "\n",
        "\n",
        "<a target=\"_blank\" href=\"https://colab.research.google.com/github/PacktPublishing/Mastering-NLP-from-Foundations-to-LLMs/blob/liors_branch/Chapter8_notebooks/Ch8_Setting_Up_LangChain_Configurations_and_Pipeline.ipynb\">\n",
        "  <img src=\"https://colab.research.google.com/assets/colab-badge.svg\" alt=\"Open In Colab\"/>\n",
        "</a>"
      ]
    },
    {
      "cell_type": "markdown",
      "metadata": {
        "id": "_O6mghyBdyHh"
      },
      "source": [
        "**이 노트북의 목적:**  \n",
        "이 노트북은 **LangChain**을 사용한 의미 검색 파이프라인 구축에 중점을 둡니다.  \n",
        "의사가 환자 기록을 검색하고 다음과 같은 질문을 통해 환자를 찾을 수 있는 방법을 보여줍니다:  \n",
        "\n",
        "`\"최근에 여행을 다녀 온 환자는 누구입니까?\"`  \n",
        "\n",
        "의사의 진료 기록에서 내부 검색이 가능하도록 **임베딩**과 이를 **벡터 데이터베이스**에 저장하는 완전한 **RAG** 파이프라인을 구성합니다.  \n",
        "LLM 없이 유사도 검색에만 기반한 이러한 파이프라인이 최적화되지 않았음을 보여줍니다.  \n",
        "다음 노트북에서는 LLM을 통합하여 검색을 향상시키는 방법을 다룹니다:  \n",
        "**Ch9_Advanced_LangChain_Configurations_and_Pipeline.ipynb**\n",
        "\n",
        "**요구사항:**  \n",
        "* Google Colab에서 실행 시, 다음 런타임 노트북 설정을 사용하세요: `Python3, CPU`"
      ]
    },
    {
      "cell_type": "markdown",
      "metadata": {
        "id": "g54Uf66Vz9Fi"
      },
      "source": [
        ">*```면책사항: 이 노트북에서 다루는 내용과 아이디어는 저자들 개인의 것이며, 저자들의 고용주의 견해나 지적 재산을 대변하지 않습니다.```*"
      ]
    },
    {
      "cell_type": "markdown",
      "metadata": {
        "id": "wc4H7Oz-TKQQ"
      },
      "source": [
        "설정:"
      ]
    },
    {
      "cell_type": "code",
      "execution_count": 1,
      "metadata": {
        "id": "G_6RT4wMTKQQ"
      },
      "outputs": [],
      "source": [
        "# 주의사항:\n",
        "# 아래 코드에서 Python 패키지 불일치로 인한 오류가 발생하는 경우, 새로운 버전이 원인일 수 있습니다.\n",
        "# 이런 경우, \"default_installations\"를 False로 설정하여 원래 이미지로 되돌리세요:\n",
        "default_installations = True\n",
        "if default_installations:\n",
        "    !pip -q install langchain langchain-community\n",
        "    !pip -q install sentence_transformers\n",
        "    !pip -q install faiss-cpu\n",
        "else:\n",
        "    import requests\n",
        "    text_file_path = \"requirements__Ch8_Setting_Up_LangChain_Configurations_and_Pipeline.txt\"\n",
        "    url = \"https://raw.githubusercontent.com/PacktPublishing/Mastering-NLP-from-Foundations-to-LLMs/main/Chapter8_notebooks/\" + text_file_path\n",
        "    res = requests.get(url)\n",
        "    with open(text_file_path, \"w\") as f:\n",
        "        f.write(res.text)\n",
        "\n",
        "    !pip install -r requirements__Ch8_Setting_Up_LangChain_Configurations_and_Pipeline.txt"
      ]
    },
    {
      "cell_type": "markdown",
      "metadata": {
        "id": "yACZPlFPTKQR"
      },
      "source": [
        "<img src=\"https://cdn.prod.website-files.com/65b8cd72835ceeacd4449a53/65cd1db3881d5c33613395b6_Build%20Your%20App.webp\" width=\"500\">\n",
        "\n",
        "<img src=\"https://python.langchain.com/assets/images/rag_indexing-8160f90a90a33253d0154659cf7d453f.png\">\n",
        "\n",
        "<img src=\"https://python.langchain.com/assets/images/rag_retrieval_generation-1046a4668d6bb08786ef73c56d4f228a.png\">\n",
        "\n",
        "이미지 출처 : https://python.langchain.com/docs/tutorials/rag/\n",
        "\n",
        "\n",
        "Imports:"
      ]
    },
    {
      "cell_type": "code",
      "execution_count": 2,
      "metadata": {
        "id": "WmDcVqb_TKQb"
      },
      "outputs": [],
      "source": [
        "import requests\n",
        "from langchain.document_loaders import TextLoader\n",
        "import textwrap\n",
        "from langchain.text_splitter import CharacterTextSplitter\n",
        "from langchain.embeddings import HuggingFaceEmbeddings\n",
        "from langchain.vectorstores import FAISS"
      ]
    },
    {
      "cell_type": "markdown",
      "metadata": {
        "id": "HWH_36ZfdcNC"
      },
      "source": [
        "코드 설정:"
      ]
    },
    {
      "cell_type": "markdown",
      "metadata": {
        "id": "hALLW9fyXWqu"
      },
      "source": [
        "### 가상 진료 기록이 담긴 텍스트 파일 불러오기\n",
        "이 파일들은 우리가 활용하고자 하는 정보를 담고 있습니다.  \n",
        "이번 예제에서는 로딩을 간단하고 빠르게 하기 위해 모든 가상 보고서를 하나의 CSV 테이블로 합쳤습니다."
      ]
    },
    {
      "cell_type": "markdown",
      "metadata": {
        "id": "nIra6BDM7Vvb"
      },
      "source": [
        "#### 원서 내용"
      ]
    },
    {
      "cell_type": "code",
      "execution_count": 3,
      "metadata": {
        "id": "j9lr1BOMXTVr"
      },
      "outputs": [],
      "source": [
        "text_file_path = \"mocked_up_physician_records.csv\"\n",
        "url = \"https://raw.githubusercontent.com/PacktPublishing/Mastering-NLP-from-Foundations-to-LLMs/main/Chapter8_notebooks/\" + text_file_path\n",
        "res = requests.get(url)\n",
        "with open(text_file_path, \"w\") as f:\n",
        "    f.write(res.text)"
      ]
    },
    {
      "cell_type": "code",
      "execution_count": 4,
      "metadata": {
        "colab": {
          "base_uri": "https://localhost:8080/"
        },
        "id": "riyBPwlW7Vvc",
        "outputId": "63a5a0f3-1de2-44a5-df83-4b651bc08d19"
      },
      "outputs": [
        {
          "output_type": "stream",
          "name": "stdout",
          "text": [
            "\"Title: Mocked up record\n",
            "Physician Name: Dr. ABC\n",
            "Date: June 25, 2099\n",
            "Patient ID: 987654321\n",
            "Chief Complaint: Abdominal pain\n",
            "\n",
            "History of Present Illness:\n",
            "The patient, Mr. John Anderson, a 42-year-old male, presents today with a chief complaint of abdominal pain. He is married and resides with his wife and two children. Mr. Anderson recently returned from a business trip to Europe about two weeks ago. He denies any respiratory symptoms or exposure to sick individuals during his travel.\n",
            "\n",
            "During the evaluation, Mr. Anderson revealed a pertinent family history of cardiovascular disease, with his father having suffered a myocardial infarction in his 60s. He also reports that his maternal grandmother had type 2 diabetes. Mr. Anderson denies any personal history of chronic illnesses, surgeries, or hospitalizations.\n",
            "\n",
            "Regarding his chief complaint, Mr. Anderson describes the abdominal pain as a dull, intermittent ache located in the lower right quadrant. He rates the pain as 5 out of 10 in severity. The pain is exacerbated by physical activity and seems to worsen after meals. He denies any associated symptoms such as nausea, vomiting, or changes in bowel movements.\n",
            "\n",
            "Based on the information provided, further assessment and diagnostic tests will be performed to determine the underlying cause of Mr. Anderson's abdominal pain.\"\n",
            "\"Title: Mocked up record\n",
            "Physician Name: Dr. ABC\n",
            "Date: November 15, 2099\n",
            "Patient ID: 123456789\n",
            "Chief Complaint: Fatigue and joint pain\n",
            "\n",
            "History of Present Illness:\n",
            "The patient, Ms. Sarah Thompson, a 57-year-old female, presents today with complaints of fatigue and joint pain. Ms. Thompson is widowed and lives alone. She has no recent history of travel outside the country.\n",
            "\n",
            "During the evaluation, Ms. Thompson reveals a pertinent family history of autoimmune diseases, with her sister being diagnosed with rheumatoid arthritis. She also reports a personal history of hypothyroidism, which is being managed with thyroid hormone replacement therapy.\n",
            "\n",
            "Regarding her\n"
          ]
        }
      ],
      "source": [
        "print(res.text[:2000])"
      ]
    },
    {
      "cell_type": "markdown",
      "metadata": {
        "id": "FOiuuyD_7Vvc"
      },
      "source": [
        "### 한국어 버전"
      ]
    },
    {
      "cell_type": "code",
      "execution_count": 5,
      "metadata": {
        "id": "Zsw4OpqU7Vvc"
      },
      "outputs": [],
      "source": [
        "text_file_path = \"mocked_up_physician_records_ko.csv\"\n",
        "url = \"https://raw.githubusercontent.com/corazzon/Mastering-NLP-from-Foundations-to-LLMs/refs/heads/main/Chapter8_notebooks/\" + text_file_path\n",
        "res = requests.get(url)\n",
        "with open(text_file_path, \"w\") as f:\n",
        "    f.write(res.text)"
      ]
    },
    {
      "cell_type": "code",
      "execution_count": 6,
      "metadata": {
        "colab": {
          "base_uri": "https://localhost:8080/"
        },
        "id": "XlC2Y2PMt0zy",
        "outputId": "6461444c-1a49-4b29-fa60-427865fb961e"
      },
      "outputs": [
        {
          "output_type": "stream",
          "name": "stdout",
          "text": [
            "\"Title: Mocked up record\n",
            "담당의: ABC 의사\n",
            "날짜: 2099년 6월 25일\n",
            "환자 ID: 987654321\n",
            "주 증상: 복통\n",
            "현재 질환 이력:\n",
            "환자 John Anderson 씨(42세, 남성)는 복통을 주 증상으로 내원하였습니다. 기혼자로 아내와 두 자녀와 함께 살고 있습니다. Anderson 씨는 약 2주 전 유럽 출장에서 돌아왔으며, 여행 중 호흡기 증상이나 아픈 사람과의 접촉은 없었다고 합니다.\n",
            "진료 중 Anderson 씨는 아버지가 60대에 심근경색을 앓은 심혈관 질환 가족력이 있으며, 외할머니는 제2형 당뇨병을 앓았다고 밝혔습니다. 본인은 만성 질환, 수술 경험이나 입원 이력은 없다고 합니다.\n",
            "주 증상에 대해 Anderson 씨는 우하복부에 둔하고 간헐적인 통증이 있으며, 통증 강도는 10점 만점에 5점 정도라고 설명합니다. 신체 활동 시 통증이 악화되고 식사 후에도 더 심해지는 경향이 있습니다. 구역질, 구토, 배변 습관의 변화와 같은 관련 증상은 없다고 합니다.\n",
            "제공된 정보를 바탕으로 Anderson 씨의 복통 원인을 파악하기 위한 추가 평가와 진단 검사가 진행될 예정입니다.\"\n",
            "\"Title: Mocked up record\n",
            "담당의: ABC 의사\n",
            "날짜: 2099년 11월 15일\n",
            "환자 ID: 123456789\n",
            "주 증상: 피로감과 관절통\n",
            "현재 질환 이력:\n",
            "환자 Sarah Thompson 씨(57세, 여성)는 피로감과 관절통을 호소하며 내원하였습니다. 홀로 거주 중인 미망인으로, 최근 해외여행 이력은 없습니다.\n",
            "진료 중 Thompson 씨는 자매가 류마티스 관절염 진단을 받은 자가면역 질환 가족력이 있다고 밝혔습니다. 또한 본인은 갑상선 기능 저하증이 있어 갑상선 호르몬 대체 요법으로 관리 중이라고 합니다.\n",
            "주 증상에 대해 Thompson 씨는 일상 활동에 지장을 줄 정도로 지속적이고 심한 피로감을 느끼며, 그 정도는 10점 만점에 8점이라고 표현했습니다. 또한 주로 무릎과 손목에 관절통이 있는데, 아침에 더 심하고 하루 중 활동하면서 점차 나아진다고 합니다. 관절 부위의 붓기나 붉어짐은 없다고 합니다.\n",
            "임상 소견을 바탕으로 Thompson 씨의 피로감과 관절통의 원인을 찾기 위한 추가 검사가 필요합니다. 혈액 검사, 영상 검사 및 필요시 전문의 상담을 진행할 예정입니다.\"\n",
            "\"Title: Mocked up record\n",
            "담당의: ABC 의사\n",
            "날짜: 2099년 11월 28일\n",
            "환자 ID: 987654321\n",
            "주 증상: 편두통\n",
            "현재 질환 이력:\n",
            "환자 Michael Johnson 씨(40세, 남성)는 반복되는 편두통을 주 증상으로 내원하였습니다. 기혼자로 배우자와 두 자녀와 함께 살고 있으며, 최근 지역 외 여행은 하지 않았습니다.\n",
            "진료 중 Johnson 씨는 어머니와 여동생도 비슷한 증상의 편두통을 앓고 있는 가족력이 있다고 밝혔습니다. 중요한 과거 병력, 수술이나 입원 경험은 없다고 합니다. 업무가 바빠 가끔 스트레스를 받고 수면 패턴이 불규칙하다고 언급했습니다.\n",
            "주 증상에 대해 Johnson 씨는 주로 머리 한쪽에 중간에서 심한 정도의 욱신거리는 통증이 반복적으로 나타난다고 설명합니다. 빛과 소리에 민감해지고 구역질이 나며 때로는 구토도 한다고 합니다. 편두통은 보통 몇 시간 지속되며 한 달에 한두 번 발생한다고 합니다.\n",
            "제공된 정보를 바탕으로 Johnson 씨의 편두통 관리를 위한 추가 평가가 이루어질 예정입니다. 두통의 빈도, 지속 시간 및 유발 요인을 추적하기 위한 두통 일기 작성을 권장할 것이며, 증상 완화와 삶의 질 향상을 위한 생활 습관 개선, 스트레스 관리 방법, 적절한 약물 치료에 대해 상담할 예정입니다.\"\n",
            "\"Title: Mocked up record\n",
            "담당의: ABC 의사\n",
            "날짜: 2099년 7월 10일\n",
            "환자 ID: 246813579\n",
            "주 증상: 임신 정기 검진\n",
            "현재 질환 이력:\n",
            "환자 Emily Adams 씨(30세, 여성)는 정기 임신 검진을 위해 내원하였습니다. 현재 임신 32주차로, 2099년 8월 27일이 출산 예정일입니다. 기혼자로 남편과 함께 살고 있습니다.\n",
            "진료 중 Adams\n"
          ]
        }
      ],
      "source": [
        "print(res.text[:2000])"
      ]
    },
    {
      "cell_type": "markdown",
      "metadata": {
        "id": "YChgXFOEG7pY"
      },
      "source": [
        "파일의 텍스트 내용 불러오기:"
      ]
    },
    {
      "cell_type": "code",
      "execution_count": 7,
      "metadata": {
        "colab": {
          "base_uri": "https://localhost:8080/"
        },
        "id": "sVio4mK5XVwR",
        "outputId": "ef94b202-2337-44bd-f71d-e3224e3065a1"
      },
      "outputs": [
        {
          "output_type": "execute_result",
          "data": {
            "text/plain": [
              "[Document(metadata={'source': 'mocked_up_physician_records_ko.csv'}, page_content='\"Title: Mocked up record\\n담당의: ABC 의사\\n날짜: 2099년 6월 25일\\n환자 ID: 987654321\\n주 증상: 복통\\n현재 질환 이력:\\n환자 John Anderson 씨(42세, 남성)는 복통을 주 증상으로 내원하였습니다. 기혼자로 아내와 두 자녀와 함께 살고 있습니다. Anderson 씨는 약 2주 전 유럽 출장에서 돌아왔으며, 여행 중 호흡기 증상이나 아픈 사람과의 접촉은 없었다고 합니다.\\n진료 중 Anderson 씨는 아버지가 60대에 심근경색을 앓은 심혈관 질환 가족력이 있으며, 외할머니는 제2형 당뇨병을 앓았다고 밝혔습니다. 본인은 만성 질환, 수술 경험이나 입원 이력은 없다고 합니다.\\n주 증상에 대해 Anderson 씨는 우하복부에 둔하고 간헐적인 통증이 있으며, 통증 강도는 10점 만점에 5점 정도라고 설명합니다. 신체 활동 시 통증이 악화되고 식사 후에도 더 심해지는 경향이 있습니다. 구역질, 구토, 배변 습관의 변화와 같은 관련 증상은 없다고 합니다.\\n제공된 정보를 바탕으로 Anderson 씨의 복통 원인을 파악하기 위한 추가 평가와 진단 검사가 진행될 예정입니다.\"\\n\"Title: Mocked up record\\n담당의: ABC 의사\\n날짜: 2099년 11월 15일\\n환자 ID: 123456789\\n주 증상: 피로감과 관절통\\n현재 질환 이력:\\n환자 Sarah Thompson 씨(57세, 여성)는 피로감과 관절통을 호소하며 내원하였습니다. 홀로 거주 중인 미망인으로, 최근 해외여행 이력은 없습니다.\\n진료 중 Thompson 씨는 자매가 류마티스 관절염 진단을 받은 자가면역 질환 가족력이 있다고 밝혔습니다. 또한 본인은 갑상선 기능 저하증이 있어 갑상선 호르몬 대체 요법으로 관리 중이라고 합니다.\\n주 증상에 대해 Thompson 씨는 일상 활동에 지장을 줄 정도로 지속적이고 심한 피로감을 느끼며, 그 정도는 10점 만점에 8점이라고 표현했습니다. 또한 주로 무릎과 손목에 관절통이 있는데, 아침에 더 심하고 하루 중 활동하면서 점차 나아진다고 합니다. 관절 부위의 붓기나 붉어짐은 없다고 합니다.\\n임상 소견을 바탕으로 Thompson 씨의 피로감과 관절통의 원인을 찾기 위한 추가 검사가 필요합니다. 혈액 검사, 영상 검사 및 필요시 전문의 상담을 진행할 예정입니다.\"\\n\"Title: Mocked up record\\n담당의: ABC 의사\\n날짜: 2099년 11월 28일\\n환자 ID: 987654321\\n주 증상: 편두통\\n현재 질환 이력:\\n환자 Michael Johnson 씨(40세, 남성)는 반복되는 편두통을 주 증상으로 내원하였습니다. 기혼자로 배우자와 두 자녀와 함께 살고 있으며, 최근 지역 외 여행은 하지 않았습니다.\\n진료 중 Johnson 씨는 어머니와 여동생도 비슷한 증상의 편두통을 앓고 있는 가족력이 있다고 밝혔습니다. 중요한 과거 병력, 수술이나 입원 경험은 없다고 합니다. 업무가 바빠 가끔 스트레스를 받고 수면 패턴이 불규칙하다고 언급했습니다.\\n주 증상에 대해 Johnson 씨는 주로 머리 한쪽에 중간에서 심한 정도의 욱신거리는 통증이 반복적으로 나타난다고 설명합니다. 빛과 소리에 민감해지고 구역질이 나며 때로는 구토도 한다고 합니다. 편두통은 보통 몇 시간 지속되며 한 달에 한두 번 발생한다고 합니다.\\n제공된 정보를 바탕으로 Johnson 씨의 편두통 관리를 위한 추가 평가가 이루어질 예정입니다. 두통의 빈도, 지속 시간 및 유발 요인을 추적하기 위한 두통 일기 작성을 권장할 것이며, 증상 완화와 삶의 질 향상을 위한 생활 습관 개선, 스트레스 관리 방법, 적절한 약물 치료에 대해 상담할 예정입니다.\"\\n\"Title: Mocked up record\\n담당의: ABC 의사\\n날짜: 2099년 7월 10일\\n환자 ID: 246813579\\n주 증상: 임신 정기 검진\\n현재 질환 이력:\\n환자 Emily Adams 씨(30세, 여성)는 정기 임신 검진을 위해 내원하였습니다. 현재 임신 32주차로, 2099년 8월 27일이 출산 예정일입니다. 기혼자로 남편과 함께 살고 있습니다.\\n진료 중 Adams 씨는 어머니가 임신 중 임신성 당뇨를 앓았던 가족력이 있다고 밝혔습니다. 본인은 중요한 병력이나 수술 경험, 이전 임신에서의 합병증은 없다고 합니다.\\n주 증상에 대해 Adams 씨는 임신 3기에 흔히 나타나는 요통, 잦은 소변, 가끔의 속쓰림 등의 불편함을 호소합니다. 질 출혈, 심한 복통, 태아 움직임의 특이한 변화는 없다고 합니다. 임신 중 전반적인 건강 관리를 위해 균형 잡힌 식단과 규칙적인 운동을 유지하고 있다고 합니다.\\n제공된 정보를 바탕으로 Adams 씨의 임신 경과를 확인하기 위한 정기 산전 검사가 진행될 예정입니다. 혈압, 체중 증가, 자궁저 높이 측정, 태아 심장 박동 모니터링 등을 평가할 것입니다. 건강한 출산과 순조로운 육아를 위해 출산 준비, 모유 수유, 산후 관리에 대한 상담도 함께 이루어질 예정입니다.\"')]"
            ]
          },
          "metadata": {},
          "execution_count": 7
        }
      ],
      "source": [
        "# 문서 불러오기\n",
        "text_loader = TextLoader(text_file_path)\n",
        "documents = text_loader.load()\n",
        "documents"
      ]
    },
    {
      "cell_type": "markdown",
      "metadata": {
        "id": "W53RuDbFHCKt"
      },
      "source": [
        "랭체인 변수 유형을 살펴보기 (데이터 조작 방법을 알기 위해 유용합니다)"
      ]
    },
    {
      "cell_type": "code",
      "execution_count": 8,
      "metadata": {
        "colab": {
          "base_uri": "https://localhost:8080/"
        },
        "id": "Du41v2SOnXtG",
        "outputId": "2bcdf092-63b4-475c-e341-fdd6a93e0ec7"
      },
      "outputs": [
        {
          "output_type": "stream",
          "name": "stdout",
          "text": [
            "<class 'langchain_core.documents.base.Document'>\n"
          ]
        }
      ],
      "source": [
        "print(type(documents[0]))"
      ]
    },
    {
      "cell_type": "markdown",
      "metadata": {
        "id": "XsawZueGWYD_"
      },
      "source": [
        "원본 텍스트에 접근하는 예제를 살펴보겠습니다."
      ]
    },
    {
      "cell_type": "code",
      "execution_count": 9,
      "metadata": {
        "colab": {
          "base_uri": "https://localhost:8080/"
        },
        "id": "Ei5Bu28KFi89",
        "outputId": "acf6c357-cd59-4ed2-c8d7-cd21d931c220"
      },
      "outputs": [
        {
          "output_type": "stream",
          "name": "stdout",
          "text": [
            "\"Title: Mocked up record\n",
            "담당의: ABC 의사\n",
            "날짜: 2099년 6월 25일\n",
            "환자 ID: 987654321\n",
            "주 증상: 복통\n",
            "현재 질환 이력:\n",
            "환자 John Anderson 씨(42세, 남성)는 복통을 주 증상으로 내원하였습니다. 기혼자로 아내와 두 자녀와 함께 살고 있습니다. Anderson 씨는 약 2주 전 유럽 출장에서 돌아왔으며, \n"
          ]
        }
      ],
      "source": [
        "print(documents[0].page_content[0:200])"
      ]
    },
    {
      "cell_type": "code",
      "execution_count": 10,
      "metadata": {
        "colab": {
          "base_uri": "https://localhost:8080/"
        },
        "id": "XORjTx80ueqJ",
        "outputId": "32782b65-44d6-4c03-d4e8-6831bfc23d9c"
      },
      "outputs": [
        {
          "output_type": "stream",
          "name": "stdout",
          "text": [
            "여행 중 호흡기 증상이나 아픈 사람과의 접촉은 없었다고 합니다.\n",
            "진료 중 Anderson 씨는 아버지가 60대에 심근경색을 앓은 심혈관 질환 가족력이 있으며, 외할머니는 제2형 당뇨병을 앓았다고 밝혔습니다. 본인은 만성 질환, 수술 경험이나 입원 이력은 없다고 합니다.\n",
            "주 증상에 대해 Anderson 씨는 우하복부에 둔하고 간헐적인 통증이 있으며, 통증 강\n"
          ]
        }
      ],
      "source": [
        "print(documents[0].page_content[200:400])"
      ]
    },
    {
      "cell_type": "markdown",
      "metadata": {
        "id": "9yrck6oSHIrd"
      },
      "source": [
        "### 임베딩을 위한 데이터 전처리"
      ]
    },
    {
      "cell_type": "code",
      "execution_count": 11,
      "metadata": {
        "id": "8Z5_4lEQ7Vvd"
      },
      "outputs": [],
      "source": [
        "# 우리가 사용하는 데이터 파일에서는 이 짧은 문자열이 서로 다른 임상 보고서들을 구분하는 구분자입니다:\n",
        "split_text_by = '\"Title: Mocked up record'\n",
        "chunk_size = 700\n",
        "chunk_overlap = 0"
      ]
    },
    {
      "cell_type": "code",
      "execution_count": 12,
      "metadata": {
        "id": "_qXNpk8vXlys"
      },
      "outputs": [],
      "source": [
        "# 텍스트 나누기\n",
        "text_splitter = CharacterTextSplitter(chunk_size=chunk_size,\n",
        "                                      chunk_overlap=chunk_overlap,\n",
        "                                      separator=split_text_by)\n",
        "splitted_docs = text_splitter.split_documents(documents)"
      ]
    },
    {
      "cell_type": "code",
      "execution_count": 13,
      "metadata": {
        "colab": {
          "base_uri": "https://localhost:8080/"
        },
        "id": "gEUp4OtxnuXL",
        "outputId": "13fcf2d6-6b52-4083-8c37-faa22def608d"
      },
      "outputs": [
        {
          "output_type": "execute_result",
          "data": {
            "text/plain": [
              "4"
            ]
          },
          "metadata": {},
          "execution_count": 13
        }
      ],
      "source": [
        "len(splitted_docs)"
      ]
    },
    {
      "cell_type": "code",
      "execution_count": 14,
      "metadata": {
        "colab": {
          "base_uri": "https://localhost:8080/"
        },
        "id": "z_HUKypknucr",
        "outputId": "a3954a11-1e6a-4db2-c2c3-b724b38f1792"
      },
      "outputs": [
        {
          "output_type": "stream",
          "name": "stdout",
          "text": [
            "담당의: ABC 의사\n",
            "날짜: 2099년 6월 25일\n",
            "환자 ID: 987654321\n",
            "주 증상: 복통\n",
            "현재 질환 이력:\n",
            "환자 John Anderson 씨(42세, 남성)는 복통을 주 증상으로 내원하였습니다. 기혼자로 아내와 두 자녀와 함께 살고 있습니다. Anderson 씨는 약 2주 전 유럽 출장에서 돌아왔으며, 여행 중 호흡기 증상이나 아픈 사람과의 접촉은 없었다고 합니다.\n",
            "진료 중 Anderson 씨는 아버지가 60대에 심근경색을 앓은 심혈관 질환 가족력이 있으며, 외할머니는 제2형 당뇨병을 앓았다고 밝혔습니다. 본인은 만성 질환, 수술 경험이나 입원 이력은 없다고 합니다.\n",
            "주 증상에 대해 Anderson 씨는 우하복부에 둔하고 간헐적인 통증이 있으며, 통증 강도는 10점 만점에 5점 정도라고 설명합니다. 신체 활동 시 통증이 악화되고 식사 후에도 더 심해지는 경향이 있습니다. 구역질, 구토, 배변 습관의 변화와 같은 관련 증상은 없다고 합니다.\n",
            "제공된 정보를 바탕으로 Anderson 씨의 복통 원인을 파악하기 위한 추가 평가와 진단 검사가 진행될 예정입니다.\"\n"
          ]
        }
      ],
      "source": [
        "print(splitted_docs[0].page_content)"
      ]
    },
    {
      "cell_type": "code",
      "execution_count": 15,
      "metadata": {
        "colab": {
          "base_uri": "https://localhost:8080/"
        },
        "id": "Qsu8MuMduvHk",
        "outputId": "18e3297f-f0e8-45c0-f70e-71dd33c12301"
      },
      "outputs": [
        {
          "output_type": "stream",
          "name": "stdout",
          "text": [
            "담당의: ABC 의사\n",
            "날짜: 2099년 11월 15일\n",
            "환자 ID: 123456789\n",
            "주 증상: 피로감과 관절통\n",
            "현재 질환 이력:\n",
            "환자 Sarah Thompson 씨(57세, 여성)는 피로감과 관절통을 호소하며 내원하였습니다. 홀로 거주 중인 미망인으로, 최근 해외여행 이력은 없습니다.\n",
            "진료 중 Thompson 씨는 자매가 류마티스 관절염 진단을 받은 자가면역 질환 가족력이 있다고 밝혔습니다. 또한 본인은 갑상선 기능 저하증이 있어 갑상선 호르몬 대체 요법으로 관리 중이라고 합니다.\n",
            "주 증상에 대해 Thompson 씨는 일상 활동에 지장을 줄 정도로 지속적이고 심한 피로감을 느끼며, 그 정도는 10점 만점에 8점이라고 표현했습니다. 또한 주로 무릎과 손목에 관절통이 있는데, 아침에 더 심하고 하루 중 활동하면서 점차 나아진다고 합니다. 관절 부위의 붓기나 붉어짐은 없다고 합니다.\n",
            "임상 소견을 바탕으로 Thompson 씨의 피로감과 관절통의 원인을 찾기 위한 추가 검사가 필요합니다. 혈액 검사, 영상 검사 및 필요시 전문의 상담을 진행할 예정입니다.\"\n"
          ]
        }
      ],
      "source": [
        "print(splitted_docs[1].page_content)"
      ]
    },
    {
      "cell_type": "code",
      "execution_count": 16,
      "metadata": {
        "colab": {
          "base_uri": "https://localhost:8080/"
        },
        "id": "eVDpRN_Cuy2A",
        "outputId": "23f3071e-e17b-46db-f498-a75a133abeff"
      },
      "outputs": [
        {
          "output_type": "stream",
          "name": "stdout",
          "text": [
            "담당의: ABC 의사\n",
            "날짜: 2099년 11월 28일\n",
            "환자 ID: 987654321\n",
            "주 증상: 편두통\n",
            "현재 질환 이력:\n",
            "환자 Michael Johnson 씨(40세, 남성)는 반복되는 편두통을 주 증상으로 내원하였습니다. 기혼자로 배우자와 두 자녀와 함께 살고 있으며, 최근 지역 외 여행은 하지 않았습니다.\n",
            "진료 중 Johnson 씨는 어머니와 여동생도 비슷한 증상의 편두통을 앓고 있는 가족력이 있다고 밝혔습니다. 중요한 과거 병력, 수술이나 입원 경험은 없다고 합니다. 업무가 바빠 가끔 스트레스를 받고 수면 패턴이 불규칙하다고 언급했습니다.\n",
            "주 증상에 대해 Johnson 씨는 주로 머리 한쪽에 중간에서 심한 정도의 욱신거리는 통증이 반복적으로 나타난다고 설명합니다. 빛과 소리에 민감해지고 구역질이 나며 때로는 구토도 한다고 합니다. 편두통은 보통 몇 시간 지속되며 한 달에 한두 번 발생한다고 합니다.\n",
            "제공된 정보를 바탕으로 Johnson 씨의 편두통 관리를 위한 추가 평가가 이루어질 예정입니다. 두통의 빈도, 지속 시간 및 유발 요인을 추적하기 위한 두통 일기 작성을 권장할 것이며, 증상 완화와 삶의 질 향상을 위한 생활 습관 개선, 스트레스 관리 방법, 적절한 약물 치료에 대해 상담할 예정입니다.\"\n"
          ]
        }
      ],
      "source": [
        "print(splitted_docs[2].page_content)"
      ]
    },
    {
      "cell_type": "code",
      "execution_count": 17,
      "metadata": {
        "colab": {
          "base_uri": "https://localhost:8080/"
        },
        "id": "DuQzcxobu0uv",
        "outputId": "27f81826-50c5-4626-b2b0-730cc51368f9"
      },
      "outputs": [
        {
          "output_type": "stream",
          "name": "stdout",
          "text": [
            "담당의: ABC 의사\n",
            "날짜: 2099년 7월 10일\n",
            "환자 ID: 246813579\n",
            "주 증상: 임신 정기 검진\n",
            "현재 질환 이력:\n",
            "환자 Emily Adams 씨(30세, 여성)는 정기 임신 검진을 위해 내원하였습니다. 현재 임신 32주차로, 2099년 8월 27일이 출산 예정일입니다. 기혼자로 남편과 함께 살고 있습니다.\n",
            "진료 중 Adams 씨는 어머니가 임신 중 임신성 당뇨를 앓았던 가족력이 있다고 밝혔습니다. 본인은 중요한 병력이나 수술 경험, 이전 임신에서의 합병증은 없다고 합니다.\n",
            "주 증상에 대해 Adams 씨는 임신 3기에 흔히 나타나는 요통, 잦은 소변, 가끔의 속쓰림 등의 불편함을 호소합니다. 질 출혈, 심한 복통, 태아 움직임의 특이한 변화는 없다고 합니다. 임신 중 전반적인 건강 관리를 위해 균형 잡힌 식단과 규칙적인 운동을 유지하고 있다고 합니다.\n",
            "제공된 정보를 바탕으로 Adams 씨의 임신 경과를 확인하기 위한 정기 산전 검사가 진행될 예정입니다. 혈압, 체중 증가, 자궁저 높이 측정, 태아 심장 박동 모니터링 등을 평가할 것입니다. 건강한 출산과 순조로운 육아를 위해 출산 준비, 모유 수유, 산후 관리에 대한 상담도 함께 이루어질 예정입니다.\"\n"
          ]
        }
      ],
      "source": [
        "print(splitted_docs[3].page_content)"
      ]
    },
    {
      "cell_type": "markdown",
      "metadata": {
        "id": "G6HWzhWUaRIb"
      },
      "source": [
        "### 벡터 데이터베이스에 저장할 임베딩 생성  \n",
        "허깅페이스의 오픈 소스 모델을 사용합니다.\n",
        "* https://huggingface.co/sentence-transformers/all-mpnet-base-v2\n",
        "* MPNet은 BERT, RoBERTa, XLNet 등의 장점을 융합한 최신 Transformer 모델입니다.\n",
        "* 한국어로는 https://huggingface.co/upskyy/e5-small-korean 를 사용해 봅니다."
      ]
    },
    {
      "cell_type": "code",
      "execution_count": 18,
      "metadata": {
        "colab": {
          "base_uri": "https://localhost:8080/"
        },
        "id": "uctYbK6YXmxI",
        "outputId": "9f081ed5-4907-4841-99b5-218beaac32fc"
      },
      "outputs": [
        {
          "output_type": "stream",
          "name": "stderr",
          "text": [
            "<ipython-input-18-4901b9960a1f>:2: LangChainDeprecationWarning: The class `HuggingFaceEmbeddings` was deprecated in LangChain 0.2.2 and will be removed in 1.0. An updated version of the class exists in the :class:`~langchain-huggingface package and should be used instead. To use it run `pip install -U :class:`~langchain-huggingface` and import as `from :class:`~langchain_huggingface import HuggingFaceEmbeddings``.\n",
            "  embeddings = HuggingFaceEmbeddings(model_name=\"upskyy/e5-small-korean\")\n",
            "/usr/local/lib/python3.11/dist-packages/huggingface_hub/utils/_auth.py:94: UserWarning: \n",
            "The secret `HF_TOKEN` does not exist in your Colab secrets.\n",
            "To authenticate with the Hugging Face Hub, create a token in your settings tab (https://huggingface.co/settings/tokens), set it as secret in your Google Colab and restart your session.\n",
            "You will be able to reuse this secret in all of your notebooks.\n",
            "Please note that authentication is recommended but still optional to access public models or datasets.\n",
            "  warnings.warn(\n"
          ]
        }
      ],
      "source": [
        "# embeddings = HuggingFaceEmbeddings(model_name=\"sentence-transformers/all-mpnet-base-v2\")\n",
        "embeddings = HuggingFaceEmbeddings(model_name=\"upskyy/e5-small-korean\")"
      ]
    },
    {
      "cell_type": "code",
      "execution_count": 19,
      "metadata": {
        "colab": {
          "base_uri": "https://localhost:8080/"
        },
        "id": "xifeDigz7Vve",
        "outputId": "65b933dc-eb71-4dee-b705-5a8791696018"
      },
      "outputs": [
        {
          "output_type": "execute_result",
          "data": {
            "text/plain": [
              "[-0.06463496387004852,\n",
              " -0.20045262575149536,\n",
              " 0.1640482395887375,\n",
              " -0.13611029088497162,\n",
              " 0.24039965867996216]"
            ]
          },
          "metadata": {},
          "execution_count": 19
        }
      ],
      "source": [
        "# 임베딩이 잘 되었는지 확인\n",
        "# embedded_query = embeddings.embed_query(\"What was the name mentioned in the conversation?\")\n",
        "embedded_query = embeddings.embed_query(\"한국어 임베딩 모델을 사용합니다.\")\n",
        "embedded_query[:5]"
      ]
    },
    {
      "cell_type": "markdown",
      "metadata": {
        "id": "BQxBuY1Vq_EG"
      },
      "source": [
        "### 벡터 데이터베이스 생성\n",
        "\n",
        "<img src=\"https://python.langchain.com/assets/images/vectorstores-2540b4bc355b966c99b0f02cfdddb273.png\">\n",
        "\n",
        "* 출처 : https://python.langchain.com/docs/concepts/vectorstores/"
      ]
    },
    {
      "cell_type": "markdown",
      "metadata": {
        "id": "PF_k4Nw_q_xk"
      },
      "source": [
        "벡터 데이터베이스로는 FAISS(Facebook AI Similarity Search)를 선택했습니다:\n",
        "\n",
        "자세한 내용은 다음 링크를 참조하세요:\n",
        "\n",
        "* https://python.langchain.com/docs/integrations/vectorstores/\n",
        "* https://python.langchain.com/v0.1/docs/integrations/vectorstores/faiss/#:~:text=Now%2C%20we%20can%20query%20the,similarity_search"
      ]
    },
    {
      "cell_type": "code",
      "execution_count": 20,
      "metadata": {
        "colab": {
          "base_uri": "https://localhost:8080/"
        },
        "id": "Zc7cEOR0Fi_o",
        "outputId": "2bb9555c-1bdf-4263-b057-9e1c4777ea3d"
      },
      "outputs": [
        {
          "output_type": "execute_result",
          "data": {
            "text/plain": [
              "<langchain_community.vectorstores.faiss.FAISS at 0x79219ca53910>"
            ]
          },
          "metadata": {},
          "execution_count": 20
        }
      ],
      "source": [
        "vector_db = FAISS.from_documents(splitted_docs, embeddings)\n",
        "vector_db"
      ]
    },
    {
      "cell_type": "code",
      "source": [
        "print(f\"FAISS 내 문서 개수: {vector_db.index.ntotal}\")"
      ],
      "metadata": {
        "colab": {
          "base_uri": "https://localhost:8080/"
        },
        "id": "0LQdH2WFdGZ4",
        "outputId": "89476b7d-eb65-4b66-b81f-29f417e642bb"
      },
      "execution_count": 21,
      "outputs": [
        {
          "output_type": "stream",
          "name": "stdout",
          "text": [
            "FAISS 내 문서 개수: 4\n"
          ]
        }
      ]
    },
    {
      "cell_type": "code",
      "source": [
        "dimension = vector_db.index.d\n",
        "print(f\"벡터의 차원 수: {dimension}\")"
      ],
      "metadata": {
        "colab": {
          "base_uri": "https://localhost:8080/"
        },
        "id": "7UxYAMXkoYqb",
        "outputId": "78a494e4-7fca-47a8-b399-643aecd341ec"
      },
      "execution_count": 22,
      "outputs": [
        {
          "output_type": "stream",
          "name": "stdout",
          "text": [
            "벡터의 차원 수: 384\n"
          ]
        }
      ]
    },
    {
      "cell_type": "code",
      "source": [
        "import numpy as np\n",
        "import matplotlib.pyplot as plt\n",
        "from sklearn.manifold import TSNE\n",
        "\n",
        "# FAISS에서 벡터 데이터 추출\n",
        "vectors = vector_db.index.reconstruct_n(0, vector_db.index.ntotal)\n",
        "\n",
        "# 현재 문서 수 확인\n",
        "n_samples = len(vectors)\n",
        "print(f\"전체 문서 수: {n_samples}\")\n",
        "\n",
        "# perplexity를 문서 개수보다 작게 설정 (예: 2)\n",
        "tsne = TSNE(n_components=2, perplexity=min(2, n_samples - 1), random_state=42, metric='cosine')\n",
        "embeddings_2d = tsne.fit_transform(np.array(vectors))\n",
        "\n",
        "# 시각화\n",
        "plt.figure(figsize=(6, 3))\n",
        "plt.scatter(embeddings_2d[:, 0], embeddings_2d[:, 1], c='skyblue', s=50, alpha=0.7)\n",
        "\n",
        "# 문서 번호 표시\n",
        "for i, (x, y) in enumerate(embeddings_2d):\n",
        "    plt.text(x, y, str(i), fontsize=9, alpha=0.8)\n",
        "\n",
        "plt.title('FAISS (t-SNE)')\n",
        "plt.xlabel('t-SNE Dimension 1')\n",
        "plt.ylabel('t-SNE Dimension 2')\n",
        "plt.grid(True)\n",
        "plt.show()\n"
      ],
      "metadata": {
        "colab": {
          "base_uri": "https://localhost:8080/",
          "height": 350
        },
        "id": "oVJQ_xwEc9Dn",
        "outputId": "59d3d05e-8b2e-46b3-b1db-a8b00e3d0479"
      },
      "execution_count": 23,
      "outputs": [
        {
          "output_type": "stream",
          "name": "stdout",
          "text": [
            "전체 문서 수: 4\n"
          ]
        },
        {
          "output_type": "display_data",
          "data": {
            "text/plain": [
              "<Figure size 600x300 with 1 Axes>"
            ],
            "image/png": "[encoded data removed]"
          },
          "metadata": {}
        }
      ]
    },
    {
      "cell_type": "markdown",
      "metadata": {
        "id": "5orXbaPj5uie"
      },
      "source": [
        "### 내부 문서를 활용한 유사도 검색 수행"
      ]
    },
    {
      "cell_type": "markdown",
      "metadata": {
        "id": "HUETRq3nxjdg"
      },
      "source": [
        "**질문 #1: 8월에 출산 예정인 임산부 환자가 있나요?**  "
      ]
    },
    {
      "cell_type": "code",
      "execution_count": 24,
      "metadata": {
        "colab": {
          "base_uri": "https://localhost:8080/"
        },
        "id": "lCu4Ors_FjCU",
        "outputId": "eb936a30-bf93-4a14-bcd6-934fafbc66b0"
      },
      "outputs": [
        {
          "output_type": "stream",
          "name": "stdout",
          "text": [
            "담당의: ABC 의사\n",
            "날짜: 2099년 7월 10일\n",
            "환자 ID: 246813579\n",
            "주 증상: 임신 정기 검진\n",
            "현재 질환 이력:\n",
            "환자 Emily Adams 씨(30세, 여성)는 정기\n",
            "임신 검진을 위해 내원하였습니다. 현재 임신 32주차로, 2099년 8월 27일이 출산 예정일입니다. 기혼자로 남편과 함께 살고 있습니다.\n",
            "진료 중 Adams 씨는 어머니가 임신\n",
            "중 임신성 당뇨를 앓았던 가족력이 있다고 밝혔습니다. 본인은 중요한 병력이나 수술 경험, 이전 임신에서의 합병증은 없다고 합니다.\n",
            "주 증상에 대해 Adams 씨는 임신 3기에 흔히\n",
            "나타나는 요통, 잦은 소변, 가끔의 속쓰림 등의 불편함을 호소합니다. 질 출혈, 심한 복통, 태아 움직임의 특이한 변화는 없다고 합니다. 임신 중 전반적인 건강 관리를 위해 균형\n",
            "잡힌 식단과 규칙적인 운동을 유지하고 있다고 합니다.\n",
            "제공된 정보를 바탕으로 Adams 씨의 임신 경과를 확인하기 위한 정기 산전 검사가 진행될 예정입니다. 혈압, 체중 증가,\n",
            "자궁저 높이 측정, 태아 심장 박동 모니터링 등을 평가할 것입니다. 건강한 출산과 순조로운 육아를 위해 출산 준비, 모유 수유, 산후 관리에 대한 상담도 함께 이루어질\n",
            "예정입니다.\"\n"
          ]
        }
      ],
      "source": [
        "# query1 = \"Are there any pregnant patients who are due to deliver in August?\"\n",
        "query1 = \"8월에 출산 예정인 임산부가 있나요?\"\n",
        "docs = vector_db.similarity_search(query1)\n",
        "print(textwrap.fill(str(docs[0].page_content), width=100, replace_whitespace=False))"
      ]
    },
    {
      "cell_type": "markdown",
      "metadata": {
        "id": "VbR-2uxDxCep"
      },
      "source": [
        "**[오류의 예!] 질문 #2: 출산 예정일이 9월인 임산부가 있나요?**  \n",
        "이것은 유사성 검색이 **틀린 결과**를 제공하는 예입니다.  \n",
        "질문과 유사한 텍스트를 제공하긴 했지만, 이 사례는 유사성이 정답을 맞히는 것과는 다르다는 점을 보여줍니다.  "
      ]
    },
    {
      "cell_type": "code",
      "execution_count": 25,
      "metadata": {
        "colab": {
          "base_uri": "https://localhost:8080/"
        },
        "id": "z8wvzQSvFjFP",
        "outputId": "cd6c0149-fd8b-4400-e9d8-3b9886b419f1"
      },
      "outputs": [
        {
          "output_type": "stream",
          "name": "stdout",
          "text": [
            "담당의: ABC 의사\n",
            "날짜: 2099년 7월 10일\n",
            "환자 ID: 246813579\n",
            "주 증상: 임신 정기 검진\n",
            "현재 질환 이력:\n",
            "환자 Emily Adams 씨(30세, 여성)는 정기\n",
            "임신 검진을 위해 내원하였습니다. 현재 임신 32주차로, 2099년 8월 27일이 출산 예정일입니다. 기혼자로 남편과 함께 살고 있습니다.\n",
            "진료 중 Adams 씨는 어머니가 임신\n",
            "중 임신성 당뇨를 앓았던 가족력이 있다고 밝혔습니다. 본인은 중요한 병력이나 수술 경험, 이전 임신에서의 합병증은 없다고 합니다.\n",
            "주 증상에 대해 Adams 씨는 임신 3기에 흔히\n",
            "나타나는 요통, 잦은 소변, 가끔의 속쓰림 등의 불편함을 호소합니다. 질 출혈, 심한 복통, 태아 움직임의 특이한 변화는 없다고 합니다. 임신 중 전반적인 건강 관리를 위해 균형\n",
            "잡힌 식단과 규칙적인 운동을 유지하고 있다고 합니다.\n",
            "제공된 정보를 바탕으로 Adams 씨의 임신 경과를 확인하기 위한 정기 산전 검사가 진행될 예정입니다. 혈압, 체중 증가,\n",
            "자궁저 높이 측정, 태아 심장 박동 모니터링 등을 평가할 것입니다. 건강한 출산과 순조로운 육아를 위해 출산 준비, 모유 수유, 산후 관리에 대한 상담도 함께 이루어질\n",
            "예정입니다.\"\n"
          ]
        }
      ],
      "source": [
        "# query2 = \"Are there any pregnant patients who are due to deliver in September?\"\n",
        "query2 = \"9월에 출산 예정인 임산부가 있나요?\"\n",
        "docs = vector_db.similarity_search(query2, k=1)\n",
        "print(textwrap.fill(str(docs[0].page_content), width=100, replace_whitespace=False))"
      ]
    },
    {
      "cell_type": "code",
      "source": [
        "len(docs)"
      ],
      "metadata": {
        "colab": {
          "base_uri": "https://localhost:8080/"
        },
        "id": "tromVMPja-yP",
        "outputId": "f62930b2-be45-4138-fa85-3a912edda4c3"
      },
      "execution_count": 26,
      "outputs": [
        {
          "output_type": "execute_result",
          "data": {
            "text/plain": [
              "1"
            ]
          },
          "metadata": {},
          "execution_count": 26
        }
      ]
    },
    {
      "cell_type": "markdown",
      "metadata": {
        "id": "kpcrVa5xxpRg"
      },
      "source": [
        "**질문 #3: 최근에 여행을 다녀온 환자는 누구인가요?**"
      ]
    },
    {
      "cell_type": "code",
      "execution_count": 27,
      "metadata": {
        "colab": {
          "base_uri": "https://localhost:8080/"
        },
        "id": "An1HjqivFjIL",
        "outputId": "7f01fd01-aaa3-42fd-e797-aab1ca5bb974"
      },
      "outputs": [
        {
          "output_type": "stream",
          "name": "stdout",
          "text": [
            "담당의: ABC 의사\n",
            "날짜: 2099년 11월 15일\n",
            "환자 ID: 123456789\n",
            "주 증상: 피로감과 관절통\n",
            "현재 질환 이력:\n",
            "환자 Sarah Thompson 씨(57세,\n",
            "여성)는 피로감과 관절통을 호소하며 내원하였습니다. 홀로 거주 중인 미망인으로, 최근 해외여행 이력은 없습니다.\n",
            "진료 중 Thompson 씨는 자매가 류마티스 관절염 진단을 받은\n",
            "자가면역 질환 가족력이 있다고 밝혔습니다. 또한 본인은 갑상선 기능 저하증이 있어 갑상선 호르몬 대체 요법으로 관리 중이라고 합니다.\n",
            "주 증상에 대해 Thompson 씨는 일상\n",
            "활동에 지장을 줄 정도로 지속적이고 심한 피로감을 느끼며, 그 정도는 10점 만점에 8점이라고 표현했습니다. 또한 주로 무릎과 손목에 관절통이 있는데, 아침에 더 심하고 하루 중\n",
            "활동하면서 점차 나아진다고 합니다. 관절 부위의 붓기나 붉어짐은 없다고 합니다.\n",
            "임상 소견을 바탕으로 Thompson 씨의 피로감과 관절통의 원인을 찾기 위한 추가 검사가\n",
            "필요합니다. 혈액 검사, 영상 검사 및 필요시 전문의 상담을 진행할 예정입니다.\"\n"
          ]
        }
      ],
      "source": [
        "# query3 = \"Which patients have travelled recently?\"\n",
        "query3 = \"최근에 여행을 다녀온 환자는 누구인가요?\"\n",
        "docs = vector_db.similarity_search(query3)\n",
        "print(textwrap.fill(str(docs[0].page_content), width=100, replace_whitespace=False))"
      ]
    },
    {
      "cell_type": "code",
      "source": [
        "docs"
      ],
      "metadata": {
        "colab": {
          "base_uri": "https://localhost:8080/"
        },
        "id": "QL9pN8u_ckp_",
        "outputId": "f614b79a-058c-4e26-e686-8a8abf26186d"
      },
      "execution_count": 28,
      "outputs": [
        {
          "output_type": "execute_result",
          "data": {
            "text/plain": [
              "[Document(id='3346e030-940d-43dd-9fcd-c98e6ea2eb6b', metadata={'source': 'mocked_up_physician_records_ko.csv'}, page_content='담당의: ABC 의사\\n날짜: 2099년 11월 15일\\n환자 ID: 123456789\\n주 증상: 피로감과 관절통\\n현재 질환 이력:\\n환자 Sarah Thompson 씨(57세, 여성)는 피로감과 관절통을 호소하며 내원하였습니다. 홀로 거주 중인 미망인으로, 최근 해외여행 이력은 없습니다.\\n진료 중 Thompson 씨는 자매가 류마티스 관절염 진단을 받은 자가면역 질환 가족력이 있다고 밝혔습니다. 또한 본인은 갑상선 기능 저하증이 있어 갑상선 호르몬 대체 요법으로 관리 중이라고 합니다.\\n주 증상에 대해 Thompson 씨는 일상 활동에 지장을 줄 정도로 지속적이고 심한 피로감을 느끼며, 그 정도는 10점 만점에 8점이라고 표현했습니다. 또한 주로 무릎과 손목에 관절통이 있는데, 아침에 더 심하고 하루 중 활동하면서 점차 나아진다고 합니다. 관절 부위의 붓기나 붉어짐은 없다고 합니다.\\n임상 소견을 바탕으로 Thompson 씨의 피로감과 관절통의 원인을 찾기 위한 추가 검사가 필요합니다. 혈액 검사, 영상 검사 및 필요시 전문의 상담을 진행할 예정입니다.\"'),\n",
              " Document(id='cf695f6f-7a86-400f-82ac-d1634cf212ec', metadata={'source': 'mocked_up_physician_records_ko.csv'}, page_content='담당의: ABC 의사\\n날짜: 2099년 6월 25일\\n환자 ID: 987654321\\n주 증상: 복통\\n현재 질환 이력:\\n환자 John Anderson 씨(42세, 남성)는 복통을 주 증상으로 내원하였습니다. 기혼자로 아내와 두 자녀와 함께 살고 있습니다. Anderson 씨는 약 2주 전 유럽 출장에서 돌아왔으며, 여행 중 호흡기 증상이나 아픈 사람과의 접촉은 없었다고 합니다.\\n진료 중 Anderson 씨는 아버지가 60대에 심근경색을 앓은 심혈관 질환 가족력이 있으며, 외할머니는 제2형 당뇨병을 앓았다고 밝혔습니다. 본인은 만성 질환, 수술 경험이나 입원 이력은 없다고 합니다.\\n주 증상에 대해 Anderson 씨는 우하복부에 둔하고 간헐적인 통증이 있으며, 통증 강도는 10점 만점에 5점 정도라고 설명합니다. 신체 활동 시 통증이 악화되고 식사 후에도 더 심해지는 경향이 있습니다. 구역질, 구토, 배변 습관의 변화와 같은 관련 증상은 없다고 합니다.\\n제공된 정보를 바탕으로 Anderson 씨의 복통 원인을 파악하기 위한 추가 평가와 진단 검사가 진행될 예정입니다.\"'),\n",
              " Document(id='a4574eb9-17e9-4b19-84c2-94d374922b14', metadata={'source': 'mocked_up_physician_records_ko.csv'}, page_content='담당의: ABC 의사\\n날짜: 2099년 11월 28일\\n환자 ID: 987654321\\n주 증상: 편두통\\n현재 질환 이력:\\n환자 Michael Johnson 씨(40세, 남성)는 반복되는 편두통을 주 증상으로 내원하였습니다. 기혼자로 배우자와 두 자녀와 함께 살고 있으며, 최근 지역 외 여행은 하지 않았습니다.\\n진료 중 Johnson 씨는 어머니와 여동생도 비슷한 증상의 편두통을 앓고 있는 가족력이 있다고 밝혔습니다. 중요한 과거 병력, 수술이나 입원 경험은 없다고 합니다. 업무가 바빠 가끔 스트레스를 받고 수면 패턴이 불규칙하다고 언급했습니다.\\n주 증상에 대해 Johnson 씨는 주로 머리 한쪽에 중간에서 심한 정도의 욱신거리는 통증이 반복적으로 나타난다고 설명합니다. 빛과 소리에 민감해지고 구역질이 나며 때로는 구토도 한다고 합니다. 편두통은 보통 몇 시간 지속되며 한 달에 한두 번 발생한다고 합니다.\\n제공된 정보를 바탕으로 Johnson 씨의 편두통 관리를 위한 추가 평가가 이루어질 예정입니다. 두통의 빈도, 지속 시간 및 유발 요인을 추적하기 위한 두통 일기 작성을 권장할 것이며, 증상 완화와 삶의 질 향상을 위한 생활 습관 개선, 스트레스 관리 방법, 적절한 약물 치료에 대해 상담할 예정입니다.\"'),\n",
              " Document(id='592196cc-a704-4f77-ac1d-686db8c8870c', metadata={'source': 'mocked_up_physician_records_ko.csv'}, page_content='담당의: ABC 의사\\n날짜: 2099년 7월 10일\\n환자 ID: 246813579\\n주 증상: 임신 정기 검진\\n현재 질환 이력:\\n환자 Emily Adams 씨(30세, 여성)는 정기 임신 검진을 위해 내원하였습니다. 현재 임신 32주차로, 2099년 8월 27일이 출산 예정일입니다. 기혼자로 남편과 함께 살고 있습니다.\\n진료 중 Adams 씨는 어머니가 임신 중 임신성 당뇨를 앓았던 가족력이 있다고 밝혔습니다. 본인은 중요한 병력이나 수술 경험, 이전 임신에서의 합병증은 없다고 합니다.\\n주 증상에 대해 Adams 씨는 임신 3기에 흔히 나타나는 요통, 잦은 소변, 가끔의 속쓰림 등의 불편함을 호소합니다. 질 출혈, 심한 복통, 태아 움직임의 특이한 변화는 없다고 합니다. 임신 중 전반적인 건강 관리를 위해 균형 잡힌 식단과 규칙적인 운동을 유지하고 있다고 합니다.\\n제공된 정보를 바탕으로 Adams 씨의 임신 경과를 확인하기 위한 정기 산전 검사가 진행될 예정입니다. 혈압, 체중 증가, 자궁저 높이 측정, 태아 심장 박동 모니터링 등을 평가할 것입니다. 건강한 출산과 순조로운 육아를 위해 출산 준비, 모유 수유, 산후 관리에 대한 상담도 함께 이루어질 예정입니다.\"')]"
            ]
          },
          "metadata": {},
          "execution_count": 28
        }
      ]
    },
    {
      "cell_type": "markdown",
      "metadata": {
        "id": "EXjrPg4Kxxy4"
      },
      "source": [
        "**질문 #4: 검사실 검사가 필요한 환자는 누구인가요?**"
      ]
    },
    {
      "cell_type": "code",
      "execution_count": 29,
      "metadata": {
        "colab": {
          "base_uri": "https://localhost:8080/"
        },
        "id": "oqoVJmpqFjKs",
        "outputId": "8c728c58-f72f-4840-aab3-9f7ba00fe4e7"
      },
      "outputs": [
        {
          "output_type": "stream",
          "name": "stdout",
          "text": [
            "담당의: ABC 의사\n",
            "날짜: 2099년 11월 15일\n",
            "환자 ID: 123456789\n",
            "주 증상: 피로감과 관절통\n",
            "현재 질환 이력:\n",
            "환자 Sarah Thompson 씨(57세,\n",
            "여성)는 피로감과 관절통을 호소하며 내원하였습니다. 홀로 거주 중인 미망인으로, 최근 해외여행 이력은 없습니다.\n",
            "진료 중 Thompson 씨는 자매가 류마티스 관절염 진단을 받은\n",
            "자가면역 질환 가족력이 있다고 밝혔습니다. 또한 본인은 갑상선 기능 저하증이 있어 갑상선 호르몬 대체 요법으로 관리 중이라고 합니다.\n",
            "주 증상에 대해 Thompson 씨는 일상\n",
            "활동에 지장을 줄 정도로 지속적이고 심한 피로감을 느끼며, 그 정도는 10점 만점에 8점이라고 표현했습니다. 또한 주로 무릎과 손목에 관절통이 있는데, 아침에 더 심하고 하루 중\n",
            "활동하면서 점차 나아진다고 합니다. 관절 부위의 붓기나 붉어짐은 없다고 합니다.\n",
            "임상 소견을 바탕으로 Thompson 씨의 피로감과 관절통의 원인을 찾기 위한 추가 검사가\n",
            "필요합니다. 혈액 검사, 영상 검사 및 필요시 전문의 상담을 진행할 예정입니다.\"\n"
          ]
        }
      ],
      "source": [
        "# query4 = \"Which patients require lab work?\"\n",
        "query4 = \"검사실 검사가 필요한 환자는 누구인가요?\"\n",
        "docs = vector_db.similarity_search(query4)\n",
        "print(textwrap.fill(str(docs[0].page_content), width=100, replace_whitespace=False))"
      ]
    },
    {
      "cell_type": "code",
      "execution_count": 29,
      "metadata": {
        "id": "TYPfX7HEFjNk"
      },
      "outputs": [],
      "source": []
    }
  ],
  "metadata": {
    "colab": {
      "provenance": []
    },
    "kernelspec": {
      "display_name": "Python 3 (ipykernel)",
      "language": "python",
      "name": "python3"
    },
    "language_info": {
      "codemirror_mode": {
        "name": "ipython",
        "version": 3
      },
      "file_extension": ".py",
      "mimetype": "text/x-python",
      "name": "python",
      "nbconvert_exporter": "python",
      "pygments_lexer": "ipython3",
      "version": "3.11.4"
    }
  },
  "nbformat": 4,
  "nbformat_minor": 0
}